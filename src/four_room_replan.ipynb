{
 "cells": [
  {
   "cell_type": "markdown",
   "metadata": {},
   "source": [
    "# Testing SR-IS vs SR on 4-room replanning"
   ]
  },
  {
   "cell_type": "code",
   "execution_count": 1,
   "metadata": {},
   "outputs": [],
   "source": [
    "import os\n",
    "import pickle\n",
    "from copy import deepcopy\n",
    "from itertools import islice\n",
    "\n",
    "import numpy as np\n",
    "import matplotlib.pyplot as plt\n",
    "from matplotlib import patches\n",
    "import gymnasium as gym\n",
    "\n",
    "import gym_env\n",
    "from utils import test_agent, get_transition_matrix, create_mapping_nb, woodbury\n",
    "from models import SR_IS, SR_TD"
   ]
  },
  {
   "cell_type": "code",
   "execution_count": 2,
   "metadata": {},
   "outputs": [],
   "source": [
    "# Set the seed\n",
    "seed = 26\n",
    "np.random.seed(seed)\n",
    "seeds = np.arange(10)\n",
    "\n",
    "# Save dir\n",
    "save_dir = os.path.join('..', 'figures/')"
   ]
  },
  {
   "cell_type": "code",
   "execution_count": 13,
   "metadata": {},
   "outputs": [],
   "source": [
    "# Model Hyperparams\n",
    "reward = -0.8\n",
    "alpha = 0.05\n",
    "beta = 1.0\n",
    "_lambda = 1.0\n",
    "num_steps = 80000\n",
    "num_simulations = 20\n",
    "\n",
    "# New term states\n",
    "term_states = {\n",
    "    \"bottom-right\" : [(4,6), (6,4)],\n",
    "    \"top-right\" : [(0,4), (0,6), (2,6)],\n",
    "    \"bottom-left\" : [(4,0), (6,0), (6,2)]\n",
    "}"
   ]
  },
  {
   "cell_type": "code",
   "execution_count": 4,
   "metadata": {},
   "outputs": [],
   "source": [
    "# Transition matrix with no goal\n",
    "env = gym.make(\"four-room-ng\")\n",
    "maze = env.unwrapped.maze\n",
    "# Get the transition matrix of the new environment\n",
    "mapping = create_mapping_nb(env.unwrapped.maze, env.unwrapped.get_walls())\n",
    "T_no_goal = get_transition_matrix(env, mapping)"
   ]
  },
  {
   "cell_type": "code",
   "execution_count": 16,
   "metadata": {},
   "outputs": [],
   "source": [
    "avgs = {\n",
    "    'Random':{'mean':[],'median':[]},\n",
    "    'SR':{'mean':[],'median':[]},\n",
    "    'SR-IS':{'mean':[],'median':[]},\n",
    "}"
   ]
  },
  {
   "cell_type": "code",
   "execution_count": 5,
   "metadata": {},
   "outputs": [],
   "source": [
    "SR_IS_agent = SR_IS(env_name=\"four-room-br\", reward=reward, term_reward=reward, _lambda=_lambda, beta=beta, alpha=alpha, num_steps=num_steps, policy=\"softmax\", imp_samp=True)\n",
    "Random_agent = SR_IS(env_name=\"four-room-br\", reward=reward, term_reward=reward, _lambda=_lambda, beta=beta, num_steps=num_steps, policy=\"random\", imp_samp=False)\n",
    "SR_agent = SR_TD(env_name=\"four-room-br\", reward=1,  term_reward=5, beta=beta, alpha=alpha, num_steps=num_steps, policy=\"softmax\")"
   ]
  },
  {
   "cell_type": "code",
   "execution_count": 6,
   "metadata": {},
   "outputs": [],
   "source": [
    "# Train agents that need to be trained\n",
    "SR_IS_agent.learn(seed=int(seed))\n",
    "SR_agent.learn(seed=int(seed))"
   ]
  },
  {
   "cell_type": "code",
   "execution_count": 10,
   "metadata": {},
   "outputs": [],
   "source": [
    "new_term_idx = SR_IS_agent.mapping[term_states[\"top-right\"][0]]\n",
    "new_term_loc = term_states[\"top-right\"][0]"
   ]
  },
  {
   "cell_type": "code",
   "execution_count": 11,
   "metadata": {},
   "outputs": [],
   "source": [
    "# Construct a new transition matrix and new environment\n",
    "T_new = np.copy(T_no_goal)\n",
    "T_new[new_term_idx] = 0\n",
    "T_new[new_term_idx, new_term_idx] = 1\n",
    "new_terminals = np.diag(T_new) == 1\n",
    "new_target_locs = np.array([list(new_term_loc)])\n",
    "env_new = env\n",
    "env_new.unwrapped.target_locs = [np.array((new_term_loc[0], new_term_loc[1]))]"
   ]
  },
  {
   "cell_type": "code",
   "execution_count": 12,
   "metadata": {},
   "outputs": [],
   "source": [
    "# Update the env of agents\n",
    "SR_IS_agent.env = env_new\n",
    "Random_agent.env = env_new\n",
    "SR_agent.env = env_new\n",
    "\n",
    "# Update P\n",
    "SR_IS_agent.P = T_new[~new_terminals][:,new_terminals]\n",
    "\n",
    "# Use Woodbury update to get a new DR\n",
    "DR_new = woodbury(SR_IS_agent, T_new, inv=False)\n",
    "\n",
    "# Update terminals\n",
    "SR_IS_agent.terminals = new_terminals\n",
    "Random_agent.terminals = new_terminals\n",
    "SR_agent.terminals = new_terminals\n",
    "\n",
    "# Set the DR to updated DR for SR-IS agent and update the values\n",
    "SR_IS_agent.DR = DR_new\n",
    "SR_IS_agent.update_V()\n",
    "\n",
    "# Get new reward for SR agent\n",
    "r_new = np.ones(len(SR_agent.r))\n",
    "r_new[new_term_idx] = 5\n",
    "SR_agent.r = r_new\n",
    "SR_agent.update_V()"
   ]
  },
  {
   "cell_type": "code",
   "execution_count": 15,
   "metadata": {},
   "outputs": [
    {
     "name": "stderr",
     "output_type": "stream",
     "text": [
      "/Users/abizzle/anaconda3/envs/gym/lib/python3.10/site-packages/gymnasium/utils/passive_env_checker.py:131: UserWarning: \u001b[33mWARN: The obs returned by the `reset()` method was expecting a numpy array, actual type: <class 'list'>\u001b[0m\n",
      "  logger.warn(\n",
      "/Users/abizzle/anaconda3/envs/gym/lib/python3.10/site-packages/gymnasium/spaces/box.py:240: UserWarning: \u001b[33mWARN: Casting input x to numpy array.\u001b[0m\n",
      "  gym.logger.warn(\"Casting input x to numpy array.\")\n",
      "/Users/abizzle/anaconda3/envs/gym/lib/python3.10/site-packages/gymnasium/utils/passive_env_checker.py:159: UserWarning: \u001b[33mWARN: The obs returned by the `reset()` method is not within the observation space.\u001b[0m\n",
      "  logger.warn(f\"{pre} is not within the observation space.\")\n",
      "/Users/abizzle/anaconda3/envs/gym/lib/python3.10/site-packages/gymnasium/utils/passive_env_checker.py:131: UserWarning: \u001b[33mWARN: The obs returned by the `step()` method was expecting a numpy array, actual type: <class 'list'>\u001b[0m\n",
      "  logger.warn(\n",
      "/Users/abizzle/anaconda3/envs/gym/lib/python3.10/site-packages/gymnasium/utils/passive_env_checker.py:159: UserWarning: \u001b[33mWARN: The obs returned by the `step()` method is not within the observation space.\u001b[0m\n",
      "  logger.warn(f\"{pre} is not within the observation space.\")\n"
     ]
    }
   ],
   "source": [
    "# Initialize holders and run simulations\n",
    "SR_IS_avg, Random_avg, SR_td_avg = [],[],[]\n",
    "for i in range(num_simulations):\n",
    "    SR_IS_avg.append(len(test_agent(agent=SR_IS_agent, policy=SR_IS_agent.policy, seed=int(seed))))\n",
    "    Random_avg.append(len(test_agent(agent=Random_agent, policy=Random_agent.policy, seed=int(seed))))\n",
    "    SR_td_avg.append(len(test_agent(agent=SR_agent, policy=SR_agent.policy, seed=int(seed))))"
   ]
  },
  {
   "cell_type": "code",
   "execution_count": 17,
   "metadata": {},
   "outputs": [],
   "source": [
    "# Append mean and median to main holder\n",
    "avgs['SR-IS']['mean'].append(np.mean(SR_IS_avg))\n",
    "avgs['SR-IS']['median'].append(np.median(SR_IS_avg))\n",
    "avgs['Random']['mean'].append(np.mean(Random_avg))\n",
    "avgs['Random']['median'].append(np.median(Random_avg))\n",
    "avgs['SR']['mean'].append(np.mean(SR_td_avg))\n",
    "avgs['SR']['median'].append(np.median(SR_td_avg))"
   ]
  },
  {
   "cell_type": "code",
   "execution_count": 18,
   "metadata": {},
   "outputs": [
    {
     "data": {
      "text/plain": [
       "{'Random': {'mean': [162.0], 'median': [162.0]},\n",
       " 'SR': {'mean': [86.0], 'median': [86.0]},\n",
       " 'SR-IS': {'mean': [6.0], 'median': [6.0]}}"
      ]
     },
     "execution_count": 18,
     "metadata": {},
     "output_type": "execute_result"
    }
   ],
   "source": [
    "avgs"
   ]
  },
  {
   "cell_type": "code",
   "execution_count": null,
   "metadata": {},
   "outputs": [],
   "source": []
  }
 ],
 "metadata": {
  "kernelspec": {
   "display_name": "gym",
   "language": "python",
   "name": "python3"
  },
  "language_info": {
   "codemirror_mode": {
    "name": "ipython",
    "version": 3
   },
   "file_extension": ".py",
   "mimetype": "text/x-python",
   "name": "python",
   "nbconvert_exporter": "python",
   "pygments_lexer": "ipython3",
   "version": "3.10.0"
  }
 },
 "nbformat": 4,
 "nbformat_minor": 2
}
