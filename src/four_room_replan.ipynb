{
 "cells": [
  {
   "cell_type": "markdown",
   "metadata": {},
   "source": [
    "# Testing SR-IS vs SR on 4-room replanning"
   ]
  },
  {
   "cell_type": "code",
   "execution_count": 9,
   "metadata": {},
   "outputs": [],
   "source": [
    "import os\n",
    "\n",
    "import numpy as np\n",
    "import matplotlib.pyplot as plt\n",
    "import seaborn as sns\n",
    "import gymnasium as gym\n",
    "\n",
    "import gym_env\n",
    "from utils import test_agent, get_full_maze_values, create_mapping_nb\n",
    "from models import SR_IS, SR_TD"
   ]
  },
  {
   "cell_type": "code",
   "execution_count": 2,
   "metadata": {},
   "outputs": [],
   "source": [
    "# Set the seed\n",
    "seed = 26\n",
    "np.random.seed(seed)\n",
    "seeds = np.arange(10)\n",
    "\n",
    "# Save dir\n",
    "save_dir = os.path.join('..', 'figures/')"
   ]
  },
  {
   "cell_type": "code",
   "execution_count": 3,
   "metadata": {},
   "outputs": [],
   "source": [
    "# Model Hyperparams\n",
    "reward = -0.1\n",
    "term_reward = 10\n",
    "alpha = 0.2\n",
    "beta = 1.0\n",
    "_lambda = 1.0\n",
    "num_steps = 30000\n",
    "num_simulations = 10\n",
    "\n",
    "# Original term state\n",
    "learn_term_state = (6,6)\n",
    "\n",
    "# New term states\n",
    "term_states = {\n",
    "    \"same\" : [(4,6), (6,4)],\n",
    "    \"different\" : [(0,4), (0,6), (2,6), (4,0), (6,0), (6,2)],\n",
    "}"
   ]
  },
  {
   "cell_type": "code",
   "execution_count": 4,
   "metadata": {},
   "outputs": [],
   "source": [
    "env = gym.make(\"four-room-sg\")\n",
    "maze = env.unwrapped.maze\n",
    "mapping = create_mapping_nb(env.unwrapped.maze, env.unwrapped.get_walls())"
   ]
  },
  {
   "cell_type": "code",
   "execution_count": 5,
   "metadata": {},
   "outputs": [],
   "source": [
    "avgs_random = {\n",
    "    'same':{'mean':[],'median':[]},\n",
    "    'different':{'mean':[],'median':[]}\n",
    "}\n",
    "avgs_sr = {\n",
    "    'same':{'mean':[],'median':[]},\n",
    "    'different':{'mean':[],'median':[]}\n",
    "}\n",
    "avgs_sr_is = {\n",
    "    'same':{'mean':[],'median':[]},\n",
    "    'different':{'mean':[],'median':[]}\n",
    "}"
   ]
  },
  {
   "cell_type": "code",
   "execution_count": 6,
   "metadata": {},
   "outputs": [
    {
     "name": "stdout",
     "output_type": "stream",
     "text": [
      "Seed: 0\n",
      "Seed: 1\n",
      "Seed: 2\n",
      "Seed: 3\n",
      "Seed: 4\n",
      "Seed: 5\n",
      "Seed: 6\n",
      "Seed: 7\n",
      "Seed: 8\n",
      "Seed: 9\n"
     ]
    }
   ],
   "source": [
    "# Loop through the seeds\n",
    "for seed in seeds:\n",
    "    print(f\"Seed: {seed}\")\n",
    "    ##  Learning Phase  ##\n",
    "    # Initialize agents\n",
    "    SR_IS_agent = SR_IS(env_name=\"four-room-sg\", reward=reward, term_reward=reward, _lambda=_lambda, beta=beta, alpha=alpha, num_steps=num_steps, policy=\"softmax\", imp_samp=True)\n",
    "    Random_agent = SR_IS(env_name=\"four-room-sg\", reward=reward, term_reward=reward, _lambda=_lambda, beta=beta, num_steps=num_steps, policy=\"random\", imp_samp=False)\n",
    "    SR_agent = SR_TD(env_name=\"four-room-br\", gamma=0.95, reward=0,  term_reward=10, beta=beta, alpha=0.2, num_steps=num_steps, policy=\"softmax\")\n",
    "\n",
    "    # Base reward vectors\n",
    "    r_base_is = np.copy(SR_IS_agent.r)\n",
    "    r_base_sr = np.copy(SR_agent.r)\n",
    "\n",
    "    # Learning reward vectors\n",
    "    # SR-IS\n",
    "    r_learn_is = np.copy(SR_IS_agent.r)\n",
    "    r_learn_is[mapping[learn_term_state]] = term_reward\n",
    "    SR_IS_agent.expr_t = np.exp(r_learn_is[SR_IS_agent.terminals] / _lambda)\n",
    "    SR_IS_agent.r = r_learn_is\n",
    "\n",
    "    # SR\n",
    "    r_learn_sr = np.copy(SR_agent.r)\n",
    "    r_learn_sr[mapping[learn_term_state]] = term_reward\n",
    "    SR_agent.r = r_learn_sr\n",
    "\n",
    "    # Lear\n",
    "    SR_IS_agent.learn(seed=int(seed))\n",
    "    SR_agent.learn(seed=int(seed))\n",
    "\n",
    "\n",
    "    ##  Reval Phase  ##\n",
    "    # Loop through the different terminal states\n",
    "    for room, terminal_locs in term_states.items():\n",
    "        # Loop through the different terminal locations\n",
    "        for term_loc in terminal_locs:\n",
    "            term_idx = mapping[term_loc]\n",
    "            # Construct new reward vectors for SR-IS and SR agents\n",
    "            r_new_is = np.copy(r_base_is)\n",
    "            r_new_is[term_idx] = term_reward\n",
    "            r_new_sr = np.copy(r_base_sr)\n",
    "            r_new_sr[term_idx] = term_reward\n",
    "\n",
    "            # Use new reward vector to update representations\n",
    "            SR_IS_agent.r = r_new_is\n",
    "            SR_agent.r = r_new_sr\n",
    "\n",
    "            # Update SR-IS\n",
    "            SR_IS_agent.expr_t = np.exp(r_new_is[SR_IS_agent.terminals] / _lambda)\n",
    "            SR_IS_agent.update_V()\n",
    "\n",
    "            # Update SR\n",
    "            SR_agent.update_V()\n",
    "\n",
    "            # Test the agents\n",
    "            # Initialize holders and run simulations\n",
    "            SR_IS_avg, Random_avg, SR_td_avg = [],[],[]\n",
    "            for i in range(num_simulations):\n",
    "                SR_IS_avg.append(len(test_agent(agent=SR_IS_agent, policy=SR_IS_agent.policy, seed=int(seed), term_state=term_loc)))\n",
    "                Random_avg.append(len(test_agent(agent=Random_agent, policy=Random_agent.policy, seed=int(seed), term_state=term_loc)))\n",
    "                SR_td_avg.append(len(test_agent(agent=SR_agent, policy=SR_agent.policy, seed=int(seed), term_state=term_loc)))\n",
    "            \n",
    "            # Append mean and median to main holder\n",
    "            avgs_sr_is[room]['mean'].append(np.mean(SR_IS_avg))\n",
    "            avgs_sr_is[room]['median'].append(np.median(SR_IS_avg))\n",
    "            avgs_random[room]['mean'].append(np.mean(Random_avg))\n",
    "            avgs_random[room]['median'].append(np.median(Random_avg))\n",
    "            avgs_sr[room]['mean'].append(np.mean(SR_td_avg))\n",
    "            avgs_sr[room]['median'].append(np.median(SR_td_avg))"
   ]
  },
  {
   "cell_type": "code",
   "execution_count": 16,
   "metadata": {},
   "outputs": [
    {
     "name": "stdout",
     "output_type": "stream",
     "text": [
      "[286.1, 48.1, 22.7, 222.73333333333332, 31.266666666666666, 14.733333333333333]\n",
      "[42.81809780922081, 6.126132548353814, 2.7650497283050806, 29.07194014343906, 3.577387832441948, 0.9672029163942183]\n"
     ]
    }
   ],
   "source": [
    "stat_type = 'mean'\n",
    "rooms = ['same', 'different']\n",
    "avgs = [avgs_random, avgs_sr, avgs_sr_is]\n",
    "\n",
    "means = [np.mean(avg[room][stat_type]) for room in rooms for avg in avgs]\n",
    "sems = [np.std(avg[room][stat_type]) / np.sqrt(len(avg[room][stat_type])) for room in rooms for avg in avgs]\n",
    "print(means)\n",
    "print(sems)"
   ]
  },
  {
   "cell_type": "code",
   "execution_count": 23,
   "metadata": {},
   "outputs": [
    {
     "data": {
      "image/png": "[encoded data removed]",
      "text/plain": [
       "<Figure size 800x500 with 1 Axes>"
      ]
     },
     "metadata": {},
     "output_type": "display_data"
    }
   ],
   "source": [
    "# Set style parameters\n",
    "plt.rcParams['font.family'] = 'serif'\n",
    "\n",
    "save_path = None\n",
    "stat_type = 'mean'\n",
    "\n",
    "# Prepare data\n",
    "rooms = ['same', 'different']\n",
    "avgs = [avgs_random, avgs_sr, avgs_sr_is]\n",
    "\n",
    "means = [np.mean(avg[room][stat_type]) for room in rooms for avg in avgs]\n",
    "sems = [np.std(avg[room][stat_type]) / np.sqrt(len(avg[room][stat_type])) for room in rooms for avg in avgs]\n",
    "\n",
    "# Create figure\n",
    "plt.figure(figsize=(8, 5))\n",
    "\n",
    "# Set bar positions\n",
    "bar_width = 0.25\n",
    "r1 = np.arange(2)  # positions for 'same' and 'different'\n",
    "r2 = [x + bar_width for x in r1]\n",
    "r3 = [x + bar_width for x in r2]\n",
    "\n",
    "# Create color palette\n",
    "palette = sns.color_palette(\"colorblind\", 3)\n",
    "\n",
    "# Create bars with black edges\n",
    "plt.bar(r1, [means[0], means[3]], width=bar_width, label='Random', \n",
    "        color=palette[0], yerr=[sems[0], sems[3]], capsize=0, \n",
    "        edgecolor='black', linewidth=1)\n",
    "plt.bar(r2, [means[1], means[4]], width=bar_width, label='SR', \n",
    "        color=palette[1], yerr=[sems[1], sems[4]], capsize=0, \n",
    "        edgecolor='black', linewidth=1)\n",
    "plt.bar(r3, [means[2], means[5]], width=bar_width, label='SR-IS', \n",
    "        color=palette[2], yerr=[sems[2], sems[5]], capsize=0, \n",
    "        edgecolor='black', linewidth=1)\n",
    "\n",
    "# Add labels and title\n",
    "plt.ylabel(f'Average {stat_type.capitalize()}', fontsize=14)\n",
    "\n",
    "# Add xticks\n",
    "plt.xticks([r + bar_width for r in range(2)], ['Same Room', 'Different Room'], fontsize=14)\n",
    "\n",
    "# Add legend\n",
    "plt.legend(fontsize=12)\n",
    "\n",
    "# Adjust layout\n",
    "plt.tight_layout()\n",
    "\n",
    "# Save if path provided\n",
    "if save_path:\n",
    "    plt.savefig(save_path, bbox_inches='tight', dpi=300)\n",
    "\n",
    "# Show plot\n",
    "plt.show()"
   ]
  },
  {
   "cell_type": "code",
   "execution_count": null,
   "metadata": {},
   "outputs": [],
   "source": []
  },
  {
   "cell_type": "code",
   "execution_count": 6,
   "metadata": {},
   "outputs": [],
   "source": [
    "SR_IS_agent = SR_IS(env_name=\"four-room-sg\", reward=reward, term_reward=reward, _lambda=_lambda, beta=beta, alpha=alpha, num_steps=num_steps, policy=\"softmax\", imp_samp=True)\n",
    "Random_agent = SR_IS(env_name=\"four-room-sg\", reward=reward, term_reward=reward, _lambda=_lambda, beta=beta, num_steps=num_steps, policy=\"random\", imp_samp=False)\n",
    "SR_agent = SR_TD(env_name=\"four-room-br\", gamma=0.95, reward=0,  term_reward=0, beta=beta, alpha=0.2, num_steps=num_steps, policy=\"softmax\")"
   ]
  },
  {
   "cell_type": "code",
   "execution_count": 7,
   "metadata": {},
   "outputs": [],
   "source": [
    "r_base_is = np.copy(SR_IS_agent.r)\n",
    "r_base_sr = np.copy(SR_agent.r)"
   ]
  },
  {
   "cell_type": "code",
   "execution_count": 8,
   "metadata": {},
   "outputs": [],
   "source": [
    "# SR-IS\n",
    "r_learn_is = np.copy(SR_IS_agent.r)\n",
    "r_learn_is[mapping[learn_term_state]] = term_reward\n",
    "SR_IS_agent.expr_t = np.exp(r_learn_is[SR_IS_agent.terminals] / _lambda)\n",
    "SR_IS_agent.r = r_learn_is\n",
    "\n",
    "# SR\n",
    "r_learn_sr = np.copy(SR_agent.r)\n",
    "r_learn_sr[mapping[learn_term_state]] = term_reward\n",
    "SR_agent.r = r_learn_sr"
   ]
  },
  {
   "cell_type": "code",
   "execution_count": 9,
   "metadata": {},
   "outputs": [
    {
     "data": {
      "text/plain": [
       "array([ 0,  0,  0,  0,  0,  0,  0,  0,  0,  0,  0,  0,  0,  0,  0,  0,  0,\n",
       "        0,  0,  0,  0,  0,  0,  0,  0,  0,  0,  0,  0,  0,  0,  0,  0,  0,\n",
       "        0,  0,  0,  0,  0, 10])"
      ]
     },
     "execution_count": 9,
     "metadata": {},
     "output_type": "execute_result"
    }
   ],
   "source": [
    "SR_agent.r"
   ]
  },
  {
   "cell_type": "code",
   "execution_count": 10,
   "metadata": {},
   "outputs": [],
   "source": [
    "# Train agents that need to be trained\n",
    "SR_IS_agent.learn(seed=int(seed))\n",
    "SR_agent.learn(seed=int(seed))"
   ]
  },
  {
   "cell_type": "code",
   "execution_count": 11,
   "metadata": {},
   "outputs": [],
   "source": [
    "# D_inv = SR_IS_agent.get_D_inv()\n",
    "# SR_IS_agent.DR = D_inv\n",
    "# SR_IS_agent.update_V()"
   ]
  },
  {
   "cell_type": "code",
   "execution_count": 12,
   "metadata": {},
   "outputs": [
    {
     "data": {
      "text/plain": [
       "array([[ 2.94,  3.04,  3.22,  -inf, -0.1 ,  4.9 , -0.1 ],\n",
       "       [ 3.04,  3.22,  3.55,  4.27,  4.81,  5.  ,  4.9 ],\n",
       "       [ 3.22,  3.54,  3.45,  -inf,  5.16,  5.51, -0.1 ],\n",
       "       [ -inf,  4.26,  -inf,  -inf,  -inf,  6.33,  -inf],\n",
       "       [-0.1 ,  4.8 ,  5.13,  -inf,  6.82,  6.96, -0.1 ],\n",
       "       [ 4.9 ,  4.99,  5.49,  6.36,  6.96,  8.03,  8.68],\n",
       "       [-0.1 ,  4.9 , -0.1 ,  -inf, -0.1 ,  9.62, 10.  ]])"
      ]
     },
     "execution_count": 12,
     "metadata": {},
     "output_type": "execute_result"
    }
   ],
   "source": [
    "get_full_maze_values(SR_IS_agent)"
   ]
  },
  {
   "cell_type": "code",
   "execution_count": 13,
   "metadata": {},
   "outputs": [
    {
     "data": {
      "text/plain": [
       "array([[ 0.83,  0.88,  1.  ,  -inf,  1.98,  1.91,  1.87],\n",
       "       [ 0.83,  0.95,  1.24,  1.68,  1.99,  2.17,  1.89],\n",
       "       [ 0.83,  0.94,  0.99,  -inf,  2.27,  2.56,  2.11],\n",
       "       [ -inf,  1.19,  -inf,  -inf,  -inf,  4.26,  -inf],\n",
       "       [ 1.47,  1.57,  1.95,  -inf,  5.31,  5.33,  7.29],\n",
       "       [ 1.51,  1.66,  2.57,  4.78,  6.26,  5.96,  8.33],\n",
       "       [ 1.51,  1.61,  2.15,  -inf,  7.61,  8.28, 10.  ]])"
      ]
     },
     "execution_count": 13,
     "metadata": {},
     "output_type": "execute_result"
    }
   ],
   "source": [
    "get_full_maze_values(SR_agent)"
   ]
  },
  {
   "cell_type": "code",
   "execution_count": 14,
   "metadata": {},
   "outputs": [],
   "source": [
    "# # Get new terminal index and location\n",
    "new_term_idx = mapping[term_states[\"same\"][0]]\n",
    "new_term_loc = term_states[\"same\"][0]"
   ]
  },
  {
   "cell_type": "code",
   "execution_count": 15,
   "metadata": {},
   "outputs": [],
   "source": [
    "# Construct new reward vectors for SR-IS and SR agents\n",
    "r_new_is = np.copy(r_base_is)\n",
    "r_new_is[new_term_idx] = term_reward\n",
    "r_new_sr = np.copy(r_base_sr)\n",
    "r_new_sr[new_term_idx] = term_reward"
   ]
  },
  {
   "cell_type": "code",
   "execution_count": 16,
   "metadata": {},
   "outputs": [],
   "source": [
    "# Use new reward vector to update representations\n",
    "SR_IS_agent.r = r_new_is\n",
    "SR_agent.r = r_new_sr\n",
    "\n",
    "# Update SR-IS\n",
    "SR_IS_agent.expr_t = np.exp(r_new_is[SR_IS_agent.terminals] / _lambda)\n",
    "SR_IS_agent.update_V()\n",
    "\n",
    "# Update SR\n",
    "SR_agent.update_V()"
   ]
  },
  {
   "cell_type": "code",
   "execution_count": 17,
   "metadata": {},
   "outputs": [
    {
     "data": {
      "text/plain": [
       "array([[ 3.58,  3.7 ,  3.99,  -inf, -0.1 ,  5.34, -0.1 ],\n",
       "       [ 3.61,  3.76,  4.38,  5.23,  5.63,  6.22,  5.33],\n",
       "       [ 3.74,  4.01,  3.98,  -inf,  6.66,  7.43, -0.1 ],\n",
       "       [ -inf,  4.69,  -inf,  -inf,  -inf,  8.66,  -inf],\n",
       "       [-0.1 ,  5.14,  5.83,  -inf,  8.7 ,  9.18, 10.  ],\n",
       "       [ 4.82,  5.43,  6.2 ,  7.28,  7.84,  9.35,  8.82],\n",
       "       [-0.1 ,  4.97, -0.1 ,  -inf, -0.1 ,  6.87, -0.1 ]])"
      ]
     },
     "execution_count": 17,
     "metadata": {},
     "output_type": "execute_result"
    }
   ],
   "source": [
    "get_full_maze_values(SR_IS_agent)"
   ]
  },
  {
   "cell_type": "code",
   "execution_count": 18,
   "metadata": {},
   "outputs": [
    {
     "data": {
      "text/plain": [
       "array([[ 1.  ,  1.11,  1.35,  -inf,  3.22,  3.1 ,  3.02],\n",
       "       [ 0.96,  1.21,  1.77,  2.65,  3.26,  3.6 ,  3.07],\n",
       "       [ 0.91,  0.94,  1.23,  -inf,  3.78,  4.37,  3.5 ],\n",
       "       [ -inf,  0.96,  -inf,  -inf,  -inf,  7.11,  -inf],\n",
       "       [ 0.99,  1.04,  1.23,  -inf,  4.85,  8.85, 17.06],\n",
       "       [ 1.  ,  1.07,  1.51,  2.29,  2.07,  4.24,  6.27],\n",
       "       [ 0.99,  1.05,  1.33,  -inf,  1.43,  1.36,  0.32]])"
      ]
     },
     "execution_count": 18,
     "metadata": {},
     "output_type": "execute_result"
    }
   ],
   "source": [
    "get_full_maze_values(SR_agent)"
   ]
  },
  {
   "cell_type": "code",
   "execution_count": 19,
   "metadata": {},
   "outputs": [
    {
     "name": "stdout",
     "output_type": "stream",
     "text": [
      "[0 0] 0\n",
      "[1 0] 1\n",
      "[1 1] 2\n",
      "[0 1] 3\n",
      "[0 0] 1\n",
      "[0 1] 0\n",
      "[1 1] 1\n",
      "[1 2] 1\n",
      "[1 3] 3\n",
      "[1 2] 1\n",
      "[1 3] 1\n",
      "[1 4] 1\n",
      "[1 5] 0\n",
      "[2 5] 2\n",
      "[1 5] 0\n",
      "[2 5] 0\n",
      "[3 5] 2\n",
      "[2 5] 3\n",
      "[2 4] 1\n",
      "[2 5] 1\n",
      "[2 6] 3\n",
      "[2 5] 1\n",
      "[2 6] 3\n",
      "[2 5] 0\n",
      "[3 5] 2\n",
      "[2 5] 2\n",
      "[1 5] 2\n",
      "[0 5] 0\n",
      "[1 5] 2\n",
      "[0 5] 3\n",
      "[0 4] 1\n",
      "[0 5] 3\n",
      "[0 4] 1\n",
      "[0 5] 1\n",
      "[0 6] 0\n",
      "[1 6] 3\n",
      "[1 5] 0\n",
      "[2 5] 0\n",
      "[3 5] 0\n",
      "[4 5] 1\n",
      "[0 0] 0\n",
      "[1 0] 1\n",
      "[1 1] 2\n",
      "[0 1] 3\n",
      "[0 0] 1\n",
      "[0 1] 0\n",
      "[1 1] 1\n",
      "[1 2] 1\n",
      "[1 3] 3\n",
      "[1 2] 1\n",
      "[1 3] 1\n",
      "[1 4] 1\n",
      "[1 5] 0\n",
      "[2 5] 2\n",
      "[1 5] 0\n",
      "[2 5] 0\n",
      "[3 5] 2\n",
      "[2 5] 3\n",
      "[2 4] 1\n",
      "[2 5] 1\n",
      "[2 6] 3\n",
      "[2 5] 1\n",
      "[2 6] 3\n",
      "[2 5] 0\n",
      "[3 5] 2\n",
      "[2 5] 2\n",
      "[1 5] 2\n",
      "[0 5] 0\n",
      "[1 5] 2\n",
      "[0 5] 3\n",
      "[0 4] 1\n",
      "[0 5] 3\n",
      "[0 4] 1\n",
      "[0 5] 1\n",
      "[0 6] 0\n",
      "[1 6] 3\n",
      "[1 5] 0\n",
      "[2 5] 0\n",
      "[3 5] 0\n",
      "[4 5] 1\n"
     ]
    }
   ],
   "source": [
    "# Initialize holders and run simulations\n",
    "SR_IS_avg, Random_avg, SR_td_avg = [],[],[]\n",
    "for i in range(num_simulations):\n",
    "    SR_IS_avg.append(len(test_agent(agent=SR_IS_agent, policy=SR_IS_agent.policy, seed=int(seed), term_state=new_term_loc)))\n",
    "    Random_avg.append(len(test_agent(agent=Random_agent, policy=Random_agent.policy, seed=int(seed), term_state=new_term_loc)))\n",
    "    SR_td_avg.append(len(test_agent(agent=SR_agent, policy=SR_agent.policy, seed=int(seed), term_state=new_term_loc)))"
   ]
  },
  {
   "cell_type": "code",
   "execution_count": 18,
   "metadata": {},
   "outputs": [],
   "source": [
    "# Append mean and median to main holder\n",
    "avgs['SR-IS']['mean'].append(np.mean(SR_IS_avg))\n",
    "avgs['SR-IS']['median'].append(np.median(SR_IS_avg))\n",
    "avgs['Random']['mean'].append(np.mean(Random_avg))\n",
    "avgs['Random']['median'].append(np.median(Random_avg))\n",
    "avgs['SR']['mean'].append(np.mean(SR_td_avg))\n",
    "avgs['SR']['median'].append(np.median(SR_td_avg))"
   ]
  },
  {
   "cell_type": "code",
   "execution_count": 19,
   "metadata": {},
   "outputs": [
    {
     "data": {
      "text/plain": [
       "{'Random': {'mean': [232.0], 'median': [232.0]},\n",
       " 'SR': {'mean': [106.0], 'median': [106.0]},\n",
       " 'SR-IS': {'mean': [10.0], 'median': [10.0]}}"
      ]
     },
     "execution_count": 19,
     "metadata": {},
     "output_type": "execute_result"
    }
   ],
   "source": [
    "avgs"
   ]
  },
  {
   "cell_type": "code",
   "execution_count": null,
   "metadata": {},
   "outputs": [],
   "source": []
  }
 ],
 "metadata": {
  "kernelspec": {
   "display_name": "gym",
   "language": "python",
   "name": "python3"
  },
  "language_info": {
   "codemirror_mode": {
    "name": "ipython",
    "version": 3
   },
   "file_extension": ".py",
   "mimetype": "text/x-python",
   "name": "python",
   "nbconvert_exporter": "python",
   "pygments_lexer": "ipython3",
   "version": "3.10.0"
  }
 },
 "nbformat": 4,
 "nbformat_minor": 2
}
