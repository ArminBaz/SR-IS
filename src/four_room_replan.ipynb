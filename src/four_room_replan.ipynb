{
 "cells": [
  {
   "cell_type": "markdown",
   "metadata": {},
   "source": [
    "# Testing SR-IS vs SR on 4-room replanning"
   ]
  },
  {
   "cell_type": "code",
   "execution_count": 1,
   "metadata": {},
   "outputs": [],
   "source": [
    "import os\n",
    "\n",
    "import numpy as np\n",
    "import matplotlib.pyplot as plt\n",
    "import seaborn as sns\n",
    "import gymnasium as gym\n",
    "\n",
    "import gym_env\n",
    "from utils import test_agent, get_full_maze_values, create_mapping_nb\n",
    "from models import SR_IS, SR_TD"
   ]
  },
  {
   "cell_type": "code",
   "execution_count": 2,
   "metadata": {},
   "outputs": [],
   "source": [
    "# Set the seed\n",
    "seed = 26\n",
    "np.random.seed(seed)\n",
    "seeds = np.arange(40)\n",
    "\n",
    "# Save dir\n",
    "save_dir = os.path.join('..', 'figures/')"
   ]
  },
  {
   "cell_type": "code",
   "execution_count": 3,
   "metadata": {},
   "outputs": [],
   "source": [
    "# Model Hyperparams\n",
    "reward = -0.1\n",
    "term_reward = 10\n",
    "alpha = 0.2\n",
    "beta = 1.0\n",
    "_lambda = 1.0\n",
    "num_steps = 30000\n",
    "num_simulations = 20\n",
    "\n",
    "# Original term state\n",
    "# learn_term_state = (6,6)\n",
    "learn_term_state = (0,6)\n",
    "\n",
    "# New term states\n",
    "# term_states = {\n",
    "#     \"same\" : [(4,6), (6,4)],\n",
    "#     \"different\" : [(0,4), (0,6), (2,6), (4,0), (6,0), (6,2)],\n",
    "# }\n",
    "term_states = {\n",
    "    \"same\" : [(0,4), (2,6)],\n",
    "    \"different\" : [(4,6), (6,4), (6,6), (4,0), (6,0), (6,2)],\n",
    "}"
   ]
  },
  {
   "cell_type": "code",
   "execution_count": 4,
   "metadata": {},
   "outputs": [],
   "source": [
    "env = gym.make(\"four-room-sg\")\n",
    "maze = env.unwrapped.maze\n",
    "mapping = create_mapping_nb(env.unwrapped.maze, env.unwrapped.get_walls())"
   ]
  },
  {
   "cell_type": "code",
   "execution_count": 5,
   "metadata": {},
   "outputs": [],
   "source": [
    "avgs_random = {\n",
    "    'same':{'mean':[],'median':[]},\n",
    "    'different':{'mean':[],'median':[]}\n",
    "}\n",
    "avgs_sr = {\n",
    "    'same':{'mean':[],'median':[]},\n",
    "    'different':{'mean':[],'median':[]}\n",
    "}\n",
    "avgs_sr_is = {\n",
    "    'same':{'mean':[],'median':[]},\n",
    "    'different':{'mean':[],'median':[]}\n",
    "}"
   ]
  },
  {
   "cell_type": "code",
   "execution_count": 6,
   "metadata": {},
   "outputs": [
    {
     "name": "stdout",
     "output_type": "stream",
     "text": [
      "Seed: 0\n",
      "Seed: 1\n",
      "Seed: 2\n",
      "Seed: 3\n",
      "Seed: 4\n",
      "Seed: 5\n",
      "Seed: 6\n",
      "Seed: 7\n",
      "Seed: 8\n",
      "Seed: 9\n",
      "Seed: 10\n",
      "Seed: 11\n",
      "Seed: 12\n",
      "Seed: 13\n",
      "Seed: 14\n",
      "Seed: 15\n",
      "Seed: 16\n",
      "Seed: 17\n",
      "Seed: 18\n",
      "Seed: 19\n",
      "Seed: 20\n",
      "Seed: 21\n",
      "Seed: 22\n",
      "Seed: 23\n",
      "Seed: 24\n",
      "Seed: 25\n",
      "Seed: 26\n",
      "Seed: 27\n",
      "Seed: 28\n",
      "Seed: 29\n",
      "Seed: 30\n",
      "Seed: 31\n",
      "Seed: 32\n",
      "Seed: 33\n",
      "Seed: 34\n",
      "Seed: 35\n",
      "Seed: 36\n",
      "Seed: 37\n",
      "Seed: 38\n",
      "Seed: 39\n"
     ]
    }
   ],
   "source": [
    "# Loop through the seeds\n",
    "for seed in seeds:\n",
    "    print(f\"Seed: {seed}\")\n",
    "    ##  Learning Phase  ##\n",
    "    # Initialize agents\n",
    "    SR_IS_agent = SR_IS(env_name=\"four-room-sg\", reward=reward, term_reward=reward, _lambda=_lambda, beta=beta, alpha=alpha, num_steps=num_steps, policy=\"softmax\", imp_samp=True)\n",
    "    Random_agent = SR_IS(env_name=\"four-room-sg\", reward=reward, term_reward=reward, _lambda=_lambda, beta=beta, num_steps=num_steps, policy=\"random\", imp_samp=False)\n",
    "    SR_agent = SR_TD(env_name=\"four-room-tr\", gamma=0.95, reward=0,  term_reward=10, beta=beta, alpha=0.2, num_steps=num_steps, policy=\"softmax\")\n",
    "\n",
    "    # Base reward vectors\n",
    "    r_base_is = np.copy(SR_IS_agent.r)\n",
    "    r_base_sr = np.copy(SR_agent.r)\n",
    "\n",
    "    # Learning reward vectors\n",
    "    # SR-IS\n",
    "    r_learn_is = np.copy(SR_IS_agent.r)\n",
    "    r_learn_is[mapping[learn_term_state]] = term_reward\n",
    "    SR_IS_agent.expr_t = np.exp(r_learn_is[SR_IS_agent.terminals] / _lambda)\n",
    "    SR_IS_agent.r = r_learn_is\n",
    "\n",
    "    # SR\n",
    "    r_learn_sr = np.copy(SR_agent.r)\n",
    "    r_learn_sr[mapping[learn_term_state]] = term_reward\n",
    "    SR_agent.r = r_learn_sr\n",
    "\n",
    "    # Lear\n",
    "    SR_IS_agent.learn(seed=int(seed))\n",
    "    SR_agent.learn(seed=int(seed))\n",
    "\n",
    "\n",
    "    ##  Reval Phase  ##\n",
    "    # Loop through the different terminal states\n",
    "    for room, terminal_locs in term_states.items():\n",
    "        # Loop through the different terminal locations\n",
    "        for term_loc in terminal_locs:\n",
    "            term_idx = mapping[term_loc]\n",
    "            # Construct new reward vectors for SR-IS and SR agents\n",
    "            r_new_is = np.copy(r_base_is)\n",
    "            r_new_is[term_idx] = term_reward\n",
    "            r_new_sr = np.copy(r_base_sr)\n",
    "            r_new_sr[term_idx] = term_reward\n",
    "\n",
    "            # Use new reward vector to update representations\n",
    "            SR_IS_agent.r = r_new_is\n",
    "            SR_agent.r = r_new_sr\n",
    "\n",
    "            # Update SR-IS\n",
    "            SR_IS_agent.expr_t = np.exp(r_new_is[SR_IS_agent.terminals] / _lambda)\n",
    "            SR_IS_agent.update_V()\n",
    "\n",
    "            # Update SR\n",
    "            SR_agent.update_V()\n",
    "\n",
    "            # Test the agents\n",
    "            # Initialize holders and run simulations\n",
    "            SR_IS_avg, Random_avg, SR_td_avg = [],[],[]\n",
    "            for i in range(num_simulations):\n",
    "                SR_IS_avg.append(len(test_agent(agent=SR_IS_agent, policy=SR_IS_agent.policy, seed=int(seed), term_state=term_loc)))\n",
    "                Random_avg.append(len(test_agent(agent=Random_agent, policy=Random_agent.policy, seed=int(seed), term_state=term_loc)))\n",
    "                SR_td_avg.append(len(test_agent(agent=SR_agent, policy=SR_agent.policy, seed=int(seed), term_state=term_loc)))\n",
    "            \n",
    "            # Append mean and median to main holder\n",
    "            avgs_sr_is[room]['mean'].append(np.mean(SR_IS_avg))\n",
    "            avgs_sr_is[room]['median'].append(np.median(SR_IS_avg))\n",
    "            avgs_random[room]['mean'].append(np.mean(Random_avg))\n",
    "            avgs_random[room]['median'].append(np.median(Random_avg))\n",
    "            avgs_sr[room]['mean'].append(np.mean(SR_td_avg))\n",
    "            avgs_sr[room]['median'].append(np.median(SR_td_avg))"
   ]
  },
  {
   "cell_type": "code",
   "execution_count": 7,
   "metadata": {},
   "outputs": [
    {
     "name": "stdout",
     "output_type": "stream",
     "text": [
      "[163.15, 34.5, 15.525, 219.925, 207.45833333333334, 23.891666666666666]\n",
      "[15.842536689242667, 2.6199952290032895, 0.9573686267577396, 12.909768756266617, 16.424878225139086, 1.0754939379876336]\n"
     ]
    }
   ],
   "source": [
    "stat_type = 'mean'\n",
    "rooms = ['same', 'different']\n",
    "avgs = [avgs_random, avgs_sr, avgs_sr_is]\n",
    "\n",
    "means = [np.mean(avg[room][stat_type]) for room in rooms for avg in avgs]\n",
    "sems = [np.std(avg[room][stat_type]) / np.sqrt(len(avg[room][stat_type])) for room in rooms for avg in avgs]\n",
    "print(means)\n",
    "print(sems)"
   ]
  },
  {
   "cell_type": "code",
   "execution_count": 8,
   "metadata": {},
   "outputs": [
    {
     "data": {
      "image/png": "[encoded data removed]",
      "text/plain": [
       "<Figure size 600x500 with 1 Axes>"
      ]
     },
     "metadata": {},
     "output_type": "display_data"
    }
   ],
   "source": [
    "# Set style parameters\n",
    "plt.rcParams['font.family'] = 'serif'\n",
    "\n",
    "# save_path = None\n",
    "save_path = save_dir + \"four-room-replan.png\"\n",
    "stat_type = 'mean'\n",
    "\n",
    "# Prepare data\n",
    "rooms = ['same', 'different']\n",
    "avgs = [avgs_random, avgs_sr, avgs_sr_is]\n",
    "\n",
    "means = [np.mean(avg[room][stat_type]) for room in rooms for avg in avgs]\n",
    "sems = [np.std(avg[room][stat_type]) / np.sqrt(len(avg[room][stat_type])) for room in rooms for avg in avgs]\n",
    "\n",
    "# Create figure\n",
    "plt.figure(figsize=(6, 5))\n",
    "\n",
    "# Set bar positions\n",
    "bar_width = 0.32\n",
    "r1 = np.arange(2)  # positions for 'same' and 'different'\n",
    "r2 = [x + bar_width for x in r1]\n",
    "r3 = [x + bar_width for x in r2]\n",
    "\n",
    "# Create color palette\n",
    "palette = sns.color_palette(\"colorblind\")\n",
    "\n",
    "# Create bars with black edges\n",
    "# plt.bar(r1, [means[0], means[3]], width=bar_width, label='Random', \n",
    "#         color=palette[0], yerr=[sems[0], sems[3]], capsize=0, \n",
    "#         edgecolor='black', linewidth=1)\n",
    "plt.bar(r1, [means[1], means[4]], width=bar_width, label='SR', \n",
    "        color=palette[1], yerr=[sems[1], sems[4]], capsize=0, \n",
    "        edgecolor='black', linewidth=1)\n",
    "plt.bar(r2, [means[2], means[5]], width=bar_width, label='SR-IS', \n",
    "        color=palette[4], yerr=[sems[2], sems[5]], capsize=0, \n",
    "        edgecolor='black', linewidth=1)\n",
    "\n",
    "# Add labels and title\n",
    "plt.ylabel(f'Number of Steps to Goal', fontsize=14)\n",
    "\n",
    "# Add xticks\n",
    "plt.xticks([r + bar_width/2 for r in range(2)], ['Same Room', 'Different Room'], fontsize=14)\n",
    "\n",
    "# Add legend\n",
    "plt.legend(fontsize=12, loc='upper left')\n",
    "\n",
    "# Adjust layout\n",
    "plt.tight_layout()\n",
    "\n",
    "# Save if path provided\n",
    "if save_path:\n",
    "    plt.savefig(save_path, bbox_inches='tight', dpi=300)\n",
    "\n",
    "# Show plot\n",
    "plt.show()"
   ]
  },
  {
   "cell_type": "code",
   "execution_count": null,
   "metadata": {},
   "outputs": [],
   "source": []
  }
 ],
 "metadata": {
  "kernelspec": {
   "display_name": "gym",
   "language": "python",
   "name": "python3"
  },
  "language_info": {
   "codemirror_mode": {
    "name": "ipython",
    "version": 3
   },
   "file_extension": ".py",
   "mimetype": "text/x-python",
   "name": "python",
   "nbconvert_exporter": "python",
   "pygments_lexer": "ipython3",
   "version": "3.10.0"
  }
 },
 "nbformat": 4,
 "nbformat_minor": 2
}
