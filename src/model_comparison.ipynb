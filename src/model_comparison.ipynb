{
 "cells": [
  {
   "cell_type": "markdown",
   "metadata": {},
   "source": [
    "# Model Comparison on Complex Maze\n",
    "Here I test out different models to see how many steps it takes them to reach a new terminal state after being trained towards an initial terminal state. I reuse the map "
   ]
  },
  {
   "cell_type": "code",
   "execution_count": 1,
   "metadata": {},
   "outputs": [],
   "source": [
    "import os\n",
    "\n",
    "import numpy as np\n",
    "import matplotlib.pyplot as plt\n",
    "import seaborn as sns\n",
    "import gymnasium as gym\n",
    "\n",
    "import gym_env\n",
    "from utils import test_agent, get_transition_matrix, create_mapping_nb, woodbury, woodbury_SR\n",
    "from models import LinearRL, SR_TD"
   ]
  },
  {
   "cell_type": "code",
   "execution_count": 2,
   "metadata": {},
   "outputs": [],
   "source": [
    "# Set the random seed for NumPy\n",
    "seed = 32\n",
    "np.random.seed(seed)\n",
    "\n",
    "# Save dir\n",
    "save_dir = os.path.join('..', 'figures/')"
   ]
  },
  {
   "cell_type": "code",
   "execution_count": 3,
   "metadata": {},
   "outputs": [],
   "source": [
    "no_goal_env = \"maze-10x10-G0\"\n",
    "envs = [\"maze-10x10-G1\", \"maze-10x10-G2\", \"maze-10x10-G3\"]"
   ]
  },
  {
   "cell_type": "code",
   "execution_count": 4,
   "metadata": {},
   "outputs": [],
   "source": [
    "# Model Hyperparams\n",
    "reward = -0.8\n",
    "alpha = 0.05\n",
    "beta = 1.0\n",
    "_lambda = 1.0\n",
    "num_steps = 120000\n",
    "\n",
    "# Simulation parameters\n",
    "num_simulations = 5000\n",
    "new_term_loc = (9,1)\n",
    "new_term_idx = 61"
   ]
  },
  {
   "cell_type": "code",
   "execution_count": 5,
   "metadata": {},
   "outputs": [],
   "source": [
    "# Transition matrix with no goal\n",
    "env = gym.make(no_goal_env)\n",
    "maze = env.unwrapped.maze\n",
    "# Get the transition matrix of the new environment\n",
    "mapping = create_mapping_nb(env.unwrapped.maze, env.unwrapped.get_walls())\n",
    "T_no_goal = get_transition_matrix(env, mapping)"
   ]
  },
  {
   "cell_type": "markdown",
   "metadata": {},
   "source": [
    "### Train DR-TD and SR-TD Agents"
   ]
  },
  {
   "cell_type": "code",
   "execution_count": 6,
   "metadata": {},
   "outputs": [],
   "source": [
    "# Train DR-TD and SR-TD agents\n",
    "DR_TD_agent = LinearRL(env_name=envs[0], reward=reward, term_reward=reward, _lambda=_lambda, beta=beta, alpha=alpha, num_steps=num_steps, policy=\"softmax\", imp_samp=True)\n",
    "Random_agent = LinearRL(env_name=envs[0], reward=reward, term_reward=reward, _lambda=_lambda, beta=beta, num_steps=num_steps, policy=\"random\", imp_samp=False)\n",
    "DR_Inv_agent = LinearRL(env_name=envs[0], reward=reward, term_reward=reward, _lambda=_lambda, beta=beta, alpha=alpha, num_steps=num_steps, policy=\"softmax\", imp_samp=True)\n",
    "SR_wood_agent = LinearRL(env_name=envs[0], reward=reward, term_reward=reward, _lambda=_lambda, beta=beta, alpha=alpha, num_steps=num_steps, policy=\"softmax\", imp_samp=False)\n",
    "SR_agent = SR_TD(env_name=envs[0], reward=1,  term_reward=10, beta=beta, alpha=alpha, num_steps=num_steps, policy=\"softmax\")"
   ]
  },
  {
   "cell_type": "code",
   "execution_count": 7,
   "metadata": {},
   "outputs": [],
   "source": [
    "DR_TD_agent.learn(seed=seed)\n",
    "SR_wood_agent.learn(seed=seed)\n",
    "SR_agent.learn(seed=seed)"
   ]
  },
  {
   "cell_type": "markdown",
   "metadata": {},
   "source": [
    "### Update agent's environments & use Woodbury update on DR-TD and DR-Inv"
   ]
  },
  {
   "cell_type": "code",
   "execution_count": 8,
   "metadata": {},
   "outputs": [
    {
     "name": "stdout",
     "output_type": "stream",
     "text": [
      "(9, 1)\n"
     ]
    }
   ],
   "source": [
    "print(new_term_loc)\n",
    "\n",
    "# Construct a new transition matrix and new environment\n",
    "T_new = np.copy(T_no_goal)\n",
    "T_new[new_term_idx] = 0\n",
    "T_new[new_term_idx, new_term_idx] = 1\n",
    "new_terminals = np.diag(T_new) == 1\n",
    "new_target_locs = np.array([list(new_term_loc)])\n",
    "env_new = env\n",
    "env_new.unwrapped.target_locs = [np.array((new_term_loc[0], new_term_loc[1]))]\n",
    "\n",
    "# Update the env of agents\n",
    "DR_Inv_agent.env = env_new\n",
    "DR_TD_agent.env = env_new\n",
    "Random_agent.env = env_new\n",
    "SR_agent.env = env_new\n",
    "SR_wood_agent.env = env_new\n",
    "\n",
    "# Update P\n",
    "DR_Inv_agent.P = T_new[~new_terminals][:,new_terminals]\n",
    "DR_TD_agent.P = T_new[~new_terminals][:,new_terminals]\n",
    "SR_wood_agent.P = T_new[~new_terminals][:,new_terminals]\n",
    "\n",
    "# Use Woodbury update to get a new DR\n",
    "DR_td = woodbury(DR_TD_agent, T_new, inv=False)\n",
    "DR_inv = woodbury(DR_Inv_agent, T_new, inv=True)\n",
    "SR_new = woodbury(SR_wood_agent, T_new, inv=False)\n",
    "\n",
    "# Update terminals\n",
    "DR_Inv_agent.terminals = new_terminals\n",
    "DR_TD_agent.terminals = new_terminals\n",
    "SR_wood_agent.terminals = new_terminals\n",
    "\n",
    "# Set the DR to updated DR for agents and update the values\n",
    "DR_TD_agent.DR = DR_td\n",
    "DR_TD_agent.update_V()\n",
    "DR_Inv_agent.DR = DR_inv\n",
    "DR_Inv_agent.update_V()\n",
    "SR_wood_agent.DR = SR_new\n",
    "SR_wood_agent.update_V()\n"
   ]
  },
  {
   "cell_type": "markdown",
   "metadata": {},
   "source": [
    "### Get average number of steps needed to reach new goal state"
   ]
  },
  {
   "cell_type": "code",
   "execution_count": 10,
   "metadata": {},
   "outputs": [],
   "source": [
    "DR_inv_avg, DR_td_avg, Random_avg, SR_td_avg, SR_wood_avg = [],[],[],[],[]\n",
    "for i in range(num_simulations):\n",
    "    DR_inv_avg.append(len(test_agent(agent=DR_Inv_agent, policy=DR_Inv_agent.policy, seed=seed)))\n",
    "    DR_td_avg.append(len(test_agent(agent=DR_TD_agent, policy=DR_TD_agent.policy, seed=seed)))\n",
    "    Random_avg.append(len(test_agent(agent=Random_agent, policy=Random_agent.policy, seed=seed)))\n",
    "    SR_td_avg.append(len(test_agent(agent=SR_agent, policy=SR_agent.policy, seed=seed)))\n",
    "    SR_wood_avg.append(len(test_agent(agent=SR_wood_agent, policy=SR_wood_agent.policy, seed=seed)))"
   ]
  },
  {
   "cell_type": "code",
   "execution_count": 11,
   "metadata": {},
   "outputs": [
    {
     "name": "stdout",
     "output_type": "stream",
     "text": [
      "Inverse DR average: 18.18\n",
      "Temporal Difference DR average: 18.68\n",
      "Random average: 564.452\n",
      "Temporal Difference SR average: 583.584\n",
      "SR Woodbury: 26.724\n"
     ]
    }
   ],
   "source": [
    "print(f\"Inverse DR average: {np.mean(DR_inv_avg)}\")\n",
    "print(f\"Temporal Difference DR average: {np.mean(DR_td_avg)}\")\n",
    "print(f\"Random average: {np.mean(Random_avg)}\")\n",
    "print(f\"Temporal Difference SR average: {np.mean(SR_td_avg)}\")\n",
    "print(f\"SR Woodbury: {np.mean(SR_wood_avg)}\")"
   ]
  },
  {
   "cell_type": "code",
   "execution_count": 14,
   "metadata": {},
   "outputs": [
    {
     "name": "stderr",
     "output_type": "stream",
     "text": [
      "/Users/abizzle/anaconda3/envs/gym/lib/python3.10/site-packages/seaborn/_oldcore.py:1765: FutureWarning: unique with argument that is not not a Series, Index, ExtensionArray, or np.ndarray is deprecated and will raise in a future version.\n",
      "  order = pd.unique(vector)\n"
     ]
    },
    {
     "data": {
      "image/png": "[encoded data removed]",
      "text/plain": [
       "<Figure size 640x480 with 1 Axes>"
      ]
     },
     "metadata": {},
     "output_type": "display_data"
    }
   ],
   "source": [
    "## Plot\n",
    "save_path = None\n",
    "# save_path = os.path.join('..', 'figures/') + 'model_comparison.png'\n",
    "\n",
    "# Prepare the data\n",
    "categories = ['Random', 'SR', 'SR-Woodbury', 'Importance Sampling', 'Complete']\n",
    "# categories = ['Random', 'SR', 'Importance Sampling', 'Complete']\n",
    "data = [Random_avg, SR_td_avg, SR_wood_avg, DR_td_avg, DR_inv_avg]\n",
    "# data = [Random_avg, SR_td_avg, DR_td_avg, DR_inv_avg]\n",
    "means = [np.mean(values) for values in data]\n",
    "sems = [np.std(values) / np.sqrt(len(values)) for values in data]\n",
    "\n",
    "# Create a color palette\n",
    "palette = sns.color_palette(\"colorblind\", len(categories))\n",
    "\n",
    "# Set a nicer font\n",
    "plt.rcParams['font.family'] = 'serif'\n",
    "\n",
    "# Create the bar plot\n",
    "ax = sns.barplot(x=categories, y=means, palette=palette, yerr=sems, capsize=0.2)\n",
    "\n",
    "# Set the y-axis title\n",
    "plt.ylabel(\"Number of Steps to Goal\")\n",
    "\n",
    "# Rotate the x-axis labels if needed\n",
    "plt.xticks(rotation=25, ha='right')\n",
    "\n",
    "# Outline the bars in black\n",
    "for bar in ax.patches:\n",
    "    bar.set_edgecolor('black')\n",
    "    bar.set_linewidth(1)\n",
    "\n",
    "if save_path is not None:\n",
    "    plt.savefig(save_path, bbox_inches='tight', dpi=300)\n",
    "\n",
    "# Display the plot\n",
    "plt.tight_layout()\n",
    "plt.show()"
   ]
  },
  {
   "cell_type": "code",
   "execution_count": null,
   "metadata": {},
   "outputs": [],
   "source": []
  }
 ],
 "metadata": {
  "kernelspec": {
   "display_name": "gym",
   "language": "python",
   "name": "python3"
  },
  "language_info": {
   "codemirror_mode": {
    "name": "ipython",
    "version": 3
   },
   "file_extension": ".py",
   "mimetype": "text/x-python",
   "name": "python",
   "nbconvert_exporter": "python",
   "pygments_lexer": "ipython3",
   "version": "3.10.0"
  }
 },
 "nbformat": 4,
 "nbformat_minor": 2
}
