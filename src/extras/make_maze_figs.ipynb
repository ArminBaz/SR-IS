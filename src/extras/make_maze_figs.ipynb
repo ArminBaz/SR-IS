{
 "cells": [
  {
   "cell_type": "code",
   "execution_count": 1,
   "metadata": {},
   "outputs": [],
   "source": [
    "import os\n",
    "import sys\n",
    "module_path = os.path.abspath(os.path.join('..'))\n",
    "if module_path not in sys.path:\n",
    "    sys.path.append(module_path)\n",
    "\n",
    "# from utils import render_maze\n",
    "import numpy as np\n",
    "from utils_render import render_maze, render_maze_dc, render_maze_replan, render_maze_with_DR\n",
    "from models import SR_IS"
   ]
  },
  {
   "cell_type": "code",
   "execution_count": 2,
   "metadata": {},
   "outputs": [],
   "source": [
    "save_dir = os.path.join('../../', 'figures/')"
   ]
  },
  {
   "cell_type": "markdown",
   "metadata": {},
   "source": [
    "### Simple 5x5 Maze"
   ]
  },
  {
   "cell_type": "code",
   "execution_count": 3,
   "metadata": {},
   "outputs": [],
   "source": [
    "save_path = save_dir + \"simple-5x5.png\"\n",
    "agent = SR_IS(env_name=\"simple-5x5\", _lambda=1.0, alpha=0.001, beta=1.0, num_steps=500000, policy=\"softmax\")\n",
    "# render_maze(agent, save_path=None, fontsize=12)"
   ]
  },
  {
   "cell_type": "markdown",
   "metadata": {},
   "source": [
    "### 7x7 Policy & Reward Reval maze"
   ]
  },
  {
   "cell_type": "code",
   "execution_count": 6,
   "metadata": {},
   "outputs": [],
   "source": [
    "save_path = save_dir + \"maze_7x7.png\"\n",
    "agent = SR_IS(env_name=\"simple-7x7-2\", _lambda=1.0, alpha=0.001, beta=1.0, num_steps=500000, policy=\"softmax\")\n",
    "# render_maze(agent, locs=[(0,1), (1,0)], colors=[4, 9], save_path=None)"
   ]
  },
  {
   "cell_type": "markdown",
   "metadata": {},
   "source": [
    "### Latent Maze"
   ]
  },
  {
   "cell_type": "code",
   "execution_count": 10,
   "metadata": {},
   "outputs": [],
   "source": [
    "save_path = save_dir + \"latent_maze.png\"\n",
    "agent = SR_IS(env_name=\"tolman-latent\", _lambda=1.0, alpha=0.001, beta=1.0, num_steps=500000, policy=\"softmax\")\n",
    "# render_maze(agent, state=(0,4), locs=[(0,3), (0,5)], colors=[1, 9], save_path=None, fontsize=14)"
   ]
  },
  {
   "cell_type": "markdown",
   "metadata": {},
   "source": [
    "### Detour Mazes"
   ]
  },
  {
   "cell_type": "code",
   "execution_count": 17,
   "metadata": {},
   "outputs": [],
   "source": [
    "save_path = save_dir + \"tolman_not_blocked.png\"\n",
    "agent = SR_IS(env_name=\"tolman-9x9-nb\")\n",
    "# render_maze(agent, state=(2,3), locs=[(3,3), (2,2), (2,4)], colors=[3, 2, 4], save_path=save_path, fontsize=14)"
   ]
  },
  {
   "cell_type": "code",
   "execution_count": 16,
   "metadata": {},
   "outputs": [],
   "source": [
    "save_path = save_dir + \"tolman_blocked.png\"\n",
    "agent = SR_IS(env_name=\"tolman-9x9-nb\")\n",
    "# render_maze(agent, state=(2,3), locs=[(3,3), (2,2), (2,4)], colors=[3, 2, 4], save_path=save_path, wall=[[5, 3], ['h']], fontsize=14)"
   ]
  },
  {
   "cell_type": "code",
   "execution_count": null,
   "metadata": {},
   "outputs": [],
   "source": [
    "save_path = save_dir + \"maze_tolman_base.png\"\n",
    "agent = SR_IS(env_name=\"tolman-9x9-nb\")\n",
    "# render_maze(agent, state=None, locs=None, colors=None, save_path=None)"
   ]
  },
  {
   "cell_type": "markdown",
   "metadata": {},
   "source": [
    "### 4 room mazes"
   ]
  },
  {
   "cell_type": "code",
   "execution_count": 3,
   "metadata": {},
   "outputs": [],
   "source": [
    "save_path = save_dir + \"maze_four_room.png\"\n",
    "agent = SR_IS(env_name=\"four-room-br\")\n",
    "# render_maze(agent, state=None, locs=None, colors=None, save_path=None)"
   ]
  },
  {
   "cell_type": "code",
   "execution_count": 5,
   "metadata": {},
   "outputs": [],
   "source": [
    "save_path = save_dir + \"maze_four_room_predictive_map.png\"\n",
    "agent = SR_IS(env_name=\"four-room-br\")\n",
    "agent.DR = agent.get_D_inv()\n",
    "# render_maze_with_DR(agent, save_path=None)"
   ]
  },
  {
   "cell_type": "code",
   "execution_count": 36,
   "metadata": {},
   "outputs": [],
   "source": [
    "save_path = save_dir + \"maze_four_room_replan.png\"\n",
    "agent = SR_IS(env_name=\"four-room-tr\")\n",
    "replan_goals = [(0,4), (2,6), (4,6), (6,4), (6,6), (4,0), (6,0), (6,2)]\n",
    "# render_maze_replan(agent, replan_goals=replan_goals, save_path=save_path, fontsize=12)"
   ]
  },
  {
   "cell_type": "markdown",
   "metadata": {},
   "source": [
    "### 10x10 Mazes"
   ]
  },
  {
   "cell_type": "code",
   "execution_count": 25,
   "metadata": {},
   "outputs": [],
   "source": [
    "save_path = save_dir + \"maze_10x10_G1.png\"\n",
    "agent = SR_IS(env_name=\"maze-10x10-G1\")\n",
    "# render_maze(agent, state=None, locs=None, colors=None, save_path=None)"
   ]
  },
  {
   "cell_type": "code",
   "execution_count": null,
   "metadata": {},
   "outputs": [],
   "source": [
    "save_path = save_dir + \"maze_10x10_G2.png\"\n",
    "agent = SR_IS(env_name=\"maze-10x10-G2\")\n",
    "# render_maze(agent, state=None, locs=None, colors=None, save_path=None)"
   ]
  },
  {
   "cell_type": "code",
   "execution_count": 32,
   "metadata": {},
   "outputs": [],
   "source": [
    "save_path = save_dir + \"maze_10x10_replan.png\"\n",
    "agent = SR_IS(env_name=\"maze-10x10-G1\")\n",
    "# render_maze_replan(agent, replan_goals=[(9,1)], save_path=save_path, fontsize=12)"
   ]
  },
  {
   "cell_type": "code",
   "execution_count": null,
   "metadata": {},
   "outputs": [
    {
     "data": {
      "image/png": "[encoded data removed]",
      "text/plain": [
       "<Figure size 640x480 with 1 Axes>"
      ]
     },
     "metadata": {},
     "output_type": "display_data"
    }
   ],
   "source": [
    "save_path = save_dir + \"policy_reval_10x10.png\"\n",
    "agent = SR_IS(env_name=\"maze-10x10-two-goal\")\n",
    "# render_maze(agent, state=(4,7), locs=[(3,7), (5,7)], colors=[1, 9], save_path=save_path, fontsize=14)"
   ]
  },
  {
   "cell_type": "markdown",
   "metadata": {},
   "source": [
    "### De Cothi Mazes"
   ]
  },
  {
   "cell_type": "code",
   "execution_count": 7,
   "metadata": {},
   "outputs": [],
   "source": [
    "maze_15 = np.array([\n",
    "[0, 0, 0, 0, 0, 0, 0, 0, 0, 0],\n",
    "[0, 0, 0, 0, 0, 0, 0, 0, 0, 0],\n",
    "[0, 0, -1, 0, 0, 0, -1, 0, 0, 0],\n",
    "[0, 0, -1, 0, -1, 0, -1, 0, 0, 0],\n",
    "[0, 0, -1, 0, -1, 0, -1, 0, 0, 0],\n",
    "[2, 0, -1, -1, -1, -1, -1, 0, 0, 1],\n",
    "[0, 0, 6, -1, 10, -1, 5, 0, 0, 0],\n",
    "[0, 0, 0, -1, 0, -1, 0, 0, 0, 0],\n",
    "[4, 0, 0, 0, 0, 0, 0, 0, 0, 3],\n",
    "[0, 0, 7, 0, 9, 0, 0, 8, 0, 0],\n",
    "])\n",
    "save_path = save_dir + \"DC_maze15.png\"\n",
    "# render_maze_dc(maze_15, save_path=save_path, title=\"Maze 15\")"
   ]
  },
  {
   "cell_type": "code",
   "execution_count": 8,
   "metadata": {},
   "outputs": [],
   "source": [
    "maze_22 = np.array([\n",
    "[0, 0, 0, 0, 0, 1, 0, 3, 0, 0],\n",
    "[0, 0, 0, 0, 0, 0, 0, 0, 0, 7],\n",
    "[0, 0, -1, -1, -1, -1, 0, 0, 0, 0],\n",
    "[0, 0, 0, 0, 0, -1, 5, 0, 0, 0],\n",
    "[0, 0, 0, -1, -1, -1, -1, -1, 0, 10],\n",
    "[0, 0, 0, 0, 0, -1, 9, 0, 0, 0],\n",
    "[0, 0, 0, 0, 0, -1, 0, 0, 0, 8],\n",
    "[0, 0, -1, -1, -1, -1, 0, 0, 0, 0],\n",
    "[0, 0, 0, 0, 0, 0, 0, 0, 0, 6],\n",
    "[0, 0, 0, 0, 0, 2, 0, 4, 0, 0]\n",
    "])\n",
    "save_path = save_dir + \"DC_maze22.png\"\n",
    "# render_maze_dc(maze_22, save_path=save_path, title=\"Maze 22\")"
   ]
  }
 ],
 "metadata": {
  "kernelspec": {
   "display_name": "gym",
   "language": "python",
   "name": "python3"
  },
  "language_info": {
   "codemirror_mode": {
    "name": "ipython",
    "version": 3
   },
   "file_extension": ".py",
   "mimetype": "text/x-python",
   "name": "python",
   "nbconvert_exporter": "python",
   "pygments_lexer": "ipython3",
   "version": "3.10.0"
  }
 },
 "nbformat": 4,
 "nbformat_minor": 2
}
