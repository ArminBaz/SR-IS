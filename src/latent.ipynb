{
 "cells": [
  {
   "cell_type": "code",
   "execution_count": 1,
   "metadata": {},
   "outputs": [],
   "source": [
    "import os\n",
    "\n",
    "import numpy as np\n",
    "import importlib\n",
    "import seaborn as sns\n",
    "import gymnasium as gym\n",
    "import matplotlib.pyplot as plt\n",
    "\n",
    "import gym_env\n",
    "from models import LinearRL\n",
    "from utils import get_full_maze_values, policy_reval, decision_policy, update_terminal_reward\n",
    "from utils_render import plot_decision_prob"
   ]
  },
  {
   "cell_type": "code",
   "execution_count": 2,
   "metadata": {},
   "outputs": [],
   "source": [
    "# Set the random seed for NumPy\n",
    "seed = 24\n",
    "np.random.seed(seed)\n",
    "\n",
    "# Save dir\n",
    "save_dir = os.path.join('..', 'figures/')\n",
    "\n",
    "# For plotting\n",
    "idx = 4\n",
    "prob_locs = [3, 5]\n",
    "colors = [1, 9]"
   ]
  },
  {
   "cell_type": "markdown",
   "metadata": {},
   "source": [
    "## DR Complete Agent"
   ]
  },
  {
   "cell_type": "code",
   "execution_count": 3,
   "metadata": {},
   "outputs": [],
   "source": [
    "# Agent to be used with D_inv\n",
    "agent = LinearRL(env_name=\"tolman-latent\", reward=-1, term_reward=5)\n",
    "# Make the reward for the first terminal state higher than the second to bias the DR towards that terminal state\n",
    "# update_terminal_reward(agent, loc=0, r=5)\n",
    "# update_terminal_reward(agent, loc=1, r=5)\n",
    "\n",
    "agent.DR = agent.gamma * agent.get_D_inv()\n",
    "agent.update_V()\n",
    "maze_values = get_full_maze_values(agent)"
   ]
  },
  {
   "cell_type": "code",
   "execution_count": 4,
   "metadata": {},
   "outputs": [],
   "source": [
    "pii_old = decision_policy(agent, agent.Z)"
   ]
  },
  {
   "cell_type": "code",
   "execution_count": 5,
   "metadata": {},
   "outputs": [
    {
     "name": "stdout",
     "output_type": "stream",
     "text": [
      "Prob left: 0.4883122491710901 | Prob right: 0.4883122491710901\n"
     ]
    }
   ],
   "source": [
    "pii_old[4]\n",
    "print(f\"Prob left: {pii_old[4][3]} | Prob right: {pii_old[4][5]}\")"
   ]
  },
  {
   "cell_type": "code",
   "execution_count": 6,
   "metadata": {},
   "outputs": [],
   "source": [
    "# Make the reward for the first terminal state negative and recalculate policy\n",
    "update_terminal_reward(agent, loc=0, r=-5)\n",
    "V_new, Z_new = policy_reval(agent)"
   ]
  },
  {
   "cell_type": "code",
   "execution_count": 7,
   "metadata": {},
   "outputs": [],
   "source": [
    "pii_new = decision_policy(agent, Z_new)"
   ]
  },
  {
   "cell_type": "code",
   "execution_count": 8,
   "metadata": {},
   "outputs": [
    {
     "name": "stdout",
     "output_type": "stream",
     "text": [
      "Prob left: 0.02341663522531297 | Prob right: 0.9532078631168673\n"
     ]
    }
   ],
   "source": [
    "print(f\"Prob left: {pii_new[4][3]} | Prob right: {pii_new[4][5]}\")"
   ]
  },
  {
   "cell_type": "markdown",
   "metadata": {},
   "source": [
    "## With Importance Sampling"
   ]
  },
  {
   "cell_type": "code",
   "execution_count": 44,
   "metadata": {},
   "outputs": [],
   "source": [
    "# Model Hyperparams\n",
    "reward = -1\n",
    "terminal_reward = 5\n",
    "alpha = 0.2\n",
    "beta = 1.0\n",
    "_lambda = 1.0\n",
    "num_steps = 15000"
   ]
  },
  {
   "cell_type": "code",
   "execution_count": 45,
   "metadata": {},
   "outputs": [],
   "source": [
    "# Agent\n",
    "agent = LinearRL(env_name=\"tolman-latent\", reward=reward, term_reward=terminal_reward, _lambda=_lambda, beta=beta, alpha=alpha, num_steps=num_steps, policy=\"softmax\", imp_samp=True)\n",
    "agent.learn()"
   ]
  },
  {
   "cell_type": "code",
   "execution_count": 46,
   "metadata": {},
   "outputs": [
    {
     "name": "stdout",
     "output_type": "stream",
     "text": [
      "Prob left: 0.40777478735745515 | Prob right: 0.5697173749040657\n"
     ]
    }
   ],
   "source": [
    "pii_old = decision_policy(agent, agent.Z)\n",
    "print(f\"Prob left: {pii_old[4][3]} | Prob right: {pii_old[4][5]}\")"
   ]
  },
  {
   "cell_type": "code",
   "execution_count": 47,
   "metadata": {},
   "outputs": [],
   "source": [
    "# Make the reward for the first terminal state negative and recalculate policy\n",
    "update_terminal_reward(agent, loc=0, r=-5)\n",
    "V_new, Z_new = policy_reval(agent)"
   ]
  },
  {
   "cell_type": "code",
   "execution_count": 48,
   "metadata": {},
   "outputs": [
    {
     "name": "stdout",
     "output_type": "stream",
     "text": [
      "Prob left: 0.027922241155506775 | Prob right: 0.9565873078648339\n"
     ]
    }
   ],
   "source": [
    "pii_new = decision_policy(agent, Z_new)\n",
    "print(f\"Prob left: {pii_new[4][3]} | Prob right: {pii_new[4][5]}\")"
   ]
  },
  {
   "cell_type": "code",
   "execution_count": 56,
   "metadata": {},
   "outputs": [],
   "source": [
    "save_path = save_dir + \"latent_with_is.png\"\n",
    "# plot_decision_prob(probs_train=pii_old[4][prob_locs], probs_test=pii_new[idx][prob_locs], colors=colors, leg_loc=\"upper center\", save_path=None)"
   ]
  },
  {
   "cell_type": "markdown",
   "metadata": {},
   "source": [
    "## Without Importance Sampling"
   ]
  },
  {
   "cell_type": "code",
   "execution_count": 50,
   "metadata": {},
   "outputs": [],
   "source": [
    "# Agent\n",
    "agent = LinearRL(env_name=\"tolman-latent\", reward=reward, term_reward=terminal_reward, _lambda=_lambda, beta=beta, alpha=alpha, num_steps=num_steps, policy=\"softmax\", imp_samp=False)\n",
    "agent.learn()"
   ]
  },
  {
   "cell_type": "code",
   "execution_count": 51,
   "metadata": {},
   "outputs": [
    {
     "name": "stdout",
     "output_type": "stream",
     "text": [
      "Prob left: 0.37068442440716126 | Prob right: 0.5737825654058131\n"
     ]
    }
   ],
   "source": [
    "pii_old = decision_policy(agent, agent.Z)\n",
    "print(f\"Prob left: {pii_old[4][3]} | Prob right: {pii_old[4][5]}\")"
   ]
  },
  {
   "cell_type": "code",
   "execution_count": 52,
   "metadata": {},
   "outputs": [],
   "source": [
    "# Make the reward for the first terminal state negative and recalculate policy\n",
    "update_terminal_reward(agent, loc=0, r=-5)\n",
    "V_new, Z_new = policy_reval(agent)"
   ]
  },
  {
   "cell_type": "code",
   "execution_count": 53,
   "metadata": {},
   "outputs": [
    {
     "name": "stdout",
     "output_type": "stream",
     "text": [
      "Prob left: 0.021453238332517242 | Prob right: 0.9211461609669758\n"
     ]
    }
   ],
   "source": [
    "pii_new = decision_policy(agent, Z_new)\n",
    "print(f\"Prob left: {pii_new[4][3]} | Prob right: {pii_new[4][5]}\")"
   ]
  },
  {
   "cell_type": "code",
   "execution_count": 57,
   "metadata": {},
   "outputs": [],
   "source": [
    "save_path = save_dir + \"latent_without_is.png\"\n",
    "# plot_decision_prob(probs_train=pii_old[4][prob_locs], probs_test=pii_new[idx][prob_locs], colors=colors, leg_loc=\"upper center\", save_path=None)"
   ]
  },
  {
   "cell_type": "code",
   "execution_count": null,
   "metadata": {},
   "outputs": [],
   "source": []
  }
 ],
 "metadata": {
  "kernelspec": {
   "display_name": "gym",
   "language": "python",
   "name": "python3"
  },
  "language_info": {
   "codemirror_mode": {
    "name": "ipython",
    "version": 3
   },
   "file_extension": ".py",
   "mimetype": "text/x-python",
   "name": "python",
   "nbconvert_exporter": "python",
   "pygments_lexer": "ipython3",
   "version": "3.10.0"
  }
 },
 "nbformat": 4,
 "nbformat_minor": 2
}
