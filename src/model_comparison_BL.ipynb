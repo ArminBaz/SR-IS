{
 "cells": [
  {
   "cell_type": "markdown",
   "metadata": {},
   "source": [
    "# Model Comparison on Complex Maze\n",
    "Here I test out different models to see how many steps it takes them to reach a new terminal state after being trained towards an initial terminal state. I reuse the map "
   ]
  },
  {
   "cell_type": "code",
   "execution_count": 1,
   "metadata": {},
   "outputs": [],
   "source": [
    "import os\n",
    "\n",
    "import numpy as np\n",
    "import matplotlib.pyplot as plt\n",
    "import seaborn as sns\n",
    "import gymnasium as gym\n",
    "\n",
    "import gym_env\n",
    "from utils import test_agent, get_transition_matrix, create_mapping_nb, woodbury, woodbury_SR, decision_policy_SR, woodbury_V\n",
    "from models import SR_IS, SR_TD"
   ]
  },
  {
   "cell_type": "code",
   "execution_count": 2,
   "metadata": {},
   "outputs": [],
   "source": [
    "# Set the random seed for NumPy\n",
    "seeds = np.arange(50)\n",
    "\n",
    "# Save dir\n",
    "save_dir = os.path.join('..', 'figures/')"
   ]
  },
  {
   "cell_type": "code",
   "execution_count": 3,
   "metadata": {},
   "outputs": [],
   "source": [
    "no_goal_env = \"maze-10x10-G0\"\n",
    "envs = [\"maze-10x10-G1\", \"maze-10x10-G2\", \"maze-10x10-G3\"]"
   ]
  },
  {
   "cell_type": "code",
   "execution_count": 4,
   "metadata": {},
   "outputs": [],
   "source": [
    "# Model Hyperparams\n",
    "reward = -0.1\n",
    "alpha = 0.05\n",
    "beta = 1.0\n",
    "_lambda = 1.0\n",
    "num_steps = 120000\n",
    "\n",
    "# Simulation parameters\n",
    "num_simulations = 10\n",
    "new_term_loc = (9,1)\n",
    "new_term_idx = 61\n",
    "SR_r_new = np.ones((68))\n",
    "SR_r_new[new_term_idx] = 10"
   ]
  },
  {
   "cell_type": "code",
   "execution_count": 5,
   "metadata": {},
   "outputs": [],
   "source": [
    "# Transition matrix with no goal\n",
    "env = gym.make(no_goal_env)\n",
    "maze = env.unwrapped.maze\n",
    "# Get the transition matrix of the new environment\n",
    "mapping = create_mapping_nb(env.unwrapped.maze, env.unwrapped.get_walls())\n",
    "T_no_goal = get_transition_matrix(env, mapping)"
   ]
  },
  {
   "cell_type": "markdown",
   "metadata": {},
   "source": [
    "### Run across multiple seeds and get averages"
   ]
  },
  {
   "cell_type": "code",
   "execution_count": 6,
   "metadata": {},
   "outputs": [
    {
     "name": "stdout",
     "output_type": "stream",
     "text": [
      "Seed: 0\n"
     ]
    },
    {
     "name": "stderr",
     "output_type": "stream",
     "text": [
      "/Users/abizzle/Research/SR-IS/src/models.py:100: RuntimeWarning: invalid value encountered in log\n",
      "  self.V = np.round(np.log(self.Z), 5)\n",
      "/Users/abizzle/anaconda3/envs/gym/lib/python3.10/site-packages/gymnasium/utils/passive_env_checker.py:131: UserWarning: \u001b[33mWARN: The obs returned by the `reset()` method was expecting a numpy array, actual type: <class 'list'>\u001b[0m\n",
      "  logger.warn(\n",
      "/Users/abizzle/anaconda3/envs/gym/lib/python3.10/site-packages/gymnasium/spaces/box.py:240: UserWarning: \u001b[33mWARN: Casting input x to numpy array.\u001b[0m\n",
      "  gym.logger.warn(\"Casting input x to numpy array.\")\n",
      "/Users/abizzle/anaconda3/envs/gym/lib/python3.10/site-packages/gymnasium/utils/passive_env_checker.py:159: UserWarning: \u001b[33mWARN: The obs returned by the `reset()` method is not within the observation space.\u001b[0m\n",
      "  logger.warn(f\"{pre} is not within the observation space.\")\n",
      "/Users/abizzle/anaconda3/envs/gym/lib/python3.10/site-packages/gymnasium/utils/passive_env_checker.py:131: UserWarning: \u001b[33mWARN: The obs returned by the `step()` method was expecting a numpy array, actual type: <class 'list'>\u001b[0m\n",
      "  logger.warn(\n",
      "/Users/abizzle/anaconda3/envs/gym/lib/python3.10/site-packages/gymnasium/utils/passive_env_checker.py:159: UserWarning: \u001b[33mWARN: The obs returned by the `step()` method is not within the observation space.\u001b[0m\n",
      "  logger.warn(f\"{pre} is not within the observation space.\")\n"
     ]
    },
    {
     "name": "stdout",
     "output_type": "stream",
     "text": [
      "Seed: 1\n",
      "Seed: 2\n",
      "Seed: 3\n",
      "Seed: 4\n",
      "Seed: 5\n",
      "Seed: 6\n",
      "Seed: 7\n",
      "Seed: 8\n",
      "Seed: 9\n",
      "Seed: 10\n",
      "Seed: 11\n",
      "Seed: 12\n",
      "Seed: 13\n",
      "Seed: 14\n",
      "Seed: 15\n",
      "Seed: 16\n",
      "Seed: 17\n",
      "Seed: 18\n",
      "Seed: 19\n",
      "Seed: 20\n",
      "Seed: 21\n",
      "Seed: 22\n",
      "Seed: 23\n",
      "Seed: 24\n",
      "Seed: 25\n",
      "Seed: 26\n",
      "Seed: 27\n",
      "Seed: 28\n",
      "Seed: 29\n",
      "Seed: 30\n",
      "Seed: 31\n",
      "Seed: 32\n",
      "Seed: 33\n",
      "Seed: 34\n",
      "Seed: 35\n",
      "Seed: 36\n",
      "Seed: 37\n",
      "Seed: 38\n",
      "Seed: 39\n",
      "Seed: 40\n",
      "Seed: 41\n",
      "Seed: 42\n",
      "Seed: 43\n",
      "Seed: 44\n",
      "Seed: 45\n",
      "Seed: 46\n",
      "Seed: 47\n",
      "Seed: 48\n",
      "Seed: 49\n"
     ]
    }
   ],
   "source": [
    "avgs = {\n",
    "    'Random':{'mean':[],'median':[]},\n",
    "    'SR':{'mean':[],'median':[]},\n",
    "    'SR Wood':{'mean':[],'median':[]},\n",
    "    'SR-IS':{'mean':[],'median':[]},\n",
    "    'Complete':{'mean':[],'median':[]}\n",
    "}\n",
    "\n",
    "# Loop through all the seeds\n",
    "for seed in seeds:\n",
    "    # Print seed out\n",
    "    print(f\"Seed: {seed}\")\n",
    "    \n",
    "    ## Initialize and train agents\n",
    "    # Initialize agents\n",
    "    SR_IS_agent = SR_IS(env_name=envs[0], reward=reward, term_reward=10, _lambda=_lambda, beta=beta, alpha=alpha, num_steps=num_steps, policy=\"softmax\", imp_samp=True)\n",
    "    Random_agent = SR_IS(env_name=envs[0], reward=reward, term_reward=10, _lambda=_lambda, beta=beta, num_steps=num_steps, policy=\"random\", imp_samp=False)\n",
    "    DR_Inv_agent = SR_IS(env_name=envs[0], reward=reward, term_reward=10, _lambda=_lambda, beta=beta, alpha=alpha, num_steps=num_steps, policy=\"softmax\", imp_samp=True)\n",
    "    SR_wood_agent = SR_TD(env_name=envs[0], reward=0,  gamma=0.9, term_reward=10, beta=beta, alpha=alpha, num_steps=num_steps, policy=\"softmax\")\n",
    "    SR_agent = SR_TD(env_name=envs[0], reward=0,  gamma=0.9, term_reward=10, beta=beta, alpha=alpha, num_steps=num_steps, policy=\"softmax\")\n",
    "\n",
    "    # Train agents that need to be trained\n",
    "    SR_IS_agent.learn(seed=int(seed))\n",
    "    SR_wood_agent.learn(seed=int(seed))\n",
    "    SR_agent.learn(seed=int(seed))\n",
    "    T_pi = decision_policy_SR(agent=SR_wood_agent)\n",
    "\n",
    "    ## Woodbury\n",
    "    # Construct a new transition matrix and new environment\n",
    "    T_new = np.copy(T_no_goal)\n",
    "    T_new[new_term_idx] = 0\n",
    "    T_new[new_term_idx, new_term_idx] = 1\n",
    "    new_terminals = np.diag(T_new) == 1\n",
    "    new_target_locs = np.array([list(new_term_loc)])\n",
    "    env_new = env\n",
    "    env_new.unwrapped.target_locs = [np.array((new_term_loc[0], new_term_loc[1]))]\n",
    "\n",
    "    # Update the env of agents\n",
    "    DR_Inv_agent.env = env_new\n",
    "    SR_IS_agent.env = env_new\n",
    "    Random_agent.env = env_new\n",
    "    SR_agent.env = env_new\n",
    "    SR_wood_agent.env = env_new\n",
    "\n",
    "    # Update P\n",
    "    DR_Inv_agent.P = T_new[~new_terminals][:,new_terminals]\n",
    "    SR_IS_agent.P = T_new[~new_terminals][:,new_terminals]\n",
    "\n",
    "    # Use Woodbury update to get a new DR\n",
    "    DR_td = woodbury(SR_IS_agent, T_new, inv=False)\n",
    "    DR_inv = woodbury(DR_Inv_agent, T_new, inv=True)\n",
    "    SR_new = woodbury_SR(SR_wood_agent, T_new, T_pi, inv=False)\n",
    "\n",
    "    # Update terminals\n",
    "    DR_Inv_agent.terminals = new_terminals\n",
    "    SR_IS_agent.terminals = new_terminals\n",
    "    SR_wood_agent.terminals = new_terminals\n",
    "    SR_agent.terminals = new_terminals\n",
    "    Random_agent.terminals = new_terminals\n",
    "\n",
    "    # Set the DR to updated DR for agents and update the values\n",
    "    SR_IS_agent.DR = DR_td\n",
    "    Z, V = woodbury_V(SR_IS_agent, DR_td, term_reward=10)\n",
    "\n",
    "    SR_IS_agent.Z = Z\n",
    "    SR_IS_agent.V = V\n",
    "    # SR_IS_agent.update_V()\n",
    "    DR_Inv_agent.DR = DR_inv\n",
    "    DR_Inv_agent.update_V()\n",
    "    # update rewards for SR\n",
    "    SR_wood_agent.r = SR_r_new\n",
    "    SR_wood_agent.SR = SR_new\n",
    "    SR_wood_agent.update_V()\n",
    "    SR_agent.r = SR_r_new\n",
    "    SR_agent.update_V()\n",
    "\n",
    "    ## Simulate agent planning towards new goal\n",
    "    # Initialize holders and run simulations\n",
    "    DR_inv_avg, DR_td_avg, Random_avg, SR_td_avg, SR_wood_avg = [],[],[],[],[]\n",
    "    for i in range(num_simulations):\n",
    "        DR_inv_avg.append(len(test_agent(agent=DR_Inv_agent, policy=DR_Inv_agent.policy, seed=int(seed))))\n",
    "        DR_td_avg.append(len(test_agent(agent=SR_IS_agent, policy=SR_IS_agent.policy, seed=int(seed))))\n",
    "        Random_avg.append(len(test_agent(agent=Random_agent, policy=Random_agent.policy, seed=int(seed))))\n",
    "        SR_td_avg.append(len(test_agent(agent=SR_agent, policy=SR_agent.policy, seed=int(seed))))\n",
    "        SR_wood_avg.append(len(test_agent(agent=SR_wood_agent, policy=SR_wood_agent.policy, seed=int(seed))))\n",
    "    \n",
    "    # Append mean and median to main holder\n",
    "    avgs['Complete']['mean'].append(np.mean(DR_inv_avg))\n",
    "    avgs['Complete']['median'].append(np.median(DR_inv_avg))\n",
    "    avgs['SR-IS']['mean'].append(np.mean(DR_td_avg))\n",
    "    avgs['SR-IS']['median'].append(np.median(DR_td_avg))\n",
    "    avgs['Random']['mean'].append(np.mean(Random_avg))\n",
    "    avgs['Random']['median'].append(np.median(Random_avg))\n",
    "    avgs['SR']['mean'].append(np.mean(SR_td_avg))\n",
    "    avgs['SR']['median'].append(np.median(SR_td_avg))\n",
    "    avgs['SR Wood']['mean'].append(np.mean(SR_wood_avg))\n",
    "    avgs['SR Wood']['median'].append(np.median(SR_wood_avg))"
   ]
  },
  {
   "cell_type": "markdown",
   "metadata": {},
   "source": [
    "### Plot results"
   ]
  },
  {
   "cell_type": "code",
   "execution_count": 9,
   "metadata": {},
   "outputs": [
    {
     "name": "stderr",
     "output_type": "stream",
     "text": [
      "/Users/abizzle/anaconda3/envs/gym/lib/python3.10/site-packages/seaborn/_oldcore.py:1765: FutureWarning: unique with argument that is not not a Series, Index, ExtensionArray, or np.ndarray is deprecated and will raise in a future version.\n",
      "  order = pd.unique(vector)\n"
     ]
    },
    {
     "data": {
      "image/png": "[encoded data removed]",
      "text/plain": [
       "<Figure size 600x500 with 1 Axes>"
      ]
     },
     "metadata": {},
     "output_type": "display_data"
    }
   ],
   "source": [
    "## Plot\n",
    "save_path = os.path.join('..', 'figures/') + 'model_comparison_BL.png'\n",
    "# save_path = None\n",
    "stat_type = 'median'\n",
    "\n",
    "x_plot = ['Random', 'SR', r'$\\mathrm{SR}^*$', 'SR-IS', 'Complete']\n",
    "\n",
    "categories = list(avgs.keys())\n",
    "means = [np.mean(avgs[cat][stat_type]) for cat in categories]\n",
    "sems = [np.std(avgs[cat][stat_type]) / np.sqrt(len(avgs[cat][stat_type])) for cat in categories]\n",
    "\n",
    "palette = sns.color_palette(\"colorblind\", len(categories))\n",
    "\n",
    "plt.rcParams['font.family'] = 'serif'\n",
    "plt.figure(figsize=(6, 5))\n",
    "\n",
    "cp = [palette[0], palette[1], palette[2], palette[4], palette[3]]\n",
    "ax = sns.barplot(x=x_plot, y=means, palette=cp, yerr=sems, capsize=0.2)\n",
    "\n",
    "plt.ylabel(f\"Number of Steps to Goal\", fontsize=14)\n",
    "plt.xticks(rotation=25, ha='right', fontsize=14)\n",
    "\n",
    "for bar in ax.patches:\n",
    "    bar.set_edgecolor('black')\n",
    "    bar.set_linewidth(1)\n",
    "\n",
    "if save_path is not None:\n",
    "    plt.savefig(save_path, bbox_inches='tight', dpi=300)\n",
    "\n",
    "plt.tight_layout()\n",
    "plt.show()"
   ]
  }
 ],
 "metadata": {
  "kernelspec": {
   "display_name": "gym",
   "language": "python",
   "name": "python3"
  },
  "language_info": {
   "codemirror_mode": {
    "name": "ipython",
    "version": 3
   },
   "file_extension": ".py",
   "mimetype": "text/x-python",
   "name": "python",
   "nbconvert_exporter": "python",
   "pygments_lexer": "ipython3",
   "version": "3.10.0"
  }
 },
 "nbformat": 4,
 "nbformat_minor": 2
}
