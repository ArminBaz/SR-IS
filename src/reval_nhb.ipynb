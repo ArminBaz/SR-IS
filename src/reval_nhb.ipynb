{
 "cells": [
  {
   "cell_type": "code",
   "execution_count": 1,
   "metadata": {},
   "outputs": [],
   "source": [
    "import os\n",
    "\n",
    "import numpy as np\n",
    "import importlib\n",
    "import gymnasium as gym\n",
    "import seaborn as sns\n",
    "import matplotlib.pyplot as plt\n",
    "from matplotlib import patches\n",
    "import matplotlib.animation as manimation\n",
    "\n",
    "import gym_env\n",
    "import utils\n",
    "from utils import gen_nhb_exp_SR\n",
    "from models import LinearRL_NHB #, SR_NHB\n",
    "from utils_render import plot_nhb_decisions\n",
    "from utils import policy_reval, woodbury"
   ]
  },
  {
   "cell_type": "code",
   "execution_count": 2,
   "metadata": {},
   "outputs": [],
   "source": [
    "# Set the random seed for NumPy\n",
    "seed = 42\n",
    "np.random.seed(42)\n",
    "\n",
    "# Save dir\n",
    "save_dir = os.path.join('..', 'figures/')"
   ]
  },
  {
   "cell_type": "code",
   "execution_count": 3,
   "metadata": {},
   "outputs": [],
   "source": [
    "# For plotting\n",
    "prob_locs = [1, 2]\n",
    "colors = [3, 2]"
   ]
  },
  {
   "cell_type": "code",
   "execution_count": 4,
   "metadata": {},
   "outputs": [],
   "source": [
    "# Hyperparameters\n",
    "# lambd = 10\n",
    "# alpha = 0.25\n",
    "# beta = 0.9\n",
    "# num_steps = 250\n",
    "# num_iterations = 400\n",
    "\n",
    "lambd = 10\n",
    "alpha = 0.15\n",
    "beta = 1.0\n",
    "num_steps = 250\n",
    "num_iterations = 400"
   ]
  },
  {
   "cell_type": "code",
   "execution_count": 5,
   "metadata": {},
   "outputs": [],
   "source": [
    "class SR_NHB:\n",
    "    def __init__(self, alpha=0.1, beta=1, gamma=0.904, num_steps=25000, policy=\"random\", exp_type=\"policy_reval\"):\n",
    "        # Hard code start and end locations as well as size\n",
    "        self.start_loc = 0\n",
    "        self.target_locs = [3,4,5]\n",
    "        self.size = 6\n",
    "        self.agent_loc = self.start_loc\n",
    "        self.exp_type = exp_type\n",
    "\n",
    "        # Construct the transition probability matrix and envstep functions\n",
    "        self.T = self.construct_T()\n",
    "        self.envstep = gen_nhb_exp_SR()\n",
    "\n",
    "        # Get terminal states\n",
    "        self.terminals = np.diag(self.T) == 1\n",
    "\n",
    "        # Set reward\n",
    "        self.reward_nt = 1\n",
    "        self.r = np.full(len(self.T), self.reward_nt)\n",
    "        # Reward of terminal states depends on if we are replicating reward revaluation or policy revaluation\n",
    "        if self.exp_type == \"policy_reval\":\n",
    "            self.r_term_1 = [0, 15, 30]\n",
    "            self.r_term_2 = [45, 15, 30]\n",
    "        elif self.exp_type == \"reward_reval\":\n",
    "            self.r_term_1 = [15, 0, 30]\n",
    "            self.r_term_2 = [45, 0, 30]\n",
    "        else:\n",
    "            print(\"Incorrect experiment type (exp_type)\")\n",
    "            return(0)\n",
    "        self.r[self.terminals] = self.r_term_1\n",
    "\n",
    "        # Params\n",
    "        self.alpha = alpha\n",
    "        self.beta = beta\n",
    "        self.gamma = gamma\n",
    "        self.num_steps = num_steps\n",
    "        self.policy = policy\n",
    "\n",
    "        # Model\n",
    "        self.SR = np.eye(self.size)\n",
    "        self.V = np.zeros(self.size)\n",
    "        self.one_hot = np.eye(self.size)\n",
    "\n",
    "    def construct_T(self):\n",
    "        \"\"\"\n",
    "        Manually construct a T that is biased by a decision policy\n",
    "        \"\"\"\n",
    "        T = np.zeros((6, 6))\n",
    "        T[0,1] = 0.5\n",
    "        T[0,2] = 0.5\n",
    "        T[1,3] = 0.5\n",
    "        T[1,4] = 0.5\n",
    "        T[2,4] = 0.5\n",
    "        T[2,5] = 0.5\n",
    "        T[3:6, 3:6] = np.eye(3)\n",
    "\n",
    "        return T\n",
    "    \n",
    "    def update_exp(self):\n",
    "        \"\"\"\n",
    "        Update the terminal state values or transition matrix (experiment dependent)\n",
    "        \"\"\"\n",
    "        if self.exp_type in [\"reward_reval\", \"policy_reval\"]:\n",
    "            self.r[self.terminals] = self.r_term_2\n",
    "\n",
    "    def update_V(self):\n",
    "        self.V = self.SR @ self.r\n",
    "\n",
    "    def get_successor_states(self, state):\n",
    "        \"\"\"\n",
    "        Manually define the successor states based on which state we are in\n",
    "        \"\"\"\n",
    "        return np.where(self.T[state, :] != 0)[0]\n",
    "\n",
    "    def select_action(self, state):\n",
    "        \"\"\"\n",
    "        Action selection based on our policy\n",
    "        Options are: [random, softmax, egreedy, test]\n",
    "        \"\"\"\n",
    "        if self.policy == \"random\":\n",
    "            successor_states = self.get_successor_states(state)\n",
    "            return np.random.choice([0,1])\n",
    "\n",
    "        elif self.policy == \"softmax\":\n",
    "            successor_states = self.get_successor_states(state)\n",
    "            action_probs = np.full(2, 0.0)   # We can hardcode this because every state has 2 actions\n",
    "\n",
    "            V = self.V[successor_states]\n",
    "            exp_V = np.exp(V / self.beta)\n",
    "            action_probs = exp_V / exp_V.sum()\n",
    "\n",
    "            action = np.random.choice([0,1], p=action_probs)\n",
    "\n",
    "            return action\n",
    "\n",
    "    def learn(self, seed=None):\n",
    "        \"\"\"\n",
    "        Agent explores the maze according to its decision policy and and updates its DR as it goes\n",
    "        \"\"\"\n",
    "        if seed is not None:\n",
    "            np.random.seed(seed=seed)\n",
    "\n",
    "        # Iterate through number of steps\n",
    "        for i in range(self.num_steps):\n",
    "            # Current state\n",
    "            state = self.agent_loc\n",
    "            action = self.select_action(state)\n",
    "            # print(state, action)\n",
    "\n",
    "            # Take action\n",
    "            next_state, done = self.envstep[state, action]\n",
    "\n",
    "            # Update default representation\n",
    "            # target = self.one_hot[state] + self.gamma * self.SR[next_state]\n",
    "            # self.SR[state] = (1 - self.alpha) * self.SR[state] + self.alpha * target\n",
    "            self.SR[state] = (1-self.alpha)* self.SR[state] + self.alpha * ( self.one_hot[state] + self.gamma * self.SR[next_state]  )\n",
    "\n",
    "            # Update Values\n",
    "            self.update_V()\n",
    "\n",
    "            if done:\n",
    "                self.agent_loc = self.start_loc\n",
    "                continue\n",
    "\n",
    "            # Update state\n",
    "            state = next_state\n",
    "            self.agent_loc = state"
   ]
  },
  {
   "cell_type": "markdown",
   "metadata": {},
   "source": [
    "# Policy Revaluation"
   ]
  },
  {
   "cell_type": "markdown",
   "metadata": {},
   "source": [
    "## Run Simulations"
   ]
  },
  {
   "cell_type": "markdown",
   "metadata": {},
   "source": [
    "### Complete Model"
   ]
  },
  {
   "cell_type": "code",
   "execution_count": 6,
   "metadata": {},
   "outputs": [],
   "source": [
    "choices_complete = {\"train\":np.array([0,0]), \"test\":np.array([0,0])}\n",
    "for i in range(num_iterations):\n",
    "    # Define agent\n",
    "    agent_complete =  LinearRL_NHB(_lambda=lambd, alpha=alpha, beta=beta, num_steps=num_steps, policy=\"softmax\", imp_samp=True, exp_type=\"policy_reval\")\n",
    "    # Get optimal DR and update V and Z Values\n",
    "    D_inv = agent_complete.get_D_inv()\n",
    "    agent_complete.DR = D_inv\n",
    "    agent_complete.update_Z()\n",
    "    agent_complete.update_V()\n",
    "    dec_train = np.argmax([agent_complete.V[1], agent_complete.V[2]])\n",
    "    choices_complete[\"train\"][dec_train] += 1\n",
    "\n",
    "    # Update terminal state values\n",
    "    agent_complete.update_exp()\n",
    "    V_new, Z_new = policy_reval(agent_complete)\n",
    "    dec_test = np.argmax([V_new[1], V_new[2]])\n",
    "    choices_complete[\"test\"][dec_test] += 1"
   ]
  },
  {
   "cell_type": "markdown",
   "metadata": {},
   "source": [
    "### TD Models"
   ]
  },
  {
   "cell_type": "code",
   "execution_count": 7,
   "metadata": {},
   "outputs": [],
   "source": [
    "choices_with = {\"train\":np.array([0,0]), \"test\":np.array([0,0])}\n",
    "choices_without = {\"train\":np.array([0,0]), \"test\":np.array([0,0])}\n",
    "choices_sr = {\"train\":np.array([0,0]), \"test\":np.array([0,0])}\n",
    "\n",
    "for i in range(num_iterations):\n",
    "    # Define agents\n",
    "    agent_with_imp = LinearRL_NHB(_lambda=lambd, alpha=alpha, beta=beta, num_steps=num_steps, policy=\"softmax\", imp_samp=True, exp_type=\"policy_reval\")\n",
    "    agent_without_imp = LinearRL_NHB(_lambda=lambd, alpha=alpha, beta=beta, num_steps=num_steps, policy=\"softmax\", imp_samp=False, exp_type=\"policy_reval\")\n",
    "    agent_SR = SR_NHB(alpha=alpha, beta=10.0, num_steps=num_steps, policy=\"softmax\", exp_type=\"policy_reval\")\n",
    "\n",
    "    # Have the agents learn the environment\n",
    "    agent_with_imp.learn(seed=i)\n",
    "    agent_without_imp.learn(seed=i)\n",
    "    agent_SR.learn(seed=i)\n",
    "    \n",
    "    ## SR\n",
    "    # Original training policy\n",
    "    dec_train = np.argmax([agent_SR.V[1], agent_SR.V[2]])\n",
    "    choices_sr[\"train\"][dec_train] += 1\n",
    "    # Policy revaluation\n",
    "    agent_SR.update_exp()\n",
    "    agent_SR.update_V()\n",
    "    # New policy\n",
    "    dec_test = np.argmax([agent_SR.V[1], agent_SR.V[2]])\n",
    "    choices_sr[\"test\"][dec_test] += 1\n",
    "\n",
    "\n",
    "    ## With importance sampling\n",
    "    # Original training policy\n",
    "    dec_train = np.argmax([agent_with_imp.V[1], agent_with_imp.V[2]])\n",
    "    choices_with[\"train\"][dec_train] += 1\n",
    "    # Policy revaluation\n",
    "    agent_with_imp.update_exp()\n",
    "    V_new, Z_new = policy_reval(agent_with_imp)\n",
    "    # New policy\n",
    "    dec_test = np.argmax([V_new[1], V_new[2]])\n",
    "    choices_with[\"test\"][dec_test] += 1\n",
    "\n",
    "    ## Without importance sampling\n",
    "    # Original training policy\n",
    "    dec_train = np.argmax([agent_without_imp.V[1], agent_without_imp.V[2]])\n",
    "    choices_without[\"train\"][dec_train] += 1\n",
    "    # Policy revaluation\n",
    "    agent_without_imp.update_exp()\n",
    "    V_new, Z_new = policy_reval(agent_without_imp)\n",
    "    # New policy\n",
    "    dec_test = np.argmax([V_new[1], V_new[2]])\n",
    "    choices_without[\"test\"][dec_test] += 1\n"
   ]
  },
  {
   "cell_type": "code",
   "execution_count": 8,
   "metadata": {},
   "outputs": [
    {
     "name": "stdout",
     "output_type": "stream",
     "text": [
      "[  0 400]\n",
      "selected state 1: 0.755\n",
      "\n",
      "{'train': array([  1, 399]), 'test': array([182, 218])}\n",
      "selected state 1: 0.455\n"
     ]
    }
   ],
   "source": [
    "print(choices_with[\"train\"])\n",
    "print(f\"selected state 1: {choices_with['test'][0]/num_iterations}\\n\")\n",
    "print(choices_without)\n",
    "print(f\"selected state 1: {choices_without['test'][0]/num_iterations}\")"
   ]
  },
  {
   "cell_type": "markdown",
   "metadata": {},
   "source": [
    "## Action Selection Probs"
   ]
  },
  {
   "cell_type": "markdown",
   "metadata": {},
   "source": [
    "### Complete"
   ]
  },
  {
   "cell_type": "code",
   "execution_count": 9,
   "metadata": {},
   "outputs": [],
   "source": [
    "prob_policy_complete = choices_complete[\"test\"] / num_iterations\n",
    "p_comp = choices_complete[\"test\"][1] / num_iterations\n",
    "std_policy_complete = np.sqrt((p_comp * (1 - p_comp)) / num_iterations)"
   ]
  },
  {
   "cell_type": "markdown",
   "metadata": {},
   "source": [
    "### SR"
   ]
  },
  {
   "cell_type": "code",
   "execution_count": 10,
   "metadata": {},
   "outputs": [],
   "source": [
    "prob_policy_sr = choices_sr[\"test\"] / num_iterations\n",
    "p_sr = choices_sr[\"test\"][1] / num_iterations\n",
    "std_policy_sr = np.sqrt((p_sr * (1 - p_sr)) / num_iterations)"
   ]
  },
  {
   "cell_type": "markdown",
   "metadata": {},
   "source": [
    "### With Importance Sampling"
   ]
  },
  {
   "cell_type": "code",
   "execution_count": 11,
   "metadata": {},
   "outputs": [],
   "source": [
    "# save_path = save_dir + 'policy_reval_nhb_with_is.png'\n",
    "\n",
    "# prob_train = choices_with[\"train\"] / num_iterations\n",
    "# prob_test = choices_with[\"test\"] / num_iterations\n",
    "prob_policy_with = choices_with[\"test\"] / num_iterations\n",
    "\n",
    "# p_train = choices_with[\"train\"][1] / num_iterations\n",
    "p_test = choices_with[\"test\"][1] / num_iterations\n",
    "# std_train = np.sqrt((p_train * (1 - p_train)) / num_iterations)\n",
    "# std_test = np.sqrt((p_test * (1 - p_test)) / num_iterations)\n",
    "std_policy_with = np.sqrt((p_test * (1 - p_test)) / num_iterations)\n",
    "\n",
    "# plot_decision_prob(probs_train=prob_train, probs_test=prob_test, colors=colors, std=[std_train, std_test], save_path=None, title=None)"
   ]
  },
  {
   "cell_type": "markdown",
   "metadata": {},
   "source": [
    "### Without Importance Sampling"
   ]
  },
  {
   "cell_type": "code",
   "execution_count": 12,
   "metadata": {},
   "outputs": [],
   "source": [
    "# save_path = save_dir + 'policy_reval_nhb_without_is.png'\n",
    "\n",
    "# prob_train = choices_without[\"train\"] / num_iterations\n",
    "# prob_test = choices_without[\"test\"] / num_iterations\n",
    "prob_policy_without = choices_without[\"test\"] / num_iterations\n",
    "\n",
    "# p_train = choices_without[\"train\"][1] / num_iterations\n",
    "p_test = choices_without[\"test\"][1] / num_iterations\n",
    "# std_train = np.sqrt((p_train * (1 - p_train)) / num_iterations)\n",
    "# std_test = np.sqrt((p_test * (1 - p_test)) / num_iterations)\n",
    "std_policy_without = np.sqrt((p_test * (1 - p_test)) / num_iterations)\n",
    "\n",
    "# plot_decision_prob(probs_train=prob_train, probs_test=prob_test, colors=colors, std=[std_train, std_test], save_path=None, title=None)"
   ]
  },
  {
   "cell_type": "markdown",
   "metadata": {},
   "source": [
    "# Reward Revaluation"
   ]
  },
  {
   "cell_type": "markdown",
   "metadata": {},
   "source": [
    "## Run Simulations"
   ]
  },
  {
   "cell_type": "markdown",
   "metadata": {},
   "source": [
    "### Complete Model"
   ]
  },
  {
   "cell_type": "code",
   "execution_count": 13,
   "metadata": {},
   "outputs": [],
   "source": [
    "choices_complete = {\"train\":np.array([0,0]), \"test\":np.array([0,0])}\n",
    "for i in range(num_iterations):\n",
    "    # Define agent\n",
    "    agent_complete =  LinearRL_NHB(_lambda=lambd, alpha=alpha, beta=beta, num_steps=num_steps, policy=\"softmax\", imp_samp=True, exp_type=\"reward_reval\")\n",
    "    # Get optimal DR and update V and Z Values\n",
    "    D_inv = agent_complete.get_D_inv()\n",
    "    agent_complete.DR = D_inv\n",
    "    agent_complete.update_Z()\n",
    "    agent_complete.update_V()\n",
    "    dec_train = np.argmax([agent_complete.V[1], agent_complete.V[2]])\n",
    "    choices_complete[\"train\"][dec_train] += 1\n",
    "\n",
    "    # Update terminal state values\n",
    "    agent_complete.update_exp()\n",
    "    V_new, Z_new = policy_reval(agent_complete)\n",
    "    dec_test = np.argmax([V_new[1], V_new[2]])\n",
    "    choices_complete[\"test\"][dec_test] += 1"
   ]
  },
  {
   "cell_type": "markdown",
   "metadata": {},
   "source": [
    "### TD Models"
   ]
  },
  {
   "cell_type": "code",
   "execution_count": 14,
   "metadata": {},
   "outputs": [],
   "source": [
    "choices_with = {\"train\":np.array([0,0]), \"test\":np.array([0,0])}\n",
    "choices_without = {\"train\":np.array([0,0]), \"test\":np.array([0,0])}\n",
    "choices_sr = {\"train\":np.array([0,0]), \"test\":np.array([0,0])}\n",
    "\n",
    "for i in range(num_iterations):\n",
    "    # Define agents\n",
    "    agent_with_imp = LinearRL_NHB(_lambda=lambd, alpha=alpha, beta=beta, num_steps=num_steps, policy=\"softmax\", imp_samp=True, exp_type=\"reward_reval\")\n",
    "    agent_without_imp = LinearRL_NHB(_lambda=lambd, alpha=alpha, beta=beta, num_steps=num_steps, policy=\"softmax\", imp_samp=False, exp_type=\"reward_reval\")\n",
    "    agent_SR = SR_NHB(alpha=alpha, beta=10.0, num_steps=num_steps, policy=\"softmax\", exp_type=\"reward_reval\")\n",
    "\n",
    "    # Have the agents learn the environment\n",
    "    agent_with_imp.learn(seed=i)\n",
    "    agent_without_imp.learn(seed=i)\n",
    "    agent_SR.learn(seed=i)\n",
    "\n",
    "    ## SR\n",
    "    # Original training policy\n",
    "    dec_train = np.argmax([agent_SR.V[1], agent_SR.V[2]])\n",
    "    choices_sr[\"train\"][dec_train] += 1\n",
    "    # Policy revaluation\n",
    "    agent_SR.update_exp()\n",
    "    agent_SR.update_V()\n",
    "    # New policy\n",
    "    dec_test = np.argmax([agent_SR.V[1], agent_SR.V[2]])\n",
    "    choices_sr[\"test\"][dec_test] += 1\n",
    "    \n",
    "    ## With importance sampling\n",
    "    # Original training policy\n",
    "    dec_train = np.argmax([agent_with_imp.V[1], agent_with_imp.V[2]])\n",
    "    choices_with[\"train\"][dec_train] += 1\n",
    "    # Policy revaluation\n",
    "    agent_with_imp.update_exp()\n",
    "    V_new, Z_new = policy_reval(agent_with_imp)\n",
    "    # New policy\n",
    "    dec_test = np.argmax([V_new[1], V_new[2]])\n",
    "    choices_with[\"test\"][dec_test] += 1\n",
    "\n",
    "    ## Without importance sampling\n",
    "    # Original training policy\n",
    "    dec_train = np.argmax([agent_without_imp.V[1], agent_without_imp.V[2]])\n",
    "    choices_without[\"train\"][dec_train] += 1\n",
    "    # Policy revaluation\n",
    "    agent_without_imp.update_exp()\n",
    "    V_new, Z_new = policy_reval(agent_without_imp)\n",
    "    # New policy\n",
    "    dec_test = np.argmax([V_new[1], V_new[2]])\n",
    "    choices_without[\"test\"][dec_test] += 1"
   ]
  },
  {
   "cell_type": "code",
   "execution_count": 15,
   "metadata": {},
   "outputs": [
    {
     "name": "stdout",
     "output_type": "stream",
     "text": [
      "[  0 400]\n",
      "selected state 1: 0.9025\n",
      "\n",
      "{'train': array([  0, 400]), 'test': array([308,  92])}\n",
      "selected state 1: 0.77\n"
     ]
    }
   ],
   "source": [
    "print(choices_with[\"train\"])\n",
    "print(f\"selected state 1: {choices_with['test'][0]/num_iterations}\\n\")\n",
    "print(choices_without)\n",
    "print(f\"selected state 1: {choices_without['test'][0]/num_iterations}\")"
   ]
  },
  {
   "cell_type": "markdown",
   "metadata": {},
   "source": [
    "## Action Selection Probs"
   ]
  },
  {
   "cell_type": "markdown",
   "metadata": {},
   "source": [
    "### Complete"
   ]
  },
  {
   "cell_type": "code",
   "execution_count": 16,
   "metadata": {},
   "outputs": [],
   "source": [
    "prob_reward_complete = choices_complete[\"test\"] / num_iterations\n",
    "p_comp = choices_complete[\"test\"][1] / num_iterations\n",
    "std_reward_complete = np.sqrt((p_comp * (1 - p_comp)) / num_iterations)"
   ]
  },
  {
   "cell_type": "markdown",
   "metadata": {},
   "source": [
    "### SR"
   ]
  },
  {
   "cell_type": "code",
   "execution_count": 17,
   "metadata": {},
   "outputs": [],
   "source": [
    "prob_reward_sr = choices_sr[\"test\"] / num_iterations\n",
    "p_sr = choices_sr[\"test\"][1] / num_iterations\n",
    "std_reward_sr = np.sqrt((p_sr * (1 - p_sr)) / num_iterations)"
   ]
  },
  {
   "cell_type": "markdown",
   "metadata": {},
   "source": [
    "### With Importance Sampling"
   ]
  },
  {
   "cell_type": "code",
   "execution_count": 18,
   "metadata": {},
   "outputs": [],
   "source": [
    "# save_path = save_dir + 'reward_reval_nhb_with_is.png'\n",
    "\n",
    "# prob_train = choices_with[\"train\"] / num_iterations\n",
    "# prob_test = choices_with[\"test\"] / num_iterations\n",
    "prob_reward_with = choices_with[\"test\"] / num_iterations\n",
    "\n",
    "# p_train = choices_with[\"train\"][1] / num_iterations\n",
    "p_test = choices_with[\"test\"][1] / num_iterations\n",
    "# std_train = np.sqrt((p_train * (1 - p_train)) / num_iterations)\n",
    "# std_test = np.sqrt((p_test * (1 - p_test)) / num_iterations)\n",
    "std_reward_with = np.sqrt((p_test * (1 - p_test)) / num_iterations)\n",
    "\n",
    "# plot_decision_prob(probs_train=prob_train, probs_test=prob_test, colors=colors, std=[std_train, std_test], save_path=None, title=None)"
   ]
  },
  {
   "cell_type": "markdown",
   "metadata": {},
   "source": [
    "### Without Importance Sampling"
   ]
  },
  {
   "cell_type": "code",
   "execution_count": 19,
   "metadata": {},
   "outputs": [],
   "source": [
    "# save_path = save_dir + 'reward_reval_nhb_without_is.png'\n",
    "\n",
    "# prob_train = choices_without[\"train\"] / num_iterations\n",
    "# prob_test = choices_without[\"test\"] / num_iterations\n",
    "prob_reward_without = choices_without[\"test\"] / num_iterations\n",
    "\n",
    "# p_train = choices_without[\"train\"][1] / num_iterations\n",
    "p_test = choices_without[\"test\"][1] / num_iterations\n",
    "# std_train = np.sqrt((p_train * (1 - p_train)) / num_iterations)\n",
    "# std_test = np.sqrt((p_test * (1 - p_test)) / num_iterations)\n",
    "std_reward_without = np.sqrt((p_test * (1 - p_test)) / num_iterations)\n",
    "\n",
    "# plot_decision_prob(probs_train=prob_train, probs_test=prob_test, colors=colors, std=[std_train, std_test], save_path=None, title=None)"
   ]
  },
  {
   "cell_type": "markdown",
   "metadata": {},
   "source": [
    "# Transition Revaluation"
   ]
  },
  {
   "cell_type": "markdown",
   "metadata": {},
   "source": [
    "## Run Simulations"
   ]
  },
  {
   "cell_type": "code",
   "execution_count": 20,
   "metadata": {},
   "outputs": [
    {
     "name": "stderr",
     "output_type": "stream",
     "text": [
      "/Users/abizzle/Research/LinearRL-TD/src/models.py:350: RuntimeWarning: invalid value encountered in log\n",
      "  self.V = np.round(np.log(self.Z), 2)\n"
     ]
    }
   ],
   "source": [
    "choices_with = {\"train\":np.array([0,0]), \"test\":np.array([0,0])}\n",
    "choices_without = {\"train\":np.array([0,0]), \"test\":np.array([0,0])}\n",
    "\n",
    "for i in range(num_iterations):\n",
    "    # Define agents\n",
    "    agent_with_imp = LinearRL_NHB(_lambda=lambd, alpha=alpha, beta=beta, num_steps=num_steps, policy=\"softmax\", imp_samp=True, exp_type=\"trans_reval\")\n",
    "    agent_without_imp = LinearRL_NHB(_lambda=lambd, alpha=alpha, beta=beta, num_steps=num_steps, policy=\"softmax\", imp_samp=False, exp_type=\"trans_reval\")\n",
    "\n",
    "    # Have the agents learn the environment\n",
    "    agent_with_imp.learn(seed=i)\n",
    "    agent_without_imp.learn(seed=i)\n",
    "\n",
    "    ## With importance sampling\n",
    "    # Original training policy\n",
    "    dec_train = np.argmax([agent_with_imp.V[1], agent_with_imp.V[2]])\n",
    "    choices_with[\"train\"][dec_train] += 1\n",
    "\n",
    "    # Transition revaluation\n",
    "    T_new = agent_with_imp.construct_T_new()\n",
    "    D_new = woodbury(agent=agent_with_imp, T=T_new, inv=False)\n",
    "    agent_with_imp.DR = D_new\n",
    "    agent_with_imp.update_Z()\n",
    "    agent_with_imp.update_V()\n",
    "    V_new = agent_with_imp.V\n",
    "\n",
    "    # New policy\n",
    "    dec_test = np.argmax([V_new[1], V_new[2]])\n",
    "    choices_with[\"test\"][dec_test] += 1\n",
    "\n",
    "    ## Without importance sampling\n",
    "    # Original training task\n",
    "    dec_train = np.argmax([agent_without_imp.V[1], agent_without_imp.V[2]])\n",
    "    choices_without[\"train\"][dec_train] += 1\n",
    "\n",
    "    # Transition revaluation\n",
    "    T_new = agent_without_imp.construct_T_new()\n",
    "    D_new = woodbury(agent=agent_without_imp, T=T_new, inv=False)\n",
    "    agent_without_imp.DR = D_new\n",
    "    agent_without_imp.update_Z()\n",
    "    agent_without_imp.update_V()\n",
    "    V_new = agent_without_imp.V\n",
    "\n",
    "    # New policy\n",
    "    dec_test = np.argmax([V_new[1], V_new[2]])\n",
    "    choices_without[\"test\"][dec_test] += 1"
   ]
  },
  {
   "cell_type": "code",
   "execution_count": 21,
   "metadata": {},
   "outputs": [
    {
     "name": "stdout",
     "output_type": "stream",
     "text": [
      "[  0 400]\n",
      "selected state 1: 0.7625\n",
      "\n",
      "{'train': array([  0, 400]), 'test': array([110, 290])}\n",
      "selected state 1: 0.275\n"
     ]
    }
   ],
   "source": [
    "print(choices_with[\"train\"])\n",
    "print(f\"selected state 1: {choices_with['test'][0]/num_iterations}\\n\")\n",
    "print(choices_without)\n",
    "print(f\"selected state 1: {choices_without['test'][0]/num_iterations}\")"
   ]
  },
  {
   "cell_type": "markdown",
   "metadata": {},
   "source": [
    "## Plots"
   ]
  },
  {
   "cell_type": "markdown",
   "metadata": {},
   "source": [
    "### With Importance Sampling"
   ]
  },
  {
   "cell_type": "code",
   "execution_count": 22,
   "metadata": {},
   "outputs": [],
   "source": [
    "# save_path = save_dir + 'transition_reval_nhb_with_is.png'\n",
    "\n",
    "# prob_train = choices_with[\"train\"] / num_iterations\n",
    "# prob_test = choices_with[\"test\"] / num_iterations\n",
    "prob_transition_with = choices_with[\"test\"] / num_iterations\n",
    "\n",
    "# p_train = choices_with[\"train\"][1] / num_iterations\n",
    "p_test = choices_with[\"test\"][1] / num_iterations\n",
    "# std_train = np.sqrt((p_train * (1 - p_train)) / num_iterations)\n",
    "# std_test = np.sqrt((p_test * (1 - p_test)) / num_iterations)\n",
    "std_transition_with = np.sqrt((p_test * (1 - p_test)) / num_iterations)\n",
    "\n",
    "# plot_decision_prob(probs_train=prob_train, probs_test=prob_test, colors=colors, std=[std_train, std_test], save_path=None, title=None)"
   ]
  },
  {
   "cell_type": "markdown",
   "metadata": {},
   "source": [
    "### Without Importance Sampling"
   ]
  },
  {
   "cell_type": "code",
   "execution_count": 23,
   "metadata": {},
   "outputs": [],
   "source": [
    "# save_path = save_dir + 'transition_reval_nhb_without_is.png'\n",
    "\n",
    "# prob_train = choices_without[\"train\"] / num_iterations\n",
    "# prob_test = choices_without[\"test\"] / num_iterations\n",
    "prob_transition_without = choices_without[\"test\"] / num_iterations\n",
    "\n",
    "# p_train = choices_without[\"train\"][1] / num_iterations\n",
    "p_test = choices_without[\"test\"][1] / num_iterations\n",
    "# std_train = np.sqrt((p_train * (1 - p_train)) / num_iterations)\n",
    "# std_test = np.sqrt((p_test * (1 - p_test)) / num_iterations)\n",
    "std_transition_without = np.sqrt((p_test * (1 - p_test)) / num_iterations)\n",
    "\n",
    "# plot_decision_prob(probs_train=prob_train, probs_test=prob_test, colors=colors, std=[std_train, std_test], save_path=None, title=None)"
   ]
  },
  {
   "cell_type": "markdown",
   "metadata": {},
   "source": [
    "# Plot Simulation Results"
   ]
  },
  {
   "cell_type": "markdown",
   "metadata": {},
   "source": [
    "## With Importance Sampling"
   ]
  },
  {
   "cell_type": "code",
   "execution_count": 24,
   "metadata": {},
   "outputs": [],
   "source": [
    "# save_path = save_dir + \"nhb_simulations_with.png\"\n",
    "save_path = None\n",
    "\n",
    "# plot_nhb_decisions(\n",
    "#     probs_reward=prob_reward_with,\n",
    "#     probs_policy=prob_policy_with,\n",
    "#     probs_transition=prob_transition_with,\n",
    "#     colors=colors,\n",
    "#     leg_loc='upper right',\n",
    "#     save_path=save_path,\n",
    "#     title='With Importance Sampling',\n",
    "#     std=[std_reward_with, std_policy_with, std_transition_with]\n",
    "# )"
   ]
  },
  {
   "cell_type": "markdown",
   "metadata": {},
   "source": [
    "## Without Importance Sampling"
   ]
  },
  {
   "cell_type": "code",
   "execution_count": 25,
   "metadata": {},
   "outputs": [],
   "source": [
    "# save_path = save_dir + \"nhb_simulations_without.png\"\n",
    "save_path = None\n",
    "\n",
    "# plot_nhb_decisions(\n",
    "#     probs_reward=prob_reward_without,\n",
    "#     probs_policy=prob_policy_without,\n",
    "#     probs_transition=prob_transition_without,\n",
    "#     colors=colors,\n",
    "#     leg_loc='upper right',\n",
    "#     save_path=save_path,\n",
    "#     title='Without Importance Sampling',\n",
    "#     std=[std_reward_without, std_policy_without, std_transition_without]\n",
    "# )"
   ]
  },
  {
   "cell_type": "markdown",
   "metadata": {},
   "source": [
    "# Plot NHB values against ours"
   ]
  },
  {
   "cell_type": "code",
   "execution_count": 48,
   "metadata": {},
   "outputs": [],
   "source": [
    "def create_bar_plot(means, colors, ylabel, xlabels, std=None, title=None, save_path=None):\n",
    "    color_palette = sns.color_palette(\"colorblind\")\n",
    "    color_list = []\n",
    "    for color in colors:\n",
    "        color_list.append(color_palette[color])\n",
    "\n",
    "    # Set the style and font\n",
    "    plt.rcParams['font.family'] = 'serif'\n",
    "    \n",
    "    # Create the plot\n",
    "    fig, ax = plt.subplots(figsize=(6, 7))\n",
    "    x = np.arange(len(means)) * 0.25\n",
    "    \n",
    "    # Plot the bars with black edge color\n",
    "    bars = ax.bar(x, means, color=color_list, edgecolor='black', linewidth=1, width=0.15)\n",
    "    \n",
    "    # Add error bars if std is provided\n",
    "    if std is not None:\n",
    "        ax.errorbar(x, means, yerr=std, fmt='none', color='black', capsize=0)\n",
    "    \n",
    "    # Customize the plot\n",
    "    ax.set_ylabel(ylabel, fontsize=18)\n",
    "    ax.set_title(title, fontsize=20) if title else None\n",
    "    ax.set_xticks(x)\n",
    "    ax.set_xticklabels(xlabels, rotation=0, ha='center', fontsize=18)\n",
    "    \n",
    "    # Set y-axis limits and ticks\n",
    "    ax.set_ylim(0, 1.1)\n",
    "    ax.set_yticks(np.arange(0, 1.01, 0.2))\n",
    "    \n",
    "    # Add black border to all spines\n",
    "    for spine in ['left', 'right', 'bottom', 'top']:\n",
    "        ax.spines[spine].set_color('black')\n",
    "        ax.spines[spine].set_linewidth(1)\n",
    "    \n",
    "    # Remove grid\n",
    "    ax.grid(False)\n",
    "    \n",
    "    # Set background color to white\n",
    "    ax.set_facecolor('white')\n",
    "    fig.patch.set_facecolor('white')\n",
    "    \n",
    "    # Adjust layout\n",
    "    plt.tight_layout()\n",
    "    \n",
    "    # Save the plot if a save path is provided\n",
    "    if save_path:\n",
    "        plt.savefig(save_path, dpi=300, bbox_inches='tight')\n",
    "    \n",
    "    # Show the plot\n",
    "    plt.show()"
   ]
  },
  {
   "cell_type": "markdown",
   "metadata": {},
   "source": [
    "## NHB reconstruction"
   ]
  },
  {
   "cell_type": "code",
   "execution_count": 49,
   "metadata": {},
   "outputs": [
    {
     "data": {
      "image/png": "[encoded data removed]",
      "text/plain": [
       "<Figure size 600x700 with 1 Axes>"
      ]
     },
     "metadata": {},
     "output_type": "display_data"
    }
   ],
   "source": [
    "# save_path = save_dir + \"NHB_data.png\"\n",
    "save_path = None\n",
    "nhb_means = [0.66, 0.47]\n",
    "nhb_stds = [0.05, 0.05]\n",
    "xlabels = ['Reward\\nrevaluation', 'Policy\\nrevaluation']\n",
    "colors = [1, 9]\n",
    "ylabel = 'Proportion of participants\\nwho changed preference'\n",
    "\n",
    "# Call the function\n",
    "create_bar_plot(nhb_means, colors, ylabel, xlabels, std=nhb_stds, save_path=save_path, title=\"Data\")"
   ]
  },
  {
   "cell_type": "markdown",
   "metadata": {},
   "source": [
    "## With Importance Sampling"
   ]
  },
  {
   "cell_type": "code",
   "execution_count": 50,
   "metadata": {},
   "outputs": [
    {
     "data": {
      "text/plain": [
       "0.014831870246196196"
      ]
     },
     "execution_count": 50,
     "metadata": {},
     "output_type": "execute_result"
    }
   ],
   "source": [
    "std_reward_with"
   ]
  },
  {
   "cell_type": "code",
   "execution_count": 54,
   "metadata": {},
   "outputs": [
    {
     "data": {
      "image/png": "[encoded data removed]",
      "text/plain": [
       "<Figure size 600x700 with 1 Axes>"
      ]
     },
     "metadata": {},
     "output_type": "display_data"
    }
   ],
   "source": [
    "# save_path = save_dir + \"NHB_with_imp.png\"\n",
    "save_path = None\n",
    "means = [prob_reward_with[0], prob_policy_with[0]]\n",
    "stds = [std_reward_with, std_policy_with]\n",
    "xlabels = ['Reward\\nrevaluation', 'Policy\\nrevaluation']\n",
    "colors = [1, 9]\n",
    "ylabel = 'Probability'\n",
    "\n",
    "# Call the function\n",
    "create_bar_plot(means, colors, ylabel, xlabels, std=stds, save_path=save_path, title=\"Importance Sampling\")"
   ]
  },
  {
   "cell_type": "markdown",
   "metadata": {},
   "source": [
    "## SR"
   ]
  },
  {
   "cell_type": "code",
   "execution_count": 55,
   "metadata": {},
   "outputs": [
    {
     "data": {
      "image/png": "[encoded data removed]",
      "text/plain": [
       "<Figure size 600x700 with 1 Axes>"
      ]
     },
     "metadata": {},
     "output_type": "display_data"
    }
   ],
   "source": [
    "# save_path = save_dir + \"NHB_SR.png\"\n",
    "save_path = None\n",
    "means = [prob_reward_sr[0], prob_policy_sr[0]]\n",
    "stds = [std_reward_sr, std_policy_sr]\n",
    "xlabels = ['Reward\\nrevaluation', 'Policy\\nrevaluation']\n",
    "colors = [1, 9]\n",
    "ylabel = 'Probability'\n",
    "\n",
    "# Call the function\n",
    "create_bar_plot(means, colors, ylabel, xlabels, std=stds, save_path=save_path, title=\"SR\")"
   ]
  },
  {
   "cell_type": "markdown",
   "metadata": {},
   "source": [
    "## Complete Model"
   ]
  },
  {
   "cell_type": "code",
   "execution_count": 56,
   "metadata": {},
   "outputs": [
    {
     "data": {
      "image/png": "[encoded data removed]",
      "text/plain": [
       "<Figure size 600x700 with 1 Axes>"
      ]
     },
     "metadata": {},
     "output_type": "display_data"
    }
   ],
   "source": [
    "# save_path = save_dir + \"NHB_Complete.png\"\n",
    "save_path = None\n",
    "means = [prob_reward_complete[0], prob_policy_complete[0]]\n",
    "stds = [std_reward_complete, std_policy_complete]\n",
    "xlabels = ['Reward\\nrevaluation', 'Policy\\nrevaluation']\n",
    "colors = [1, 9]\n",
    "ylabel = 'Probability'\n",
    "\n",
    "# Call the function\n",
    "create_bar_plot(means, colors, ylabel, xlabels, std=stds, save_path=save_path, title=\"Complete\")"
   ]
  },
  {
   "cell_type": "code",
   "execution_count": null,
   "metadata": {},
   "outputs": [],
   "source": []
  }
 ],
 "metadata": {
  "kernelspec": {
   "display_name": "gym",
   "language": "python",
   "name": "python3"
  },
  "language_info": {
   "codemirror_mode": {
    "name": "ipython",
    "version": 3
   },
   "file_extension": ".py",
   "mimetype": "text/x-python",
   "name": "python",
   "nbconvert_exporter": "python",
   "pygments_lexer": "ipython3",
   "version": "3.10.0"
  }
 },
 "nbformat": 4,
 "nbformat_minor": 2
}
