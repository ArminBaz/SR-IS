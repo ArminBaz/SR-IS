{
 "cells": [
  {
   "cell_type": "code",
   "execution_count": 1,
   "metadata": {},
   "outputs": [],
   "source": [
    "import os\n",
    "\n",
    "import numpy as np\n",
    "from scipy.stats import sem\n",
    "import importlib\n",
    "import gymnasium as gym\n",
    "import seaborn as sns\n",
    "import matplotlib.pyplot as plt\n",
    "from matplotlib import patches\n",
    "import matplotlib.animation as manimation\n",
    "\n",
    "import gym_env\n",
    "from models import SR_IS_NHB, SR_NHB\n",
    "from utils import policy_reval, woodbury\n",
    "from utils_render import create_bar_plot"
   ]
  },
  {
   "cell_type": "code",
   "execution_count": 2,
   "metadata": {},
   "outputs": [],
   "source": [
    "# Save dir\n",
    "save_dir = os.path.join('..', 'figures/')"
   ]
  },
  {
   "cell_type": "code",
   "execution_count": 3,
   "metadata": {},
   "outputs": [],
   "source": [
    "# For plotting\n",
    "prob_locs = [1, 2]\n",
    "colors = [3, 2]"
   ]
  },
  {
   "cell_type": "code",
   "execution_count": 4,
   "metadata": {},
   "outputs": [],
   "source": [
    "## Hyperparameters for direct NHB comparison\n",
    "set_val = 5\n",
    "lr = 0.05\n",
    "lambd = set_val\n",
    "lambd_test = set_val\n",
    "alpha = lr\n",
    "alpha_SR = lr\n",
    "beta_SR_IS = set_val\n",
    "beta_SR = set_val\n",
    "temp_SR_IS = set_val\n",
    "temp_SR = set_val\n",
    "num_steps = 250\n",
    "num_iterations = 800"
   ]
  },
  {
   "cell_type": "code",
   "execution_count": 5,
   "metadata": {},
   "outputs": [],
   "source": [
    "def softmax(logits, temp=1.0):\n",
    "    \"\"\"softmax function for action selection\"\"\"\n",
    "    exp_logits = np.exp(logits / temp - np.max(logits / temp))\n",
    "    return exp_logits / np.sum(exp_logits)"
   ]
  },
  {
   "cell_type": "markdown",
   "metadata": {},
   "source": [
    "# Policy Revaluation"
   ]
  },
  {
   "cell_type": "markdown",
   "metadata": {},
   "source": [
    "## Run Simulations"
   ]
  },
  {
   "cell_type": "markdown",
   "metadata": {},
   "source": [
    "### Complete Model"
   ]
  },
  {
   "cell_type": "code",
   "execution_count": 6,
   "metadata": {},
   "outputs": [],
   "source": [
    "probs_complete = []\n",
    "num_switch_complete = []\n",
    "number = 0\n",
    "\n",
    "for i in range(num_iterations):\n",
    "    np.random.seed(i)\n",
    "    # Define agent\n",
    "    agent_complete =  SR_IS_NHB(_lambda=lambd, alpha=alpha, beta=beta_SR_IS, policy=\"softmax\", imp_samp=True, exp_type=\"policy_reval\")\n",
    "    # Get optimal DR and update V and Z Values\n",
    "    D_inv = agent_complete.get_D_inv()\n",
    "    agent_complete.DR = D_inv\n",
    "    agent_complete.update_Z()\n",
    "    agent_complete.update_V()\n",
    "    probs = softmax(logits=np.array([agent_complete.V[1], agent_complete.V[2]]), temp=temp_SR_IS) \n",
    "    dec_train = np.random.choice(len(probs), p=probs)\n",
    "\n",
    "    # Update terminal state values\n",
    "    agent_complete.update_exp()\n",
    "    V_new, Z_new = policy_reval(agent_complete)\n",
    "\n",
    "    # Softmax decision at test\n",
    "    probs = softmax(logits=np.array([V_new[1], V_new[2]]), temp=temp_SR_IS)\n",
    "    probs_complete.append(probs[0])\n",
    "    dec_test = np.random.choice(len(probs), p=probs)\n",
    "\n",
    "    if dec_train == 1:\n",
    "        if dec_test == 0:\n",
    "            num_switch_complete.append(1)\n",
    "        else:\n",
    "            num_switch_complete.append(0)"
   ]
  },
  {
   "cell_type": "markdown",
   "metadata": {},
   "source": [
    "### TD Models"
   ]
  },
  {
   "cell_type": "code",
   "execution_count": 7,
   "metadata": {},
   "outputs": [],
   "source": [
    "probs_sr, probs_sr_is = [], []\n",
    "num_switch_sr, num_switch_sr_is = [],[]\n",
    "\n",
    "for i in range(num_iterations):\n",
    "    np.random.seed(i)\n",
    "    # Define agents\n",
    "    agent_SR_IS = SR_IS_NHB(_lambda=lambd, alpha=alpha, beta=beta_SR_IS, num_steps=num_steps, policy=\"softmax\", imp_samp=True, exp_type=\"policy_reval\")\n",
    "    agent_SR = SR_NHB(alpha=alpha, beta=beta_SR, num_steps=num_steps, policy=\"softmax\", exp_type=\"policy_reval\")\n",
    "\n",
    "    # Learn similarly to NHB\n",
    "    agent_SR_IS.learn_with_start_locs(seed=i)\n",
    "    agent_SR.learn_with_start_locs(seed=i)\n",
    "\n",
    "    ##  SR  ##\n",
    "    # Original training policy\n",
    "    probs = softmax(logits=np.array([agent_SR.V[1], agent_SR.V[2]]), temp=temp_SR)\n",
    "    dec_train = np.random.choice(len(probs), p=probs)\n",
    "    # Policy revaluation\n",
    "    agent_SR.update_exp()\n",
    "    agent_SR.update_V()\n",
    "    # Softmax decision at test\n",
    "    probs = softmax(logits=np.array([agent_SR.V[1], agent_SR.V[2]]), temp=temp_SR)\n",
    "    probs_sr.append(probs[0])\n",
    "    dec_test = np.random.choice(len(probs), p=probs)\n",
    "    if dec_train == 1:\n",
    "        if dec_test == 0:\n",
    "            num_switch_sr.append(1)\n",
    "        else:\n",
    "            num_switch_sr.append(0)\n",
    "\n",
    "    ##  SR-IS  ##\n",
    "    # Original training policy\n",
    "    probs = softmax(logits=np.array([agent_SR_IS.V[1], agent_SR_IS.V[2]]), temp=temp_SR_IS)\n",
    "    dec_train = np.random.choice(len(probs), p=probs)\n",
    "    # Policy revaluation\n",
    "    agent_SR_IS.update_exp()\n",
    "    # Change lambda to 1 at test\n",
    "    agent_SR_IS._lambda = lambd_test\n",
    "    V_new, Z_new = policy_reval(agent_SR_IS)\n",
    "    # Softmax decision at test\n",
    "    probs = softmax(logits=np.array([V_new[1], V_new[2]]), temp=temp_SR_IS)\n",
    "    probs_sr_is.append(probs[0])\n",
    "    dec_test = np.random.choice(len(probs), p=probs)\n",
    "    if dec_train == 1:\n",
    "        if dec_test == 0:\n",
    "            num_switch_sr_is.append(1)\n",
    "        else:\n",
    "            num_switch_sr_is.append(0)"
   ]
  },
  {
   "cell_type": "markdown",
   "metadata": {},
   "source": [
    "## Action Selection Probs"
   ]
  },
  {
   "cell_type": "code",
   "execution_count": 8,
   "metadata": {},
   "outputs": [
    {
     "name": "stdout",
     "output_type": "stream",
     "text": [
      "Complete:  0.9526938239159002  SR:  0.1906158357771261  SR-IS:  0.7779237844940867\n"
     ]
    }
   ],
   "source": [
    "num_complete = np.array(num_switch_complete)\n",
    "num_sr = np.array(num_switch_sr)\n",
    "num_sr_is = np.array(num_switch_sr_is)\n",
    "\n",
    "# mean_policy_complete = np.mean(num_complete)\n",
    "# mean_policy_sr = np.mean(num_sr)\n",
    "# mean_policy_sr_is = np.mean(num_sr_is)\n",
    "\n",
    "print(\"Complete: \",np.mean(num_complete), \" SR: \", np.mean(num_sr), \" SR-IS: \", np.mean(num_sr_is))"
   ]
  },
  {
   "cell_type": "code",
   "execution_count": 9,
   "metadata": {},
   "outputs": [
    {
     "name": "stdout",
     "output_type": "stream",
     "text": [
      "Complete:  (0.9504469405235371, 7.8553734370293e-18)  SR:  (0.17329077185161368, 0.002914919860800514)  SR-IS:  (0.7802160708767957, 0.008112041009767498)\n"
     ]
    }
   ],
   "source": [
    "probs_complete = np.array(probs_complete)\n",
    "probs_sr = np.array(probs_sr)\n",
    "probs_sr_is = np.array(probs_sr_is)\n",
    "\n",
    "mean_policy_complete = np.mean(probs_complete)\n",
    "mean_policy_sr = np.mean(probs_sr)\n",
    "mean_policy_sr_is = np.mean(probs_sr_is)\n",
    "\n",
    "sem_policy_complete = sem(probs_complete)\n",
    "sem_policy_sr = sem(probs_sr)\n",
    "sem_policy_sr_is = sem(probs_sr_is)\n",
    "\n",
    "print(\"Complete: \", (mean_policy_complete, sem_policy_complete), \n",
    "      \" SR: \", (mean_policy_sr, sem_policy_sr), \n",
    "      \" SR-IS: \", (mean_policy_sr_is, sem_policy_sr_is))"
   ]
  },
  {
   "cell_type": "markdown",
   "metadata": {},
   "source": [
    "# Reward Revaluation"
   ]
  },
  {
   "cell_type": "markdown",
   "metadata": {},
   "source": [
    "## Run Simulations"
   ]
  },
  {
   "cell_type": "markdown",
   "metadata": {},
   "source": [
    "### Complete Model"
   ]
  },
  {
   "cell_type": "code",
   "execution_count": 10,
   "metadata": {},
   "outputs": [],
   "source": [
    "probs_complete = []\n",
    "num_switch_complete = []\n",
    "\n",
    "for i in range(num_iterations):\n",
    "    np.random.seed(i)\n",
    "    # Define agent\n",
    "    agent_complete =  SR_IS_NHB(_lambda=lambd, alpha=alpha, beta=beta_SR_IS, policy=\"softmax\", imp_samp=True, exp_type=\"reward_reval\")\n",
    "    # Get optimal DR and update V and Z Values\n",
    "    D_inv = agent_complete.get_D_inv()\n",
    "    agent_complete.DR = D_inv\n",
    "    agent_complete.update_Z()\n",
    "    agent_complete.update_V()\n",
    "    probs = softmax(logits=np.array([agent_complete.V[1], agent_complete.V[2]]), temp=temp_SR_IS) \n",
    "    dec_train = np.random.choice(len(probs), p=probs)\n",
    "\n",
    "\n",
    "    # Update terminal state values\n",
    "    agent_complete.update_exp()\n",
    "    V_new, Z_new = policy_reval(agent_complete)\n",
    "    \n",
    "    # Softmax decision at test\n",
    "    probs = softmax(logits=np.array([V_new[1], V_new[2]]), temp=temp_SR_IS)\n",
    "    probs_complete.append(probs[0])\n",
    "    dec_test = np.random.choice(len(probs), p=probs)   # Softmax action selection\n",
    "\n",
    "    if dec_train == 1:\n",
    "        if dec_test == 0:\n",
    "            num_switch_complete.append(1)\n",
    "        else:\n",
    "            num_switch_complete.append(0)"
   ]
  },
  {
   "cell_type": "markdown",
   "metadata": {},
   "source": [
    "### TD Models"
   ]
  },
  {
   "cell_type": "code",
   "execution_count": 11,
   "metadata": {},
   "outputs": [],
   "source": [
    "probs_sr, probs_sr_is = [], []\n",
    "num_switch_sr, num_switch_sr_is = [], []\n",
    "\n",
    "for i in range(num_iterations):\n",
    "    np.random.seed(i)\n",
    "    # Define agents\n",
    "    agent_SR_IS = SR_IS_NHB(_lambda=lambd, alpha=alpha, beta=beta_SR_IS, num_steps=num_steps, policy=\"softmax\", imp_samp=True, exp_type=\"reward_reval\")\n",
    "    agent_SR = SR_NHB(alpha=alpha, beta=beta_SR, num_steps=num_steps, policy=\"softmax\", exp_type=\"reward_reval\")\n",
    "\n",
    "    # Learn similar to NHB\n",
    "    agent_SR_IS.learn_with_start_locs(seed=i)\n",
    "    agent_SR.learn_with_start_locs(seed=i)\n",
    "\n",
    "    ##  SR  ##\n",
    "    # Original training policy\n",
    "    probs = softmax(logits=np.array([agent_SR.V[1], agent_SR.V[2]]), temp=temp_SR)\n",
    "    dec_train = np.random.choice(len(probs), p=probs)\n",
    "    # Policy revaluation\n",
    "    agent_SR.update_exp()\n",
    "    agent_SR.update_V()\n",
    "    # Softmax decision at test\n",
    "    probs = softmax(logits=np.array([agent_SR.V[1], agent_SR.V[2]]), temp=temp_SR)\n",
    "    probs_sr.append(probs[0])\n",
    "    dec_test = np.random.choice(len(probs), p=probs)\n",
    "\n",
    "    if dec_train == 1:\n",
    "        if dec_test == 0:\n",
    "            num_switch_sr.append(1)\n",
    "        else:\n",
    "            num_switch_sr.append(0)\n",
    "    \n",
    "    ##  SR-IS  ##\n",
    "    # Original training policy\n",
    "    probs = softmax(logits=np.array([agent_SR_IS.V[1], agent_SR_IS.V[2]]), temp=temp_SR_IS)\n",
    "    dec_train = np.random.choice(len(probs), p=probs)\n",
    "    # Policy revaluation\n",
    "    agent_SR_IS.update_exp()\n",
    "    V_new, Z_new = policy_reval(agent_SR_IS)\n",
    "    # Softmax decision at test\n",
    "    probs = softmax(logits=np.array([V_new[1], V_new[2]]), temp=temp_SR_IS)\n",
    "    probs_sr_is.append(probs[0])\n",
    "    dec_test = np.random.choice(len(probs), p=probs)\n",
    "\n",
    "    if dec_train == 1:\n",
    "        if dec_test == 0:\n",
    "            num_switch_sr_is.append(1)\n",
    "        else:\n",
    "            num_switch_sr_is.append(0)"
   ]
  },
  {
   "cell_type": "markdown",
   "metadata": {},
   "source": [
    "## Action Selection Probs"
   ]
  },
  {
   "cell_type": "code",
   "execution_count": 12,
   "metadata": {},
   "outputs": [
    {
     "name": "stdout",
     "output_type": "stream",
     "text": [
      "Complete: 0.9537648612945839 SR: 0.6031746031746031 SR-IS: 0.8839050131926122\n"
     ]
    }
   ],
   "source": [
    "num_complete = np.array(num_switch_complete)\n",
    "num_sr = np.array(num_switch_sr)\n",
    "num_sr_is = np.array(num_switch_sr_is)\n",
    "\n",
    "# mean_reward_complete = np.mean(num_complete)\n",
    "# mean_reward_sr = np.mean(num_sr)\n",
    "# mean_reward_sr_is = np.mean(num_sr_is)\n",
    "\n",
    "print(f\"Complete: {np.mean(num_complete)} SR: {np.mean(num_sr)} SR-IS: {np.mean(num_sr_is)}\")"
   ]
  },
  {
   "cell_type": "code",
   "execution_count": 13,
   "metadata": {},
   "outputs": [
    {
     "name": "stdout",
     "output_type": "stream",
     "text": [
      "Complete:  (0.9524677453332921, 7.8553734370293e-18)  SR:  (0.5773181226679778, 0.006436059927394807)  SR-IS:  (0.8807958169926985, 0.0012011055137998142)\n"
     ]
    }
   ],
   "source": [
    "probs_complete = np.array(probs_complete)\n",
    "probs_sr = np.array(probs_sr)\n",
    "probs_sr_is = np.array(probs_sr_is)\n",
    "\n",
    "mean_reward_complete = np.mean(probs_complete)\n",
    "mean_reward_sr = np.mean(probs_sr)\n",
    "mean_reward_sr_is = np.mean(probs_sr_is)\n",
    "\n",
    "sem_reward_complete = sem(probs_complete)\n",
    "sem_reward_sr = sem(probs_sr)\n",
    "sem_reward_sr_is = sem(probs_sr_is)\n",
    "\n",
    "print(\"Complete: \", (mean_reward_complete, sem_reward_complete), \n",
    "      \" SR: \", (mean_reward_sr, sem_reward_sr), \n",
    "      \" SR-IS: \", (mean_reward_sr_is, sem_reward_sr_is))"
   ]
  },
  {
   "cell_type": "markdown",
   "metadata": {},
   "source": [
    "# Transition Revaluation"
   ]
  },
  {
   "cell_type": "markdown",
   "metadata": {},
   "source": [
    "## Run Simulations"
   ]
  },
  {
   "cell_type": "markdown",
   "metadata": {},
   "source": [
    "### Complete Model"
   ]
  },
  {
   "cell_type": "code",
   "execution_count": 14,
   "metadata": {},
   "outputs": [],
   "source": [
    "probs_complete = []\n",
    "num_switch_complete = []\n",
    "\n",
    "for i in range(num_iterations):\n",
    "    np.random.seed(i)\n",
    "    # Define agent\n",
    "    agent_complete =  SR_IS_NHB(_lambda=lambd, alpha=alpha, beta=beta_SR_IS, policy=\"softmax\", imp_samp=True, exp_type=\"trans_reval\")\n",
    "    # Get optimal DR and update V and Z Values\n",
    "    D_inv = agent_complete.get_D_inv()\n",
    "    agent_complete.DR = D_inv\n",
    "    agent_complete.update_Z()\n",
    "    agent_complete.update_V()\n",
    "    probs = softmax(logits=np.array([agent_complete.V[1], agent_complete.V[2]]), temp=temp_SR_IS) \n",
    "    dec_train = np.random.choice(len(probs), p=probs)\n",
    "\n",
    "    # Update terminal state values\n",
    "    T_new = agent_complete.construct_T_new()\n",
    "    D_new = woodbury(agent=agent_complete, T=T_new, inv=False)\n",
    "    agent_complete.DR = D_new\n",
    "    agent_complete.update_Z()\n",
    "    agent_complete.update_V()\n",
    "    V_new = agent_complete.V\n",
    "\n",
    "    # Softmax decision at test\n",
    "    probs = softmax(logits=np.array([V_new[1], V_new[2]]), temp=temp_SR_IS)\n",
    "    probs_complete.append(probs[0])\n",
    "    dec_test = np.random.choice(len(probs), p=probs)\n",
    "\n",
    "    if dec_train == 1:\n",
    "        if dec_test == 0:\n",
    "            num_switch_complete.append(1)\n",
    "        else:\n",
    "            num_switch_complete.append(0)"
   ]
  },
  {
   "cell_type": "markdown",
   "metadata": {},
   "source": [
    "### TD Models"
   ]
  },
  {
   "cell_type": "code",
   "execution_count": 15,
   "metadata": {},
   "outputs": [],
   "source": [
    "probs_sr, probs_sr_is = [], []\n",
    "num_switch_sr, num_switch_sr_is = [], []\n",
    "\n",
    "for i in range(num_iterations):\n",
    "    np.random.seed(i)\n",
    "    # Define agents\n",
    "    agent_SR_IS = SR_IS_NHB(_lambda=lambd, alpha=alpha, beta=beta_SR_IS, num_steps=num_steps, policy=\"softmax\", imp_samp=True, exp_type=\"trans_reval\")\n",
    "    agent_SR = SR_NHB(alpha=alpha, beta=beta_SR, num_steps=num_steps, policy=\"softmax\", exp_type=\"reward_reval\")\n",
    "\n",
    "    # Learn similar to NHB\n",
    "    agent_SR_IS.learn_with_start_locs(seed=i)\n",
    "    agent_SR.learn_with_start_locs(seed=i)\n",
    "\n",
    "    ##  SR  ##\n",
    "    probs = softmax(logits=np.array([agent_SR.V[1], agent_SR.V[2]]), temp=temp_SR)\n",
    "    dec_train = np.random.choice(len(probs), p=probs)\n",
    "\n",
    "    # Transition revaluation\n",
    "    agent_SR.learn_trans_reval()\n",
    "\n",
    "    # Softmax decision at test\n",
    "    probs = softmax(logits=np.array([agent_SR.V[1], agent_SR.V[2]]), temp=temp_SR)\n",
    "    probs_sr.append(probs[0])\n",
    "    dec_test = np.random.choice(len(probs), p=probs)\n",
    "\n",
    "    if dec_train == 1:\n",
    "        if dec_test == 0:\n",
    "            num_switch_sr.append(1)\n",
    "        else:\n",
    "            num_switch_sr.append(0)\n",
    "\n",
    "\n",
    "    ##  SR-IS  ##\n",
    "    probs = softmax(logits=np.array([agent_SR_IS.V[1], agent_SR_IS.V[2]]), temp=temp_SR_IS)\n",
    "    dec_train = np.random.choice(len(probs), p=probs)\n",
    "\n",
    "    # Transition revaluation\n",
    "    T_new = agent_SR_IS.construct_T_new()\n",
    "    D_new = woodbury(agent=agent_SR_IS, T=T_new, inv=False)\n",
    "    D_new += np.abs(np.min(D_new)) + 0.001\n",
    "    agent_SR_IS.DR = D_new\n",
    "    agent_SR_IS.update_Z()\n",
    "    agent_SR_IS.Z += (np.abs(np.min(agent_SR_IS.Z)) + 0.1)\n",
    "    agent_SR_IS.update_V()\n",
    "    V_new = agent_SR_IS.V\n",
    "\n",
    "    # Softmax decision at test\n",
    "    probs = softmax(logits=np.array([V_new[1], V_new[2]]), temp=temp_SR_IS)\n",
    "    probs_sr_is.append(probs[0])\n",
    "    dec_test = np.random.choice(len(probs), p=probs)\n",
    "\n",
    "    if dec_train == 1:\n",
    "        if dec_test == 0:\n",
    "            num_switch_sr_is.append(1)\n",
    "        else:\n",
    "            num_switch_sr_is.append(0)"
   ]
  },
  {
   "cell_type": "markdown",
   "metadata": {},
   "source": [
    "## Action Selection Probs"
   ]
  },
  {
   "cell_type": "code",
   "execution_count": 16,
   "metadata": {},
   "outputs": [
    {
     "name": "stdout",
     "output_type": "stream",
     "text": [
      "Complete: 0.952443857331572 SR: 0.1645021645021645 SR-IS: 0.7746666666666666\n"
     ]
    }
   ],
   "source": [
    "num_complete = np.array(num_switch_complete)\n",
    "num_sr = np.array(num_switch_sr)\n",
    "num_sr_is = np.array(num_switch_sr_is)\n",
    "\n",
    "# mean_transition_complete = np.mean(num_complete)\n",
    "# mean_transition_sr = np.mean(num_sr)\n",
    "# mean_transition_sr_is = np.mean(num_sr_is)\n",
    "\n",
    "print(f\"Complete: {np.mean(num_complete)} SR: {np.mean(num_sr)} SR-IS: {np.mean(num_sr_is)}\")"
   ]
  },
  {
   "cell_type": "code",
   "execution_count": 17,
   "metadata": {},
   "outputs": [
    {
     "name": "stdout",
     "output_type": "stream",
     "text": [
      "Complete:  (0.9504469405235363, 1.178306015554395e-17)  SR:  (0.1679373977057723, 0.002507504525358502)  SR-IS:  (0.771793387111785, 0.0030951056837463086)\n"
     ]
    }
   ],
   "source": [
    "probs_complete = np.array(probs_complete)\n",
    "probs_sr = np.array(probs_sr)\n",
    "probs_sr_is = np.array(probs_sr_is)\n",
    "\n",
    "mean_transition_complete = np.mean(probs_complete)\n",
    "mean_transition_sr = np.mean(probs_sr)\n",
    "mean_transition_sr_is = np.mean(probs_sr_is)\n",
    "\n",
    "sem_transition_complete = sem(probs_complete)\n",
    "sem_transition_sr = sem(probs_sr)\n",
    "sem_transition_sr_is = sem(probs_sr_is)\n",
    "\n",
    "print(\"Complete: \", (mean_transition_complete, sem_transition_complete), \n",
    "      \" SR: \", (mean_transition_sr, sem_transition_sr), \n",
    "      \" SR-IS: \", (mean_transition_sr_is, sem_transition_sr_is))"
   ]
  },
  {
   "cell_type": "markdown",
   "metadata": {},
   "source": [
    "# Plot NHB values against ours"
   ]
  },
  {
   "cell_type": "markdown",
   "metadata": {},
   "source": [
    "## NHB reconstruction"
   ]
  },
  {
   "cell_type": "code",
   "execution_count": 18,
   "metadata": {},
   "outputs": [
    {
     "data": {
      "image/png": "[encoded data removed]",
      "text/plain": [
       "<Figure size 600x500 with 1 Axes>"
      ]
     },
     "metadata": {},
     "output_type": "display_data"
    }
   ],
   "source": [
    "# save_path = save_dir + \"NHB_data.png\"\n",
    "save_path = None\n",
    "nhb_means = [0.66, 0.50, 0.47]\n",
    "nhb_stds = [0.05, 0.05, 0.05]\n",
    "xlabels = ['Reward\\nrevaluation', 'Policy\\nrevaluation', 'Transition\\nrevaluation']\n",
    "colors = [2, 9, 6]\n",
    "ylabel = 'Change in preference'\n",
    "\n",
    "# Call the function\n",
    "create_bar_plot(nhb_means, colors, ylabel, xlabels, std=nhb_stds, save_path=save_path, title=\"Data\")"
   ]
  },
  {
   "cell_type": "markdown",
   "metadata": {},
   "source": [
    "## SR-IS"
   ]
  },
  {
   "cell_type": "code",
   "execution_count": 26,
   "metadata": {},
   "outputs": [
    {
     "data": {
      "image/png": "[encoded data removed]",
      "text/plain": [
       "<Figure size 600x500 with 1 Axes>"
      ]
     },
     "metadata": {},
     "output_type": "display_data"
    }
   ],
   "source": [
    "save_path = save_dir + \"NHB_SR-IS.png\"\n",
    "means = [mean_reward_sr_is, mean_policy_sr_is, mean_transition_sr_is]\n",
    "stds = [sem_reward_sr_is, sem_policy_sr_is, sem_transition_sr_is]\n",
    "xlabels = ['Reward\\nrevaluation', 'Policy\\nrevaluation', 'Transition\\nrevaluation']\n",
    "colors = [2, 9, 6]\n",
    "ylabel = 'Probability'\n",
    "\n",
    "# Call the function\n",
    "create_bar_plot(means, colors, ylabel, xlabels, std=stds, save_path=None, title=\"SR-IS\", y_lim=[0.4,1.05,1])"
   ]
  },
  {
   "cell_type": "markdown",
   "metadata": {},
   "source": [
    "## SR"
   ]
  },
  {
   "cell_type": "code",
   "execution_count": 25,
   "metadata": {},
   "outputs": [
    {
     "data": {
      "image/png": "[encoded data removed]",
      "text/plain": [
       "<Figure size 600x500 with 1 Axes>"
      ]
     },
     "metadata": {},
     "output_type": "display_data"
    }
   ],
   "source": [
    "save_path = save_dir + \"NHB_SR.png\"\n",
    "means = [mean_reward_sr, mean_policy_sr, mean_transition_sr]\n",
    "stds = [sem_reward_sr, sem_policy_sr, sem_transition_sr]\n",
    "xlabels = ['Reward\\nrevaluation', 'Policy\\nrevaluation', 'Transition\\nrevaluation']\n",
    "colors = [2, 9, 6]\n",
    "ylabel = 'Probability'\n",
    "\n",
    "# Call the function\n",
    "create_bar_plot(means, colors, ylabel, xlabels, std=stds, save_path=None, title=\"SR\")"
   ]
  },
  {
   "cell_type": "markdown",
   "metadata": {},
   "source": [
    "## Complete Model"
   ]
  },
  {
   "cell_type": "code",
   "execution_count": 24,
   "metadata": {},
   "outputs": [
    {
     "data": {
      "image/png": "[encoded data removed]",
      "text/plain": [
       "<Figure size 600x500 with 1 Axes>"
      ]
     },
     "metadata": {},
     "output_type": "display_data"
    }
   ],
   "source": [
    "save_path = save_dir + \"NHB_Complete.png\"\n",
    "means = [mean_reward_complete, mean_policy_complete, mean_transition_complete]\n",
    "stds = [sem_reward_complete, sem_policy_complete, sem_transition_complete]\n",
    "xlabels = ['Reward\\nrevaluation', 'Policy\\nrevaluation', 'Transition\\nrevaluation']\n",
    "colors = [2, 9, 6]\n",
    "ylabel = 'Probability'\n",
    "\n",
    "# Call the function\n",
    "create_bar_plot(means, colors, ylabel, xlabels, std=stds, save_path=None, title=\"Complete\")"
   ]
  },
  {
   "cell_type": "code",
   "execution_count": null,
   "metadata": {},
   "outputs": [],
   "source": []
  }
 ],
 "metadata": {
  "kernelspec": {
   "display_name": "gym",
   "language": "python",
   "name": "python3"
  },
  "language_info": {
   "codemirror_mode": {
    "name": "ipython",
    "version": 3
   },
   "file_extension": ".py",
   "mimetype": "text/x-python",
   "name": "python",
   "nbconvert_exporter": "python",
   "pygments_lexer": "ipython3",
   "version": "3.10.0"
  }
 },
 "nbformat": 4,
 "nbformat_minor": 2
}
