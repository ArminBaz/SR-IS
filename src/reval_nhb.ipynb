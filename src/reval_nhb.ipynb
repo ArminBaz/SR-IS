{
 "cells": [
  {
   "cell_type": "code",
   "execution_count": 1,
   "metadata": {},
   "outputs": [],
   "source": [
    "import os\n",
    "\n",
    "import numpy as np\n",
    "from scipy.stats import sem\n",
    "import importlib\n",
    "import gymnasium as gym\n",
    "import seaborn as sns\n",
    "import matplotlib.pyplot as plt\n",
    "from matplotlib import patches\n",
    "import matplotlib.animation as manimation\n",
    "\n",
    "import gym_env\n",
    "from models import SR_IS_NHB, SR_NHB\n",
    "from utils import policy_reval, woodbury, woodbury_SR, decision_policy\n",
    "from utils_render import plot_nhb_decisions, create_bar_plot, plot_decision_prob"
   ]
  },
  {
   "cell_type": "code",
   "execution_count": 2,
   "metadata": {},
   "outputs": [],
   "source": [
    "# Save dir\n",
    "save_dir = os.path.join('..', 'figures/')"
   ]
  },
  {
   "cell_type": "code",
   "execution_count": 3,
   "metadata": {},
   "outputs": [],
   "source": [
    "# For plotting\n",
    "prob_locs = [1, 2]\n",
    "colors = [3, 2]"
   ]
  },
  {
   "cell_type": "code",
   "execution_count": 4,
   "metadata": {},
   "outputs": [],
   "source": [
    "## Hyperparameters for direct NHB comparison\n",
    "lambd = 10\n",
    "alpha = 0.15\n",
    "alpha_SR = 0.15\n",
    "beta = 0.6\n",
    "temp = 1.0\n",
    "num_steps = 250\n",
    "num_iterations = 800"
   ]
  },
  {
   "cell_type": "code",
   "execution_count": 5,
   "metadata": {},
   "outputs": [],
   "source": [
    "def softmax(logits, temp=1.0):\n",
    "    \"\"\"softmax function for action selection\"\"\"\n",
    "    exp_logits = np.exp(logits / temp - np.max(logits / temp))\n",
    "    return exp_logits / np.sum(exp_logits)"
   ]
  },
  {
   "cell_type": "markdown",
   "metadata": {},
   "source": [
    "# Policy Revaluation"
   ]
  },
  {
   "cell_type": "markdown",
   "metadata": {},
   "source": [
    "## Run Simulations"
   ]
  },
  {
   "cell_type": "markdown",
   "metadata": {},
   "source": [
    "### Complete Model"
   ]
  },
  {
   "cell_type": "code",
   "execution_count": 6,
   "metadata": {},
   "outputs": [],
   "source": [
    "probs_complete = []\n",
    "num_switch_complete = []\n",
    "number = 0\n",
    "\n",
    "for i in range(num_iterations):\n",
    "    np.random.seed(i)\n",
    "    # Define agent\n",
    "    agent_complete =  SR_IS_NHB(_lambda=lambd, alpha=alpha, beta=beta, policy=\"softmax\", imp_samp=True, exp_type=\"policy_reval\")\n",
    "    # Get optimal DR and update V and Z Values\n",
    "    D_inv = agent_complete.get_D_inv()\n",
    "    agent_complete.DR = D_inv\n",
    "    agent_complete.update_Z()\n",
    "    agent_complete.update_V()\n",
    "    probs = softmax(logits=np.array([agent_complete.V[1], agent_complete.V[2]]), temp=1.0) \n",
    "    dec_train = np.random.choice(len(probs), p=probs)\n",
    "\n",
    "    # Update terminal state values\n",
    "    agent_complete.update_exp()\n",
    "    V_new, Z_new = policy_reval(agent_complete)\n",
    "\n",
    "    # Softmax decision at test\n",
    "    probs = softmax(logits=np.array([V_new[1], V_new[2]]), temp=1.0)\n",
    "    probs_complete.append(probs[0])\n",
    "    dec_test = np.random.choice(len(probs), p=probs)\n",
    "\n",
    "    if dec_train == 1:\n",
    "        if dec_test == 0:\n",
    "            num_switch_complete.append(1)\n",
    "        else:\n",
    "            num_switch_complete.append(0)"
   ]
  },
  {
   "cell_type": "markdown",
   "metadata": {},
   "source": [
    "### TD Models"
   ]
  },
  {
   "cell_type": "code",
   "execution_count": 7,
   "metadata": {},
   "outputs": [],
   "source": [
    "probs_sr, probs_sr_is = [], []\n",
    "num_switch_sr, num_switch_sr_is = [],[]\n",
    "\n",
    "for i in range(num_iterations):\n",
    "    np.random.seed(i)\n",
    "    # Define agents\n",
    "    agent_with_imp = SR_IS_NHB(_lambda=lambd, alpha=alpha, beta=beta, num_steps=num_steps, policy=\"softmax\", imp_samp=True, exp_type=\"policy_reval\")\n",
    "    agent_SR = SR_NHB(alpha=alpha, beta=beta, num_steps=num_steps, policy=\"softmax\", exp_type=\"policy_reval\")\n",
    "\n",
    "    # Learn similarly to NHB\n",
    "    agent_with_imp.learn_with_start_locs(seed=i)\n",
    "    agent_SR.learn_with_start_locs(seed=i)\n",
    "    \n",
    "\n",
    "    ##  SR  ##\n",
    "    # Original training policy\n",
    "    probs = softmax(logits=np.array([agent_SR.V[1], agent_SR.V[2]]), temp=temp)\n",
    "    dec_train = np.random.choice(len(probs), p=probs)\n",
    "    # Policy revaluation\n",
    "    agent_SR.update_exp()\n",
    "    agent_SR.update_V()\n",
    "    # Softmax decision at test\n",
    "    probs = softmax(logits=np.array([agent_SR.V[1], agent_SR.V[2]]), temp=temp)\n",
    "    probs_sr.append(probs[0])\n",
    "    dec_test = np.random.choice(len(probs), p=probs)\n",
    "    if dec_train == 1:\n",
    "        if dec_test == 0:\n",
    "            num_switch_sr.append(1)\n",
    "        else:\n",
    "            num_switch_sr.append(0)\n",
    "\n",
    "\n",
    "    ##  SR-IS  ##\n",
    "    # Original training policy\n",
    "    probs = softmax(logits=np.array([agent_with_imp.V[1], agent_with_imp.V[2]]), temp=temp)\n",
    "    dec_train = np.random.choice(len(probs), p=probs)\n",
    "    # Policy revaluation\n",
    "    agent_with_imp.update_exp()\n",
    "    V_new, Z_new = policy_reval(agent_with_imp)\n",
    "    # Softmax decision at test\n",
    "    probs = softmax(logits=np.array([V_new[1], V_new[2]]), temp=temp)\n",
    "    probs_sr_is.append(probs[0])\n",
    "    dec_test = np.random.choice(len(probs), p=probs)\n",
    "    if dec_train == 1:\n",
    "        if dec_test == 0:\n",
    "            num_switch_sr_is.append(1)\n",
    "        else:\n",
    "            num_switch_sr_is.append(0)"
   ]
  },
  {
   "cell_type": "markdown",
   "metadata": {},
   "source": [
    "## Action Selection Probs"
   ]
  },
  {
   "cell_type": "code",
   "execution_count": 8,
   "metadata": {},
   "outputs": [
    {
     "name": "stdout",
     "output_type": "stream",
     "text": [
      "Complete:  0.8109375  SR:  0.0  SR-IS:  0.5372023809523809\n"
     ]
    }
   ],
   "source": [
    "num_complete = np.array(num_switch_complete)\n",
    "num_sr = np.array(num_switch_sr)\n",
    "num_sr_is = np.array(num_switch_sr_is)\n",
    "\n",
    "# mean_policy_complete = np.mean(num_complete)\n",
    "# mean_policy_sr = np.mean(num_sr)\n",
    "# mean_policy_sr_is = np.mean(num_sr_is)\n",
    "\n",
    "print(\"Complete: \",np.mean(num_complete), \" SR: \", np.mean(num_sr), \" SR-IS: \", np.mean(num_sr_is))"
   ]
  },
  {
   "cell_type": "code",
   "execution_count": 9,
   "metadata": {},
   "outputs": [
    {
     "name": "stdout",
     "output_type": "stream",
     "text": [
      "Complete:  (0.7936672277398622, 3.92768671851465e-18)  SR:  (5.270425305169915e-06, 4.124137283366436e-07)  SR-IS:  (0.542998902325752, 0.010835539790806892)\n"
     ]
    }
   ],
   "source": [
    "probs_complete = np.array(probs_complete)\n",
    "probs_sr = np.array(probs_sr)\n",
    "probs_sr_is = np.array(probs_sr_is)\n",
    "\n",
    "mean_policy_complete = np.mean(probs_complete)\n",
    "mean_policy_sr = np.mean(probs_sr)\n",
    "mean_policy_sr_is = np.mean(probs_sr_is)\n",
    "\n",
    "sem_policy_complete = sem(probs_complete)\n",
    "sem_policy_sr = sem(probs_sr)\n",
    "sem_policy_sr_is = sem(probs_sr_is)\n",
    "\n",
    "print(\"Complete: \", (mean_policy_complete, sem_policy_complete), \n",
    "      \" SR: \", (mean_policy_sr, sem_policy_sr), \n",
    "      \" SR-IS: \", (mean_policy_sr_is, sem_policy_sr_is))"
   ]
  },
  {
   "cell_type": "markdown",
   "metadata": {},
   "source": [
    "# Reward Revaluation"
   ]
  },
  {
   "cell_type": "markdown",
   "metadata": {},
   "source": [
    "## Run Simulations"
   ]
  },
  {
   "cell_type": "markdown",
   "metadata": {},
   "source": [
    "### Complete Model"
   ]
  },
  {
   "cell_type": "code",
   "execution_count": 10,
   "metadata": {},
   "outputs": [],
   "source": [
    "probs_complete = []\n",
    "num_switch_complete = []\n",
    "\n",
    "for i in range(num_iterations):\n",
    "    np.random.seed(i)\n",
    "    # Define agent\n",
    "    agent_complete =  SR_IS_NHB(_lambda=lambd, alpha=alpha, beta=beta, policy=\"softmax\", imp_samp=True, exp_type=\"reward_reval\")\n",
    "    # Get optimal DR and update V and Z Values\n",
    "    D_inv = agent_complete.get_D_inv()\n",
    "    agent_complete.DR = D_inv\n",
    "    agent_complete.update_Z()\n",
    "    agent_complete.update_V()\n",
    "    probs = softmax(logits=np.array([agent_complete.V[1], agent_complete.V[2]]), temp=1.0) \n",
    "    dec_train = np.random.choice(len(probs), p=probs)\n",
    "\n",
    "\n",
    "    # Update terminal state values\n",
    "    agent_complete.update_exp()\n",
    "    V_new, Z_new = policy_reval(agent_complete)\n",
    "    \n",
    "    # Softmax decision at test\n",
    "    probs = softmax(logits=np.array([V_new[1], V_new[2]]), temp=1.0)\n",
    "    probs_complete.append(probs[0])\n",
    "    dec_test = np.random.choice(len(probs), p=probs)   # Softmax action selection\n",
    "\n",
    "    if dec_train == 1:\n",
    "        if dec_test == 0:\n",
    "            num_switch_complete.append(1)\n",
    "        else:\n",
    "            num_switch_complete.append(0)"
   ]
  },
  {
   "cell_type": "markdown",
   "metadata": {},
   "source": [
    "### TD Models"
   ]
  },
  {
   "cell_type": "code",
   "execution_count": 11,
   "metadata": {},
   "outputs": [],
   "source": [
    "probs_sr, probs_sr_is = [], []\n",
    "num_switch_sr, num_switch_sr_is = [], []\n",
    "\n",
    "for i in range(num_iterations):\n",
    "    np.random.seed(i)\n",
    "    # Define agents\n",
    "    agent_with_imp = SR_IS_NHB(_lambda=lambd, alpha=alpha, beta=beta, num_steps=num_steps, policy=\"softmax\", imp_samp=True, exp_type=\"reward_reval\")\n",
    "    agent_SR = SR_NHB(alpha=alpha, beta=beta, num_steps=num_steps, policy=\"softmax\", exp_type=\"reward_reval\")\n",
    "\n",
    "    # Learn similar to NHB\n",
    "    agent_with_imp.learn_with_start_locs(seed=i)\n",
    "    agent_SR.learn_with_start_locs(seed=i)\n",
    "\n",
    "\n",
    "    ##  SR  ##\n",
    "    # Original training policy\n",
    "    probs = softmax(logits=np.array([agent_SR.V[1], agent_SR.V[2]]), temp=temp)\n",
    "    dec_train = np.random.choice(len(probs), p=probs)\n",
    "    # Policy revaluation\n",
    "    agent_SR.update_exp()\n",
    "    agent_SR.update_V()\n",
    "    # Softmax decision at test\n",
    "    probs = softmax(logits=np.array([agent_SR.V[1], agent_SR.V[2]]), temp=temp)\n",
    "    probs_sr.append(probs[0])\n",
    "    dec_test = np.random.choice(len(probs), p=probs)\n",
    "\n",
    "    if dec_train == 1:\n",
    "        if dec_test == 0:\n",
    "            num_switch_sr.append(1)\n",
    "        else:\n",
    "            num_switch_sr.append(0)\n",
    "    \n",
    "\n",
    "    ##  SR-IS  ##\n",
    "    # Original training policy\n",
    "    probs = softmax(logits=np.array([agent_with_imp.V[1], agent_with_imp.V[2]]), temp=temp)\n",
    "    dec_train = np.random.choice(len(probs), p=probs)\n",
    "    # Policy revaluation\n",
    "    agent_with_imp.update_exp()\n",
    "    V_new, Z_new = policy_reval(agent_with_imp)\n",
    "    # Softmax decision at test\n",
    "    probs = softmax(logits=np.array([V_new[1], V_new[2]]), temp=temp)\n",
    "    probs_sr_is.append(probs[0])\n",
    "    dec_test = np.random.choice(len(probs), p=probs)\n",
    "\n",
    "    if dec_train == 1:\n",
    "        if dec_test == 0:\n",
    "            num_switch_sr_is.append(1)\n",
    "        else:\n",
    "            num_switch_sr_is.append(0)"
   ]
  },
  {
   "cell_type": "markdown",
   "metadata": {},
   "source": [
    "## Action Selection Probs"
   ]
  },
  {
   "cell_type": "code",
   "execution_count": 12,
   "metadata": {},
   "outputs": [
    {
     "name": "stdout",
     "output_type": "stream",
     "text": [
      "Complete: 0.8317307692307693 SR: 0.9 SR-IS: 0.7714723926380368\n"
     ]
    }
   ],
   "source": [
    "num_complete = np.array(num_switch_complete)\n",
    "num_sr = np.array(num_switch_sr)\n",
    "num_sr_is = np.array(num_switch_sr_is)\n",
    "\n",
    "# mean_reward_complete = np.mean(num_complete)\n",
    "# mean_reward_sr = np.mean(num_sr)\n",
    "# mean_reward_sr_is = np.mean(num_sr_is)\n",
    "\n",
    "print(f\"Complete: {np.mean(num_complete)} SR: {np.mean(num_sr)} SR-IS: {np.mean(num_sr_is)}\")"
   ]
  },
  {
   "cell_type": "code",
   "execution_count": 13,
   "metadata": {},
   "outputs": [
    {
     "name": "stdout",
     "output_type": "stream",
     "text": [
      "Complete:  (0.8119087897688396, 0.0)  SR:  (0.9053287767704694, 0.0034497712650673603)  SR-IS:  (0.7659601738243808, 0.0016906454856225252)\n"
     ]
    }
   ],
   "source": [
    "probs_complete = np.array(probs_complete)\n",
    "probs_sr = np.array(probs_sr)\n",
    "probs_sr_is = np.array(probs_sr_is)\n",
    "\n",
    "mean_reward_complete = np.mean(probs_complete)\n",
    "mean_reward_sr = np.mean(probs_sr)\n",
    "mean_reward_sr_is = np.mean(probs_sr_is)\n",
    "\n",
    "sem_reward_complete = sem(probs_complete)\n",
    "sem_reward_sr = sem(probs_sr)\n",
    "sem_reward_sr_is = sem(probs_sr_is)\n",
    "\n",
    "print(\"Complete: \", (mean_reward_complete, sem_reward_complete), \n",
    "      \" SR: \", (mean_reward_sr, sem_reward_sr), \n",
    "      \" SR-IS: \", (mean_reward_sr_is, sem_reward_sr_is))"
   ]
  },
  {
   "cell_type": "markdown",
   "metadata": {},
   "source": [
    "# Transition Revaluation"
   ]
  },
  {
   "cell_type": "markdown",
   "metadata": {},
   "source": [
    "## Run Simulations"
   ]
  },
  {
   "cell_type": "markdown",
   "metadata": {},
   "source": [
    "### Complete Model"
   ]
  },
  {
   "cell_type": "code",
   "execution_count": 14,
   "metadata": {},
   "outputs": [],
   "source": [
    "probs_complete = []\n",
    "num_switch_complete = []\n",
    "\n",
    "for i in range(num_iterations):\n",
    "    np.random.seed(i)\n",
    "    # Define agent\n",
    "    agent_complete =  SR_IS_NHB(_lambda=lambd, alpha=alpha, beta=beta, policy=\"softmax\", imp_samp=True, exp_type=\"trans_reval\")\n",
    "    # Get optimal DR and update V and Z Values\n",
    "    D_inv = agent_complete.get_D_inv()\n",
    "    agent_complete.DR = D_inv\n",
    "    agent_complete.update_Z()\n",
    "    agent_complete.update_V()\n",
    "    probs = softmax(logits=np.array([agent_complete.V[1], agent_complete.V[2]]), temp=1.0) \n",
    "    dec_train = np.random.choice(len(probs), p=probs)\n",
    "\n",
    "    # Update terminal state values\n",
    "    T_new = agent_complete.construct_T_new()\n",
    "    D_new = woodbury(agent=agent_complete, T=T_new, inv=False)\n",
    "    agent_complete.DR = D_new\n",
    "    agent_complete.update_Z()\n",
    "    agent_complete.update_V()\n",
    "    V_new = agent_complete.V\n",
    "\n",
    "    # Softmax decision at test\n",
    "    probs = softmax(logits=np.array([V_new[1], V_new[2]]), temp=1.0)\n",
    "    probs_complete.append(probs[0])\n",
    "    dec_test = np.random.choice(len(probs), p=probs)\n",
    "\n",
    "    if dec_train == 1:\n",
    "        if dec_test == 0:\n",
    "            num_switch_complete.append(1)\n",
    "        else:\n",
    "            num_switch_complete.append(0)"
   ]
  },
  {
   "cell_type": "code",
   "execution_count": 16,
   "metadata": {},
   "outputs": [
    {
     "data": {
      "text/plain": [
       "array([[0. , 0.5, 0.5, 0. , 0. , 0. , 0. , 0. , 0. ],\n",
       "       [0. , 0. , 0. , 0.5, 0.5, 0. , 0. , 0. , 0. ],\n",
       "       [0. , 0. , 0. , 0. , 0.5, 0.5, 0. , 0. , 0. ],\n",
       "       [0. , 0. , 0. , 0. , 0. , 0. , 1. , 0. , 0. ],\n",
       "       [0. , 0. , 0. , 0. , 0. , 0. , 0. , 1. , 0. ],\n",
       "       [0. , 0. , 0. , 0. , 0. , 0. , 0. , 0. , 1. ],\n",
       "       [0. , 0. , 0. , 0. , 0. , 0. , 1. , 0. , 0. ],\n",
       "       [0. , 0. , 0. , 0. , 0. , 0. , 0. , 1. , 0. ],\n",
       "       [0. , 0. , 0. , 0. , 0. , 0. , 0. , 0. , 1. ]])"
      ]
     },
     "execution_count": 16,
     "metadata": {},
     "output_type": "execute_result"
    }
   ],
   "source": [
    "agent_complete.T"
   ]
  },
  {
   "cell_type": "code",
   "execution_count": 15,
   "metadata": {},
   "outputs": [
    {
     "data": {
      "text/plain": [
       "array([[0. , 0.5, 0.5, 0. , 0. , 0. , 0. , 0. , 0. ],\n",
       "       [0. , 0. , 0. , 0. , 0.5, 0.5, 0. , 0. , 0. ],\n",
       "       [0. , 0. , 0. , 0.5, 0.5, 0. , 0. , 0. , 0. ],\n",
       "       [0. , 0. , 0. , 0. , 0. , 0. , 1. , 0. , 0. ],\n",
       "       [0. , 0. , 0. , 0. , 0. , 0. , 0. , 1. , 0. ],\n",
       "       [0. , 0. , 0. , 0. , 0. , 0. , 0. , 0. , 1. ],\n",
       "       [0. , 0. , 0. , 0. , 0. , 0. , 1. , 0. , 0. ],\n",
       "       [0. , 0. , 0. , 0. , 0. , 0. , 0. , 1. , 0. ],\n",
       "       [0. , 0. , 0. , 0. , 0. , 0. , 0. , 0. , 1. ]])"
      ]
     },
     "execution_count": 15,
     "metadata": {},
     "output_type": "execute_result"
    }
   ],
   "source": [
    "T_new"
   ]
  },
  {
   "cell_type": "markdown",
   "metadata": {},
   "source": [
    "### TD Models"
   ]
  },
  {
   "cell_type": "code",
   "execution_count": 15,
   "metadata": {},
   "outputs": [],
   "source": [
    "probs_sr, probs_sr_is = [], []\n",
    "num_switch_sr, num_switch_sr_is = [], []\n",
    "\n",
    "for i in range(num_iterations):\n",
    "    np.random.seed(i)\n",
    "    # Define agents\n",
    "    agent_with_imp = SR_IS_NHB(_lambda=lambd, alpha=alpha, beta=beta, num_steps=num_steps, policy=\"softmax\", imp_samp=True, exp_type=\"trans_reval\")\n",
    "    agent_SR = SR_NHB(alpha=alpha, beta=beta, num_steps=num_steps, policy=\"softmax\", exp_type=\"reward_reval\")\n",
    "\n",
    "    # Learn similar to NHB\n",
    "    agent_with_imp.learn_with_start_locs(seed=i)\n",
    "    agent_SR.learn_with_start_locs(seed=i)\n",
    "\n",
    "\n",
    "    ##  SR  ##\n",
    "    probs = softmax(logits=np.array([agent_SR.V[1], agent_SR.V[2]]), temp=temp)\n",
    "    dec_train = np.random.choice(len(probs), p=probs)\n",
    "\n",
    "    # Transition revaluation\n",
    "    agent_SR.learn_trans_reval()\n",
    "\n",
    "    # Softmax decision at test\n",
    "    probs = softmax(logits=np.array([agent_SR.V[1], agent_SR.V[2]]), temp=temp)\n",
    "    probs_sr.append(probs[0])\n",
    "    dec_test = np.random.choice(len(probs), p=probs)\n",
    "\n",
    "    if dec_train == 1:\n",
    "        if dec_test == 0:\n",
    "            num_switch_sr.append(1)\n",
    "        else:\n",
    "            num_switch_sr.append(0)\n",
    "\n",
    "\n",
    "    ##  SR-IS  ##\n",
    "    probs = softmax(logits=np.array([agent_with_imp.V[1], agent_with_imp.V[2]]), temp=temp)\n",
    "    dec_train = np.random.choice(len(probs), p=probs)\n",
    "\n",
    "    # Transition revaluation\n",
    "    T_new = agent_with_imp.construct_T_new()\n",
    "    D_new = woodbury(agent=agent_with_imp, T=T_new, inv=False)\n",
    "    D_new += np.abs(np.min(D_new)) + 0.01\n",
    "    agent_with_imp.DR = D_new\n",
    "    agent_with_imp.update_Z()\n",
    "    agent_with_imp.update_V()\n",
    "    V_new = agent_with_imp.V\n",
    "\n",
    "    # Softmax decision at test\n",
    "    probs = softmax(logits=np.array([V_new[1], V_new[2]]), temp=temp)\n",
    "    probs_sr_is.append(probs[0])\n",
    "    dec_test = np.random.choice(len(probs), p=probs)\n",
    "\n",
    "    if dec_train == 1:\n",
    "        if dec_test == 0:\n",
    "            num_switch_sr_is.append(1)\n",
    "        else:\n",
    "            num_switch_sr_is.append(0)"
   ]
  },
  {
   "cell_type": "markdown",
   "metadata": {},
   "source": [
    "## Action Selection Probs"
   ]
  },
  {
   "cell_type": "code",
   "execution_count": 16,
   "metadata": {},
   "outputs": [
    {
     "name": "stdout",
     "output_type": "stream",
     "text": [
      "Complete: 0.8125 SR: 0.0 SR-IS: 0.5911179173047473\n"
     ]
    }
   ],
   "source": [
    "num_complete = np.array(num_switch_complete)\n",
    "num_sr = np.array(num_switch_sr)\n",
    "num_sr_is = np.array(num_switch_sr_is)\n",
    "\n",
    "# mean_transition_complete = np.mean(num_complete)\n",
    "# mean_transition_sr = np.mean(num_sr)\n",
    "# mean_transition_sr_is = np.mean(num_sr_is)\n",
    "\n",
    "print(f\"Complete: {np.mean(num_complete)} SR: {np.mean(num_sr)} SR-IS: {np.mean(num_sr_is)}\")"
   ]
  },
  {
   "cell_type": "code",
   "execution_count": 17,
   "metadata": {},
   "outputs": [
    {
     "name": "stdout",
     "output_type": "stream",
     "text": [
      "Complete:  (0.7941296281990529, 3.92768671851465e-18)  SR:  (0.00021319252781285843, 1.3259429108825012e-05)  SR-IS:  (0.5947594736716519, 0.0016787324298186714)\n"
     ]
    }
   ],
   "source": [
    "probs_complete = np.array(probs_complete)\n",
    "probs_sr = np.array(probs_sr)\n",
    "probs_sr_is = np.array(probs_sr_is)\n",
    "\n",
    "mean_transition_complete = np.mean(probs_complete)\n",
    "mean_transition_sr = np.mean(probs_sr)\n",
    "mean_transition_sr_is = np.mean(probs_sr_is)\n",
    "\n",
    "sem_transition_complete = sem(probs_complete)\n",
    "sem_transition_sr = sem(probs_sr)\n",
    "sem_transition_sr_is = sem(probs_sr_is)\n",
    "\n",
    "print(\"Complete: \", (mean_transition_complete, sem_transition_complete), \n",
    "      \" SR: \", (mean_transition_sr, sem_transition_sr), \n",
    "      \" SR-IS: \", (mean_transition_sr_is, sem_transition_sr_is))"
   ]
  },
  {
   "cell_type": "markdown",
   "metadata": {},
   "source": [
    "# Plot NHB values against ours"
   ]
  },
  {
   "cell_type": "code",
   "execution_count": 18,
   "metadata": {},
   "outputs": [],
   "source": [
    "def create_bar_plot(means, colors, ylabel, xlabels, std=None, title=None, save_path=None):\n",
    "    \"\"\"\n",
    "    Bar plot for decision probabilities with minimum visible height for small values\n",
    "\n",
    "    Args:\n",
    "        means (array) : mean of each bar to plot\n",
    "        colors (list) : idx of color palette color to use\n",
    "        ylabel (string) : label for the y-axis\n",
    "        xlabels (list of strings) : labels for the x-axis\n",
    "        std (array, optional) : std error of each bar\n",
    "        title (string, optional) : title of the plot\n",
    "        save_path (string, optional) : where to save the figure\n",
    "    \"\"\"\n",
    "    import numpy as np\n",
    "    import matplotlib.pyplot as plt\n",
    "    import seaborn as sns\n",
    "\n",
    "    color_palette = sns.color_palette(\"colorblind\")\n",
    "    color_list = []\n",
    "    for color in colors:\n",
    "        color_list.append(color_palette[color])\n",
    "\n",
    "    # Set the style and font\n",
    "    plt.rcParams['font.family'] = 'serif'\n",
    "    \n",
    "    # Create the plot\n",
    "    fig, ax = plt.subplots(figsize=(6, 5))\n",
    "    x = np.arange(len(means)) * 0.25\n",
    "    \n",
    "    # Create modified means for visualization while preserving original data for error bars\n",
    "    plot_means = np.array(means).copy()\n",
    "    min_visible_height = 0.02\n",
    "    plot_means[plot_means < 0.1] = min_visible_height\n",
    "    \n",
    "    # Plot the bars with black edge color\n",
    "    bars = ax.bar(x, plot_means, color=color_list, edgecolor='black', linewidth=1, width=0.14)\n",
    "    \n",
    "    # Add error bars if std is provided, using original means\n",
    "    if std is not None:\n",
    "        ax.errorbar(x, means, yerr=std, fmt='none', color='black', capsize=0)\n",
    "    \n",
    "    # Customize the plot\n",
    "    ax.set_ylabel(ylabel, fontsize=14)\n",
    "    ax.set_title(title, fontsize=18) if title else None\n",
    "    ax.set_xticks(x)\n",
    "    ax.set_xticklabels(xlabels, rotation=0, ha='center', fontsize=14)\n",
    "    \n",
    "    # Set y-axis limits and ticks\n",
    "    ax.set_ylim(0, 1.1)\n",
    "    ax.set_yticks(np.arange(0, 1.01, 0.2))\n",
    "    \n",
    "    # Add black border to all spines\n",
    "    for spine in ['left', 'right', 'bottom', 'top']:\n",
    "        ax.spines[spine].set_color('black')\n",
    "        ax.spines[spine].set_linewidth(1)\n",
    "    \n",
    "    # Remove grid\n",
    "    ax.grid(False)\n",
    "    \n",
    "    # Set background color to white\n",
    "    ax.set_facecolor('white')\n",
    "    fig.patch.set_facecolor('white')\n",
    "    \n",
    "    # Adjust layout\n",
    "    plt.tight_layout()\n",
    "    \n",
    "    # Save the plot if a save path is provided\n",
    "    if save_path:\n",
    "        plt.savefig(save_path, dpi=300, bbox_inches='tight')\n",
    "    \n",
    "    # Show the plot\n",
    "    plt.show()"
   ]
  },
  {
   "cell_type": "markdown",
   "metadata": {},
   "source": [
    "## NHB reconstruction"
   ]
  },
  {
   "cell_type": "code",
   "execution_count": 19,
   "metadata": {},
   "outputs": [
    {
     "data": {
      "image/png": "[encoded data removed]",
      "text/plain": [
       "<Figure size 600x500 with 1 Axes>"
      ]
     },
     "metadata": {},
     "output_type": "display_data"
    }
   ],
   "source": [
    "# save_path = save_dir + \"NHB_data.png\"\n",
    "save_path = None\n",
    "nhb_means = [0.66, 0.50, 0.47]\n",
    "nhb_stds = [0.05, 0.05, 0.05]\n",
    "xlabels = ['Reward\\nrevaluation', 'Policy\\nrevaluation', 'Transition\\nrevaluation']\n",
    "colors = [2, 9, 6]\n",
    "ylabel = 'Change in preference'\n",
    "\n",
    "# Call the function\n",
    "create_bar_plot(nhb_means, colors, ylabel, xlabels, std=nhb_stds, save_path=save_path, title=\"Data\")"
   ]
  },
  {
   "cell_type": "markdown",
   "metadata": {},
   "source": [
    "## SR-IS"
   ]
  },
  {
   "cell_type": "code",
   "execution_count": 20,
   "metadata": {},
   "outputs": [
    {
     "data": {
      "image/png": "[encoded data removed]",
      "text/plain": [
       "<Figure size 600x500 with 1 Axes>"
      ]
     },
     "metadata": {},
     "output_type": "display_data"
    }
   ],
   "source": [
    "save_path = save_dir + \"NHB_with_imp.png\"\n",
    "# save_path = None\n",
    "means = [mean_reward_sr_is, mean_policy_sr_is, mean_transition_sr_is]\n",
    "stds = [sem_reward_sr_is, sem_policy_sr_is, sem_transition_sr_is]\n",
    "xlabels = ['Reward\\nrevaluation', 'Policy\\nrevaluation', 'Transition\\nrevaluation']\n",
    "colors = [2, 9, 6]\n",
    "ylabel = 'Probability'\n",
    "\n",
    "# Call the function\n",
    "create_bar_plot(means, colors, ylabel, xlabels, std=stds, save_path=save_path, title=\"SR-IS\")"
   ]
  },
  {
   "cell_type": "markdown",
   "metadata": {},
   "source": [
    "## SR"
   ]
  },
  {
   "cell_type": "code",
   "execution_count": 21,
   "metadata": {},
   "outputs": [
    {
     "data": {
      "image/png": "[encoded data removed]",
      "text/plain": [
       "<Figure size 600x500 with 1 Axes>"
      ]
     },
     "metadata": {},
     "output_type": "display_data"
    }
   ],
   "source": [
    "save_path = save_dir + \"NHB_SR.png\"\n",
    "# save_path = None\n",
    "means = [mean_reward_sr, mean_policy_sr, mean_transition_sr]\n",
    "stds = [sem_reward_sr, sem_policy_sr, sem_transition_sr]\n",
    "xlabels = ['Reward\\nrevaluation', 'Policy\\nrevaluation', 'Transition\\nrevaluation']\n",
    "colors = [2, 9, 6]\n",
    "ylabel = 'Probability'\n",
    "\n",
    "# Call the function\n",
    "create_bar_plot(means, colors, ylabel, xlabels, std=stds, save_path=save_path, title=\"SR\")"
   ]
  },
  {
   "cell_type": "markdown",
   "metadata": {},
   "source": [
    "## Complete Model"
   ]
  },
  {
   "cell_type": "code",
   "execution_count": 22,
   "metadata": {},
   "outputs": [
    {
     "data": {
      "image/png": "[encoded data removed]",
      "text/plain": [
       "<Figure size 600x500 with 1 Axes>"
      ]
     },
     "metadata": {},
     "output_type": "display_data"
    }
   ],
   "source": [
    "save_path = save_dir + \"NHB_Complete.png\"\n",
    "# save_path = None\n",
    "means = [mean_reward_complete, mean_policy_complete, mean_transition_complete]\n",
    "stds = [sem_reward_complete, sem_policy_complete, sem_transition_complete]\n",
    "xlabels = ['Reward\\nrevaluation', 'Policy\\nrevaluation', 'Transition\\nrevaluation']\n",
    "colors = [2, 9, 6]\n",
    "ylabel = 'Probability'\n",
    "\n",
    "# Call the function\n",
    "create_bar_plot(means, colors, ylabel, xlabels, std=stds, save_path=save_path, title=\"Complete\")"
   ]
  },
  {
   "cell_type": "code",
   "execution_count": null,
   "metadata": {},
   "outputs": [],
   "source": []
  }
 ],
 "metadata": {
  "kernelspec": {
   "display_name": "gym",
   "language": "python",
   "name": "python3"
  },
  "language_info": {
   "codemirror_mode": {
    "name": "ipython",
    "version": 3
   },
   "file_extension": ".py",
   "mimetype": "text/x-python",
   "name": "python",
   "nbconvert_exporter": "python",
   "pygments_lexer": "ipython3",
   "version": "3.10.0"
  }
 },
 "nbformat": 4,
 "nbformat_minor": 2
}
