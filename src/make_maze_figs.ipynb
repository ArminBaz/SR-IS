{
 "cells": [
  {
   "cell_type": "code",
   "execution_count": 2,
   "metadata": {},
   "outputs": [],
   "source": [
    "import os\n",
    "\n",
    "# from utils import render_maze\n",
    "from utils_render import render_maze\n",
    "from models import LinearRL"
   ]
  },
  {
   "cell_type": "code",
   "execution_count": 3,
   "metadata": {},
   "outputs": [],
   "source": [
    "save_dir = os.path.join('..', 'figures/')"
   ]
  },
  {
   "cell_type": "markdown",
   "metadata": {},
   "source": [
    "### Simple 5x5 Maze"
   ]
  },
  {
   "cell_type": "code",
   "execution_count": 4,
   "metadata": {},
   "outputs": [],
   "source": [
    "save_path = save_dir + \"simple-5x5.png\"\n",
    "agent = LinearRL(env_name=\"simple-5x5\", _lambda=1.0, alpha=0.001, beta=1.0, num_steps=500000, policy=\"softmax\")\n",
    "# render_maze(agent, save_path=None)"
   ]
  },
  {
   "cell_type": "markdown",
   "metadata": {},
   "source": [
    "### 7x7 Policy & Reward Reval maze"
   ]
  },
  {
   "cell_type": "code",
   "execution_count": 27,
   "metadata": {},
   "outputs": [],
   "source": [
    "save_path = save_dir + \"maze_7x7.png\"\n",
    "agent = LinearRL(env_name=\"simple-7x7-2\", _lambda=1.0, alpha=0.001, beta=1.0, num_steps=500000, policy=\"softmax\")\n",
    "# render_maze(agent, locs=[(0,1), (1,0)], colors=[4, 9], save_path=None)"
   ]
  },
  {
   "cell_type": "markdown",
   "metadata": {},
   "source": [
    "### Latent Maze"
   ]
  },
  {
   "cell_type": "code",
   "execution_count": 6,
   "metadata": {},
   "outputs": [],
   "source": [
    "save_path = save_dir + \"latent_maze.png\"\n",
    "agent = LinearRL(env_name=\"tolman-latent\", _lambda=1.0, alpha=0.001, beta=1.0, num_steps=500000, policy=\"softmax\")\n",
    "#render_maze(agent, state=(0,4), locs=[(0,3), (0,5)], colors=[1, 9], save_path=None)"
   ]
  },
  {
   "cell_type": "markdown",
   "metadata": {},
   "source": [
    "### Detour Mazes"
   ]
  },
  {
   "cell_type": "code",
   "execution_count": 7,
   "metadata": {},
   "outputs": [],
   "source": [
    "agent = LinearRL(env_name=\"tolman-9x9-nb\")\n",
    "save_path = save_dir + \"tolman_not_blocked.png\"\n",
    "#render_maze(agent, state=(2,3), locs=[(3,3), (2,2), (2,4)], colors=[3, 2, 4], save_path=None)"
   ]
  },
  {
   "cell_type": "code",
   "execution_count": 7,
   "metadata": {},
   "outputs": [
    {
     "name": "stdout",
     "output_type": "stream",
     "text": [
      "Attempting to draw wall: [[5, 3], ['h']]\n"
     ]
    },
    {
     "data": {
      "image/png": "[encoded data removed]",
      "text/plain": [
       "<Figure size 640x480 with 1 Axes>"
      ]
     },
     "metadata": {},
     "output_type": "display_data"
    }
   ],
   "source": [
    "agent = LinearRL(env_name=\"tolman-9x9-nb\")\n",
    "save_path = save_dir + \"tolman_blocked.png\"\n",
    "render_maze(agent, state=(2,3), locs=[(3,3), (2,2), (2,4)], colors=[3, 2, 4], save_path=None, wall=[[5, 3], ['h']])"
   ]
  },
  {
   "cell_type": "code",
   "execution_count": 7,
   "metadata": {},
   "outputs": [
    {
     "data": {
      "image/png": "[encoded data removed]",
      "text/plain": [
       "<Figure size 640x480 with 1 Axes>"
      ]
     },
     "metadata": {},
     "output_type": "display_data"
    }
   ],
   "source": [
    "agent = LinearRL(env_name=\"tolman-9x9-nb\")\n",
    "save_path = save_dir + \"maze_tolman_base.png\"\n",
    "render_maze(agent, state=None, locs=None, colors=None, save_path=None)"
   ]
  },
  {
   "cell_type": "markdown",
   "metadata": {},
   "source": [
    "### 4 room maze"
   ]
  },
  {
   "cell_type": "code",
   "execution_count": 6,
   "metadata": {},
   "outputs": [],
   "source": [
    "agent = LinearRL(env_name=\"four_room_br\")\n",
    "save_path = save_dir + \"maze_four_room.png\"\n",
    "# render_maze(agent, state=None, locs=None, colors=None, save_path=None)"
   ]
  },
  {
   "cell_type": "markdown",
   "metadata": {},
   "source": [
    "### 10x10 Mazes"
   ]
  },
  {
   "cell_type": "code",
   "execution_count": 7,
   "metadata": {},
   "outputs": [],
   "source": [
    "agent = LinearRL(env_name=\"maze-10x10-G1\")\n",
    "save_path = save_dir + \"maze_10x10_G1.png\"\n",
    "# render_maze(agent, state=None, locs=None, colors=None, save_path=None)"
   ]
  },
  {
   "cell_type": "code",
   "execution_count": 8,
   "metadata": {},
   "outputs": [],
   "source": [
    "agent = LinearRL(env_name=\"maze-10x10-G2\")\n",
    "save_path = save_dir + \"maze_10x10_G2.png\"\n",
    "# render_maze(agent, state=None, locs=None, colors=None, save_path=None)"
   ]
  },
  {
   "cell_type": "code",
   "execution_count": null,
   "metadata": {},
   "outputs": [],
   "source": []
  }
 ],
 "metadata": {
  "kernelspec": {
   "display_name": "gym",
   "language": "python",
   "name": "python3"
  },
  "language_info": {
   "codemirror_mode": {
    "name": "ipython",
    "version": 3
   },
   "file_extension": ".py",
   "mimetype": "text/x-python",
   "name": "python",
   "nbconvert_exporter": "python",
   "pygments_lexer": "ipython3",
   "version": "3.10.0"
  }
 },
 "nbformat": 4,
 "nbformat_minor": 2
}
