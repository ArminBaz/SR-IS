{
 "cells": [
  {
   "cell_type": "code",
   "execution_count": 1,
   "metadata": {},
   "outputs": [],
   "source": [
    "import os\n",
    "\n",
    "import numpy as np\n",
    "import gymnasium as gym\n",
    "\n",
    "import gym_env\n",
    "from utils import decision_policy, woodbury\n",
    "from utils_render import plot_decision_prob\n",
    "from models import LinearRL"
   ]
  },
  {
   "cell_type": "code",
   "execution_count": 2,
   "metadata": {},
   "outputs": [],
   "source": [
    "# Set the random seed for NumPy\n",
    "seed = 182\n",
    "np.random.seed(seed)\n",
    "\n",
    "# Hyperparams\n",
    "reward = -0.1\n",
    "alpha = 0.55\n",
    "beta = 2.0\n",
    "_lambda = 1.0\n",
    "num_steps = 80000\n",
    "decay = True\n",
    "decay_params = [0.99, 150]\n",
    "\n",
    "# For plotting\n",
    "prob_locs = [12, 4, 6]\n",
    "colors = [3, 2, 4]\n",
    "\n",
    "# Save dir\n",
    "save_dir = os.path.join('..', 'figures/')"
   ]
  },
  {
   "cell_type": "markdown",
   "metadata": {},
   "source": [
    "## Learn DR-TD"
   ]
  },
  {
   "cell_type": "code",
   "execution_count": 3,
   "metadata": {},
   "outputs": [],
   "source": [
    "agent_with_imp = LinearRL(env_name=\"tolman-9x9-nb\", reward=reward, _lambda=_lambda, beta=beta, alpha=alpha, num_steps=num_steps, policy=\"softmax\", imp_samp=True, decay=decay, decay_params=decay_params)\n",
    "agent_without_imp = LinearRL(env_name=\"tolman-9x9-nb\",reward=reward, _lambda=_lambda, beta=beta, alpha=alpha, num_steps=num_steps, policy=\"softmax\", imp_samp=False, decay=decay, decay_params=decay_params)\n",
    "agent_with_imp.learn(seed=seed)\n",
    "agent_without_imp.learn(seed=seed)"
   ]
  },
  {
   "cell_type": "code",
   "execution_count": 4,
   "metadata": {},
   "outputs": [],
   "source": [
    "pii_with_imp = decision_policy(agent_with_imp, agent_with_imp.Z)\n",
    "pii_without_imp = decision_policy(agent_without_imp, agent_without_imp.Z)"
   ]
  },
  {
   "cell_type": "code",
   "execution_count": 5,
   "metadata": {},
   "outputs": [],
   "source": [
    "probs_train_with_imp = pii_with_imp[5][prob_locs]\n",
    "probs_train_with_imp_n = probs_train_with_imp / np.sum(probs_train_with_imp)\n",
    "probs_train_without_imp = pii_without_imp[5][prob_locs]\n",
    "probs_train_without_imp_n = probs_train_without_imp / np.sum(probs_train_without_imp)"
   ]
  },
  {
   "cell_type": "code",
   "execution_count": 6,
   "metadata": {},
   "outputs": [],
   "source": [
    "# Get new maze and initialize a new agent\n",
    "env_blocked = gym.make(\"tolman-9x9-b\")\n",
    "maze_blocked = env_blocked.unwrapped.maze\n",
    "new_agent = LinearRL(env_name=\"tolman-9x9-nb\", _lambda=_lambda, beta=beta, alpha=alpha)"
   ]
  },
  {
   "cell_type": "code",
   "execution_count": 7,
   "metadata": {},
   "outputs": [],
   "source": [
    "# Block transition to from state 15 -> state 18\n",
    "transition_state = 15 # 15\n",
    "blocked_state = 18 # 18\n",
    "\n",
    "# Make a new transition matrix that doesn't allow transition to blocked state\n",
    "T_new = np.copy(agent_with_imp.T)\n",
    "\n",
    "# Set transitions to the blocked state to 0\n",
    "T_new[transition_state, blocked_state] = 0\n",
    "T_new[blocked_state, transition_state] = 0\n",
    "\n",
    "# Calculate the sum of transitions for each row, excluding transitions to the blocked state\n",
    "row_sums = np.sum(T_new, axis=1)\n",
    "\n",
    "# Normalize non-zero transitions\n",
    "non_zero_indices = np.where(row_sums != 0)\n",
    "T_new[non_zero_indices] /= row_sums[non_zero_indices][:, np.newaxis]"
   ]
  },
  {
   "cell_type": "markdown",
   "metadata": {},
   "source": [
    "### Detour with importance sampling"
   ]
  },
  {
   "cell_type": "code",
   "execution_count": 8,
   "metadata": {},
   "outputs": [],
   "source": [
    "D_new_with = woodbury(agent_with_imp, T_new, inv=False)"
   ]
  },
  {
   "cell_type": "code",
   "execution_count": 9,
   "metadata": {},
   "outputs": [
    {
     "name": "stdout",
     "output_type": "stream",
     "text": [
      "13.934958046583457 11.386806191722048 11.622457897061931\n"
     ]
    }
   ],
   "source": [
    "Z_values_with, V_values_with = np.zeros(new_agent.size), np.zeros(new_agent.size)\n",
    "Z_values_with[~agent_with_imp.terminals] = D_new_with[~agent_with_imp.terminals][:,~agent_with_imp.terminals] @ agent_with_imp.P @ np.array([np.exp(20)])\n",
    "Z_values_with[agent_with_imp.terminals] = np.exp(20)\n",
    "\n",
    "np.where(Z_values_with == np.min(Z_values_with))\n",
    "Z_values_with += np.abs(np.min(Z_values_with)) + 0.1\n",
    "\n",
    "V_values_with = np.log(Z_values_with)\n",
    "print(V_values_with[4], V_values_with[6], V_values_with[12])"
   ]
  },
  {
   "cell_type": "code",
   "execution_count": 10,
   "metadata": {},
   "outputs": [],
   "source": [
    "new_agent.V = V_values_with"
   ]
  },
  {
   "cell_type": "code",
   "execution_count": 18,
   "metadata": {},
   "outputs": [],
   "source": [
    "new_agent.DR = D_new_with\n",
    "new_agent.P = T_new[~new_agent.terminals][:,new_agent.terminals]\n",
    "new_agent.Z = Z_values_with\n",
    "new_agent.V = V_values_with"
   ]
  },
  {
   "cell_type": "code",
   "execution_count": 19,
   "metadata": {},
   "outputs": [],
   "source": [
    "pii = decision_policy(new_agent, new_agent.Z)\n",
    "probs_test_with_imp = pii[5][prob_locs]\n",
    "probs_test_with_imp_n = probs_test_with_imp / np.sum(probs_test_with_imp)"
   ]
  },
  {
   "cell_type": "markdown",
   "metadata": {},
   "source": [
    "### Detour without importance sampling"
   ]
  },
  {
   "cell_type": "code",
   "execution_count": 20,
   "metadata": {},
   "outputs": [],
   "source": [
    "D_new_without = woodbury(agent_without_imp, T_new, inv=False)"
   ]
  },
  {
   "cell_type": "code",
   "execution_count": 21,
   "metadata": {},
   "outputs": [
    {
     "name": "stdout",
     "output_type": "stream",
     "text": [
      "17.016504573983408 16.86446948661454 17.43588811220169\n"
     ]
    }
   ],
   "source": [
    "Z_values_without, V_values_without = np.zeros(new_agent.size), np.zeros(new_agent.size)\n",
    "Z_values_without[~agent_with_imp.terminals] = D_new_without[~agent_without_imp.terminals][:,~agent_without_imp.terminals] @ agent_without_imp.P @ np.array([np.exp(20)])\n",
    "Z_values_without[agent_with_imp.terminals] = np.exp(20)\n",
    "\n",
    "np.where(Z_values_without == np.min(Z_values_without))\n",
    "Z_values_without += np.abs(np.min(Z_values_without)) + 0.1\n",
    "\n",
    "V_values_without = np.log(Z_values_without)\n",
    "print(V_values_without[4], V_values_without[6], V_values_without[12])"
   ]
  },
  {
   "cell_type": "code",
   "execution_count": 22,
   "metadata": {},
   "outputs": [],
   "source": [
    "new_agent.DR = D_new_without\n",
    "new_agent.P = T_new[~new_agent.terminals][:,new_agent.terminals]\n",
    "new_agent.Z = Z_values_without\n",
    "new_agent.V = V_values_without"
   ]
  },
  {
   "cell_type": "code",
   "execution_count": 23,
   "metadata": {},
   "outputs": [],
   "source": [
    "pii = decision_policy(new_agent, new_agent.Z)\n",
    "probs_test_without_imp = pii[5][prob_locs]\n",
    "probs_test_without_imp_n = probs_test_without_imp / np.sum(probs_test_without_imp)"
   ]
  },
  {
   "cell_type": "markdown",
   "metadata": {},
   "source": [
    "## Plot Decision Probabilities"
   ]
  },
  {
   "cell_type": "markdown",
   "metadata": {},
   "source": [
    "### With importance sampling"
   ]
  },
  {
   "cell_type": "code",
   "execution_count": 24,
   "metadata": {},
   "outputs": [
    {
     "data": {
      "image/png": "[encoded data removed]",
      "text/plain": [
       "<Figure size 640x480 with 1 Axes>"
      ]
     },
     "metadata": {},
     "output_type": "display_data"
    }
   ],
   "source": [
    "save_path = save_dir + 'detour_with_is.png'\n",
    "plot_decision_prob(probs_train=probs_train_with_imp_n, probs_test=probs_test_with_imp_n, colors=colors, save_path=None)"
   ]
  },
  {
   "cell_type": "markdown",
   "metadata": {},
   "source": [
    "### Without importance sampling"
   ]
  },
  {
   "cell_type": "code",
   "execution_count": 27,
   "metadata": {},
   "outputs": [
    {
     "data": {
      "image/png": "[encoded data removed]",
      "text/plain": [
       "<Figure size 640x480 with 1 Axes>"
      ]
     },
     "metadata": {},
     "output_type": "display_data"
    }
   ],
   "source": [
    "save_path = save_dir + 'detour_without_is.png'\n",
    "plot_decision_prob(probs_train=probs_train_without_imp_n, probs_test=probs_test_without_imp_n, colors=colors, save_path=None)"
   ]
  },
  {
   "cell_type": "code",
   "execution_count": null,
   "metadata": {},
   "outputs": [],
   "source": []
  }
 ],
 "metadata": {
  "kernelspec": {
   "display_name": "gym",
   "language": "python",
   "name": "python3"
  },
  "language_info": {
   "codemirror_mode": {
    "name": "ipython",
    "version": 3
   },
   "file_extension": ".py",
   "mimetype": "text/x-python",
   "name": "python",
   "nbconvert_exporter": "python",
   "pygments_lexer": "ipython3",
   "version": "3.10.0"
  }
 },
 "nbformat": 4,
 "nbformat_minor": 2
}
