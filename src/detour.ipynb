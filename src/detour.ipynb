{
 "cells": [
  {
   "cell_type": "code",
   "execution_count": 1,
   "metadata": {},
   "outputs": [],
   "source": [
    "import os\n",
    "\n",
    "import numpy as np\n",
    "import gymnasium as gym\n",
    "\n",
    "import gym_env\n",
    "from utils import decision_policy, get_full_maze_values, replan_barrier\n",
    "from utils_render import plot_decision_prob\n",
    "from models import LinearRL"
   ]
  },
  {
   "cell_type": "code",
   "execution_count": 2,
   "metadata": {},
   "outputs": [],
   "source": [
    "# Set the random seed for NumPy\n",
    "seed = 42\n",
    "np.random.seed(seed)\n",
    "\n",
    "# Save dir\n",
    "save_dir = os.path.join('..', 'figures/')"
   ]
  },
  {
   "cell_type": "code",
   "execution_count": 3,
   "metadata": {},
   "outputs": [],
   "source": [
    "# def replan_barrier(agent, T, locs, inv=False):\n",
    "#     \"\"\"\n",
    "#     New Environment is the same as the old one, with the inclusion of a new goal state that we want to use the old DR to\n",
    "#     plan towards\n",
    "    \n",
    "#     Args:\n",
    "#     agent (LinearRL class): The LinearRL agent \n",
    "#     T (array): The transition matrix of the new environment\n",
    "#     loc (tuple): Location of the new goal state\n",
    "#     \"\"\"\n",
    "#     L0 = np.diag(np.exp(-agent.r)) - agent.T\n",
    "#     if inv:\n",
    "#         D0 = np.linalg.inv(L0)\n",
    "#     else:\n",
    "#         D0 = agent.gamma * agent.DR\n",
    "#     L = np.diag(np.exp(-agent.r)) - T\n",
    "\n",
    "#     # idx = [agent.mapping[loc], agent.mapping[(9,9)]]\n",
    "\n",
    "#     d = L[locs, :] - L0[locs, :]\n",
    "#     m0 = D0[:,locs]\n",
    "\n",
    "#     c = np.zeros_like(m0)\n",
    "#     c[locs[0], 0] = 1\n",
    "#     c[locs[1], 1] = 1\n",
    "\n",
    "#     a = np.linalg.inv(np.eye(len(locs)) + d @ D0 @ c)\n",
    "\n",
    "#     D = D0 - (D0 @ c @ a @ d @ D0)\n",
    "\n",
    "#     return D\n",
    "\n",
    "def pretty_print_values(agent):\n",
    "    values = get_full_maze_values(agent)\n",
    "    max_width = max(len(\"{:.2f}\".format(value)) for row in values for value in row if not np.isinf(value))\n",
    "\n",
    "    # Print the matrix\n",
    "    for row in values:\n",
    "        for value in row:\n",
    "            if np.isinf(value):\n",
    "                print(\"{:>{}}\".format(\"-inf\", max_width), end=\" \")\n",
    "            else:\n",
    "                print(\"{:>{}}\".format(\"{:.2f}\".format(value), max_width), end=\" \")\n",
    "        print()"
   ]
  },
  {
   "cell_type": "markdown",
   "metadata": {},
   "source": [
    "## Learn DR-TD"
   ]
  },
  {
   "cell_type": "code",
   "execution_count": 4,
   "metadata": {},
   "outputs": [],
   "source": [
    "# Hyperparams\n",
    "alpha = 0.05 # 0.001\n",
    "beta = 1.2\n",
    "_lambda = 1.0\n",
    "num_steps = 20000 # 250000\n",
    "\n",
    "# For plotting\n",
    "prob_locs = [12, 4, 6]\n",
    "colors = [3, 2, 4]"
   ]
  },
  {
   "cell_type": "code",
   "execution_count": 5,
   "metadata": {},
   "outputs": [],
   "source": [
    "agent_with_imp = LinearRL(env_name=\"tolman-9x9-nb\", _lambda=_lambda, beta=beta, alpha=alpha, num_steps=num_steps, policy=\"softmax\", imp_samp=True)\n",
    "# agent_without_imp = LinearRL(env_name=\"tolman-9x9-nb\", _lambda=_lambda, beta=beta, alpha=alpha, num_steps=num_steps, policy=\"softmax\", imp_samp=False)\n",
    "agent_with_imp.learn(seed=seed)\n",
    "# agent_without_imp.learn(seed=seed)"
   ]
  },
  {
   "cell_type": "code",
   "execution_count": 6,
   "metadata": {},
   "outputs": [],
   "source": [
    "pii_with_imp = decision_policy(agent_with_imp, agent_with_imp.Z)\n",
    "# pii_without_imp = decision_policy(agent_without_imp, agent_without_imp.Z)"
   ]
  },
  {
   "cell_type": "code",
   "execution_count": 7,
   "metadata": {},
   "outputs": [],
   "source": [
    "probs_train_with_imp = pii_with_imp[5][prob_locs]\n",
    "probs_train_with_imp_n = probs_train_with_imp / np.sum(probs_train_with_imp)\n",
    "# probs_train_without_imp = pii_without_imp[5][prob_locs]\n",
    "# probs_train_without_imp_n = probs_train_without_imp / np.sum(probs_train_without_imp)"
   ]
  },
  {
   "cell_type": "code",
   "execution_count": 8,
   "metadata": {},
   "outputs": [],
   "source": [
    "D_inv = agent_with_imp.get_D_inv()"
   ]
  },
  {
   "cell_type": "code",
   "execution_count": 9,
   "metadata": {},
   "outputs": [
    {
     "name": "stdout",
     "output_type": "stream",
     "text": [
      "absolute error\n",
      "1.1102230246251565e-16 1.4887258835473652e-18\n",
      "0.2804715264827544 0.0033480124733584284\n",
      "0.7624006538382413 0.009100841467784438\n",
      "relative error\n",
      "175325.40337734207 2421.6463120887324\n"
     ]
    }
   ],
   "source": [
    "D0_inv = np.linalg.inv(np.diag(np.exp(-agent_with_imp.r/agent_with_imp._lambda)) - agent_with_imp.T)\n",
    "print(\"absolute error\")\n",
    "print(np.max(np.abs(D0_inv - agent_with_imp.gamma * D_inv)), np.mean(np.abs(D0_inv - agent_with_imp.gamma * D_inv)))\n",
    "print(np.max(np.abs(D0_inv - agent_with_imp.gamma * agent_with_imp.DR)), np.mean(np.abs(D0_inv - agent_with_imp.gamma * agent_with_imp.DR)))\n",
    "print(np.max(np.abs(agent_with_imp.DR - D_inv)), np.mean(np.abs(agent_with_imp.DR - D_inv)))\n",
    "\n",
    "# print(np.max(np.abs(((agent_with_imp.gamma * D_inv) / D0_inv) - 1)), np.mean(np.abs(((agent_with_imp.gamma * D_inv) / D0_inv) - 1)))\n",
    "# print(np.max(np.abs(((agent_with_imp.gamma * agent_with_imp.DR) / D0_inv) - 1)), np.mean(np.abs(((agent_with_imp.gamma * agent_with_imp.DR) / D0_inv) - 1)))\n",
    "print(\"relative error\")\n",
    "print(np.max(np.abs((agent_with_imp.DR[:-1, :-1] / D_inv[:-1, :-1])-1)), np.mean(np.abs((agent_with_imp.DR[:-1, :-1] / D_inv[:-1, :-1]) - 1)))"
   ]
  },
  {
   "cell_type": "code",
   "execution_count": 10,
   "metadata": {},
   "outputs": [
    {
     "data": {
      "text/plain": [
       "array([-1, -1, -1, -1, -1, -1, -1, -1, -1, -1, -1, -1, -1, -1, -1, -1, -1,\n",
       "       -1, -1, -1, -1, -1, -1, -1, -1, -1, -1, -1, -1, -1, -1])"
      ]
     },
     "execution_count": 10,
     "metadata": {},
     "output_type": "execute_result"
    }
   ],
   "source": [
    "agent_with_imp.r"
   ]
  },
  {
   "cell_type": "code",
   "execution_count": 11,
   "metadata": {},
   "outputs": [
    {
     "name": "stdout",
     "output_type": "stream",
     "text": [
      "absolute error\n",
      "1.1102230246251565e-16 1.4887258835473652e-18\n",
      "0.2804715264827544 0.0033480124733584284\n",
      "0.7624006538382413 0.009100841467784438\n",
      "relative error\n",
      "175325.40337734207 2421.6463120887324\n"
     ]
    }
   ],
   "source": [
    "D0_inv = np.linalg.inv(np.diag(np.exp(-agent_with_imp.r/agent_with_imp._lambda)) - agent_with_imp.T)\n",
    "print(\"absolute error\")\n",
    "print(np.max(np.abs(D0_inv - agent_with_imp.gamma * D_inv)), np.mean(np.abs(D0_inv - agent_with_imp.gamma * D_inv)))\n",
    "print(np.max(np.abs(D0_inv - agent_with_imp.gamma * agent_with_imp.DR)), np.mean(np.abs(D0_inv - agent_with_imp.gamma * agent_with_imp.DR)))\n",
    "print(np.max(np.abs(agent_with_imp.DR - D_inv)), np.mean(np.abs(agent_with_imp.DR - D_inv)))\n",
    "\n",
    "# print(np.max(np.abs(((agent_with_imp.gamma * D_inv) / D0_inv) - 1)), np.mean(np.abs(((agent_with_imp.gamma * D_inv) / D0_inv) - 1)))\n",
    "# print(np.max(np.abs(((agent_with_imp.gamma * agent_with_imp.DR) / D0_inv) - 1)), np.mean(np.abs(((agent_with_imp.gamma * agent_with_imp.DR) / D0_inv) - 1)))\n",
    "print(\"relative error\")\n",
    "print(np.max(np.abs(agent_with_imp.DR[:-1, :-1] - D_inv[:-1, :-1]) / D_inv[:-1, :-1]), np.mean(np.abs(agent_with_imp.DR[:-1, :-1] - D_inv[:-1, :-1]) / D_inv[:-1, :-1]))"
   ]
  },
  {
   "cell_type": "code",
   "execution_count": 28,
   "metadata": {},
   "outputs": [
    {
     "name": "stdout",
     "output_type": "stream",
     "text": [
      "0.5819767068693265 0.5819767068693265\n"
     ]
    }
   ],
   "source": [
    "print(D0_inv[30][30], agent_with_imp.gamma * D_inv[30][30])"
   ]
  },
  {
   "cell_type": "code",
   "execution_count": 29,
   "metadata": {},
   "outputs": [],
   "source": [
    "# Get new maze and initialize a new agent\n",
    "env_blocked = gym.make(\"tolman-9x9-b\")\n",
    "maze_blocked = env_blocked.unwrapped.maze\n",
    "new_agent = LinearRL(env_name=\"tolman-9x9-nb\", _lambda=_lambda, beta=beta, alpha=alpha)"
   ]
  },
  {
   "cell_type": "code",
   "execution_count": 30,
   "metadata": {},
   "outputs": [],
   "source": [
    "# Block transition to from state 12 -> state 15\n",
    "delta_locs = [12, 18, 15]\n",
    "blocked_state = 15\n",
    "\n",
    "# Make a new transition matrix that doesn't allow transition to blocked state\n",
    "T_new = np.copy(agent_with_imp.T)\n",
    "\n",
    "# Set transitions to the blocked state to 0\n",
    "T_new[12, blocked_state] = 0\n",
    "T_new[blocked_state, 12] = 0\n",
    "\n",
    "# Calculate the sum of transitions for each row, excluding transitions to the blocked state\n",
    "row_sums = np.sum(T_new, axis=1)\n",
    "\n",
    "# Normalize non-zero transitions\n",
    "non_zero_indices = np.where(row_sums != 0)\n",
    "T_new[non_zero_indices] /= row_sums[non_zero_indices][:, np.newaxis]"
   ]
  },
  {
   "cell_type": "markdown",
   "metadata": {},
   "source": [
    "### Detour with importance sampling"
   ]
  },
  {
   "cell_type": "code",
   "execution_count": 31,
   "metadata": {},
   "outputs": [],
   "source": [
    "# agent_with_imp.DR[4][29] = D_inv[4][29]\n",
    "# agent_with_imp.DR[4][30] = D_inv[4][30]\n",
    "# agent_with_imp.DR[6][29] = D_inv[5][29]\n",
    "# agent_with_imp.DR = D_inv"
   ]
  },
  {
   "cell_type": "code",
   "execution_count": 32,
   "metadata": {},
   "outputs": [],
   "source": [
    "D = replan_barrier(agent_with_imp, T_new, delta_locs, inv=False)"
   ]
  },
  {
   "cell_type": "code",
   "execution_count": 33,
   "metadata": {},
   "outputs": [],
   "source": [
    "# agent_with_imp.DR = D_inv\n",
    "# agent_with_imp.update_V()\n",
    "# pretty_print_values(agent_with_imp)"
   ]
  },
  {
   "cell_type": "code",
   "execution_count": 34,
   "metadata": {},
   "outputs": [
    {
     "name": "stdout",
     "output_type": "stream",
     "text": [
      "  -inf   -inf   -inf -14.57   -inf   -inf   -inf   -inf   -inf \n",
      "  -inf   -inf   -inf -13.66   -inf   -inf   -inf   -inf   -inf \n",
      "-15.67 -15.12 -13.55 -11.70 -13.44 -15.21 -16.99 -18.58 -18.94 \n",
      "-14.33   -inf   -inf  -9.09   -inf   -inf   -inf   -inf -17.38 \n",
      "-12.94   -inf   -inf  -7.13   -inf   -inf   -inf   -inf -15.59 \n",
      "-11.01   -inf   -inf  -5.61   -inf   -inf   -inf   -inf -13.82 \n",
      " -9.38  -7.29  -5.56  -4.39  -5.73  -7.27  -9.21 -10.84 -12.43 \n",
      "  -inf   -inf   -inf  -1.67   -inf   -inf   -inf   -inf   -inf \n",
      "  -inf   -inf   -inf  -1.00   -inf   -inf   -inf   -inf   -inf \n"
     ]
    }
   ],
   "source": [
    "pretty_print_values(agent_with_imp)"
   ]
  },
  {
   "cell_type": "code",
   "execution_count": 35,
   "metadata": {},
   "outputs": [
    {
     "name": "stderr",
     "output_type": "stream",
     "text": [
      "/Users/abizzle/Research/LinearRL-TD/src/models.py:88: RuntimeWarning: invalid value encountered in log\n",
      "  self.V = np.round(np.log(self.Z), 2)\n"
     ]
    }
   ],
   "source": [
    "new_agent.DR = D\n",
    "new_agent.P = T_new[~new_agent.terminals][:,new_agent.terminals]\n",
    "new_agent.update_V()"
   ]
  },
  {
   "cell_type": "code",
   "execution_count": 36,
   "metadata": {},
   "outputs": [
    {
     "name": "stdout",
     "output_type": "stream",
     "text": [
      "  -inf   -inf   -inf    nan   -inf   -inf   -inf   -inf   -inf \n",
      "  -inf   -inf   -inf    nan   -inf   -inf   -inf   -inf   -inf \n",
      "-17.57    nan    nan    nan    nan    nan    nan    nan -21.34 \n",
      "-15.36   -inf   -inf    nan   -inf   -inf   -inf   -inf -18.41 \n",
      "-13.94   -inf   -inf  -7.50   -inf   -inf   -inf   -inf -16.59 \n",
      "-12.01   -inf   -inf  -6.58   -inf   -inf   -inf   -inf -14.82 \n",
      "-10.38  -8.29  -6.56  -5.39  -6.73  -8.27 -10.21 -11.84 -13.43 \n",
      "  -inf   -inf   -inf  -2.67   -inf   -inf   -inf   -inf   -inf \n",
      "  -inf   -inf   -inf  -1.00   -inf   -inf   -inf   -inf   -inf \n"
     ]
    }
   ],
   "source": [
    "pretty_print_values(new_agent)"
   ]
  },
  {
   "cell_type": "code",
   "execution_count": 42,
   "metadata": {},
   "outputs": [],
   "source": [
    "pii = decision_policy(new_agent, new_agent.Z)\n",
    "probs_test_with_imp = pii[5][prob_locs]\n",
    "probs_test_with_imp_n = probs_test_with_imp / np.sum(probs_test_with_imp)"
   ]
  },
  {
   "cell_type": "markdown",
   "metadata": {},
   "source": [
    "### Detour without importance sampling"
   ]
  },
  {
   "cell_type": "code",
   "execution_count": 43,
   "metadata": {},
   "outputs": [
    {
     "ename": "NameError",
     "evalue": "name 'agent_without_imp' is not defined",
     "output_type": "error",
     "traceback": [
      "\u001b[0;31m---------------------------------------------------------------------------\u001b[0m",
      "\u001b[0;31mNameError\u001b[0m                                 Traceback (most recent call last)",
      "Cell \u001b[0;32mIn[43], line 1\u001b[0m\n\u001b[0;32m----> 1\u001b[0m D \u001b[38;5;241m=\u001b[39m replan_barrier(\u001b[43magent_without_imp\u001b[49m, T_new, delta_locs)\n",
      "\u001b[0;31mNameError\u001b[0m: name 'agent_without_imp' is not defined"
     ]
    }
   ],
   "source": [
    "D = replan_barrier(agent_without_imp, T_new, delta_locs)"
   ]
  },
  {
   "cell_type": "code",
   "execution_count": 44,
   "metadata": {},
   "outputs": [],
   "source": [
    "new_agent.DR = D\n",
    "new_agent.P = T_new[~new_agent.terminals][:,new_agent.terminals]\n",
    "new_agent.update_V()"
   ]
  },
  {
   "cell_type": "code",
   "execution_count": 45,
   "metadata": {},
   "outputs": [],
   "source": [
    "pii = decision_policy(new_agent, new_agent.Z)\n",
    "probs_test_without_imp = pii[5][prob_locs]\n",
    "probs_test_without_imp_n = probs_test_without_imp / np.sum(probs_test_without_imp)"
   ]
  },
  {
   "cell_type": "markdown",
   "metadata": {},
   "source": [
    "## Plot Decision Probabilities"
   ]
  },
  {
   "cell_type": "markdown",
   "metadata": {},
   "source": [
    "### With importance sampling"
   ]
  },
  {
   "cell_type": "code",
   "execution_count": 46,
   "metadata": {},
   "outputs": [
    {
     "data": {
      "image/png": "[encoded data removed]",
      "text/plain": [
       "<Figure size 640x480 with 1 Axes>"
      ]
     },
     "metadata": {},
     "output_type": "display_data"
    }
   ],
   "source": [
    "save_path = save_dir + 'detour_with_is.png'\n",
    "plot_decision_prob(probs_train=probs_train_with_imp_n, probs_test=probs_test_with_imp_n, colors=colors, save_path=None)"
   ]
  },
  {
   "cell_type": "markdown",
   "metadata": {},
   "source": [
    "### Without importance sampling"
   ]
  },
  {
   "cell_type": "code",
   "execution_count": 81,
   "metadata": {},
   "outputs": [
    {
     "data": {
      "image/png": "[encoded data removed]",
      "text/plain": [
       "<Figure size 640x480 with 1 Axes>"
      ]
     },
     "metadata": {},
     "output_type": "display_data"
    }
   ],
   "source": [
    "save_path = save_dir + 'detour_without_is.png'\n",
    "plot_decision_prob(probs_train=probs_train_without_imp_n, probs_test=probs_test_without_imp_n, colors=colors, save_path=None)"
   ]
  },
  {
   "cell_type": "code",
   "execution_count": null,
   "metadata": {},
   "outputs": [],
   "source": []
  }
 ],
 "metadata": {
  "kernelspec": {
   "display_name": "gym",
   "language": "python",
   "name": "python3"
  },
  "language_info": {
   "codemirror_mode": {
    "name": "ipython",
    "version": 3
   },
   "file_extension": ".py",
   "mimetype": "text/x-python",
   "name": "python",
   "nbconvert_exporter": "python",
   "pygments_lexer": "ipython3",
   "version": "3.10.0"
  }
 },
 "nbformat": 4,
 "nbformat_minor": 2
}
