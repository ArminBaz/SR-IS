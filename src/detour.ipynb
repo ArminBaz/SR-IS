{
 "cells": [
  {
   "cell_type": "code",
   "execution_count": 2,
   "metadata": {},
   "outputs": [],
   "source": [
    "import os\n",
    "\n",
    "import numpy as np\n",
    "import seaborn as sns\n",
    "import matplotlib.pyplot as plt\n",
    "import gymnasium as gym\n",
    "\n",
    "import gym_env\n",
    "from utils import decision_policy, woodbury, woodbury_SR, decision_policy_SR\n",
    "from utils_render import plot_decision_prob_detour\n",
    "from models import SR_IS, SR_TD"
   ]
  },
  {
   "cell_type": "code",
   "execution_count": 3,
   "metadata": {},
   "outputs": [],
   "source": [
    "seeds = np.arange(70)\n",
    "\n",
    "## Parameters\n",
    "reward = -0.01\n",
    "alpha = 0.1\n",
    "beta = 1.0\n",
    "_lambda = 1.0\n",
    "num_steps = 120000\n",
    "decay = False\n",
    "decay_params = [0.99, 150]\n",
    "\n",
    "# For plotting\n",
    "prob_locs = [12, 4, 6]\n",
    "colors = [3, 2, 4]\n",
    "\n",
    "# Save dir\n",
    "save_dir = os.path.join('..', 'figures/')"
   ]
  },
  {
   "cell_type": "code",
   "execution_count": 4,
   "metadata": {},
   "outputs": [
    {
     "name": "stdout",
     "output_type": "stream",
     "text": [
      "Seed: 0\n"
     ]
    },
    {
     "name": "stderr",
     "output_type": "stream",
     "text": [
      "/var/folders/sf/4_xlxj4j2r1_sx5v07843wbw0000gn/T/ipykernel_93286/889261101.py:59: RuntimeWarning: divide by zero encountered in log\n",
      "  V_values_with = np.log(Z_values_with)\n"
     ]
    },
    {
     "name": "stdout",
     "output_type": "stream",
     "text": [
      "Seed: 1\n",
      "Seed: 2\n",
      "Seed: 3\n",
      "Seed: 4\n",
      "Seed: 5\n",
      "Seed: 6\n"
     ]
    },
    {
     "name": "stderr",
     "output_type": "stream",
     "text": [
      "/Users/abizzle/Research/SR-IS/src/utils.py:299: RuntimeWarning: divide by zero encountered in divide\n",
      "  zg = expv_tiled / G\n",
      "/Users/abizzle/Research/SR-IS/src/utils.py:299: RuntimeWarning: invalid value encountered in divide\n",
      "  zg = expv_tiled / G\n",
      "/Users/abizzle/Research/SR-IS/src/utils.py:300: RuntimeWarning: invalid value encountered in multiply\n",
      "  pii = agent.T * zg\n"
     ]
    },
    {
     "name": "stdout",
     "output_type": "stream",
     "text": [
      "Seed: 7\n",
      "Seed: 8\n",
      "Seed: 9\n",
      "Seed: 10\n",
      "Seed: 11\n",
      "Seed: 12\n",
      "Seed: 13\n",
      "Seed: 14\n",
      "Seed: 15\n",
      "Seed: 16\n",
      "Seed: 17\n",
      "Seed: 18\n",
      "Seed: 19\n",
      "Seed: 20\n",
      "Seed: 21\n",
      "Seed: 22\n",
      "Seed: 23\n",
      "Seed: 24\n",
      "Seed: 25\n",
      "Seed: 26\n",
      "Seed: 27\n",
      "Seed: 28\n",
      "Seed: 29\n",
      "Seed: 30\n",
      "Seed: 31\n",
      "Seed: 32\n",
      "Seed: 33\n",
      "Seed: 34\n",
      "Seed: 35\n",
      "Seed: 36\n",
      "Seed: 37\n",
      "Seed: 38\n",
      "Seed: 39\n",
      "Seed: 40\n",
      "Seed: 41\n",
      "Seed: 42\n",
      "Seed: 43\n",
      "Seed: 44\n",
      "Seed: 45\n",
      "Seed: 46\n",
      "Seed: 47\n",
      "Seed: 48\n",
      "Seed: 49\n",
      "Seed: 50\n",
      "Seed: 51\n",
      "Seed: 52\n",
      "Seed: 53\n",
      "Seed: 54\n",
      "Seed: 55\n",
      "Seed: 56\n",
      "Seed: 57\n",
      "Seed: 58\n",
      "Seed: 59\n",
      "Seed: 60\n",
      "Seed: 61\n",
      "Seed: 62\n",
      "Seed: 63\n",
      "Seed: 64\n",
      "Seed: 65\n",
      "Seed: 66\n",
      "Seed: 67\n",
      "Seed: 68\n",
      "Seed: 69\n"
     ]
    }
   ],
   "source": [
    "train_SR = []\n",
    "test_SR = []\n",
    "train_SR_IS = []\n",
    "test_SR_IS = []\n",
    "\n",
    "for seed in seeds:\n",
    "    print(f\"Seed: {seed}\")\n",
    "    # Define and train models\n",
    "    SR_IS_agent = SR_IS(env_name=\"tolman-9x9-nb\", reward=reward, term_reward=50, _lambda=_lambda, beta=beta, \n",
    "                           alpha=alpha, num_steps=num_steps, policy=\"softmax\", imp_samp=True, \n",
    "                           decay=decay, decay_params=decay_params)\n",
    "    SR_agent = SR_TD(env_name=\"tolman-9x9-nb\", reward=1, term_reward=50, gamma=0.9, beta=beta, alpha=alpha, num_steps=num_steps, policy=\"softmax\", diag=False)\n",
    "\n",
    "    SR_IS_agent.learn(seed=int(seed))\n",
    "    SR_agent.learn(seed=int(seed))\n",
    "    T_pi = decision_policy_SR(agent=SR_agent)\n",
    "\n",
    "    # Get training decision policy\n",
    "    pii_SR_IS = decision_policy(SR_IS_agent, SR_IS_agent.Z)\n",
    "    pii_SR = T_pi\n",
    "\n",
    "    probs_train_SR_IS = pii_SR_IS[5][prob_locs]\n",
    "    probs_train_SR_IS_n = probs_train_SR_IS / np.sum(probs_train_SR_IS)\n",
    "    probs_train_SR = pii_SR[5][prob_locs]\n",
    "    probs_train_SR_n = probs_train_SR / np.sum(probs_train_SR)\n",
    "\n",
    "    train_SR.append(probs_train_SR_n)\n",
    "    train_SR_IS.append(probs_train_SR_IS_n)\n",
    "\n",
    "    # Get new maze and initialize a new agent\n",
    "    env_blocked = gym.make(\"tolman-9x9-b\")\n",
    "    maze_blocked = env_blocked.unwrapped.maze\n",
    "    new_agent = SR_IS(env_name=\"tolman-9x9-nb\", _lambda=_lambda, beta=beta, alpha=alpha)\n",
    "\n",
    "    # Block transition\n",
    "    transition_state = 12\n",
    "    blocked_state = 15\n",
    "\n",
    "    T_new = np.copy(SR_IS_agent.T)\n",
    "\n",
    "    T_new[transition_state, blocked_state] = 0\n",
    "    T_new[blocked_state, transition_state] = 0\n",
    "\n",
    "    row_sums = np.sum(T_new, axis=1)\n",
    "\n",
    "    non_zero_indices = np.where(row_sums != 0)\n",
    "    T_new[non_zero_indices] /= row_sums[non_zero_indices][:, np.newaxis]\n",
    "\n",
    "    # Update SR-IS with Woodbury\n",
    "    D_new = woodbury(SR_IS_agent, T_new, inv=False)\n",
    "\n",
    "    Z_values_with, V_values_with = np.zeros(new_agent.size), np.zeros(new_agent.size)\n",
    "    Z_values_with[~SR_IS_agent.terminals] = D_new[~SR_IS_agent.terminals][:,~SR_IS_agent.terminals] @ SR_IS_agent.P @ np.array([np.exp(50)])\n",
    "    Z_values_with[SR_IS_agent.terminals] = np.exp(50)\n",
    "\n",
    "    np.where(Z_values_with == np.min(Z_values_with))\n",
    "    Z_values_with += (np.abs(np.min(Z_values_with)) + 0.1)\n",
    "\n",
    "    V_values_with = np.log(Z_values_with)\n",
    "\n",
    "    new_agent.V = V_values_with\n",
    "    new_agent.DR = D_new\n",
    "    new_agent.P = T_new[~new_agent.terminals][:,new_agent.terminals]\n",
    "    new_agent.Z = Z_values_with\n",
    "    new_agent.V = V_values_with\n",
    "\n",
    "    pii_SR_IS = decision_policy(new_agent, new_agent.Z)\n",
    "    probs_test_SR_IS = pii_SR_IS[5][prob_locs]\n",
    "    probs_test_SR_IS_n = probs_test_SR_IS / np.sum(probs_test_SR_IS)\n",
    "\n",
    "    # Update SR with Woodbury\n",
    "    SR_new = woodbury_SR(SR_agent, T_new, T_pi, inv=False)\n",
    "    SR_agent.SR = SR_new\n",
    "    SR_agent.update_V()\n",
    "\n",
    "    pii_SR = decision_policy_SR(agent=SR_agent)\n",
    "    probs_test_SR = pii_SR[5][prob_locs]\n",
    "    probs_test_SR_n = probs_test_SR / np.sum(probs_test_SR)\n",
    "\n",
    "    # Append probs\n",
    "    test_SR.append(probs_test_SR_n)\n",
    "    test_SR_IS.append(probs_test_SR_IS_n)"
   ]
  },
  {
   "cell_type": "markdown",
   "metadata": {},
   "source": [
    "## Plot Decision Probabilities"
   ]
  },
  {
   "cell_type": "markdown",
   "metadata": {},
   "source": [
    "### SR-IS"
   ]
  },
  {
   "cell_type": "code",
   "execution_count": 5,
   "metadata": {},
   "outputs": [
    {
     "data": {
      "image/png": "[encoded data removed]",
      "text/plain": [
       "<Figure size 640x480 with 1 Axes>"
      ]
     },
     "metadata": {},
     "output_type": "display_data"
    }
   ],
   "source": [
    "save_path = save_dir + 'detour_SR-IS.png'\n",
    "plot_decision_prob_detour(probs_train=train_SR_IS, probs_test=test_SR_IS, colors=colors, title='SR-IS', save_path=None)"
   ]
  },
  {
   "cell_type": "markdown",
   "metadata": {},
   "source": [
    "### SR"
   ]
  },
  {
   "cell_type": "code",
   "execution_count": 6,
   "metadata": {},
   "outputs": [
    {
     "data": {
      "image/png": "[encoded data removed]",
      "text/plain": [
       "<Figure size 640x480 with 1 Axes>"
      ]
     },
     "metadata": {},
     "output_type": "display_data"
    }
   ],
   "source": [
    "save_path = save_dir + 'detour_SR.png'\n",
    "plot_decision_prob_detour(probs_train=train_SR, probs_test=test_SR, colors=colors, title='SR', save_path=None)"
   ]
  },
  {
   "cell_type": "code",
   "execution_count": null,
   "metadata": {},
   "outputs": [],
   "source": []
  }
 ],
 "metadata": {
  "kernelspec": {
   "display_name": "gym",
   "language": "python",
   "name": "python3"
  },
  "language_info": {
   "codemirror_mode": {
    "name": "ipython",
    "version": 3
   },
   "file_extension": ".py",
   "mimetype": "text/x-python",
   "name": "python",
   "nbconvert_exporter": "python",
   "pygments_lexer": "ipython3",
   "version": "3.10.0"
  }
 },
 "nbformat": 4,
 "nbformat_minor": 2
}
