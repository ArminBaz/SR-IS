{
 "cells": [
  {
   "cell_type": "code",
   "execution_count": 1,
   "metadata": {},
   "outputs": [],
   "source": [
    "import os\n",
    "import pickle\n",
    "from copy import deepcopy\n",
    "from itertools import islice\n",
    "\n",
    "import numpy as np\n",
    "import matplotlib.pyplot as plt\n",
    "from matplotlib import patches\n",
    "import gymnasium as gym\n",
    "\n",
    "import gym_env\n",
    "from utils import test_agent, get_transition_matrix, create_mapping_nb, woodbury\n",
    "from models import LinearRL"
   ]
  },
  {
   "cell_type": "code",
   "execution_count": 4,
   "metadata": {},
   "outputs": [],
   "source": [
    "# Set the random seed for NumPy\n",
    "seed = 26\n",
    "np.random.seed(seed)\n",
    "\n",
    "# Save dir\n",
    "save_dir = os.path.join('..', 'figures/')"
   ]
  },
  {
   "cell_type": "code",
   "execution_count": 5,
   "metadata": {},
   "outputs": [],
   "source": [
    "no_goal_env = \"maze-10x10-G0\"\n",
    "envs = [\"maze-10x10-G1\", \"maze-10x10-G2\", \"maze-10x10-G3\"]"
   ]
  },
  {
   "cell_type": "code",
   "execution_count": 6,
   "metadata": {},
   "outputs": [],
   "source": [
    "# Hyperparams\n",
    "## This works !!\n",
    "# agent.r = -1\n",
    "# alpha = 0.1\n",
    "# beta = 1.5\n",
    "# _lambda = 1.0\n",
    "# num_steps = 150000\n",
    "\n",
    "## This works !!\n",
    "# agent.r_nt = -1, agent.r_t = 20, or agent.r=-1\n",
    "reward = -1\n",
    "alpha = 0.25\n",
    "beta = 1.5\n",
    "_lambda = 1.0\n",
    "num_steps = 80000"
   ]
  },
  {
   "cell_type": "code",
   "execution_count": 7,
   "metadata": {},
   "outputs": [],
   "source": [
    "# Transition matrix with no goal\n",
    "env = gym.make(no_goal_env)\n",
    "maze = env.unwrapped.maze\n",
    "# Get the transition matrix of the new environment\n",
    "mapping = create_mapping_nb(env.unwrapped.maze, env.unwrapped.get_walls())\n",
    "T_no_goal = get_transition_matrix(env, mapping)"
   ]
  },
  {
   "cell_type": "code",
   "execution_count": 8,
   "metadata": {},
   "outputs": [],
   "source": [
    "agent = LinearRL(env_name=envs[0], reward=reward, _lambda=_lambda, beta=beta, alpha=alpha, num_steps=num_steps, policy=\"softmax\", imp_samp=True)"
   ]
  },
  {
   "cell_type": "code",
   "execution_count": 9,
   "metadata": {},
   "outputs": [
    {
     "data": {
      "text/plain": [
       "array([-1, -1, -1, -1, -1, -1, -1, -1, -1, -1, -1, -1, -1, -1, -1, -1, -1,\n",
       "       -1, -1, -1, -1, -1, -1, -1, -1, -1, -1, -1, -1, -1, -1, -1, -1, -1,\n",
       "       -1, -1, -1, -1, -1, -1, -1, -1, -1, -1, -1, -1, -1, -1, -1, -1, -1,\n",
       "       -1, -1, -1, -1, -1, -1, -1, -1, -1, -1, -1, -1, -1, -1, -1, -1, -1])"
      ]
     },
     "execution_count": 9,
     "metadata": {},
     "output_type": "execute_result"
    }
   ],
   "source": [
    "agent.r"
   ]
  },
  {
   "cell_type": "code",
   "execution_count": 10,
   "metadata": {},
   "outputs": [
    {
     "data": {
      "text/plain": [
       "9"
      ]
     },
     "execution_count": 10,
     "metadata": {},
     "output_type": "execute_result"
    }
   ],
   "source": [
    "agent.target_locs[0][0]"
   ]
  },
  {
   "cell_type": "code",
   "execution_count": 11,
   "metadata": {},
   "outputs": [],
   "source": [
    "D_inv = agent.get_D_inv()"
   ]
  },
  {
   "cell_type": "code",
   "execution_count": 12,
   "metadata": {},
   "outputs": [],
   "source": [
    "agent.learn(seed=seed)\n",
    "D_td = agent.DR"
   ]
  },
  {
   "cell_type": "code",
   "execution_count": 13,
   "metadata": {},
   "outputs": [
    {
     "name": "stdout",
     "output_type": "stream",
     "text": [
      "1.1102230246251565e-16 8.930599179975146e-19\n",
      "1.3842935443116202 0.009318682159061946\n",
      "0.5092531354985941 0.003428151585129998\n"
     ]
    }
   ],
   "source": [
    "D0_inv = np.linalg.inv(np.diag(np.exp(-agent.r)) - agent.T)\n",
    "print(np.max(np.abs(agent.gamma * D_inv - D0_inv)), np.mean(np.abs(agent.gamma * D_inv - D0_inv)))\n",
    "print(np.max(np.abs(D_td - D_inv)), np.mean(np.abs(D_td - D_inv)))\n",
    "print(np.max(np.abs(agent.gamma * D_td - D0_inv)), np.mean(np.abs(agent.gamma * D_td - D0_inv)))"
   ]
  },
  {
   "cell_type": "code",
   "execution_count": 14,
   "metadata": {},
   "outputs": [
    {
     "name": "stdout",
     "output_type": "stream",
     "text": [
      "0.5819767068693265 0.5819767068693265\n"
     ]
    }
   ],
   "source": [
    "print(D0_inv[67][67], agent.gamma * D_inv[67][67])"
   ]
  },
  {
   "cell_type": "markdown",
   "metadata": {},
   "source": [
    "### Find optimal path by reusing Original DR"
   ]
  },
  {
   "cell_type": "code",
   "execution_count": 16,
   "metadata": {},
   "outputs": [
    {
     "name": "stdout",
     "output_type": "stream",
     "text": [
      "(0, 1)\n",
      "Goal at location: (0, 1) | Number of steps: 1\n",
      "(0, 2)\n",
      "Goal at location: (0, 2) | Number of steps: 2\n",
      "(0, 4)\n",
      "Goal at location: (0, 4) | Number of steps: 8\n",
      "(0, 7)\n",
      "Goal at location: (0, 7) | Number of steps: 21\n",
      "(0, 8)\n",
      "Goal at location: (0, 8) | Number of steps: 20\n",
      "(0, 9)\n",
      "Goal at location: (0, 9) | Number of steps: 21\n",
      "(1, 0)\n",
      "Goal at location: (1, 0) | Number of steps: 1\n",
      "(1, 1)\n",
      "Goal at location: (1, 1) | Number of steps: 2\n",
      "(1, 2)\n",
      "Goal at location: (1, 2) | Number of steps: 3\n",
      "(1, 4)\n",
      "Goal at location: (1, 4) | Number of steps: 7\n",
      "(1, 6)\n",
      "Goal at location: (1, 6) | Number of steps: 21\n",
      "(1, 7)\n",
      "Goal at location: (1, 7) | Number of steps: 20\n",
      "(1, 8)\n",
      "Goal at location: (1, 8) | Number of steps: 19\n",
      "(1, 9)\n",
      "Goal at location: (1, 9) | Number of steps: 20\n",
      "(2, 2)\n",
      "Goal at location: (2, 2) | Number of steps: 4\n",
      "(2, 3)\n",
      "Goal at location: (2, 3) | Number of steps: 5\n",
      "(2, 4)\n",
      "Goal at location: (2, 4) | Number of steps: 6\n",
      "(2, 7)\n",
      "Goal at location: (2, 7) | Number of steps: 19\n",
      "(2, 8)\n",
      "Goal at location: (2, 8) | Number of steps: 18\n",
      "(2, 9)\n",
      "Goal at location: (2, 9) | Number of steps: 19\n",
      "(3, 0)\n",
      "Goal at location: (3, 0) | Number of steps: 7\n",
      "(3, 1)\n",
      "Goal at location: (3, 1) | Number of steps: 6\n",
      "(3, 2)\n",
      "Goal at location: (3, 2) | Number of steps: 5\n",
      "(3, 3)\n",
      "Goal at location: (3, 3) | Number of steps: 6\n",
      "(3, 4)\n",
      "Goal at location: (3, 4) | Number of steps: 7\n",
      "(3, 5)\n",
      "Goal at location: (3, 5) | Number of steps: 8\n",
      "(3, 8)\n",
      "Goal at location: (3, 8) | Number of steps: 17\n",
      "(3, 9)\n",
      "Goal at location: (3, 9) | Number of steps: 18\n",
      "(4, 4)\n",
      "Goal at location: (4, 4) | Number of steps: 8\n",
      "(4, 5)\n",
      "Goal at location: (4, 5) | Number of steps: 9\n",
      "(4, 7)\n",
      "Goal at location: (4, 7) | Number of steps: 15\n",
      "(4, 8)\n",
      "Goal at location: (4, 8) | Number of steps: 16\n",
      "(4, 9)\n",
      "Goal at location: (4, 9) | Number of steps: 17\n",
      "(5, 1)\n",
      "Goal at location: (5, 1) | Number of steps: 12\n",
      "(5, 2)\n",
      "Goal at location: (5, 2) | Number of steps: 11\n",
      "(5, 3)\n",
      "Goal at location: (5, 3) | Number of steps: 10\n",
      "(5, 4)\n",
      "Goal at location: (5, 4) | Number of steps: 9\n",
      "(5, 6)\n",
      "Goal at location: (5, 6) | Number of steps: 13\n",
      "(5, 7)\n",
      "Goal at location: (5, 7) | Number of steps: 14\n",
      "(5, 8)\n",
      "Goal at location: (5, 8) | Number of steps: 15\n",
      "(5, 9)\n",
      "Goal at location: (5, 9) | Number of steps: 16\n",
      "(6, 1)\n",
      "Goal at location: (6, 1) | Number of steps: 13\n",
      "(6, 3)\n",
      "Goal at location: (6, 3) | Number of steps: 11\n",
      "(6, 4)\n",
      "Goal at location: (6, 4) | Number of steps: 10\n",
      "(6, 5)\n",
      "Goal at location: (6, 5) | Number of steps: 11\n",
      "(6, 6)\n",
      "Goal at location: (6, 6) | Number of steps: 12\n",
      "(6, 7)\n",
      "Goal at location: (6, 7) | Number of steps: 13\n",
      "(7, 1)\n",
      "Goal at location: (7, 1) | Number of steps: 14\n",
      "(7, 3)\n",
      "Goal at location: (7, 3) | Number of steps: 12\n",
      "(7, 5)\n",
      "Goal at location: (7, 5) | Number of steps: 12\n",
      "(7, 7)\n",
      "Goal at location: (7, 7) | Number of steps: 14\n",
      "(7, 8)\n",
      "Goal at location: (7, 8) | Number of steps: 15\n",
      "(7, 9)\n",
      "Goal at location: (7, 9) | Number of steps: 16\n",
      "(8, 1)\n",
      "Goal at location: (8, 1) | Number of steps: 15\n",
      "(8, 2)\n",
      "Goal at location: (8, 2) | Number of steps: 14\n",
      "(8, 3)\n",
      "Goal at location: (8, 3) | Number of steps: 13\n",
      "(8, 5)\n",
      "Goal at location: (8, 5) | Number of steps: 13\n",
      "(8, 6)\n",
      "Goal at location: (8, 6) | Number of steps: 14\n",
      "(8, 8)\n",
      "Goal at location: (8, 8) | Number of steps: 16\n",
      "(8, 9)\n",
      "Goal at location: (8, 9) | Number of steps: 17\n",
      "(9, 1)\n",
      "Goal at location: (9, 1) | Number of steps: 16\n",
      "(9, 2)\n",
      "Goal at location: (9, 2) | Number of steps: 15\n",
      "(9, 3)\n",
      "Goal at location: (9, 3) | Number of steps: 14\n",
      "(9, 5)\n",
      "Goal at location: (9, 5) | Number of steps: 14\n",
      "(9, 6)\n",
      "Goal at location: (9, 6) | Number of steps: 15\n",
      "(9, 8)\n",
      "Goal at location: (9, 8) | Number of steps: 17\n"
     ]
    }
   ],
   "source": [
    "num_steps_DR_TD = {}\n",
    "\n",
    "# Get an iterator for the dictionary\n",
    "dict_iter = iter(mapping.items())\n",
    "next(dict_iter)\n",
    "\n",
    "# Iterate through the remaining key-value pairs\n",
    "for loc, idx in islice(dict_iter, len(mapping) - 2):\n",
    "    print(loc)\n",
    "    # New agent for testing (copy of original agent)\n",
    "    new_agent = deepcopy(agent)\n",
    "\n",
    "    # Construct a new transition matrix and new environment\n",
    "    T_new = np.copy(T_no_goal)\n",
    "    T_new[idx] = 0\n",
    "    T_new[idx, idx] = 1\n",
    "    env_new = env\n",
    "    env_new.unwrapped.target_locs = [np.array((loc[0], loc[1]))]\n",
    "    new_agent.env = env_new\n",
    "\n",
    "    # Use Woodbury to get a new DR\n",
    "    D = woodbury(new_agent, T_new, inv=False)\n",
    "\n",
    "    # Update new_agent terminals and target loc\n",
    "    new_agent.terminals = np.diag(T_new) == 1\n",
    "    new_agent.target_locs = np.array([list(loc)])\n",
    "\n",
    "    # Update reward and P\n",
    "    new_agent.r[new_agent.terminals] = 20\n",
    "    new_agent.expr_t = np.exp(new_agent.r[new_agent.terminals] / new_agent._lambda)\n",
    "    new_agent.P = T_new[~new_agent.terminals][:,new_agent.terminals]\n",
    "\n",
    "    # Calculate values\n",
    "    Z_values, V_values = np.zeros(new_agent.size), np.zeros(new_agent.size)\n",
    "    Z_values[~new_agent.terminals] = D[~new_agent.terminals][:,~new_agent.terminals] @ new_agent.P @ new_agent.expr_t\n",
    "    Z_values[new_agent.terminals] = new_agent.expr_t\n",
    "\n",
    "    V_values = np.log(Z_values)\n",
    "    new_agent.V = V_values\n",
    "    \n",
    "    traj = test_agent(new_agent)\n",
    "    print(f\"Goal at location: {loc} | Number of steps: {len(traj)}\")\n",
    "    num_steps_DR_TD[loc] = len(traj)"
   ]
  },
  {
   "cell_type": "code",
   "execution_count": 25,
   "metadata": {},
   "outputs": [],
   "source": [
    "# Save the dictionary to a file\n",
    "# pickle.dump(num_steps_DR_TD, open('../out/num_steps_DR_TD_v2.pkl', 'wb'))"
   ]
  },
  {
   "cell_type": "markdown",
   "metadata": {},
   "source": [
    "### BFS Approach for finding the optimal path"
   ]
  },
  {
   "cell_type": "code",
   "execution_count": 18,
   "metadata": {},
   "outputs": [],
   "source": [
    "from collections import deque\n",
    "\n",
    "def find_optimal_path(maze, start, end):\n",
    "    visited = set()\n",
    "    queue = deque([(tuple(start), [start])])\n",
    "\n",
    "    while queue:\n",
    "        current, path = queue.popleft()\n",
    "        if np.array_equal(current, end):\n",
    "            return path\n",
    "\n",
    "        if current in visited:\n",
    "            continue\n",
    "\n",
    "        visited.add(current)\n",
    "\n",
    "        for successor in env.unwrapped.get_successor_states(current):\n",
    "            neighbor = successor[0]\n",
    "            if tuple(neighbor) not in visited:\n",
    "                queue.append((tuple(neighbor), path + [neighbor]))\n",
    "\n",
    "    return None"
   ]
  },
  {
   "cell_type": "markdown",
   "metadata": {},
   "source": [
    "### Find optimal path via exhaustive search"
   ]
  },
  {
   "cell_type": "code",
   "execution_count": 20,
   "metadata": {},
   "outputs": [
    {
     "name": "stdout",
     "output_type": "stream",
     "text": [
      "Goal at location: (0, 1) | Number of steps: 1\n",
      "Goal at location: (0, 2) | Number of steps: 2\n",
      "Goal at location: (0, 4) | Number of steps: 8\n",
      "Goal at location: (0, 7) | Number of steps: 21\n",
      "Goal at location: (0, 8) | Number of steps: 20\n",
      "Goal at location: (0, 9) | Number of steps: 21\n",
      "Goal at location: (1, 0) | Number of steps: 1\n",
      "Goal at location: (1, 1) | Number of steps: 2\n",
      "Goal at location: (1, 2) | Number of steps: 3\n",
      "Goal at location: (1, 4) | Number of steps: 7\n",
      "Goal at location: (1, 6) | Number of steps: 21\n",
      "Goal at location: (1, 7) | Number of steps: 20\n",
      "Goal at location: (1, 8) | Number of steps: 19\n",
      "Goal at location: (1, 9) | Number of steps: 20\n",
      "Goal at location: (2, 2) | Number of steps: 4\n",
      "Goal at location: (2, 3) | Number of steps: 5\n",
      "Goal at location: (2, 4) | Number of steps: 6\n",
      "Goal at location: (2, 7) | Number of steps: 19\n",
      "Goal at location: (2, 8) | Number of steps: 18\n",
      "Goal at location: (2, 9) | Number of steps: 19\n",
      "Goal at location: (3, 0) | Number of steps: 7\n",
      "Goal at location: (3, 1) | Number of steps: 6\n",
      "Goal at location: (3, 2) | Number of steps: 5\n",
      "Goal at location: (3, 3) | Number of steps: 6\n",
      "Goal at location: (3, 4) | Number of steps: 7\n",
      "Goal at location: (3, 5) | Number of steps: 8\n",
      "Goal at location: (3, 8) | Number of steps: 17\n",
      "Goal at location: (3, 9) | Number of steps: 18\n",
      "Goal at location: (4, 4) | Number of steps: 8\n",
      "Goal at location: (4, 5) | Number of steps: 9\n",
      "Goal at location: (4, 7) | Number of steps: 15\n",
      "Goal at location: (4, 8) | Number of steps: 16\n",
      "Goal at location: (4, 9) | Number of steps: 17\n",
      "Goal at location: (5, 1) | Number of steps: 12\n",
      "Goal at location: (5, 2) | Number of steps: 11\n",
      "Goal at location: (5, 3) | Number of steps: 10\n",
      "Goal at location: (5, 4) | Number of steps: 9\n",
      "Goal at location: (5, 6) | Number of steps: 13\n",
      "Goal at location: (5, 7) | Number of steps: 14\n",
      "Goal at location: (5, 8) | Number of steps: 15\n",
      "Goal at location: (5, 9) | Number of steps: 16\n",
      "Goal at location: (6, 1) | Number of steps: 13\n",
      "Goal at location: (6, 3) | Number of steps: 11\n",
      "Goal at location: (6, 4) | Number of steps: 10\n",
      "Goal at location: (6, 5) | Number of steps: 11\n",
      "Goal at location: (6, 6) | Number of steps: 12\n",
      "Goal at location: (6, 7) | Number of steps: 13\n",
      "Goal at location: (7, 1) | Number of steps: 14\n",
      "Goal at location: (7, 3) | Number of steps: 12\n",
      "Goal at location: (7, 5) | Number of steps: 12\n",
      "Goal at location: (7, 7) | Number of steps: 14\n",
      "Goal at location: (7, 8) | Number of steps: 15\n",
      "Goal at location: (7, 9) | Number of steps: 16\n",
      "Goal at location: (8, 1) | Number of steps: 15\n",
      "Goal at location: (8, 2) | Number of steps: 14\n",
      "Goal at location: (8, 3) | Number of steps: 13\n",
      "Goal at location: (8, 5) | Number of steps: 13\n",
      "Goal at location: (8, 6) | Number of steps: 14\n",
      "Goal at location: (8, 8) | Number of steps: 16\n",
      "Goal at location: (8, 9) | Number of steps: 17\n",
      "Goal at location: (9, 1) | Number of steps: 16\n",
      "Goal at location: (9, 2) | Number of steps: 15\n",
      "Goal at location: (9, 3) | Number of steps: 14\n",
      "Goal at location: (9, 5) | Number of steps: 14\n",
      "Goal at location: (9, 6) | Number of steps: 15\n",
      "Goal at location: (9, 8) | Number of steps: 17\n"
     ]
    }
   ],
   "source": [
    "num_steps_exhaustive = {}\n",
    "\n",
    "# Get an iterator for the dictionary\n",
    "dict_iter = iter(mapping.items())\n",
    "next(dict_iter)\n",
    "\n",
    "# Original starting location\n",
    "start_loc = agent.start_loc\n",
    "\n",
    "# Iterate through the remaining key-value pairs\n",
    "for loc, idx in islice(dict_iter, len(mapping) - 2):\n",
    "    # New end location\n",
    "    target_loc = np.array((loc[0], loc[1]))\n",
    "\n",
    "    # New agent for testing (copy of original agent)\n",
    "    new_agent = deepcopy(agent)\n",
    "\n",
    "    # Construct a new transition matrix and new environment\n",
    "    T_new = np.copy(T_no_goal)\n",
    "    T_new[idx, idx] = 1\n",
    "    env_new = env\n",
    "    env_new.unwrapped.target_locs = [target_loc]\n",
    "\n",
    "    # Find the optimal path\n",
    "    path = find_optimal_path(env_new, start=start_loc, end=target_loc)\n",
    "    if path is not None:\n",
    "        print(f\"Goal at location: {loc} | Number of steps: {len(path)-1}\")\n",
    "        num_steps_exhaustive[loc] = len(path) - 1\n",
    "    "
   ]
  },
  {
   "cell_type": "code",
   "execution_count": 24,
   "metadata": {},
   "outputs": [],
   "source": [
    "# Save the dictionary to a file\n",
    "# pickle.dump(num_steps_exhaustive, open('../out/num_steps_exhaustive.pkl', 'wb'))"
   ]
  },
  {
   "cell_type": "markdown",
   "metadata": {},
   "source": [
    "### Plot the paths against one another"
   ]
  },
  {
   "cell_type": "code",
   "execution_count": 18,
   "metadata": {},
   "outputs": [],
   "source": [
    "num_steps_DR_TD = pickle.load(open('../out/num_steps_DR_TD_v2.pkl', 'rb'))\n",
    "num_steps_exhaustive = pickle.load(open('../out/num_steps_exhaustive.pkl', 'rb'))"
   ]
  },
  {
   "cell_type": "code",
   "execution_count": 47,
   "metadata": {},
   "outputs": [
    {
     "data": {
      "image/png": "[encoded data removed]",
      "text/plain": [
       "<Figure size 800x800 with 1 Axes>"
      ]
     },
     "metadata": {},
     "output_type": "display_data"
    }
   ],
   "source": [
    "# save_path = save_dir + 'complex_maze_path_length.png'\n",
    "save_path = None\n",
    "\n",
    "# Extract the path lengths and target locations from the dictionaries\n",
    "DR_TD_lengths = list(num_steps_DR_TD.values())\n",
    "exhaustive_lengths = list(num_steps_exhaustive.values())\n",
    "target_locations = list(num_steps_DR_TD.keys())\n",
    "\n",
    "# Create a figure and axis\n",
    "fig, ax = plt.subplots(figsize=(8, 8))\n",
    "\n",
    "# Set the font to serif\n",
    "plt.rcParams['font.family'] = 'serif'\n",
    "\n",
    "# Plot the path lengths as scatter points with violet color\n",
    "ax.scatter(DR_TD_lengths, exhaustive_lengths, color='violet')\n",
    "\n",
    "# Add labels for points with length < 14\n",
    "label_positions = {}\n",
    "for i, location in enumerate(target_locations):\n",
    "    x, y = DR_TD_lengths[i], exhaustive_lengths[i]\n",
    "    if x < 14 and y < 14:\n",
    "        if (x, y) not in label_positions:\n",
    "            label_positions[(x, y)] = [(5, -10)]\n",
    "        else:\n",
    "            prev_x, prev_y = label_positions[(x, y)][-1]\n",
    "            label_positions[(x, y)].append((prev_x + 30, prev_y))  # Increase spacing between labels\n",
    "\n",
    "        xytext = label_positions[(x, y)][-1]\n",
    "        ax.annotate(f\"({location[0]}, {location[1]})\", (x, y),\n",
    "                    textcoords=\"offset points\", xytext=xytext, ha='left', va='top')\n",
    "    elif x >= 14 and y >=14:\n",
    "        if (x, y) not in label_positions:\n",
    "            label_positions[(x, y)] = [(-40, +10)]\n",
    "        else:\n",
    "            prev_x, prev_y = label_positions[(x, y)][-1]\n",
    "            label_positions[(x, y)].append((prev_x - 30, prev_y))  # Increase spacing between labels\n",
    "\n",
    "        xytext = label_positions[(x, y)][-1]\n",
    "        ax.annotate(f\"({location[0]}, {location[1]})\", (x, y),\n",
    "                    textcoords=\"offset points\", xytext=xytext, ha='left', va='top')\n",
    "\n",
    "# Set the labels and title for the plot\n",
    "ax.set_xlabel('DR TD Path Length')\n",
    "ax.set_ylabel('Exhaustive Path Length')\n",
    "\n",
    "# Add a diagonal line representing equal path lengths\n",
    "max_length = max(max(DR_TD_lengths), max(exhaustive_lengths))\n",
    "ax.plot([0, max_length], [0, max_length], 'k--', linewidth=1)\n",
    "\n",
    "# Set equal scales for both axes\n",
    "ax.set_aspect('equal')\n",
    "\n",
    "if save_path is not None:\n",
    "    plt.savefig(save_path, bbox_inches='tight', dpi=300)\n",
    "# Display the plot\n",
    "plt.tight_layout()\n",
    "plt.show()"
   ]
  },
  {
   "cell_type": "code",
   "execution_count": 20,
   "metadata": {},
   "outputs": [
    {
     "data": {
      "text/plain": [
       "{(0, 1): 1,\n",
       " (0, 2): 2,\n",
       " (0, 4): 8,\n",
       " (0, 7): 21,\n",
       " (0, 8): 20,\n",
       " (0, 9): 21,\n",
       " (1, 0): 1,\n",
       " (1, 1): 2,\n",
       " (1, 2): 3,\n",
       " (1, 4): 7,\n",
       " (1, 6): 21,\n",
       " (1, 7): 20,\n",
       " (1, 8): 19,\n",
       " (1, 9): 20,\n",
       " (2, 2): 4,\n",
       " (2, 3): 5,\n",
       " (2, 4): 6,\n",
       " (2, 7): 19,\n",
       " (2, 8): 18,\n",
       " (2, 9): 19,\n",
       " (3, 0): 7,\n",
       " (3, 1): 6,\n",
       " (3, 2): 5,\n",
       " (3, 3): 6,\n",
       " (3, 4): 7,\n",
       " (3, 5): 8,\n",
       " (3, 8): 17,\n",
       " (3, 9): 18,\n",
       " (4, 4): 8,\n",
       " (4, 5): 9,\n",
       " (4, 7): 15,\n",
       " (4, 8): 16,\n",
       " (4, 9): 17,\n",
       " (5, 1): 12,\n",
       " (5, 2): 11,\n",
       " (5, 3): 10,\n",
       " (5, 4): 9,\n",
       " (5, 6): 13,\n",
       " (5, 7): 14,\n",
       " (5, 8): 15,\n",
       " (5, 9): 16,\n",
       " (6, 1): 13,\n",
       " (6, 3): 11,\n",
       " (6, 4): 10,\n",
       " (6, 5): 11,\n",
       " (6, 6): 12,\n",
       " (6, 7): 13,\n",
       " (7, 1): 14,\n",
       " (7, 3): 12,\n",
       " (7, 5): 12,\n",
       " (7, 7): 14,\n",
       " (7, 8): 15,\n",
       " (7, 9): 16,\n",
       " (8, 1): 15,\n",
       " (8, 2): 14,\n",
       " (8, 3): 13,\n",
       " (8, 5): 13,\n",
       " (8, 6): 14,\n",
       " (8, 8): 16,\n",
       " (8, 9): 17,\n",
       " (9, 1): 16,\n",
       " (9, 2): 15,\n",
       " (9, 3): 14,\n",
       " (9, 5): 14,\n",
       " (9, 6): 15,\n",
       " (9, 8): 17}"
      ]
     },
     "execution_count": 20,
     "metadata": {},
     "output_type": "execute_result"
    }
   ],
   "source": [
    "num_steps_DR_TD"
   ]
  },
  {
   "cell_type": "code",
   "execution_count": null,
   "metadata": {},
   "outputs": [],
   "source": []
  }
 ],
 "metadata": {
  "kernelspec": {
   "display_name": "gym",
   "language": "python",
   "name": "python3"
  },
  "language_info": {
   "codemirror_mode": {
    "name": "ipython",
    "version": 3
   },
   "file_extension": ".py",
   "mimetype": "text/x-python",
   "name": "python",
   "nbconvert_exporter": "python",
   "pygments_lexer": "ipython3",
   "version": "3.10.0"
  }
 },
 "nbformat": 4,
 "nbformat_minor": 2
}
