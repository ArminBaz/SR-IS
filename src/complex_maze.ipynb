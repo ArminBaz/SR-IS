{
 "cells": [
  {
   "cell_type": "code",
   "execution_count": 22,
   "metadata": {},
   "outputs": [],
   "source": [
    "import os\n",
    "import pickle\n",
    "from copy import deepcopy\n",
    "from itertools import islice\n",
    "\n",
    "import numpy as np\n",
    "import matplotlib.pyplot as plt\n",
    "from matplotlib import patches\n",
    "import gymnasium as gym\n",
    "\n",
    "import gym_env\n",
    "from utils import test_agent, get_full_maze_values, update_terminal_reward, get_transition_matrix, create_mapping_nb, get_map\n",
    "from utils_render import render_V, render_maze, record_trajectory\n",
    "from models import LinearRL"
   ]
  },
  {
   "cell_type": "code",
   "execution_count": 2,
   "metadata": {},
   "outputs": [],
   "source": [
    "def new_goal(agent, T, loc):\n",
    "    \"\"\"\n",
    "    New Environment is the same as the old one, with the inclusion of a new goal state that we want to use the old DR to\n",
    "    plan towards\n",
    "    \n",
    "    Args:\n",
    "    agent (LinearRL class): The LinearRL agent \n",
    "    T (array): The transition matrix of the new environment\n",
    "    loc (tuple): Location of the new goal state\n",
    "    \"\"\"\n",
    "    D0 = agent.gamma * agent.DR\n",
    "    L0 = np.diag(np.exp(-agent.r)) - agent.T\n",
    "    # D0 = np.linalg.inv(L0)\n",
    "    L = np.diag(np.exp(-agent.r)) - T\n",
    "\n",
    "    idx = [agent.mapping[loc], agent.mapping[(9,9)]]\n",
    "\n",
    "    d = L[idx, :] - L0[idx, :]\n",
    "    m0 = D0[:,idx]\n",
    "\n",
    "    c = np.zeros_like(m0)\n",
    "    c[idx[0], 0] = 1\n",
    "    c[idx[1], 1] = 1\n",
    "\n",
    "    a = np.linalg.inv(np.eye(len(idx)) + d @ D0 @ c)\n",
    "\n",
    "    D = D0 - (D0 @ c @ a @ d @ D0)\n",
    "\n",
    "    # # Set agent's DR to new DR\n",
    "    agent.DR = D\n",
    "\n",
    "    # Update terminals\n",
    "    agent.terminals = np.diag(T) == 1\n",
    "    # Update P\n",
    "    agent.P = T[~agent.terminals][:,agent.terminals]\n",
    "    # Update reward\n",
    "    agent.r = np.full(len(T), -1)     # our reward at each non-terminal state to be -1\n",
    "    agent.r[agent.terminals] = 20     # reward at terminal state is 20\n",
    "    agent.expr = np.exp(agent.r[agent.terminals] / agent._lambda)\n",
    "\n",
    "def transfer_terminal(env):\n",
    "    return\n",
    "\n",
    "def pretty_print_values(agent):\n",
    "    values = get_full_maze_values(agent)\n",
    "    max_width = max(len(\"{:.2f}\".format(value)) for row in values for value in row if not np.isinf(value))\n",
    "\n",
    "    # Print the matrix\n",
    "    for row in values:\n",
    "        for value in row:\n",
    "            if np.isinf(value):\n",
    "                print(\"{:>{}}\".format(\"-inf\", max_width), end=\" \")\n",
    "            else:\n",
    "                print(\"{:>{}}\".format(\"{:.2f}\".format(value), max_width), end=\" \")\n",
    "        print()\n",
    "\n",
    "def record_trajectory(agent, traj, save_path=None):\n",
    "    fig, ax = plt.subplots()\n",
    "\n",
    "    m = get_map(agent)\n",
    "    \n",
    "    # Display maze\n",
    "    ax.imshow(m, origin='upper', cmap='gray_r')\n",
    "\n",
    "    # Minor ticks\n",
    "    ax.set_xticks(np.arange(-.5, len(m), 1), minor=True)\n",
    "    ax.set_yticks(np.arange(-.5, len(m), 1), minor=True)\n",
    "\n",
    "    ax.grid(which=\"minor\", color='black', linewidth=2, alpha=0.5)\n",
    "    # Display agent\n",
    "    agent_loc = patches.Circle((agent.start_loc[1],agent.start_loc[0]), radius=0.4, fill=True, color='blue', alpha=0.7)\n",
    "    ax.add_patch(agent_loc)\n",
    "\n",
    "    # Display Reward\n",
    "    for i, target_loc in enumerate(agent.target_locs):\n",
    "        # reward = patches.Circle((target_loc[1], target_loc[0]), radius=0.4, fill=True, color='green')\n",
    "        reward = patches.Rectangle((target_loc[1] - 0.5, target_loc[0] - 0.5), 1.0, 1.0, fill=True, color='green', alpha=0.7)\n",
    "        ax.text(target_loc[1], target_loc[0], f'r{i+1}', color='white', fontsize=10, ha='center', va='center')\n",
    "        ax.add_patch(reward)\n",
    "    \n",
    "    # loop through trajectory and add arrows\n",
    "    for i in range(1, len(traj)):  # Start from the second position\n",
    "        # Calculate the direction of movement\n",
    "        diff = traj[i] - traj[i-1]\n",
    "        # Start the arrow slightly behind the current position\n",
    "        start_point = traj[i-1] - 0.2 * diff\n",
    "        arrow = patches.FancyArrow(x=start_point[1], y=start_point[0], dx=0.5*diff[1], dy=0.5*diff[0], width=0.06, length_includes_head=True, color=\"red\")\n",
    "        ax.add_patch(arrow)\n",
    "\n",
    "    # Hide tick labels\n",
    "    ax.set_xticklabels([])\n",
    "    ax.set_yticklabels([])\n",
    "\n",
    "    # Hide tick marks\n",
    "    ax.tick_params(which='both', size=0)\n",
    "\n",
    "    # Save the image\n",
    "    if save_path is not None:\n",
    "        plt.savefig(save_path, bbox_inches='tight', dpi=300)"
   ]
  },
  {
   "cell_type": "code",
   "execution_count": 3,
   "metadata": {},
   "outputs": [],
   "source": [
    "# Set the random seed for NumPy\n",
    "seed = 26\n",
    "np.random.seed(seed)\n",
    "\n",
    "# Save dir\n",
    "save_dir = os.path.join('..', 'figures/')"
   ]
  },
  {
   "cell_type": "code",
   "execution_count": 4,
   "metadata": {},
   "outputs": [],
   "source": [
    "# Hyperparams\n",
    "alpha = 0.25\n",
    "beta = 1.5\n",
    "_lambda = 1.0"
   ]
  },
  {
   "cell_type": "code",
   "execution_count": 5,
   "metadata": {},
   "outputs": [],
   "source": [
    "# envs = [\"simple-15x15\", \"tolman-10x10-latent\"]\n",
    "# envs_new = [\"simple-15x15-new-goal\", \"tolman-10x10-latent-new-goal\"]\n",
    "# new_locs = [(3,5), (9,9)]\n",
    "\n",
    "no_goal_env = \"maze-10x10-G0\"\n",
    "envs = [\"maze-10x10-G1\", \"maze-10x10-G2\", \"maze-10x10-G3\"]\n",
    "\n",
    "# no_goal_env = \"maze-15x15-G0\"\n",
    "# envs = [\"maze-15x15-G1\"]"
   ]
  },
  {
   "cell_type": "code",
   "execution_count": 6,
   "metadata": {},
   "outputs": [],
   "source": [
    "# Transition matrix with no goal\n",
    "env = gym.make(no_goal_env)\n",
    "maze = env.unwrapped.maze\n",
    "# Get the transition matrix of the new environment\n",
    "mapping = create_mapping_nb(env.unwrapped.maze, env.unwrapped.get_walls())\n",
    "T_no_goal = get_transition_matrix(env, mapping)"
   ]
  },
  {
   "cell_type": "code",
   "execution_count": 7,
   "metadata": {},
   "outputs": [],
   "source": [
    "agent = LinearRL(env_name=envs[0], _lambda=_lambda, beta=beta, alpha=alpha, num_steps=30000, policy=\"softmax\", imp_samp=True)\n",
    "# update_terminal_reward(agent, loc=0, r=-1)"
   ]
  },
  {
   "cell_type": "code",
   "execution_count": 8,
   "metadata": {},
   "outputs": [],
   "source": [
    "D_inv = agent.get_D_inv()\n",
    "# agent.DR = D_inv\n",
    "# agent.update_V()"
   ]
  },
  {
   "cell_type": "code",
   "execution_count": 9,
   "metadata": {},
   "outputs": [],
   "source": [
    "agent.learn()"
   ]
  },
  {
   "cell_type": "code",
   "execution_count": 10,
   "metadata": {},
   "outputs": [
    {
     "name": "stdout",
     "output_type": "stream",
     "text": [
      "1.1102230246251565e-16\n",
      "0.57062312985241\n"
     ]
    }
   ],
   "source": [
    "D0_inv = np.linalg.inv(np.diag(np.exp(-agent.r)) - agent.T)\n",
    "print(np.max(np.abs(D0_inv - agent.gamma * D_inv)))\n",
    "print(np.max(np.abs(D0_inv - agent.gamma * agent.DR)))"
   ]
  },
  {
   "cell_type": "code",
   "execution_count": 11,
   "metadata": {},
   "outputs": [],
   "source": [
    "# pretty_print_values(agent)"
   ]
  },
  {
   "cell_type": "code",
   "execution_count": 19,
   "metadata": {},
   "outputs": [],
   "source": [
    "# traj = test_agent(agent)"
   ]
  },
  {
   "cell_type": "code",
   "execution_count": 20,
   "metadata": {},
   "outputs": [],
   "source": [
    "# record_trajectory(agent=agent, traj=traj, save_path=None)"
   ]
  },
  {
   "cell_type": "markdown",
   "metadata": {},
   "source": [
    "### Find optimal path by reusing Original DR"
   ]
  },
  {
   "cell_type": "code",
   "execution_count": 15,
   "metadata": {},
   "outputs": [
    {
     "name": "stdout",
     "output_type": "stream",
     "text": [
      "Goal at location: (0, 1) | Number of steps: 1\n",
      "Goal at location: (0, 2) | Number of steps: 2\n",
      "Goal at location: (0, 4) | Number of steps: 8\n",
      "Goal at location: (0, 7) | Number of steps: 21\n",
      "Goal at location: (0, 8) | Number of steps: 20\n",
      "Goal at location: (0, 9) | Number of steps: 21\n",
      "Goal at location: (1, 0) | Number of steps: 1\n",
      "Goal at location: (1, 1) | Number of steps: 2\n",
      "Goal at location: (1, 2) | Number of steps: 3\n",
      "Goal at location: (1, 4) | Number of steps: 7\n",
      "Goal at location: (1, 6) | Number of steps: 21\n",
      "Goal at location: (1, 7) | Number of steps: 20\n",
      "Goal at location: (1, 8) | Number of steps: 19\n",
      "Goal at location: (1, 9) | Number of steps: 20\n",
      "Goal at location: (2, 2) | Number of steps: 4\n",
      "Goal at location: (2, 3) | Number of steps: 5\n",
      "Goal at location: (2, 4) | Number of steps: 6\n",
      "Goal at location: (2, 7) | Number of steps: 19\n",
      "Goal at location: (2, 8) | Number of steps: 18\n",
      "Goal at location: (2, 9) | Number of steps: 19\n",
      "Goal at location: (3, 0) | Number of steps: 7\n",
      "Goal at location: (3, 1) | Number of steps: 6\n",
      "Goal at location: (3, 2) | Number of steps: 5\n",
      "Goal at location: (3, 3) | Number of steps: 6\n",
      "Goal at location: (3, 4) | Number of steps: 7\n",
      "Goal at location: (3, 5) | Number of steps: 8\n",
      "Goal at location: (3, 8) | Number of steps: 17\n",
      "Goal at location: (3, 9) | Number of steps: 18\n",
      "Goal at location: (4, 4) | Number of steps: 8\n",
      "Goal at location: (4, 5) | Number of steps: 9\n",
      "Goal at location: (4, 7) | Number of steps: 15\n",
      "Goal at location: (4, 8) | Number of steps: 16\n",
      "Goal at location: (4, 9) | Number of steps: 17\n",
      "Goal at location: (5, 1) | Number of steps: 12\n",
      "Goal at location: (5, 2) | Number of steps: 11\n",
      "Goal at location: (5, 3) | Number of steps: 10\n",
      "Goal at location: (5, 4) | Number of steps: 9\n",
      "Goal at location: (5, 6) | Number of steps: 13\n",
      "Goal at location: (5, 7) | Number of steps: 14\n",
      "Goal at location: (5, 8) | Number of steps: 15\n",
      "Goal at location: (5, 9) | Number of steps: 16\n",
      "Goal at location: (6, 1) | Number of steps: 13\n",
      "Goal at location: (6, 3) | Number of steps: 11\n",
      "Goal at location: (6, 4) | Number of steps: 10\n",
      "Goal at location: (6, 5) | Number of steps: 11\n",
      "Goal at location: (6, 6) | Number of steps: 12\n",
      "Goal at location: (6, 7) | Number of steps: 13\n",
      "Goal at location: (7, 1) | Number of steps: 14\n",
      "Goal at location: (7, 3) | Number of steps: 12\n",
      "Goal at location: (7, 5) | Number of steps: 12\n",
      "Goal at location: (7, 7) | Number of steps: 14\n",
      "Goal at location: (7, 8) | Number of steps: 15\n",
      "Goal at location: (7, 9) | Number of steps: 16\n",
      "Goal at location: (8, 1) | Number of steps: 15\n",
      "Goal at location: (8, 2) | Number of steps: 14\n",
      "Goal at location: (8, 3) | Number of steps: 13\n",
      "Goal at location: (8, 5) | Number of steps: 13\n",
      "Goal at location: (8, 6) | Number of steps: 14\n",
      "Goal at location: (8, 8) | Number of steps: 16\n",
      "Goal at location: (8, 9) | Number of steps: 17\n",
      "Goal at location: (9, 1) | Number of steps: 16\n",
      "Goal at location: (9, 2) | Number of steps: 15\n",
      "Goal at location: (9, 3) | Number of steps: 14\n",
      "Goal at location: (9, 5) | Number of steps: 14\n",
      "Goal at location: (9, 6) | Number of steps: 15\n",
      "Goal at location: (9, 8) | Number of steps: 17\n"
     ]
    }
   ],
   "source": [
    "num_steps_DR_TD = {}\n",
    "\n",
    "# Get an iterator for the dictionary\n",
    "dict_iter = iter(mapping.items())\n",
    "next(dict_iter)\n",
    "\n",
    "# Iterate through the remaining key-value pairs\n",
    "for loc, idx in islice(dict_iter, len(mapping) - 2):\n",
    "    # New agent for testing (copy of original agent)\n",
    "    new_agent = deepcopy(agent)\n",
    "\n",
    "    # Construct a new transition matrix and new environment\n",
    "    T_new = np.copy(T_no_goal)\n",
    "    T_new[idx, idx] = 1\n",
    "    env_new = env\n",
    "    env_new.unwrapped.target_locs = [np.array((loc[0], loc[1]))]\n",
    "\n",
    "    # Use Woodbury update to plan towards new goal\n",
    "    new_goal(new_agent, T_new, loc)\n",
    "\n",
    "    new_agent.update_V()\n",
    "    new_agent.env = env_new\n",
    "    traj = test_agent(new_agent)\n",
    "    print(f\"Goal at location: {loc} | Number of steps: {len(traj)}\")\n",
    "    num_steps_DR_TD[loc] = len(traj)"
   ]
  },
  {
   "cell_type": "code",
   "execution_count": 23,
   "metadata": {},
   "outputs": [],
   "source": [
    "# Save the dictionary to a file\n",
    "with open('../out/num_steps_DR_TD.pkl', 'wb') as file:\n",
    "    pickle.dump(num_steps_DR_TD, file)"
   ]
  },
  {
   "cell_type": "markdown",
   "metadata": {},
   "source": [
    "### BFS Approach for finding the optimal path"
   ]
  },
  {
   "cell_type": "code",
   "execution_count": 39,
   "metadata": {},
   "outputs": [],
   "source": [
    "from collections import deque\n",
    "\n",
    "def find_optimal_path(maze, start, end):\n",
    "    visited = set()\n",
    "    queue = deque([(tuple(start), [start])])\n",
    "\n",
    "    while queue:\n",
    "        current, path = queue.popleft()\n",
    "        if np.array_equal(current, end):\n",
    "            return path\n",
    "\n",
    "        if current in visited:\n",
    "            continue\n",
    "\n",
    "        visited.add(current)\n",
    "\n",
    "        for successor in env.unwrapped.get_successor_states(current):\n",
    "            neighbor = successor[0]\n",
    "            if tuple(neighbor) not in visited:\n",
    "                queue.append((tuple(neighbor), path + [neighbor]))\n",
    "\n",
    "    return None"
   ]
  },
  {
   "cell_type": "markdown",
   "metadata": {},
   "source": [
    "### Find optimal path via exhaustive search"
   ]
  },
  {
   "cell_type": "code",
   "execution_count": 40,
   "metadata": {},
   "outputs": [
    {
     "name": "stdout",
     "output_type": "stream",
     "text": [
      "[1 0]\n",
      "[0 1]\n"
     ]
    }
   ],
   "source": [
    "for successor in agent.env.unwrapped.get_successor_states(agent.start_loc):\n",
    "    print(successor[0])"
   ]
  },
  {
   "cell_type": "code",
   "execution_count": 45,
   "metadata": {},
   "outputs": [
    {
     "name": "stdout",
     "output_type": "stream",
     "text": [
      "Goal at location: (0, 1) | Number of steps: 1\n",
      "Goal at location: (0, 2) | Number of steps: 2\n",
      "Goal at location: (0, 4) | Number of steps: 8\n",
      "Goal at location: (0, 7) | Number of steps: 21\n",
      "Goal at location: (0, 8) | Number of steps: 20\n",
      "Goal at location: (0, 9) | Number of steps: 21\n",
      "Goal at location: (1, 0) | Number of steps: 1\n",
      "Goal at location: (1, 1) | Number of steps: 2\n",
      "Goal at location: (1, 2) | Number of steps: 3\n",
      "Goal at location: (1, 4) | Number of steps: 7\n",
      "Goal at location: (1, 6) | Number of steps: 21\n",
      "Goal at location: (1, 7) | Number of steps: 20\n",
      "Goal at location: (1, 8) | Number of steps: 19\n",
      "Goal at location: (1, 9) | Number of steps: 20\n",
      "Goal at location: (2, 2) | Number of steps: 4\n",
      "Goal at location: (2, 3) | Number of steps: 5\n",
      "Goal at location: (2, 4) | Number of steps: 6\n",
      "Goal at location: (2, 7) | Number of steps: 19\n",
      "Goal at location: (2, 8) | Number of steps: 18\n",
      "Goal at location: (2, 9) | Number of steps: 19\n",
      "Goal at location: (3, 0) | Number of steps: 7\n",
      "Goal at location: (3, 1) | Number of steps: 6\n",
      "Goal at location: (3, 2) | Number of steps: 5\n",
      "Goal at location: (3, 3) | Number of steps: 6\n",
      "Goal at location: (3, 4) | Number of steps: 7\n",
      "Goal at location: (3, 5) | Number of steps: 8\n",
      "Goal at location: (3, 8) | Number of steps: 17\n",
      "Goal at location: (3, 9) | Number of steps: 18\n",
      "Goal at location: (4, 4) | Number of steps: 8\n",
      "Goal at location: (4, 5) | Number of steps: 9\n",
      "Goal at location: (4, 7) | Number of steps: 15\n",
      "Goal at location: (4, 8) | Number of steps: 16\n",
      "Goal at location: (4, 9) | Number of steps: 17\n",
      "Goal at location: (5, 1) | Number of steps: 12\n",
      "Goal at location: (5, 2) | Number of steps: 11\n",
      "Goal at location: (5, 3) | Number of steps: 10\n",
      "Goal at location: (5, 4) | Number of steps: 9\n",
      "Goal at location: (5, 6) | Number of steps: 13\n",
      "Goal at location: (5, 7) | Number of steps: 14\n",
      "Goal at location: (5, 8) | Number of steps: 15\n",
      "Goal at location: (5, 9) | Number of steps: 16\n",
      "Goal at location: (6, 1) | Number of steps: 13\n",
      "Goal at location: (6, 3) | Number of steps: 11\n",
      "Goal at location: (6, 4) | Number of steps: 10\n",
      "Goal at location: (6, 5) | Number of steps: 11\n",
      "Goal at location: (6, 6) | Number of steps: 12\n",
      "Goal at location: (6, 7) | Number of steps: 13\n",
      "Goal at location: (7, 1) | Number of steps: 14\n",
      "Goal at location: (7, 3) | Number of steps: 12\n",
      "Goal at location: (7, 5) | Number of steps: 12\n",
      "Goal at location: (7, 7) | Number of steps: 14\n",
      "Goal at location: (7, 8) | Number of steps: 15\n",
      "Goal at location: (7, 9) | Number of steps: 16\n",
      "Goal at location: (8, 1) | Number of steps: 15\n",
      "Goal at location: (8, 2) | Number of steps: 14\n",
      "Goal at location: (8, 3) | Number of steps: 13\n",
      "Goal at location: (8, 5) | Number of steps: 13\n",
      "Goal at location: (8, 6) | Number of steps: 14\n",
      "Goal at location: (8, 8) | Number of steps: 16\n",
      "Goal at location: (8, 9) | Number of steps: 17\n",
      "Goal at location: (9, 1) | Number of steps: 16\n",
      "Goal at location: (9, 2) | Number of steps: 15\n",
      "Goal at location: (9, 3) | Number of steps: 14\n",
      "Goal at location: (9, 5) | Number of steps: 14\n",
      "Goal at location: (9, 6) | Number of steps: 15\n",
      "Goal at location: (9, 8) | Number of steps: 17\n"
     ]
    }
   ],
   "source": [
    "num_steps_exhaustive = {}\n",
    "\n",
    "# Get an iterator for the dictionary\n",
    "dict_iter = iter(mapping.items())\n",
    "next(dict_iter)\n",
    "\n",
    "# Original starting location\n",
    "start_loc = agent.start_loc\n",
    "\n",
    "# Iterate through the remaining key-value pairs\n",
    "for loc, idx in islice(dict_iter, len(mapping) - 2):\n",
    "    # New end location\n",
    "    target_loc = np.array((loc[0], loc[1]))\n",
    "\n",
    "    # New agent for testing (copy of original agent)\n",
    "    new_agent = deepcopy(agent)\n",
    "\n",
    "    # Construct a new transition matrix and new environment\n",
    "    T_new = np.copy(T_no_goal)\n",
    "    T_new[idx, idx] = 1\n",
    "    env_new = env\n",
    "    env_new.unwrapped.target_locs = [target_loc]\n",
    "\n",
    "    # Find the optimal path\n",
    "    path = find_optimal_path(env_new, start=start_loc, end=target_loc)\n",
    "    if path is not None:\n",
    "        print(f\"Goal at location: {loc} | Number of steps: {len(path)-1}\")\n",
    "        num_steps_exhaustive[loc] = len(path) - 1\n",
    "    "
   ]
  },
  {
   "cell_type": "code",
   "execution_count": 46,
   "metadata": {},
   "outputs": [],
   "source": [
    "# Save the dictionary to a file\n",
    "with open('../out/num_steps_exhaustive.pkl', 'wb') as file:\n",
    "    pickle.dump(num_steps_exhaustive, file)"
   ]
  },
  {
   "cell_type": "markdown",
   "metadata": {},
   "source": [
    "### Plot the paths against one another"
   ]
  },
  {
   "cell_type": "code",
   "execution_count": 83,
   "metadata": {},
   "outputs": [
    {
     "data": {
      "image/png": "[encoded data removed]",
      "text/plain": [
       "<Figure size 800x800 with 1 Axes>"
      ]
     },
     "metadata": {},
     "output_type": "display_data"
    }
   ],
   "source": [
    "save_path = save_dir + 'complex_maze_path_length.png'\n",
    "\n",
    "# Extract the path lengths and target locations from the dictionaries\n",
    "DR_TD_lengths = list(num_steps_DR_TD.values())\n",
    "exhaustive_lengths = list(num_steps_exhaustive.values())\n",
    "target_locations = list(num_steps_DR_TD.keys())\n",
    "\n",
    "# Create a figure and axis\n",
    "fig, ax = plt.subplots(figsize=(8, 8))\n",
    "\n",
    "# Set the font to serif\n",
    "plt.rcParams['font.family'] = 'serif'\n",
    "\n",
    "# Plot the path lengths as scatter points with violet color\n",
    "ax.scatter(DR_TD_lengths, exhaustive_lengths, color='violet')\n",
    "\n",
    "# Add labels for points with length < 14\n",
    "label_positions = {}\n",
    "for i, location in enumerate(target_locations):\n",
    "    x, y = DR_TD_lengths[i], exhaustive_lengths[i]\n",
    "    if x < 14 and y < 14:\n",
    "        if (x, y) not in label_positions:\n",
    "            label_positions[(x, y)] = [(5, -10)]\n",
    "        else:\n",
    "            prev_x, prev_y = label_positions[(x, y)][-1]\n",
    "            label_positions[(x, y)].append((prev_x + 30, prev_y))  # Increase spacing between labels\n",
    "\n",
    "        xytext = label_positions[(x, y)][-1]\n",
    "        ax.annotate(f\"({location[0]}, {location[1]})\", (x, y),\n",
    "                    textcoords=\"offset points\", xytext=xytext, ha='left', va='top')\n",
    "\n",
    "# Add labels for points with length >= 14\n",
    "label_offsets = {}\n",
    "for i, location in enumerate(target_locations):\n",
    "    x, y = DR_TD_lengths[i], exhaustive_lengths[i]\n",
    "    if x >= 14 or y >= 14:\n",
    "        if (x, y) not in label_offsets:\n",
    "            label_offsets[(x, y)] = 0\n",
    "        else:\n",
    "            label_offsets[(x, y)] += 1\n",
    "\n",
    "        offset = 30 * label_offsets[(x, y)]  # Adjust the horizontal offset based on the number of labels\n",
    "        xytext = (-30 - offset, -10)  # Position labels slightly to the left of the y=x line\n",
    "        ax.annotate(f\"({location[0]}, {location[1]})\", (x, y),\n",
    "                    textcoords=\"offset points\", xytext=xytext, ha='right', va='top')\n",
    "\n",
    "# Set the labels and title for the plot\n",
    "ax.set_xlabel('DR TD Path Length')\n",
    "ax.set_ylabel('Exhaustive Path Length')\n",
    "\n",
    "# Add a diagonal line representing equal path lengths\n",
    "max_length = max(max(DR_TD_lengths), max(exhaustive_lengths))\n",
    "ax.plot([0, max_length], [0, max_length], 'k--', linewidth=1)\n",
    "\n",
    "# Set equal scales for both axes\n",
    "ax.set_aspect('equal')\n",
    "\n",
    "if save_path is not None:\n",
    "    plt.savefig(save_path, bbox_inches='tight', dpi=300)\n",
    "# Display the plot\n",
    "plt.tight_layout()\n",
    "plt.show()"
   ]
  },
  {
   "cell_type": "code",
   "execution_count": null,
   "metadata": {},
   "outputs": [],
   "source": []
  },
  {
   "cell_type": "code",
   "execution_count": null,
   "metadata": {},
   "outputs": [],
   "source": [
    "D_new = replan_barrier(agent=agent_with_imp, T_new=T_new, delta_locs=delta_locs)"
   ]
  }
 ],
 "metadata": {
  "kernelspec": {
   "display_name": "gym",
   "language": "python",
   "name": "python3"
  },
  "language_info": {
   "codemirror_mode": {
    "name": "ipython",
    "version": 3
   },
   "file_extension": ".py",
   "mimetype": "text/x-python",
   "name": "python",
   "nbconvert_exporter": "python",
   "pygments_lexer": "ipython3",
   "version": "3.10.0"
  }
 },
 "nbformat": 4,
 "nbformat_minor": 2
}
