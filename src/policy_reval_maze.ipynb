{
 "cells": [
  {
   "cell_type": "code",
   "execution_count": 1,
   "metadata": {},
   "outputs": [],
   "source": [
    "import os\n",
    "\n",
    "import numpy as np\n",
    "import importlib\n",
    "import seaborn as sns\n",
    "import gymnasium as gym\n",
    "import matplotlib.pyplot as plt\n",
    "\n",
    "import gym_env\n",
    "from models import LinearRL\n",
    "from utils import get_full_maze_values, policy_reval, decision_policy, update_terminal_reward\n",
    "from utils_render import plot_decision_prob"
   ]
  },
  {
   "cell_type": "code",
   "execution_count": 2,
   "metadata": {},
   "outputs": [],
   "source": [
    "# Set the random seed for NumPy\n",
    "seed = 24\n",
    "np.random.seed(seed)\n",
    "\n",
    "# Save dir\n",
    "save_dir = os.path.join('..', 'figures/')"
   ]
  },
  {
   "cell_type": "code",
   "execution_count": 3,
   "metadata": {},
   "outputs": [],
   "source": [
    "# For plotting\n",
    "idx = 0    # 7x7 maze\n",
    "# idx = 28   # 10x10 maze\n",
    "prob_locs = [1, 7]   # 7x7 maze\n",
    "# prob_locs = [23, 34]   # 10x10 maze\n",
    "# colors = [3, 2]\n",
    "colors = [4, 9]"
   ]
  },
  {
   "cell_type": "markdown",
   "metadata": {},
   "source": [
    "## Train Agents"
   ]
  },
  {
   "cell_type": "code",
   "execution_count": 4,
   "metadata": {},
   "outputs": [],
   "source": [
    "mazes = [\"simple-5x5-2\", \"simple-7x7-2\", \"maze-10x10-two-goal\"]\n",
    "maze_name = mazes[1]"
   ]
  },
  {
   "cell_type": "markdown",
   "metadata": {},
   "source": [
    "### D_inv agent"
   ]
  },
  {
   "cell_type": "code",
   "execution_count": 53,
   "metadata": {},
   "outputs": [],
   "source": [
    "# Agent to be used with D_inv\n",
    "agent = LinearRL(env_name=maze_name)\n",
    "# Make the reward for the first terminal state higher than the second to bias the DR towards that terminal state\n",
    "update_terminal_reward(agent, loc=0, r=8)\n",
    "# update_terminal_reward(agent, loc=1, r=8)\n",
    "\n",
    "agent.DR = agent.gamma * agent.get_D_inv()\n",
    "agent.update_V()\n",
    "maze_values = get_full_maze_values(agent)"
   ]
  },
  {
   "cell_type": "code",
   "execution_count": 54,
   "metadata": {},
   "outputs": [
    {
     "data": {
      "text/plain": [
       "array([['S', '0', '0', '0', '0', '0', '0'],\n",
       "       ['0', '1', '1', '0', '0', '0', '0'],\n",
       "       ['0', '1', '1', '1', '0', 'G', '0'],\n",
       "       ['0', '0', '1', '1', '1', '0', '0'],\n",
       "       ['0', '0', '0', '0', '1', '0', '0'],\n",
       "       ['0', '0', '0', '0', '0', '0', '0'],\n",
       "       ['0', '0', '0', 'G', '0', '0', '0']], dtype='<U21')"
      ]
     },
     "execution_count": 54,
     "metadata": {},
     "output_type": "execute_result"
    }
   ],
   "source": [
    "agent.maze"
   ]
  },
  {
   "cell_type": "code",
   "execution_count": 55,
   "metadata": {},
   "outputs": [],
   "source": [
    "pii_old_inv = decision_policy(agent, agent.Z)"
   ]
  },
  {
   "cell_type": "code",
   "execution_count": 60,
   "metadata": {},
   "outputs": [],
   "source": [
    "# Update the second terminal state to make it double that of the first\n",
    "update_terminal_reward(agent, loc=1, r=14)\n",
    "V_new, Z_new = policy_reval(agent=agent)"
   ]
  },
  {
   "cell_type": "code",
   "execution_count": 61,
   "metadata": {},
   "outputs": [],
   "source": [
    "agent.V = V_new\n",
    "maze_values = get_full_maze_values(agent)"
   ]
  },
  {
   "cell_type": "code",
   "execution_count": 62,
   "metadata": {},
   "outputs": [],
   "source": [
    "agent.update_V()\n",
    "pii_new_inv = decision_policy(agent, Z_new)"
   ]
  },
  {
   "cell_type": "code",
   "execution_count": 63,
   "metadata": {},
   "outputs": [
    {
     "data": {
      "image/png": "[encoded data removed]",
      "text/plain": [
       "<Figure size 640x480 with 1 Axes>"
      ]
     },
     "metadata": {},
     "output_type": "display_data"
    }
   ],
   "source": [
    "save_path = save_dir + 'policy_reval_10x10_inv.png'\n",
    "plot_decision_prob(probs_train=pii_old_inv[idx][prob_locs], probs_test=pii_new_inv[idx][prob_locs], colors=colors, leg_loc=\"upper center\", save_path=None)"
   ]
  },
  {
   "cell_type": "markdown",
   "metadata": {},
   "source": [
    "### Agent with importance sampling"
   ]
  },
  {
   "cell_type": "code",
   "execution_count": 229,
   "metadata": {},
   "outputs": [],
   "source": [
    "# Initialize the agent\n",
    "# agent_with_imp = LinearRL(env_name=maze_name, _lambda=1, alpha=0.01, beta=1, num_steps=200000, policy=\"softmax\", imp_samp=True)\n",
    "# update_terminal_reward(agent_with_imp, loc=0, r=8)\n",
    "agent_with_imp = LinearRL(env_name=maze_name, _lambda=1, alpha=0.2, beta=1, num_steps=10000, policy=\"softmax\", imp_samp=True)\n",
    "update_terminal_reward(agent_with_imp, loc=0, r=10)\n",
    "update_terminal_reward(agent_with_imp, loc=1, r=8)"
   ]
  },
  {
   "cell_type": "code",
   "execution_count": 230,
   "metadata": {},
   "outputs": [],
   "source": [
    "# Train the agent with importance sampling\n",
    "agent_with_imp.learn(seed=seed)"
   ]
  },
  {
   "cell_type": "code",
   "execution_count": 231,
   "metadata": {},
   "outputs": [],
   "source": [
    "# Print out the values to see what it learned\n",
    "maze_values = get_full_maze_values(agent_with_imp)"
   ]
  },
  {
   "cell_type": "code",
   "execution_count": 232,
   "metadata": {},
   "outputs": [],
   "source": [
    "update_terminal_reward(agent_with_imp, loc=1, r=16)\n",
    "V_new, Z_new = policy_reval(agent=agent_with_imp)"
   ]
  },
  {
   "cell_type": "code",
   "execution_count": 233,
   "metadata": {},
   "outputs": [],
   "source": [
    "agent_with_imp.V = V_new\n",
    "maze_values = get_full_maze_values(agent_with_imp)"
   ]
  },
  {
   "cell_type": "code",
   "execution_count": 234,
   "metadata": {},
   "outputs": [],
   "source": [
    "pii_old_with = decision_policy(agent_with_imp, agent_with_imp.Z)"
   ]
  },
  {
   "cell_type": "code",
   "execution_count": 235,
   "metadata": {},
   "outputs": [],
   "source": [
    "agent_with_imp.update_V()\n",
    "pii_new_with = decision_policy(agent_with_imp, Z_new)"
   ]
  },
  {
   "cell_type": "code",
   "execution_count": 236,
   "metadata": {},
   "outputs": [
    {
     "data": {
      "image/png": "[encoded data removed]",
      "text/plain": [
       "<Figure size 640x480 with 1 Axes>"
      ]
     },
     "metadata": {},
     "output_type": "display_data"
    }
   ],
   "source": [
    "save_path = save_dir + 'reward_reval_7x7_with_is.png'\n",
    "plot_decision_prob(probs_train=pii_old_with[idx][prob_locs], probs_test=pii_new_with[idx][prob_locs], colors=colors, leg_loc='upper center', save_path=None)"
   ]
  },
  {
   "cell_type": "markdown",
   "metadata": {},
   "source": [
    "### Agent without importance sampling"
   ]
  },
  {
   "cell_type": "code",
   "execution_count": 165,
   "metadata": {},
   "outputs": [],
   "source": [
    "# agent_no_imp = LinearRL(env_name=maze_name, _lambda=1, alpha=0.01, beta=1, num_steps=200000, policy=\"softmax\", imp_samp=False)\n",
    "# update_terminal_reward(agent_no_imp, loc=0, r=8)\n",
    "agent_no_imp = LinearRL(env_name=maze_name, _lambda=1, alpha=0.2, beta=0.8, num_steps=20000, policy=\"softmax\", imp_samp=False)\n",
    "update_terminal_reward(agent_no_imp, loc=0, r=8)\n",
    "# update_terminal_reward(agent_no_imp, loc=1, r=8)"
   ]
  },
  {
   "cell_type": "code",
   "execution_count": 166,
   "metadata": {},
   "outputs": [],
   "source": [
    "# Train agent without importance sampling\n",
    "agent_no_imp.learn(seed=seed)"
   ]
  },
  {
   "cell_type": "code",
   "execution_count": 167,
   "metadata": {},
   "outputs": [],
   "source": [
    "# Print out the values to see what it learned\n",
    "maze_values = get_full_maze_values(agent_no_imp)"
   ]
  },
  {
   "cell_type": "code",
   "execution_count": 168,
   "metadata": {},
   "outputs": [],
   "source": [
    "update_terminal_reward(agent_no_imp, loc=1, r=12)\n",
    "V_new, Z_new = policy_reval(agent=agent_no_imp)"
   ]
  },
  {
   "cell_type": "code",
   "execution_count": 169,
   "metadata": {},
   "outputs": [],
   "source": [
    "agent_no_imp.V = V_new\n",
    "maze_values = get_full_maze_values(agent_no_imp)"
   ]
  },
  {
   "cell_type": "code",
   "execution_count": 170,
   "metadata": {},
   "outputs": [],
   "source": [
    "pii_old_without = decision_policy(agent_no_imp, agent_no_imp.Z)"
   ]
  },
  {
   "cell_type": "code",
   "execution_count": 171,
   "metadata": {},
   "outputs": [],
   "source": [
    "agent_no_imp.update_V()\n",
    "pii_new_without = decision_policy(agent_no_imp, Z_new)"
   ]
  },
  {
   "cell_type": "code",
   "execution_count": 172,
   "metadata": {},
   "outputs": [
    {
     "data": {
      "image/png": "[encoded data removed]",
      "text/plain": [
       "<Figure size 640x480 with 1 Axes>"
      ]
     },
     "metadata": {},
     "output_type": "display_data"
    }
   ],
   "source": [
    "save_path = save_dir + 'reward_reval_7x7_without_is.png'\n",
    "plot_decision_prob(probs_train=pii_old_without[idx][prob_locs], probs_test=pii_new_without[idx][prob_locs], colors=colors, leg_loc='upper center', save_path=None)"
   ]
  },
  {
   "cell_type": "code",
   "execution_count": null,
   "metadata": {},
   "outputs": [],
   "source": []
  }
 ],
 "metadata": {
  "kernelspec": {
   "display_name": "gym",
   "language": "python",
   "name": "python3"
  },
  "language_info": {
   "codemirror_mode": {
    "name": "ipython",
    "version": 3
   },
   "file_extension": ".py",
   "mimetype": "text/x-python",
   "name": "python",
   "nbconvert_exporter": "python",
   "pygments_lexer": "ipython3",
   "version": "3.10.0"
  }
 },
 "nbformat": 4,
 "nbformat_minor": 2
}
