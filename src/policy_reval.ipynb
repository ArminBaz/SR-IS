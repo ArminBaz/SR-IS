{
 "cells": [
  {
   "cell_type": "code",
   "execution_count": 1,
   "metadata": {},
   "outputs": [],
   "source": [
    "import os\n",
    "\n",
    "import numpy as np\n",
    "import seaborn as sns\n",
    "import matplotlib.pyplot as plt\n",
    "import gymnasium as gym\n",
    "\n",
    "import gym_env\n",
    "from utils import decision_policy, woodbury\n",
    "from utils_render import plot_decision_prob\n",
    "from models import SR_IS"
   ]
  },
  {
   "cell_type": "code",
   "execution_count": 2,
   "metadata": {},
   "outputs": [],
   "source": [
    "# Set the random seed for NumPy\n",
    "seed = 182\n",
    "np.random.seed(seed)\n",
    "\n",
    "# Hyperparams\n",
    "reward = -0.1\n",
    "alpha = 0.55\n",
    "beta = 1.0\n",
    "_lambda = 1.0\n",
    "num_steps = 80000\n",
    "decay = False\n",
    "decay_params = [0.99, 150]\n",
    "\n",
    "# For plotting\n",
    "prob_locs = [12, 4, 6]\n",
    "colors = [3, 2, 4]\n",
    "\n",
    "# Save dir\n",
    "save_dir = os.path.join('..', 'figures/')"
   ]
  },
  {
   "cell_type": "markdown",
   "metadata": {},
   "source": [
    "## Learn DR-TD"
   ]
  },
  {
   "cell_type": "code",
   "execution_count": null,
   "metadata": {},
   "outputs": [],
   "source": []
  }
 ],
 "metadata": {
  "kernelspec": {
   "display_name": "gym",
   "language": "python",
   "name": "python3"
  },
  "language_info": {
   "codemirror_mode": {
    "name": "ipython",
    "version": 3
   },
   "file_extension": ".py",
   "mimetype": "text/x-python",
   "name": "python",
   "nbconvert_exporter": "python",
   "pygments_lexer": "ipython3",
   "version": "3.10.0"
  }
 },
 "nbformat": 4,
 "nbformat_minor": 2
}
