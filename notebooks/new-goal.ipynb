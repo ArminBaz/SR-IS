{
 "cells": [
  {
   "cell_type": "code",
   "execution_count": 1,
   "metadata": {},
   "outputs": [],
   "source": [
    "import os\n",
    "\n",
    "import numpy as np\n",
    "import importlib\n",
    "import gymnasium as gym\n",
    "import matplotlib.pyplot as plt\n",
    "from matplotlib import patches\n",
    "import matplotlib.animation as manimation\n",
    "from sklearn.decomposition import PCA\n",
    "\n",
    "\n",
    "import gym_env\n",
    "import utils\n",
    "from utils import create_mapping, get_transition_matrix, make_plots, record_trajectory, test_agent"
   ]
  },
  {
   "cell_type": "markdown",
   "metadata": {},
   "source": [
    "## Linear RL Model"
   ]
  },
  {
   "cell_type": "code",
   "execution_count": 2,
   "metadata": {},
   "outputs": [],
   "source": [
    "class LinearRL:\n",
    "    def __init__(self, env_name, alpha=0.1, gamma=0.904, _lambda=1.0, epsilon=0.4, num_steps=25000, policy=\"random\"):\n",
    "        self.env = gym.make(env_name)\n",
    "        self.start_loc = self.env.unwrapped.start_loc\n",
    "        self.target_loc = self.env.unwrapped.target_loc\n",
    "        self.maze = self.env.unwrapped.maze\n",
    "        self.size = self.maze.size\n",
    "        self.height, self.width = self.maze.shape\n",
    "        self.target_locs = [self.target_loc]\n",
    "        self.mapping = create_mapping(self.maze)\n",
    "        self.T, self.barriers = get_transition_matrix(self.env, self.size, self.mapping)\n",
    "        \n",
    "\n",
    "        # Get terminal states\n",
    "        self.terminals = np.diag(self.T) == 1\n",
    "        # Calculate P = T_{NT}\n",
    "        self.P = self.T[~self.terminals][:,self.terminals]\n",
    "        # self.P = self.T[:, self.terminals]\n",
    "        # Calculate reward\n",
    "        self.r = np.full(len(self.T), -0.1)     # our reward at each non-terminal state to be -0.1\n",
    "        self.r[self.terminals] = 1           # reward at terminal state is 0\n",
    "        self.expr_t = np.exp(self.r[self.terminals] / _lambda)      # exp(r) = exp(-c) at terminal state\n",
    "        self.expr_nt = np.exp(-0.1/_lambda)     # exp(r) = exp(-c) at non-terminal states\n",
    "\n",
    "        # Params\n",
    "        self.alpha = alpha\n",
    "        self.gamma = self.expr_nt\n",
    "        self._lambda = _lambda\n",
    "        self.epsilon = epsilon\n",
    "        self.num_steps = num_steps\n",
    "        self.policy = policy\n",
    "\n",
    "        # Model\n",
    "        self.DR = self.get_DR()\n",
    "        self.Z = np.full(self.size, 0.01)\n",
    "\n",
    "        self.V = np.zeros(self.size)\n",
    "        self.one_hot = np.eye(self.size)\n",
    "\n",
    "    def get_states(self):\n",
    "        \"\"\"\n",
    "        Returns all non-blocked states as well as a mapping of each state (i,j) -> to an index (k)\n",
    "        \"\"\"\n",
    "        states = []\n",
    "        index_mapping = {}\n",
    "        index = 0\n",
    "        for i in range(len(self.maze)):\n",
    "            for j in range(len(self.maze[i])):\n",
    "                if self.maze[i][j] in ['0', 'S', 'G']:\n",
    "                    states.append((i, j))\n",
    "                    index_mapping[(i, j)] = index\n",
    "                    index += 1\n",
    "\n",
    "        return states, index_mapping\n",
    "\n",
    "    def get_DR(self):\n",
    "        if self.policy == \"random\":\n",
    "            DR = np.eye(self.size)\n",
    "        \n",
    "        elif self.policy == \"softmax\":\n",
    "            DR = np.full((self.size, self.size), 0.01)\n",
    "            DR[:, self.barriers] = 0\n",
    "            DR[self.barriers, :] = 0\n",
    "            np.fill_diagonal(DR, 1)\n",
    "\n",
    "        return DR\n",
    "\n",
    "    def update_V(self):\n",
    "        self.Z[~self.terminals] = self.DR[~self.terminals][:,~self.terminals] @ self.P @ self.expr_t\n",
    "        self.Z[self.terminals] = np.exp(self.r[self.terminals] / self._lambda)\n",
    "        self.V = np.round(np.log(self.Z), 2)\n",
    "    \n",
    "    def importance_sampling(self, state, s_prob):\n",
    "        successor_states = self.env.unwrapped.get_successor_states(state)\n",
    "        p = 1/len(successor_states)\n",
    "        w = p/s_prob\n",
    "                \n",
    "        return w\n",
    "\n",
    "    def select_action(self, state, beta=1, target_loc=None):\n",
    "        if self.policy == \"random\":\n",
    "            return self.env.unwrapped.random_action()\n",
    "        \n",
    "        elif self.policy == \"softmax\":\n",
    "            successor_states = self.env.unwrapped.get_successor_states(state)      # succesor_states = [(state, terminated), ...]\n",
    "            action_probs = np.full(self.env.action_space.n, 0.0)\n",
    "\n",
    "            v_sum = sum(\n",
    "                        np.exp((np.log(self.Z[self.mapping[(s[0][0],s[0][1])]] + 1e-20)) / beta) for s in successor_states\n",
    "                        )\n",
    "\n",
    "            # if we don't have enough info, random action\n",
    "            if v_sum == 0:\n",
    "                return self.env.unwrapped.random_action() \n",
    "\n",
    "            for action in self.env.unwrapped.get_available_actions(state):\n",
    "                direction = self.env.unwrapped._action_to_direction[action]\n",
    "                new_state = state + direction\n",
    "                \n",
    "                action_probs[action] = np.exp((np.log(self.Z[self.mapping[(new_state[0], new_state[1])]] + 1e-20)) / beta ) / v_sum\n",
    "\n",
    "            action = np.random.choice(self.env.action_space.n, p=action_probs)\n",
    "            s_prob = action_probs[action]\n",
    "\n",
    "            return action, s_prob\n",
    "    \n",
    "        elif self.policy == \"egreedy\":\n",
    "            if np.random.uniform(low=0, high=1) < self.epsilon:\n",
    "                return self.env.unwrapped.random_action()\n",
    "            else:\n",
    "                action_values = np.full(self.env.action_space.n, -np.inf)\n",
    "                for action in self.env.unwrapped.get_available_actions(state):\n",
    "                    direction = self.env.unwrapped._action_to_direction[action]\n",
    "                    new_state = state + direction\n",
    "\n",
    "                    if self.maze[new_state[0], new_state[1]] == \"1\":\n",
    "                        continue\n",
    "\n",
    "                    action_values[action] = round(np.log(self.Z[self.mapping[(new_state[0],new_state[1])]]), 2)\n",
    "\n",
    "                return np.argmax(action_values)\n",
    "            \n",
    "        elif self.policy == \"test\":\n",
    "            action_values = np.full(self.env.action_space.n, -np.inf)\n",
    "            for action in self.env.unwrapped.get_available_actions(state):\n",
    "                direction = self.env.unwrapped._action_to_direction[action]\n",
    "                new_state = state + direction\n",
    "\n",
    "                # Need this to make it work for now\n",
    "                if np.array_equal(new_state, target_loc):\n",
    "                    return action\n",
    "\n",
    "                if self.maze[new_state[0], new_state[1]] == \"1\":\n",
    "                    continue\n",
    "                action_values[action] = round(np.log(self.Z[self.mapping[(new_state[0],new_state[1])]]), 2)\n",
    "\n",
    "            return np.nanargmax(action_values)\n",
    "\n",
    "    def get_D_inv(self):\n",
    "        # New way of doing it\n",
    "        I = np.eye(self.size)\n",
    "        D_inv = np.linalg.inv(I-self.gamma*self.T)\n",
    "\n",
    "        return D_inv\n",
    "\n",
    "    def learn(self):\n",
    "        \"\"\"\n",
    "        Agent randomly explores the maze and and updates its DR as it goes\n",
    "        \"\"\"\n",
    "        print(f\"Decision Policy: {self.policy}\")\n",
    "        self.env.reset()\n",
    "\n",
    "        # Iterate through number of steps\n",
    "        for i in range(self.num_steps):\n",
    "            # Current state\n",
    "            state = self.env.unwrapped.agent_loc\n",
    "            state_idx = self.mapping[(state[0], state[1])]\n",
    "\n",
    "            # Choose action\n",
    "            if self.policy == \"softmax\":\n",
    "                action, s_prob = self.select_action(state, self.policy)\n",
    "            else:\n",
    "                action = self.select_action(state, self.policy)\n",
    "\n",
    "            # Take action\n",
    "            obs, _, done, _, _ = self.env.step(action)\n",
    "\n",
    "            # Unpack observation to get new state\n",
    "            next_state = obs[\"agent\"]\n",
    "            next_state_idx = self.mapping[(next_state[0], next_state[1])]\n",
    "\n",
    "            # Importance sampling\n",
    "            if self.policy == \"softmax\":\n",
    "                w = self.importance_sampling(state, s_prob)\n",
    "                w = 1 if np.isnan(w) or w == 0 else w\n",
    "            else:\n",
    "                w = 1\n",
    "            \n",
    "            ## Update default representation\n",
    "            TDE =  self.one_hot[state_idx] + self.gamma * self.DR[next_state_idx]\n",
    "            self.DR[state_idx] = (1 - self.alpha) * self.DR[state_idx] + self.alpha * TDE * w\n",
    "\n",
    "            ## Update Z-Values\n",
    "            self.Z = self.DR[:,~self.terminals] @ self.P @ self.expr_t\n",
    "\n",
    "            # Update state\n",
    "            if done:\n",
    "                self.env.reset()\n",
    "                continue\n",
    "            state = next_state\n",
    "            \n",
    "        \n",
    "        self.Z[self.terminals] = np.exp(self.r[self.terminals] / self._lambda)\n",
    "        self.V = np.round(np.log(self.Z), 2)"
   ]
  },
  {
   "cell_type": "markdown",
   "metadata": {},
   "source": [
    "## Learn DR-TD"
   ]
  },
  {
   "cell_type": "code",
   "execution_count": 3,
   "metadata": {},
   "outputs": [],
   "source": [
    "agent = LinearRL(env_name=\"tolman-10x10-latent\", _lambda=1.0, alpha=0.01, num_steps=400000, policy=\"random\")"
   ]
  },
  {
   "cell_type": "code",
   "execution_count": 4,
   "metadata": {},
   "outputs": [
    {
     "data": {
      "text/plain": [
       "array([['1', '0', '1', '1', '0', '1', '1', '0', '0', '0'],\n",
       "       ['0', '0', '0', '0', '0', '0', '1', '0', '0', 'G'],\n",
       "       ['0', '0', '0', '0', '0', '0', '1', '0', '1', '1'],\n",
       "       ['1', '0', '1', '1', '0', '1', '1', '0', '1', '1'],\n",
       "       ['1', '0', '1', '1', '0', '0', '0', '0', '1', '1'],\n",
       "       ['1', '0', '1', '0', '0', '0', '0', '0', '1', '1'],\n",
       "       ['1', '0', '1', '0', '0', '1', '1', '0', '1', '1'],\n",
       "       ['S', '0', '1', '0', '0', '1', '0', '0', '1', '1'],\n",
       "       ['0', '0', '1', '1', '0', '1', '0', '0', '0', '0'],\n",
       "       ['1', '0', '1', '1', '0', '1', '1', '0', '0', '0']], dtype='<U21')"
      ]
     },
     "execution_count": 4,
     "metadata": {},
     "output_type": "execute_result"
    }
   ],
   "source": [
    "agent.maze"
   ]
  },
  {
   "cell_type": "code",
   "execution_count": 5,
   "metadata": {},
   "outputs": [
    {
     "name": "stdout",
     "output_type": "stream",
     "text": [
      "Decision Policy: random\n"
     ]
    },
    {
     "name": "stderr",
     "output_type": "stream",
     "text": [
      "/Users/abizzle/anaconda3/envs/gym/lib/python3.10/site-packages/gymnasium/utils/passive_env_checker.py:181: DeprecationWarning: \u001b[33mWARN: Current gymnasium version requires that `Env.reset` can be passed `options` to allow the environment initialisation to be passed additional information.\u001b[0m\n",
      "  logger.deprecation(\n",
      "/var/folders/sf/4_xlxj4j2r1_sx5v07843wbw0000gn/T/ipykernel_52929/442765447.py:194: RuntimeWarning: divide by zero encountered in log\n",
      "  self.V = np.round(np.log(self.Z), 2)\n"
     ]
    }
   ],
   "source": [
    "# Run learning on non-blocked detour environment\n",
    "agent.learn()"
   ]
  },
  {
   "cell_type": "code",
   "execution_count": 6,
   "metadata": {},
   "outputs": [
    {
     "name": "stdout",
     "output_type": "stream",
     "text": [
      "[[  -inf  -8.1    -inf   -inf  -6.58   -inf   -inf  -0.09   0.2    0.59]\n",
      " [ -8.19  -7.91  -7.36  -6.8   -6.47  -6.42   -inf  -0.17   0.44   1.  ]\n",
      " [ -8.16  -7.9   -7.19  -6.53  -5.87  -6.22   -inf  -0.73   -inf   -inf]\n",
      " [  -inf  -8.48   -inf   -inf  -4.82   -inf   -inf  -1.33   -inf   -inf]\n",
      " [  -inf  -8.9    -inf   -inf  -4.22  -3.51  -2.81  -2.14   -inf   -inf]\n",
      " [  -inf  -9.47   -inf  -4.77  -4.39  -3.63  -3.08  -2.77   -inf   -inf]\n",
      " [  -inf -10.01   -inf  -5.13  -4.96   -inf   -inf  -3.39   -inf   -inf]\n",
      " [-11.11 -10.72   -inf  -5.41  -5.47   -inf  -4.58  -4.28   -inf   -inf]\n",
      " [-11.25 -11.19   -inf   -inf  -5.84   -inf  -4.84  -4.95  -5.51  -5.85]\n",
      " [  -inf -11.29   -inf   -inf  -6.01   -inf   -inf  -5.35  -5.73  -5.93]]\n"
     ]
    }
   ],
   "source": [
    "print(agent.V.reshape((agent.height, agent.width)))"
   ]
  },
  {
   "cell_type": "code",
   "execution_count": 7,
   "metadata": {},
   "outputs": [
    {
     "data": {
      "image/png": "[encoded data removed]",
      "text/plain": [
       "<Figure size 921.6x691.2 with 3 Axes>"
      ]
     },
     "metadata": {},
     "output_type": "display_data"
    }
   ],
   "source": [
    "make_plots(agent)"
   ]
  },
  {
   "cell_type": "code",
   "execution_count": 8,
   "metadata": {},
   "outputs": [
    {
     "name": "stdout",
     "output_type": "stream",
     "text": [
      "Start location: [7 0], Target location: [1 9]\n",
      "Starting in state: [7 0]\n",
      "Took action: 1 and arrived in state: [7 1]\n",
      "Took action: 2 and arrived in state: [6 1]\n",
      "Took action: 2 and arrived in state: [5 1]\n",
      "Took action: 2 and arrived in state: [4 1]\n",
      "Took action: 2 and arrived in state: [3 1]\n",
      "Took action: 2 and arrived in state: [2 1]\n",
      "Took action: 1 and arrived in state: [2 2]\n",
      "Took action: 1 and arrived in state: [2 3]\n",
      "Took action: 1 and arrived in state: [2 4]\n",
      "Took action: 0 and arrived in state: [3 4]\n",
      "Took action: 0 and arrived in state: [4 4]\n",
      "Took action: 1 and arrived in state: [4 5]\n",
      "Took action: 1 and arrived in state: [4 6]\n",
      "Took action: 1 and arrived in state: [4 7]\n",
      "Took action: 2 and arrived in state: [3 7]\n",
      "Took action: 2 and arrived in state: [2 7]\n",
      "Took action: 2 and arrived in state: [1 7]\n",
      "Took action: 1 and arrived in state: [1 8]\n",
      "Took action: 1 and arrived in state: [1 9]\n",
      "Took 19 steps\n"
     ]
    }
   ],
   "source": [
    "print(f\"Start location: {agent.start_loc}, Target location: {agent.target_loc}\")\n",
    "traj_old_goal = test_agent(agent)"
   ]
  },
  {
   "cell_type": "code",
   "execution_count": 9,
   "metadata": {},
   "outputs": [
    {
     "data": {
      "image/png": "[encoded data removed]",
      "text/plain": [
       "<Figure size 640x480 with 1 Axes>"
      ]
     },
     "metadata": {},
     "output_type": "display_data"
    }
   ],
   "source": [
    "record_trajectory(agent, traj_old_goal)"
   ]
  },
  {
   "cell_type": "markdown",
   "metadata": {},
   "source": [
    "## Get state -> state DR and T (excludes blocked squares)"
   ]
  },
  {
   "cell_type": "code",
   "execution_count": 10,
   "metadata": {},
   "outputs": [],
   "source": [
    "DR = agent.DR\n",
    "T = agent.T\n",
    "barriers = agent.barriers\n",
    "\n",
    "# print(DR.shape)\n",
    "# print(len(barriers))\n",
    "# print(barriers, \"\\n\")\n",
    "# idx = barriers[10]\n",
    "# print(DR[:,idx])\n",
    "# print(DR[idx,:])"
   ]
  },
  {
   "cell_type": "code",
   "execution_count": 11,
   "metadata": {},
   "outputs": [],
   "source": [
    "# Drop rows and columns associated with barriers\n",
    "# Convert barriers list to a NumPy array\n",
    "indices = np.array(barriers)\n",
    "\n",
    "# Create a boolean mask to identify rows and columns to keep\n",
    "mask = np.ones(DR.shape[0], dtype=bool)\n",
    "mask[indices] = False\n",
    "\n",
    "# Use boolean indexing to select rows and columns to keep\n",
    "DR_new = DR[mask][:, mask]\n",
    "T_new = T[mask][:,mask]"
   ]
  },
  {
   "cell_type": "code",
   "execution_count": 12,
   "metadata": {},
   "outputs": [
    {
     "name": "stdout",
     "output_type": "stream",
     "text": [
      "Number of blocked squares: 43\n",
      "Old DR shape: (100, 100), New DR shape: (57, 57)\n",
      "Old T shape: (100, 100), New T shape: (57, 57)\n"
     ]
    }
   ],
   "source": [
    "print(f\"Number of blocked squares: {len(barriers)}\")\n",
    "print(f\"Old DR shape: {DR.shape}, New DR shape: {DR_new.shape}\")\n",
    "print(f\"Old T shape: {T.shape}, New T shape: {T_new.shape}\")"
   ]
  },
  {
   "cell_type": "markdown",
   "metadata": {},
   "source": [
    "## New Goal"
   ]
  },
  {
   "cell_type": "code",
   "execution_count": 13,
   "metadata": {},
   "outputs": [],
   "source": [
    "# Get new maze and initialize a new agent\n",
    "env_new_goal = gym.make(\"tolman-10x10-latent-new-goal\")\n",
    "maze_new_goal = env_new_goal.unwrapped.maze\n",
    "new_agent = LinearRL(env_name=\"tolman-10x10-latent-new-goal\", _lambda=1.0, alpha=0.01)"
   ]
  },
  {
   "cell_type": "code",
   "execution_count": 14,
   "metadata": {},
   "outputs": [],
   "source": [
    "# Find states whose transition has been changed\n",
    "delta_locs = [13, 56]"
   ]
  },
  {
   "cell_type": "code",
   "execution_count": 15,
   "metadata": {},
   "outputs": [],
   "source": [
    "T = T_new\n",
    "T_new = new_agent.T[mask][:,mask]\n",
    "DR = DR_new\n",
    "r = agent.r[mask]"
   ]
  },
  {
   "cell_type": "code",
   "execution_count": 16,
   "metadata": {},
   "outputs": [],
   "source": [
    "L0 = np.diag(np.exp(-r)) - T\n",
    "L = np.diag(np.exp(-r)) - T_new"
   ]
  },
  {
   "cell_type": "code",
   "execution_count": 17,
   "metadata": {},
   "outputs": [
    {
     "data": {
      "text/plain": [
       "(2, 57)"
      ]
     },
     "execution_count": 17,
     "metadata": {},
     "output_type": "execute_result"
    }
   ],
   "source": [
    "delta = L[delta_locs] - L0[delta_locs]\n",
    "delta.shape"
   ]
  },
  {
   "cell_type": "code",
   "execution_count": 18,
   "metadata": {},
   "outputs": [
    {
     "data": {
      "text/plain": [
       "(57, 2)"
      ]
     },
     "execution_count": 18,
     "metadata": {},
     "output_type": "execute_result"
    }
   ],
   "source": [
    "D0 = agent.get_D_inv()[mask][:,mask]\n",
    "\n",
    "D0_j = D0[:,delta_locs]\n",
    "D0_j.shape"
   ]
  },
  {
   "cell_type": "code",
   "execution_count": 19,
   "metadata": {},
   "outputs": [
    {
     "data": {
      "text/plain": [
       "(2, 2)"
      ]
     },
     "execution_count": 19,
     "metadata": {},
     "output_type": "execute_result"
    }
   ],
   "source": [
    "I = np.eye(len(delta_locs))\n",
    "I.shape"
   ]
  },
  {
   "cell_type": "code",
   "execution_count": 20,
   "metadata": {},
   "outputs": [
    {
     "data": {
      "text/plain": [
       "(2, 2)"
      ]
     },
     "execution_count": 20,
     "metadata": {},
     "output_type": "execute_result"
    }
   ],
   "source": [
    "inv = np.linalg.inv(I + np.dot(delta, D0_j))\n",
    "inv.shape"
   ]
  },
  {
   "cell_type": "code",
   "execution_count": 21,
   "metadata": {},
   "outputs": [
    {
     "data": {
      "text/plain": [
       "(57, 57)"
      ]
     },
     "execution_count": 21,
     "metadata": {},
     "output_type": "execute_result"
    }
   ],
   "source": [
    "B = np.dot( np.dot(D0_j, inv), np.dot(delta, D0) )\n",
    "B.shape"
   ]
  },
  {
   "cell_type": "code",
   "execution_count": 65,
   "metadata": {},
   "outputs": [
    {
     "data": {
      "text/plain": [
       "(57, 57)"
      ]
     },
     "execution_count": 65,
     "metadata": {},
     "output_type": "execute_result"
    }
   ],
   "source": [
    "D = D0 - B\n",
    "D.shape"
   ]
  },
  {
   "cell_type": "code",
   "execution_count": 66,
   "metadata": {},
   "outputs": [],
   "source": [
    "mask_indices = np.where(mask)[0]\n",
    "DR_det = np.copy(agent.DR)\n",
    "DR_det[np.ix_(mask, mask)] = D"
   ]
  },
  {
   "cell_type": "code",
   "execution_count": 67,
   "metadata": {},
   "outputs": [
    {
     "data": {
      "text/plain": [
       "array([ 0.00000000e+00,  1.49672428e+00,  0.00000000e+00,  0.00000000e+00,\n",
       "        6.92917421e-02,  0.00000000e+00,  0.00000000e+00,  5.41065055e-04,\n",
       "        6.23371644e-04,  3.60860265e-04,  7.67229758e-01,  2.19586091e+00,\n",
       "        8.07855189e-01,  4.25024881e-01,  3.06316873e-01,  1.21512763e-01,\n",
       "        0.00000000e+00,  1.17053645e-03,  7.13908657e-04,  3.45687204e-04,\n",
       "        5.97909577e-01,  1.10870959e+00,  6.06533619e-01,  3.71582569e-01,\n",
       "        2.67237664e-01,  1.15426307e-01,  0.00000000e+00,  1.57028152e-03,\n",
       "        0.00000000e+00,  0.00000000e+00,  0.00000000e+00,  3.50431410e-01,\n",
       "        0.00000000e+00,  0.00000000e+00,  7.43801323e-02,  0.00000000e+00,\n",
       "        0.00000000e+00,  2.69050131e-03,  0.00000000e+00,  0.00000000e+00,\n",
       "        0.00000000e+00,  2.20218412e-01,  0.00000000e+00,  0.00000000e+00,\n",
       "        4.61800296e-02,  2.21459051e-02,  1.16877464e-02,  6.56496912e-03,\n",
       "        0.00000000e+00,  0.00000000e+00,  0.00000000e+00,  1.36326560e-01,\n",
       "        0.00000000e+00,  8.72377516e-03,  2.58591648e-02,  1.55572548e-02,\n",
       "        1.00399981e-02,  6.04274046e-03,  0.00000000e+00,  0.00000000e+00,\n",
       "        0.00000000e+00,  8.11098858e-02,  0.00000000e+00,  9.52941417e-03,\n",
       "        1.09134436e-02,  0.00000000e+00,  0.00000000e+00,  2.28654390e-03,\n",
       "        0.00000000e+00,  0.00000000e+00,  3.19812097e-02,  6.44310213e-02,\n",
       "        0.00000000e+00,  5.06385860e-03,  7.25987362e-03,  0.00000000e+00,\n",
       "        6.91929069e-04,  1.53832501e-03,  0.00000000e+00,  0.00000000e+00,\n",
       "        2.77353915e-02,  4.39852298e-02,  0.00000000e+00,  0.00000000e+00,\n",
       "        3.70731472e-03,  0.00000000e+00,  5.03849766e-04,  8.43502296e-04,\n",
       "        1.90808110e-04, -3.76092483e-05,  0.00000000e+00,  1.32664939e-02,\n",
       "        0.00000000e+00,  0.00000000e+00,  1.67725854e-03,  0.00000000e+00,\n",
       "        0.00000000e+00,  2.07823238e-04,  5.64138725e-05,  1.99993216e-03])"
      ]
     },
     "execution_count": 67,
     "metadata": {},
     "output_type": "execute_result"
    }
   ],
   "source": [
    "DR_det[1]"
   ]
  },
  {
   "cell_type": "code",
   "execution_count": 68,
   "metadata": {},
   "outputs": [
    {
     "data": {
      "text/plain": [
       "array([ 1.49672428e+00,  6.92917421e-02,  5.41065055e-04,  6.23371644e-04,\n",
       "        3.60860265e-04,  7.67229758e-01,  2.19586091e+00,  8.07855189e-01,\n",
       "        4.25024881e-01,  3.06316873e-01,  1.21512763e-01,  1.17053645e-03,\n",
       "        7.13908657e-04,  3.45687204e-04,  5.97909577e-01,  1.10870959e+00,\n",
       "        6.06533619e-01,  3.71582569e-01,  2.67237664e-01,  1.15426307e-01,\n",
       "        1.57028152e-03,  3.50431410e-01,  7.43801323e-02,  2.69050131e-03,\n",
       "        2.20218412e-01,  4.61800296e-02,  2.21459051e-02,  1.16877464e-02,\n",
       "        6.56496912e-03,  1.36326560e-01,  8.72377516e-03,  2.58591648e-02,\n",
       "        1.55572548e-02,  1.00399981e-02,  6.04274046e-03,  8.11098858e-02,\n",
       "        9.52941417e-03,  1.09134436e-02,  2.28654390e-03,  3.19812097e-02,\n",
       "        6.44310213e-02,  5.06385860e-03,  7.25987362e-03,  6.91929069e-04,\n",
       "        1.53832501e-03,  2.77353915e-02,  4.39852298e-02,  3.70731472e-03,\n",
       "        5.03849766e-04,  8.43502296e-04,  1.90808110e-04, -3.76092483e-05,\n",
       "        1.32664939e-02,  1.67725854e-03,  2.07823238e-04,  5.64138725e-05,\n",
       "        1.99993216e-03])"
      ]
     },
     "execution_count": 68,
     "metadata": {},
     "output_type": "execute_result"
    }
   ],
   "source": [
    "D[0]"
   ]
  },
  {
   "cell_type": "code",
   "execution_count": 69,
   "metadata": {},
   "outputs": [
    {
     "name": "stdout",
     "output_type": "stream",
     "text": [
      "[[  -inf    nan   -inf   -inf    nan   -inf   -inf -43.41 -40.25 -39.51]\n",
      " [   nan    nan    nan    nan    nan    nan   -inf -41.79 -40.14 -39.4 ]\n",
      " [   nan    nan    nan    nan    nan    nan   -inf    nan   -inf   -inf]\n",
      " [  -inf    nan   -inf   -inf    nan   -inf   -inf    nan   -inf   -inf]\n",
      " [  -inf    nan   -inf   -inf    nan    nan    nan    nan   -inf   -inf]\n",
      " [  -inf    nan   -inf    nan    nan    nan    nan    nan   -inf   -inf]\n",
      " [  -inf    nan   -inf    nan -41.76   -inf   -inf -38.31   -inf   -inf]\n",
      " [   nan    nan   -inf    nan    nan   -inf    nan -37.6    -inf   -inf]\n",
      " [   nan    nan   -inf   -inf    nan   -inf    nan    nan    nan    nan]\n",
      " [  -inf    nan   -inf   -inf    nan   -inf   -inf    nan    nan   1.  ]]\n"
     ]
    },
    {
     "name": "stderr",
     "output_type": "stream",
     "text": [
      "/var/folders/sf/4_xlxj4j2r1_sx5v07843wbw0000gn/T/ipykernel_52929/442765447.py:71: RuntimeWarning: divide by zero encountered in log\n",
      "  self.V = np.round(np.log(self.Z), 2)\n",
      "/var/folders/sf/4_xlxj4j2r1_sx5v07843wbw0000gn/T/ipykernel_52929/442765447.py:71: RuntimeWarning: invalid value encountered in log\n",
      "  self.V = np.round(np.log(self.Z), 2)\n"
     ]
    }
   ],
   "source": [
    "new_agent.DR = DR_det\n",
    "new_agent.update_V()\n",
    "print(new_agent.V.reshape((agent.height, agent.width)))"
   ]
  },
  {
   "cell_type": "code",
   "execution_count": 31,
   "metadata": {},
   "outputs": [],
   "source": [
    "# differences = T != T_new\n",
    "\n",
    "# different_rows, _ = np.where(differences)\n",
    "# delta_locs = np.unique(different_rows)\n",
    "\n",
    "# print(delta_locs)"
   ]
  },
  {
   "cell_type": "code",
   "execution_count": 18,
   "metadata": {},
   "outputs": [],
   "source": [
    "# New goal location\n",
    "# loc = new_agent.target_loc\n",
    "# idx = agent.mapping[(loc[0], loc[1])]"
   ]
  },
  {
   "cell_type": "code",
   "execution_count": 19,
   "metadata": {},
   "outputs": [],
   "source": [
    "## Old Method\n",
    "\n",
    "\n",
    "# L0 = np.diag(np.exp(-agent.r)) - agent.T\n",
    "# L = np.diag(np.exp(-agent.r)) - new_agent.T\n",
    "\n",
    "# D0 = D_inv\n",
    "# # D0 = agent.DR\n",
    "\n",
    "# idx = agent.mapping[(loc[0], loc[1])]\n",
    "\n",
    "# d = L[idx, :] - L0[idx, :]\n",
    "# m0 = D0[:,idx]\n",
    "\n",
    "# # Convert d to a row vector of size (1, m)\n",
    "# d = d.reshape(1, -1)\n",
    "\n",
    "# # Convert m0 to a column vector of size (m, 1)\n",
    "# m0 = m0.reshape(-1, 1)\n",
    "\n",
    "# # Get the amount of change to the DR\n",
    "# alpha = (np.dot(m0,d)) / (1 + (np.dot(d,m0)))\n",
    "# change = np.dot(alpha,D0)\n",
    "\n",
    "# # Apply change to DR\n",
    "# D = np.copy(D0)\n",
    "# D -= change"
   ]
  },
  {
   "cell_type": "code",
   "execution_count": 34,
   "metadata": {},
   "outputs": [
    {
     "name": "stdout",
     "output_type": "stream",
     "text": [
      "delta shape: (2, 100)\n",
      "D0_j shape: (100, 2)\n",
      "I shape: (2, 2)\n",
      "inv shape: (2, 2)\n",
      "B shape: (100, 100)\n",
      "D shape: (100, 100)\n"
     ]
    }
   ],
   "source": [
    "## New Method\n",
    "\n",
    "L0 = np.diag(np.exp(-r)) - T\n",
    "L = np.diag(np.exp(-r)) - T_new\n",
    "\n",
    "delta = L[delta_locs] - L0[delta_locs]\n",
    "print(f\"delta shape: {delta.shape}\")\n",
    "\n",
    "D0 = DR\n",
    "D0 = agent.get_D_inv()\n",
    "\n",
    "D0_j = D0[:,delta_locs]\n",
    "print(f\"D0_j shape: {D0_j.shape}\")\n",
    "\n",
    "I = np.eye(len(delta_locs))\n",
    "print(f\"I shape: {I.shape}\")\n",
    "\n",
    "inv = np.linalg.inv(I + np.dot(delta, D0_j))\n",
    "print(f\"inv shape: {inv.shape}\")\n",
    "\n",
    "B = np.dot( np.dot(D0_j, inv), np.dot(delta, D0) )\n",
    "print(f\"B shape: {B.shape}\")\n",
    "\n",
    "D = D0 - B\n",
    "print(f\"D shape: {D.shape}\")"
   ]
  },
  {
   "cell_type": "code",
   "execution_count": 35,
   "metadata": {},
   "outputs": [],
   "source": [
    "#### We want to recover the DR now"
   ]
  },
  {
   "cell_type": "code",
   "execution_count": 36,
   "metadata": {},
   "outputs": [
    {
     "ename": "ValueError",
     "evalue": "shape mismatch: value array of shape (100,100) could not be broadcast to indexing result of shape (57,57)",
     "output_type": "error",
     "traceback": [
      "\u001b[0;31m---------------------------------------------------------------------------\u001b[0m",
      "\u001b[0;31mValueError\u001b[0m                                Traceback (most recent call last)",
      "Cell \u001b[0;32mIn[36], line 3\u001b[0m\n\u001b[1;32m      1\u001b[0m \u001b[38;5;66;03m# Recover the original DR matrix with operations reflected\u001b[39;00m\n\u001b[1;32m      2\u001b[0m DR_det \u001b[38;5;241m=\u001b[39m np\u001b[38;5;241m.\u001b[39mcopy(agent\u001b[38;5;241m.\u001b[39mDR)   \u001b[38;5;66;03m# Copy the old DR\u001b[39;00m\n\u001b[0;32m----> 3\u001b[0m \u001b[43mDR_det\u001b[49m\u001b[43m[\u001b[49m\u001b[43mnp\u001b[49m\u001b[38;5;241;43m.\u001b[39;49m\u001b[43mix_\u001b[49m\u001b[43m(\u001b[49m\u001b[43mmask\u001b[49m\u001b[43m,\u001b[49m\u001b[43m \u001b[49m\u001b[43mmask\u001b[49m\u001b[43m)\u001b[49m\u001b[43m]\u001b[49m \u001b[38;5;241m=\u001b[39m D   \u001b[38;5;66;03m# Replace the locations of the mask with the new DR\u001b[39;00m\n",
      "\u001b[0;31mValueError\u001b[0m: shape mismatch: value array of shape (100,100) could not be broadcast to indexing result of shape (57,57)"
     ]
    }
   ],
   "source": [
    "# Recover the original DR matrix with operations reflected\n",
    "DR_det = np.copy(agent.DR)   # Copy the old DR\n",
    "DR_det[np.ix_(mask, mask)] = D   # Replace the locations of the mask with the new DR"
   ]
  },
  {
   "cell_type": "code",
   "execution_count": 44,
   "metadata": {},
   "outputs": [
    {
     "name": "stderr",
     "output_type": "stream",
     "text": [
      "/var/folders/sf/4_xlxj4j2r1_sx5v07843wbw0000gn/T/ipykernel_52748/3084750285.py:55: RuntimeWarning: divide by zero encountered in log\n",
      "  self.V = np.round(np.log(self.Z), 2)\n",
      "/var/folders/sf/4_xlxj4j2r1_sx5v07843wbw0000gn/T/ipykernel_52748/3084750285.py:55: RuntimeWarning: invalid value encountered in log\n",
      "  self.V = np.round(np.log(self.Z), 2)\n"
     ]
    }
   ],
   "source": [
    "# new_agent.DR = DR_det\n",
    "new_agent.DR = D\n",
    "new_agent.update_V()"
   ]
  },
  {
   "cell_type": "code",
   "execution_count": 45,
   "metadata": {},
   "outputs": [
    {
     "name": "stdout",
     "output_type": "stream",
     "text": [
      "[[  -inf    nan   -inf   -inf    nan   -inf   -inf -43.41 -40.25 -39.51]\n",
      " [   nan    nan    nan    nan    nan    nan   -inf -41.79 -40.14 -39.4 ]\n",
      " [   nan    nan    nan    nan    nan    nan   -inf    nan   -inf   -inf]\n",
      " [  -inf    nan   -inf   -inf    nan   -inf   -inf    nan   -inf   -inf]\n",
      " [  -inf    nan   -inf   -inf    nan    nan    nan    nan   -inf   -inf]\n",
      " [  -inf    nan   -inf    nan    nan    nan    nan    nan   -inf   -inf]\n",
      " [  -inf    nan   -inf    nan -41.76   -inf   -inf -38.31   -inf   -inf]\n",
      " [   nan    nan   -inf    nan    nan   -inf    nan -37.6    -inf   -inf]\n",
      " [   nan    nan   -inf   -inf    nan   -inf    nan    nan    nan    nan]\n",
      " [  -inf    nan   -inf   -inf    nan   -inf   -inf    nan    nan   1.  ]]\n"
     ]
    }
   ],
   "source": [
    "print(new_agent.V.reshape((agent.height, agent.width)))"
   ]
  },
  {
   "cell_type": "code",
   "execution_count": 26,
   "metadata": {},
   "outputs": [
    {
     "name": "stdout",
     "output_type": "stream",
     "text": [
      "Starting in state: [7 0]\n",
      "Took action: 1 and arrived in state: [7 1]\n",
      "Took action: 2 and arrived in state: [6 1]\n",
      "Took action: 2 and arrived in state: [5 1]\n",
      "Took action: 2 and arrived in state: [4 1]\n",
      "Took action: 2 and arrived in state: [3 1]\n",
      "Took action: 2 and arrived in state: [2 1]\n",
      "Took action: 1 and arrived in state: [2 2]\n",
      "Took action: 1 and arrived in state: [2 3]\n",
      "Took action: 1 and arrived in state: [2 4]\n",
      "Took action: 0 and arrived in state: [3 4]\n",
      "Took action: 0 and arrived in state: [4 4]\n",
      "Took action: 1 and arrived in state: [4 5]\n",
      "Took action: 1 and arrived in state: [4 6]\n",
      "Took action: 1 and arrived in state: [4 7]\n",
      "Took action: 0 and arrived in state: [5 7]\n",
      "Took action: 0 and arrived in state: [6 7]\n",
      "Took action: 0 and arrived in state: [7 7]\n",
      "Took action: 0 and arrived in state: [8 7]\n",
      "Took action: 1 and arrived in state: [8 8]\n",
      "Took action: 1 and arrived in state: [8 9]\n",
      "Took action: 0 and arrived in state: [9 9]\n",
      "Took 21 steps\n"
     ]
    },
    {
     "name": "stderr",
     "output_type": "stream",
     "text": [
      "/Users/abizzle/anaconda3/envs/gym/lib/python3.10/site-packages/gymnasium/utils/passive_env_checker.py:181: DeprecationWarning: \u001b[33mWARN: Current gymnasium version requires that `Env.reset` can be passed `options` to allow the environment initialisation to be passed additional information.\u001b[0m\n",
      "  logger.deprecation(\n"
     ]
    }
   ],
   "source": [
    "new_agent_traj = test_agent(new_agent)"
   ]
  },
  {
   "cell_type": "code",
   "execution_count": 27,
   "metadata": {},
   "outputs": [
    {
     "data": {
      "image/png": "[encoded data removed]",
      "text/plain": [
       "<Figure size 640x480 with 1 Axes>"
      ]
     },
     "metadata": {},
     "output_type": "display_data"
    }
   ],
   "source": [
    "record_trajectory(new_agent, new_agent_traj)"
   ]
  },
  {
   "cell_type": "code",
   "execution_count": 28,
   "metadata": {},
   "outputs": [
    {
     "data": {
      "text/plain": [
       "(100,)"
      ]
     },
     "execution_count": 28,
     "metadata": {},
     "output_type": "execute_result"
    }
   ],
   "source": [
    "mask.shape"
   ]
  },
  {
   "cell_type": "markdown",
   "metadata": {},
   "source": [
    "## Find Absolute Difference"
   ]
  },
  {
   "cell_type": "code",
   "execution_count": 29,
   "metadata": {},
   "outputs": [],
   "source": [
    "D_inv = new_agent.get_D_inv()"
   ]
  },
  {
   "cell_type": "code",
   "execution_count": 31,
   "metadata": {},
   "outputs": [
    {
     "name": "stdout",
     "output_type": "stream",
     "text": [
      "Difference between Updated D (using D_TD) and D_inv of new environemnt: 8.352568349014385\n"
     ]
    }
   ],
   "source": [
    "print(F\"Difference between Updated D (using D_TD) and D_inv of new environemnt: {np.max(np.abs(new_agent.DR - D_inv))}\")"
   ]
  },
  {
   "cell_type": "code",
   "execution_count": null,
   "metadata": {},
   "outputs": [],
   "source": []
  }
 ],
 "metadata": {
  "kernelspec": {
   "display_name": "gym",
   "language": "python",
   "name": "python3"
  },
  "language_info": {
   "codemirror_mode": {
    "name": "ipython",
    "version": 3
   },
   "file_extension": ".py",
   "mimetype": "text/x-python",
   "name": "python",
   "nbconvert_exporter": "python",
   "pygments_lexer": "ipython3",
   "version": "3.10.0"
  }
 },
 "nbformat": 4,
 "nbformat_minor": 2
}
