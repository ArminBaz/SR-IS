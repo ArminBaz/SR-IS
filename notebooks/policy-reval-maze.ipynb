{
 "cells": [
  {
   "cell_type": "code",
   "execution_count": 64,
   "metadata": {},
   "outputs": [],
   "source": [
    "import os\n",
    "\n",
    "import numpy as np\n",
    "import importlib\n",
    "import seaborn as sns\n",
    "import gymnasium as gym\n",
    "import matplotlib.pyplot as plt\n",
    "from matplotlib import patches\n",
    "import matplotlib.animation as manimation\n",
    "from sklearn.decomposition import PCA\n",
    "\n",
    "\n",
    "import gym_env\n",
    "import utils\n",
    "from utils import create_mapping, get_transition_matrix, create_mapping_nb, get_full_maze_values"
   ]
  },
  {
   "cell_type": "markdown",
   "metadata": {},
   "source": [
    "## Helper Functions"
   ]
  },
  {
   "cell_type": "code",
   "execution_count": 105,
   "metadata": {},
   "outputs": [],
   "source": [
    "def update_terminal_reward(agent, loc, r):\n",
    "    \"\"\"\n",
    "    Update the reward for the terminal state of the agent according to loc\n",
    "\n",
    "    Args:\n",
    "    agent (LinearRL class) : The LinearRL agent\n",
    "    loc (int) : The terminal location to change the reward of [0->n] n= number of terminal locations - 1\n",
    "    r (float) : The new reward to change r[loc] to\n",
    "    \"\"\"\n",
    "    # Get location of reward and change\n",
    "    r_loc = np.argwhere(agent.terminals)[loc]\n",
    "    agent.r[r_loc] = r\n",
    "    # Update expr_t inside of the agent\n",
    "    agent.expr_t = np.exp(agent.r[agent.terminals] / agent._lambda)\n",
    "\n",
    "def policy_reval(agent):\n",
    "    \"\"\"\n",
    "    The New environment is the same as the old one except we \n",
    "    \n",
    "    Args:\n",
    "    agent (LinearRL class) : The LinearRL agent\n",
    "    r_new (array) : Updated reward\n",
    "\n",
    "    Returns:\n",
    "    V_new (array) : New value of each state\n",
    "    \"\"\"\n",
    "    r_new = agent.r\n",
    "    expr_new = np.exp(r_new[agent.terminals] / agent._lambda)\n",
    "    Z_new = np.zeros(len(r_new))\n",
    "\n",
    "    Z_new[~agent.terminals] = agent.DR[~agent.terminals][:,~agent.terminals] @ agent.P @ expr_new\n",
    "    Z_new[agent.terminals] = expr_new\n",
    "    V_new = np.round(np.log(Z_new), 3)\n",
    "\n",
    "    return V_new\n",
    "\n",
    "def decision_policy(agent):\n",
    "    \"\"\"\n",
    "    Performs matrix version of equation 6 from the LinearRL paper\n",
    "\n",
    "    Args:\n",
    "    agent (LinearRL class) : The LinearRL agent\n",
    "\n",
    "    Returns:\n",
    "    pii (array) : The decision policy\n",
    "    \"\"\"\n",
    "    G = np.dot(agent.T, agent.Z)\n",
    "\n",
    "    expv_tiled = np.tile(agent.Z, (len(agent.Z), 1))\n",
    "    G = G.reshape(-1, 1)\n",
    "    \n",
    "    zg = expv_tiled / G\n",
    "    pii = agent.T * zg\n",
    "\n",
    "    return pii\n",
    "\n",
    "def plot_decision_prob(probs_train, probs_test):\n",
    "    \"\"\"\n",
    "    Plots the decision probability of going towards a terminal state\n",
    "\n",
    "    Args:\n",
    "    probs_train (array) : Probability of heading towards each terminal state before policy revaluation\n",
    "    probs_test (array) : probability of heading towrads each terminal state after policy revaluation\n",
    "    \"\"\"\n",
    "    color_palette = sns.color_palette(\"colorblind\")\n",
    "    colors = [color_palette[3], color_palette[2]]\n",
    "    print(colors)\n",
    "    bar_positions_training = np.arange(len(probs_train)) * 0.4\n",
    "    bar_positions_test = np.arange(len(probs_train)) * 0.4 + 1\n",
    "    # bar_positions_training = np.array([0, 0.4])  # Bar positions for training (s1 and s2)\n",
    "    # bar_positions_test = np.array([1, 1.4])  # Bar positions for test (s1 and s2)\n",
    "\n",
    "    plt.bar(bar_positions_training, probs_train, width=0.3, color=colors, edgecolor='black')\n",
    "    plt.bar(bar_positions_test, probs_test, width=0.3, color=colors, edgecolor='black')\n",
    "\n",
    "    handles = [plt.Rectangle((0,0),1,1, facecolor=colors[i], edgecolor='black') for i in range(len(probs_train))]\n",
    "    plt.legend(handles, [f'State {i+1}' for i in range(len(probs_train))], title='States', loc='upper center')\n",
    "    \n",
    "    plt.ylabel('Probabilities')\n",
    "    plt.xticks([0.2, 1.2], ['Training', 'Test'])\n",
    "    plt.rcParams['font.family'] = 'serif'\n",
    "\n",
    "    plt.show()"
   ]
  },
  {
   "cell_type": "code",
   "execution_count": 212,
   "metadata": {},
   "outputs": [
    {
     "name": "stdout",
     "output_type": "stream",
     "text": [
      "[(0.8352941176470589, 0.3686274509803922, 0.0), (0.00784313725490196, 0.6196078431372549, 0.45098039215686275)]\n"
     ]
    }
   ],
   "source": [
    "color_palette = sns.color_palette(\"colorblind\")\n",
    "colors = [color_palette[3], color_palette[2]]\n",
    "print(colors)"
   ]
  },
  {
   "cell_type": "code",
   "execution_count": 214,
   "metadata": {},
   "outputs": [
    {
     "name": "stdout",
     "output_type": "stream",
     "text": [
      "Converted colors (Keynote RGB sliders format): [(213, 94, 0), (2, 158, 115)]\n"
     ]
    }
   ],
   "source": [
    "def rgb_to_keynote(rgb):\n",
    "    return tuple(int(255 * val) for val in rgb)\n",
    "\n",
    "# Your RGB colors\n",
    "colors_rgb = [(0.8352941176470589, 0.3686274509803922, 0.0), (0.00784313725490196, 0.6196078431372549, 0.45098039215686275)]\n",
    "\n",
    "# Convert to Keynote RGB sliders format\n",
    "colors_keynote_rgb = [rgb_to_keynote(rgb) for rgb in colors_rgb]\n",
    "\n",
    "print(\"Converted colors (Keynote RGB sliders format):\", colors_keynote_rgb)"
   ]
  },
  {
   "cell_type": "markdown",
   "metadata": {},
   "source": [
    "## LinearRL-TD Model"
   ]
  },
  {
   "cell_type": "code",
   "execution_count": 209,
   "metadata": {},
   "outputs": [],
   "source": [
    "class LinearRL:\n",
    "    def __init__(self, env_name, alpha=0.1, beta=1, _lambda=1.0, epsilon=0.4, num_steps=25000, policy=\"random\", imp_samp=False):\n",
    "        self.env = gym.make(env_name)\n",
    "        self.start_loc = self.env.unwrapped.start_loc\n",
    "        self.target_locs = self.env.unwrapped.target_locs\n",
    "        self.maze = self.env.unwrapped.maze\n",
    "        self.walls = self.env.unwrapped.get_walls()\n",
    "        self.size = self.maze.size - len(self.walls)   # Size of the state space is the = size of maze - number of blocked states\n",
    "        self.height, self.width = self.maze.shape\n",
    "\n",
    "        # Create mapping and Transition matrix\n",
    "        self.mapping = create_mapping_nb(self.maze, self.walls)\n",
    "        self.reverse_mapping = {index: (i, j) for (i, j), index in self.mapping.items()}\n",
    "        self.T = get_transition_matrix(self.env, self.mapping)\n",
    "        \n",
    "\n",
    "        # Get terminal states\n",
    "        self.terminals = np.diag(self.T) == 1\n",
    "        # Calculate P = T_{NT}\n",
    "        self.P = self.T[~self.terminals][:,self.terminals]\n",
    "        # Set reward\n",
    "        self.reward_nt = -1   # Non-terminal state reward\n",
    "        self.reward_t = -1    # Terminal state reward\n",
    "        self.r = np.full(len(self.T), self.reward_nt)\n",
    "        self.r[self.terminals] = self.reward_t\n",
    "        self.expr_t = np.exp(self.r[self.terminals] / _lambda)\n",
    "        # Precalculate exp(r) for use with LinearRL equations\n",
    "        self.expr_nt = np.exp(self.reward_nt / _lambda)\n",
    "\n",
    "        # Params\n",
    "        self.alpha = alpha\n",
    "        self.beta = beta\n",
    "        self.gamma = self.expr_nt\n",
    "        self._lambda = _lambda\n",
    "        self.epsilon = epsilon\n",
    "        self.num_steps = num_steps\n",
    "        self.policy = policy\n",
    "        self.imp_samp = imp_samp\n",
    "\n",
    "        # Model\n",
    "        self.DR = self.get_DR()\n",
    "        # self.DR = np.full((self.size,self.size), 0.1)\n",
    "        self.Z = np.full(self.size, 0.01)\n",
    "\n",
    "        self.V = np.zeros(self.size)\n",
    "        self.one_hot = np.eye(self.size)\n",
    "\n",
    "    def get_states(self):\n",
    "        \"\"\"\n",
    "        Returns all non-blocked states as well as a mapping of each state (i,j) -> to an index (k)\n",
    "        \"\"\"\n",
    "        states = []\n",
    "        index_mapping = {}\n",
    "        index = 0\n",
    "        for i in range(len(self.maze)):\n",
    "            for j in range(len(self.maze[i])):\n",
    "                if self.maze[i][j] in ['0', 'S', 'G']:\n",
    "                    states.append((i, j))\n",
    "                    index_mapping[(i, j)] = index\n",
    "                    index += 1\n",
    "\n",
    "        return states, index_mapping\n",
    "\n",
    "    def get_DR(self):\n",
    "        \"\"\"\n",
    "        Returns the DR initialization based on what decision policy we are using, values are filled with 0.01 if using softmax to avoid div by zero\n",
    "        \"\"\"\n",
    "        if self.policy == \"random\":\n",
    "            DR = np.eye(self.size)\n",
    "            DR[np.where(self.terminals)[0], np.where(self.terminals)[0]] = (1/(1-self.gamma))\n",
    "        \n",
    "        elif self.policy == \"softmax\":\n",
    "            DR = np.full((self.size, self.size), 0.01)\n",
    "            np.fill_diagonal(DR, 1)\n",
    "            DR[np.where(self.terminals)[0], np.where(self.terminals)[0]] = (1/(1-self.gamma))\n",
    "\n",
    "        return DR\n",
    "\n",
    "    def update_V(self):\n",
    "        self.Z[~self.terminals] = self.DR[~self.terminals][:,~self.terminals] @ self.P @ self.expr_t\n",
    "        self.Z[self.terminals] = self.expr_t\n",
    "        self.V = np.round(np.log(self.Z), 2)\n",
    "    \n",
    "    def importance_sampling(self, state, s_prob):\n",
    "        \"\"\"\n",
    "        Performs importance sampling P(x'|x)/u(x'|x). P(.) is the default policy, u(.) us the decision policy\n",
    "        \"\"\"\n",
    "        successor_states = self.env.unwrapped.get_successor_states(state)\n",
    "        p = 1/len(successor_states)\n",
    "        w = p/s_prob\n",
    "                \n",
    "        return w\n",
    "\n",
    "    def select_action(self, state, beta=0.5, target_loc=None):\n",
    "        \"\"\"\n",
    "        Action selection based on our policy\n",
    "        Options are: [random, softmax, egreedy, test]\n",
    "        \"\"\"\n",
    "        if self.policy == \"random\":\n",
    "            return self.env.unwrapped.random_action()\n",
    "        \n",
    "        elif self.policy == \"softmax\":\n",
    "            successor_states = self.env.unwrapped.get_successor_states(state)      # succesor_states = [(state, terminated), ...]\n",
    "            action_probs = np.full(self.env.action_space.n, 0.0)\n",
    "\n",
    "            v_sum = sum(\n",
    "                        np.exp((np.log(self.Z[self.mapping[(s[0][0],s[0][1])]] + 1e-20)) / self.beta) for s in successor_states\n",
    "                        )\n",
    "\n",
    "            # if we don't have enough info, random action\n",
    "            if v_sum == 0:\n",
    "                return self.env.unwrapped.random_action() \n",
    "\n",
    "            for action in self.env.unwrapped.get_available_actions(state):\n",
    "                direction = self.env.unwrapped._action_to_direction[action]\n",
    "                new_state = state + direction\n",
    "                \n",
    "                action_probs[action] = np.exp((np.log(self.Z[self.mapping[(new_state[0], new_state[1])]] + 1e-20)) / self.beta ) / v_sum\n",
    "\n",
    "            action = np.random.choice(self.env.action_space.n, p=action_probs)\n",
    "            s_prob = action_probs[action]\n",
    "\n",
    "            return action, s_prob\n",
    "            \n",
    "        elif self.policy == \"test\":\n",
    "            action_values = np.full(self.env.action_space.n, -np.inf)\n",
    "            for action in self.env.unwrapped.get_available_actions(state):\n",
    "                direction = self.env.unwrapped._action_to_direction[action]\n",
    "                new_state = state + direction\n",
    "\n",
    "                # Need this to make it work for now\n",
    "                if np.array_equal(new_state, target_loc):\n",
    "                    return action\n",
    "\n",
    "                if self.maze[new_state[0], new_state[1]] == \"1\":\n",
    "                    continue\n",
    "                action_values[action] = round(np.log(self.Z[self.mapping[(new_state[0],new_state[1])]]), 2)\n",
    "\n",
    "            return np.nanargmax(action_values)\n",
    "\n",
    "    def get_D_inv(self):\n",
    "        \"\"\"\n",
    "        Calculates the DR directly using matrix inversion, used for testing\n",
    "        \"\"\"\n",
    "        I = np.eye(self.size)\n",
    "        D_inv = np.linalg.inv(I-self.gamma*self.T)\n",
    "\n",
    "        return D_inv\n",
    "\n",
    "    def learn(self):\n",
    "        \"\"\"\n",
    "        Agent explores the maze according to its decision policy and and updates its DR as it goes\n",
    "        \"\"\"\n",
    "        # print(f\"Decision Policy: {self.policy}, Number of Iterations: {self.num_steps}, lr={self.alpha}, temperature={self.beta}, importance sampling={self.imp_samp}\")\n",
    "        self.env.reset()\n",
    "\n",
    "        # Iterate through number of steps\n",
    "        for i in range(self.num_steps):\n",
    "            # Current state\n",
    "            state = self.env.unwrapped.agent_loc\n",
    "            state_idx = self.mapping[(state[0], state[1])]\n",
    "\n",
    "            # Choose action\n",
    "            if self.policy == \"softmax\":\n",
    "                action, s_prob = self.select_action(state)\n",
    "            else:\n",
    "                action = self.select_action(state, self.policy)\n",
    "        \n",
    "            # Take action\n",
    "            obs, _, done, _, _ = self.env.step(action)\n",
    "\n",
    "            # Unpack observation to get new state\n",
    "            next_state = obs[\"agent\"]\n",
    "            next_state_idx = self.mapping[(next_state[0], next_state[1])]\n",
    "\n",
    "            # Importance sampling\n",
    "            if self.imp_samp:\n",
    "                w = self.importance_sampling(state, s_prob)\n",
    "                w = 1 if np.isnan(w) or w == 0 else w\n",
    "            else:\n",
    "                w = 1\n",
    "            \n",
    "            ## Update default representation\n",
    "            target = self.one_hot[state_idx] + self.gamma * self.DR[next_state_idx]\n",
    "            self.DR[state_idx] = (1 - self.alpha) * self.DR[state_idx] + self.alpha * target * w\n",
    "            # If we are using importance sampling\n",
    "            # if self.imp_samp:\n",
    "            #     self.DR[state_idx] = (1 - self.alpha) * self.DR[state_idx] + self.alpha * target * w\n",
    "            # else:\n",
    "            #     self.DR[state_idx] = (1 - self.alpha) * self.DR[state_idx] + self.alpha * target\n",
    "\n",
    "            ## Update Z-Values\n",
    "            self.Z = self.DR[:,~self.terminals] @ self.P @ self.expr_t\n",
    "\n",
    "            if done:\n",
    "                self.env.reset()\n",
    "                continue\n",
    "            \n",
    "            # Update state\n",
    "            state = next_state\n",
    "\n",
    "        # Update DR at terminal state\n",
    "        self.Z[self.terminals] = np.exp(self.r[self.terminals] / self._lambda)\n",
    "        self.V = np.round(np.log(self.Z), 2)\n"
   ]
  },
  {
   "cell_type": "markdown",
   "metadata": {},
   "source": [
    "## Train Agents"
   ]
  },
  {
   "cell_type": "code",
   "execution_count": 33,
   "metadata": {},
   "outputs": [],
   "source": [
    "mazes = [\"simple-5x5-2\", \"simple-7x7-2\"]\n",
    "maze_name = mazes[1]"
   ]
  },
  {
   "cell_type": "markdown",
   "metadata": {},
   "source": [
    "### D_inv agent"
   ]
  },
  {
   "cell_type": "code",
   "execution_count": 52,
   "metadata": {},
   "outputs": [
    {
     "name": "stdout",
     "output_type": "stream",
     "text": [
      "[[ -9.6   -7.95  -6.29  -4.63  -3.26  -2.29  -2.85]\n",
      " [-11.22   -inf   -inf  -3.24  -1.6   -0.32  -1.54]\n",
      " [-12.07   -inf   -inf   -inf   0.33   2.    -0.04]\n",
      " [-10.94  -9.72   -inf   -inf   -inf  -0.05  -1.43]\n",
      " [ -9.45  -8.08  -6.28  -4.96   -inf  -2.09  -3.09]\n",
      " [ -8.05  -6.61  -4.84  -3.32  -4.42  -4.27  -4.87]\n",
      " [ -6.75  -5.11  -3.06  -1.    -3.05  -4.84  -5.86]]\n"
     ]
    }
   ],
   "source": [
    "# Agent to be used with D_inv\n",
    "agent = LinearRL(env_name=maze_name, _lambda=1.0, alpha=0.001, beta=1.0, num_steps=500000, policy=\"softmax\", imp_samp=True)\n",
    "# Make the reward for the first terminal state higher than the second to bias the DR towards that terminal state\n",
    "update_terminal_reward(agent, loc=0, r=2)\n",
    "\n",
    "D_inv = np.linalg.inv(np.diag(np.exp(-agent.r / agent._lambda)) - agent.T)\n",
    "\n",
    "agent.DR = D_inv\n",
    "agent.update_V()\n",
    "maze_values = get_full_maze_values(agent)\n",
    "print(maze_values)"
   ]
  },
  {
   "cell_type": "code",
   "execution_count": 53,
   "metadata": {},
   "outputs": [
    {
     "name": "stdout",
     "output_type": "stream",
     "text": [
      "[0.         0.96328509 0.         0.         0.         0.\n",
      " 0.         0.03671491 0.         0.         0.         0.\n",
      " 0.         0.         0.         0.         0.         0.\n",
      " 0.         0.         0.         0.         0.         0.\n",
      " 0.         0.         0.         0.         0.         0.\n",
      " 0.         0.         0.         0.         0.         0.\n",
      " 0.         0.         0.         0.        ]\n"
     ]
    }
   ],
   "source": [
    "pii_old = decision_policy(agent)\n",
    "print(pii_old[0])"
   ]
  },
  {
   "cell_type": "code",
   "execution_count": 54,
   "metadata": {},
   "outputs": [],
   "source": [
    "# Update the second terminal state to make it double that of the first\n",
    "update_terminal_reward(agent, loc=1, r=8)\n",
    "V_new = policy_reval(agent=agent)"
   ]
  },
  {
   "cell_type": "code",
   "execution_count": 55,
   "metadata": {},
   "outputs": [
    {
     "name": "stdout",
     "output_type": "stream",
     "text": [
      "[[-6.863 -7.525 -6.272 -4.633 -3.259 -2.292 -2.843]\n",
      " [-5.27    -inf   -inf -3.244 -1.597 -0.318 -1.534]\n",
      " [-3.615   -inf   -inf   -inf  0.334  2.    -0.027]\n",
      " [-1.958 -0.723   -inf   -inf   -inf  0.153 -1.089]\n",
      " [-0.447  0.915  2.717  4.038   -inf  0.576 -0.502]\n",
      " [ 0.947  2.387  4.163  5.68   4.435  2.545  1.036]\n",
      " [ 2.25   3.892  5.939  8.     5.945  3.904  2.266]]\n"
     ]
    }
   ],
   "source": [
    "agent.V = V_new\n",
    "maze_values = get_full_maze_values(agent)\n",
    "print(maze_values)"
   ]
  },
  {
   "cell_type": "code",
   "execution_count": 56,
   "metadata": {},
   "outputs": [],
   "source": [
    "agent.update_V()\n",
    "pii_new = decision_policy(agent)"
   ]
  },
  {
   "cell_type": "code",
   "execution_count": 57,
   "metadata": {},
   "outputs": [
    {
     "name": "stdout",
     "output_type": "stream",
     "text": [
      "[0.         0.09495049 0.         0.         0.         0.\n",
      " 0.         0.90504951 0.         0.         0.         0.\n",
      " 0.         0.         0.         0.         0.         0.\n",
      " 0.         0.         0.         0.         0.         0.\n",
      " 0.         0.         0.         0.         0.         0.\n",
      " 0.         0.         0.         0.         0.         0.\n",
      " 0.         0.         0.         0.        ]\n"
     ]
    }
   ],
   "source": [
    "print(pii_new[0])"
   ]
  },
  {
   "cell_type": "code",
   "execution_count": 108,
   "metadata": {},
   "outputs": [
    {
     "name": "stdout",
     "output_type": "stream",
     "text": [
      "[(0.8352941176470589, 0.3686274509803922, 0.0), (0.00784313725490196, 0.6196078431372549, 0.45098039215686275)]\n"
     ]
    },
    {
     "data": {
      "image/png": "[encoded data removed]",
      "text/plain": [
       "<Figure size 640x480 with 1 Axes>"
      ]
     },
     "metadata": {},
     "output_type": "display_data"
    }
   ],
   "source": [
    "plot_decision_prob(probs_train=[0.963, 0.0367], probs_test=[0.09495049, 0.90504951])"
   ]
  },
  {
   "cell_type": "markdown",
   "metadata": {},
   "source": [
    "### Agent with importance sampling"
   ]
  },
  {
   "cell_type": "code",
   "execution_count": 164,
   "metadata": {},
   "outputs": [],
   "source": [
    "# Initialize the agent\n",
    "agent_with_imp = LinearRL(env_name=\"simple-7x7-2\", _lambda=1, alpha=0.01, beta=1, num_steps=50000, policy=\"softmax\", imp_samp=True)\n",
    "update_terminal_reward(agent_with_imp, loc=0, r=4)\n"
   ]
  },
  {
   "cell_type": "code",
   "execution_count": 165,
   "metadata": {},
   "outputs": [
    {
     "name": "stdout",
     "output_type": "stream",
     "text": [
      "Decision Policy: softmax, Number of Iterations: 50000, lr=0.01, temperature=1, importance sampling=True\n"
     ]
    }
   ],
   "source": [
    "# Train the agent with importance sampling\n",
    "agent_with_imp.learn()"
   ]
  },
  {
   "cell_type": "code",
   "execution_count": 166,
   "metadata": {},
   "outputs": [
    {
     "name": "stdout",
     "output_type": "stream",
     "text": [
      "[[-6.48 -4.93 -3.28 -1.63 -0.26  0.73  0.08]\n",
      " [-6.84  -inf  -inf -0.25  1.37  2.7   1.48]\n",
      " [-6.05  -inf  -inf  -inf  3.34  4.    3.01]\n",
      " [-5.12 -4.26  -inf  -inf  -inf  2.99  1.59]\n",
      " [-4.24 -3.92 -2.8  -1.96  -inf  0.95 -0.15]\n",
      " [-3.59 -3.32 -2.46 -1.39 -0.96 -0.59 -0.39]\n",
      " [-2.94 -2.74 -1.28 -1.   -0.45 -0.54 -0.4 ]]\n"
     ]
    }
   ],
   "source": [
    "# Print out the values to see what it learned\n",
    "maze_values = get_full_maze_values(agent_with_imp)\n",
    "print(maze_values)"
   ]
  },
  {
   "cell_type": "code",
   "execution_count": 167,
   "metadata": {},
   "outputs": [],
   "source": [
    "update_terminal_reward(agent_with_imp, loc=1, r=8)\n",
    "V_new = policy_reval(agent=agent_with_imp)"
   ]
  },
  {
   "cell_type": "code",
   "execution_count": 168,
   "metadata": {},
   "outputs": [
    {
     "name": "stdout",
     "output_type": "stream",
     "text": [
      "[[-4.787 -4.433 -2.975 -1.362  0.051  1.239  1.913]\n",
      " [-3.323   -inf   -inf -0.063  1.541  2.907  1.737]\n",
      " [-2.144   -inf   -inf   -inf  3.504  4.     3.204]\n",
      " [-0.837  0.315   -inf   -inf   -inf  3.211  1.886]\n",
      " [ 0.549  1.831  3.593  4.862   -inf  2.09   2.761]\n",
      " [ 1.888  3.411  5.182  6.536  5.131  3.218  3.2  ]\n",
      " [ 3.195  4.935  7.109  8.     6.896  4.364  3.25 ]]\n"
     ]
    }
   ],
   "source": [
    "agent_with_imp.V = V_new\n",
    "maze_values = get_full_maze_values(agent_with_imp)\n",
    "print(maze_values)"
   ]
  },
  {
   "cell_type": "code",
   "execution_count": 169,
   "metadata": {},
   "outputs": [
    {
     "name": "stdout",
     "output_type": "stream",
     "text": [
      "[0.         0.87063943 0.         0.         0.         0.\n",
      " 0.         0.12936057 0.         0.         0.         0.\n",
      " 0.         0.         0.         0.         0.         0.\n",
      " 0.         0.         0.         0.         0.         0.\n",
      " 0.         0.         0.         0.         0.         0.\n",
      " 0.         0.         0.         0.         0.         0.\n",
      " 0.         0.         0.         0.        ]\n"
     ]
    }
   ],
   "source": [
    "pii_old = decision_policy(agent_with_imp)\n",
    "print(pii_old[0])"
   ]
  },
  {
   "cell_type": "code",
   "execution_count": 170,
   "metadata": {},
   "outputs": [
    {
     "data": {
      "text/plain": [
       "array([0.        , 0.24773242, 0.        , 0.        , 0.        ,\n",
       "       0.        , 0.        , 0.75226758, 0.        , 0.        ,\n",
       "       0.        , 0.        , 0.        , 0.        , 0.        ,\n",
       "       0.        , 0.        , 0.        , 0.        , 0.        ,\n",
       "       0.        , 0.        , 0.        , 0.        , 0.        ,\n",
       "       0.        , 0.        , 0.        , 0.        , 0.        ,\n",
       "       0.        , 0.        , 0.        , 0.        , 0.        ,\n",
       "       0.        , 0.        , 0.        , 0.        , 0.        ])"
      ]
     },
     "execution_count": 170,
     "metadata": {},
     "output_type": "execute_result"
    }
   ],
   "source": [
    "agent_with_imp.update_V()\n",
    "pii_new = decision_policy(agent_with_imp)\n",
    "pii_new[0]"
   ]
  },
  {
   "cell_type": "code",
   "execution_count": 163,
   "metadata": {},
   "outputs": [
    {
     "name": "stdout",
     "output_type": "stream",
     "text": [
      "[(0.8352941176470589, 0.3686274509803922, 0.0), (0.00784313725490196, 0.6196078431372549, 0.45098039215686275)]\n"
     ]
    },
    {
     "data": {
      "image/png": "[encoded data removed]",
      "text/plain": [
       "<Figure size 640x480 with 1 Axes>"
      ]
     },
     "metadata": {},
     "output_type": "display_data"
    }
   ],
   "source": [
    "plot_decision_prob(probs_train=[0.95555602, 0.04444398], probs_test=[0.37327763, 0.62672237])"
   ]
  },
  {
   "cell_type": "markdown",
   "metadata": {},
   "source": [
    "### Agent without importance sampling"
   ]
  },
  {
   "cell_type": "code",
   "execution_count": 199,
   "metadata": {},
   "outputs": [],
   "source": [
    "agent_no_imp = LinearRL(env_name=\"simple-7x7-2\", _lambda=1, alpha=0.01, beta=1, num_steps=300000, policy=\"softmax\", imp_samp=False)\n",
    "update_terminal_reward(agent_no_imp, loc=0, r=4)"
   ]
  },
  {
   "cell_type": "code",
   "execution_count": 200,
   "metadata": {},
   "outputs": [
    {
     "name": "stdout",
     "output_type": "stream",
     "text": [
      "Decision Policy: softmax, Number of Iterations: 300000, lr=0.01, temperature=1, importance sampling=False\n"
     ]
    }
   ],
   "source": [
    "# Train agent without importance sampling\n",
    "agent_no_imp.learn()"
   ]
  },
  {
   "cell_type": "code",
   "execution_count": 201,
   "metadata": {},
   "outputs": [
    {
     "name": "stdout",
     "output_type": "stream",
     "text": [
      "[[-3.33 -2.26 -1.19 -0.05  0.92  1.62  0.74]\n",
      " [-4.5   -inf  -inf  1.09  2.1   2.78  1.86]\n",
      " [-4.74  -inf  -inf  -inf  3.41  4.    3.03]\n",
      " [-4.05 -3.37  -inf  -inf  -inf  3.03  2.01]\n",
      " [-3.39 -3.17 -2.3  -1.6   -inf  1.82  0.89]\n",
      " [-2.79 -2.68 -1.99 -1.08 -0.64  0.66 -0.33]\n",
      " [-2.22 -2.01 -1.03 -1.   -0.52 -0.6  -0.64]]\n"
     ]
    }
   ],
   "source": [
    "# Print out the values to see what it learned\n",
    "maze_values = get_full_maze_values(agent_no_imp)\n",
    "print(maze_values)"
   ]
  },
  {
   "cell_type": "code",
   "execution_count": 202,
   "metadata": {},
   "outputs": [],
   "source": [
    "update_terminal_reward(agent_no_imp, loc=1, r=8)\n",
    "V_new = policy_reval(agent=agent_no_imp)"
   ]
  },
  {
   "cell_type": "code",
   "execution_count": 203,
   "metadata": {},
   "outputs": [
    {
     "name": "stdout",
     "output_type": "stream",
     "text": [
      "[[-3.284 -2.232 -1.16  -0.023  0.955  1.653  0.766]\n",
      " [-3.242   -inf   -inf  1.118  2.135  2.806  1.893]\n",
      " [-0.95    -inf   -inf   -inf  3.439  4.     3.058]\n",
      " [ 0.155  1.226   -inf   -inf   -inf  3.057  2.037]\n",
      " [ 1.254  2.587  4.039  5.196   -inf  1.878  0.96 ]\n",
      " [ 2.488  3.931  5.469  6.655  4.797  1.958  1.678]\n",
      " [ 3.777  5.451  6.932  8.     6.922  4.269  3.049]]\n"
     ]
    }
   ],
   "source": [
    "agent_no_imp.V = V_new\n",
    "maze_values = get_full_maze_values(agent_no_imp)\n",
    "print(maze_values)"
   ]
  },
  {
   "cell_type": "code",
   "execution_count": 204,
   "metadata": {},
   "outputs": [
    {
     "name": "stdout",
     "output_type": "stream",
     "text": [
      "[0.         0.90335744 0.         0.         0.         0.\n",
      " 0.         0.09664256 0.         0.         0.         0.\n",
      " 0.         0.         0.         0.         0.         0.\n",
      " 0.         0.         0.         0.         0.         0.\n",
      " 0.         0.         0.         0.         0.         0.\n",
      " 0.         0.         0.         0.         0.         0.\n",
      " 0.         0.         0.         0.        ]\n"
     ]
    }
   ],
   "source": [
    "pii_old = decision_policy(agent_no_imp)\n",
    "print(pii_old[0])"
   ]
  },
  {
   "cell_type": "code",
   "execution_count": 205,
   "metadata": {},
   "outputs": [
    {
     "data": {
      "text/plain": [
       "array([0.        , 0.73302041, 0.        , 0.        , 0.        ,\n",
       "       0.        , 0.        , 0.26697959, 0.        , 0.        ,\n",
       "       0.        , 0.        , 0.        , 0.        , 0.        ,\n",
       "       0.        , 0.        , 0.        , 0.        , 0.        ,\n",
       "       0.        , 0.        , 0.        , 0.        , 0.        ,\n",
       "       0.        , 0.        , 0.        , 0.        , 0.        ,\n",
       "       0.        , 0.        , 0.        , 0.        , 0.        ,\n",
       "       0.        , 0.        , 0.        , 0.        , 0.        ])"
      ]
     },
     "execution_count": 205,
     "metadata": {},
     "output_type": "execute_result"
    }
   ],
   "source": [
    "agent_no_imp.update_V()\n",
    "pii_new = decision_policy(agent_no_imp)\n",
    "pii_new[0]"
   ]
  },
  {
   "cell_type": "code",
   "execution_count": 110,
   "metadata": {},
   "outputs": [
    {
     "name": "stdout",
     "output_type": "stream",
     "text": [
      "[(0.8352941176470589, 0.3686274509803922, 0.0), (0.00784313725490196, 0.6196078431372549, 0.45098039215686275)]\n"
     ]
    },
    {
     "data": {
      "image/png": "[encoded data removed]",
      "text/plain": [
       "<Figure size 640x480 with 1 Axes>"
      ]
     },
     "metadata": {},
     "output_type": "display_data"
    }
   ],
   "source": [
    "plot_decision_prob(probs_train=[0.90834118 , 0.09165882], probs_test=[0.75925148, 0.24074852])"
   ]
  },
  {
   "cell_type": "code",
   "execution_count": 206,
   "metadata": {},
   "outputs": [
    {
     "data": {
      "text/plain": [
       "(40, 40)"
      ]
     },
     "execution_count": 206,
     "metadata": {},
     "output_type": "execute_result"
    }
   ],
   "source": [
    "agent_no_imp.DR.shape"
   ]
  },
  {
   "cell_type": "markdown",
   "metadata": {},
   "source": [
    "### Averages"
   ]
  },
  {
   "cell_type": "code",
   "execution_count": 210,
   "metadata": {},
   "outputs": [
    {
     "ename": "KeyboardInterrupt",
     "evalue": "",
     "output_type": "error",
     "traceback": [
      "\u001b[0;31m---------------------------------------------------------------------------\u001b[0m",
      "\u001b[0;31mKeyboardInterrupt\u001b[0m                         Traceback (most recent call last)",
      "Cell \u001b[0;32mIn[210], line 16\u001b[0m\n\u001b[1;32m     14\u001b[0m \u001b[38;5;66;03m# Have the agents learn the environment\u001b[39;00m\n\u001b[1;32m     15\u001b[0m agent_no_imp\u001b[38;5;241m.\u001b[39mlearn()\n\u001b[0;32m---> 16\u001b[0m \u001b[43magent_with_imp\u001b[49m\u001b[38;5;241;43m.\u001b[39;49m\u001b[43mlearn\u001b[49m\u001b[43m(\u001b[49m\u001b[43m)\u001b[49m\n\u001b[1;32m     18\u001b[0m \u001b[38;5;66;03m# Add\u001b[39;00m\n\u001b[1;32m     19\u001b[0m DR_avg_with_imp \u001b[38;5;241m+\u001b[39m\u001b[38;5;241m=\u001b[39m agent_with_imp\u001b[38;5;241m.\u001b[39mDR\n",
      "Cell \u001b[0;32mIn[209], line 165\u001b[0m, in \u001b[0;36mLinearRL.learn\u001b[0;34m(self)\u001b[0m\n\u001b[1;32m    163\u001b[0m \u001b[38;5;66;03m# Choose action\u001b[39;00m\n\u001b[1;32m    164\u001b[0m \u001b[38;5;28;01mif\u001b[39;00m \u001b[38;5;28mself\u001b[39m\u001b[38;5;241m.\u001b[39mpolicy \u001b[38;5;241m==\u001b[39m \u001b[38;5;124m\"\u001b[39m\u001b[38;5;124msoftmax\u001b[39m\u001b[38;5;124m\"\u001b[39m:\n\u001b[0;32m--> 165\u001b[0m     action, s_prob \u001b[38;5;241m=\u001b[39m \u001b[38;5;28;43mself\u001b[39;49m\u001b[38;5;241;43m.\u001b[39;49m\u001b[43mselect_action\u001b[49m\u001b[43m(\u001b[49m\u001b[43mstate\u001b[49m\u001b[43m)\u001b[49m\n\u001b[1;32m    166\u001b[0m \u001b[38;5;28;01melse\u001b[39;00m:\n\u001b[1;32m    167\u001b[0m     action \u001b[38;5;241m=\u001b[39m \u001b[38;5;28mself\u001b[39m\u001b[38;5;241m.\u001b[39mselect_action(state, \u001b[38;5;28mself\u001b[39m\u001b[38;5;241m.\u001b[39mpolicy)\n",
      "Cell \u001b[0;32mIn[209], line 103\u001b[0m, in \u001b[0;36mLinearRL.select_action\u001b[0;34m(self, state, beta, target_loc)\u001b[0m\n\u001b[1;32m    100\u001b[0m     \u001b[38;5;28;01mreturn\u001b[39;00m \u001b[38;5;28mself\u001b[39m\u001b[38;5;241m.\u001b[39menv\u001b[38;5;241m.\u001b[39munwrapped\u001b[38;5;241m.\u001b[39mrandom_action()\n\u001b[1;32m    102\u001b[0m \u001b[38;5;28;01melif\u001b[39;00m \u001b[38;5;28mself\u001b[39m\u001b[38;5;241m.\u001b[39mpolicy \u001b[38;5;241m==\u001b[39m \u001b[38;5;124m\"\u001b[39m\u001b[38;5;124msoftmax\u001b[39m\u001b[38;5;124m\"\u001b[39m:\n\u001b[0;32m--> 103\u001b[0m     successor_states \u001b[38;5;241m=\u001b[39m \u001b[38;5;28;43mself\u001b[39;49m\u001b[38;5;241;43m.\u001b[39;49m\u001b[43menv\u001b[49m\u001b[38;5;241;43m.\u001b[39;49m\u001b[43munwrapped\u001b[49m\u001b[38;5;241;43m.\u001b[39;49m\u001b[43mget_successor_states\u001b[49m\u001b[43m(\u001b[49m\u001b[43mstate\u001b[49m\u001b[43m)\u001b[49m      \u001b[38;5;66;03m# succesor_states = [(state, terminated), ...]\u001b[39;00m\n\u001b[1;32m    104\u001b[0m     action_probs \u001b[38;5;241m=\u001b[39m np\u001b[38;5;241m.\u001b[39mfull(\u001b[38;5;28mself\u001b[39m\u001b[38;5;241m.\u001b[39menv\u001b[38;5;241m.\u001b[39maction_space\u001b[38;5;241m.\u001b[39mn, \u001b[38;5;241m0.0\u001b[39m)\n\u001b[1;32m    106\u001b[0m     v_sum \u001b[38;5;241m=\u001b[39m \u001b[38;5;28msum\u001b[39m(\n\u001b[1;32m    107\u001b[0m                 np\u001b[38;5;241m.\u001b[39mexp((np\u001b[38;5;241m.\u001b[39mlog(\u001b[38;5;28mself\u001b[39m\u001b[38;5;241m.\u001b[39mZ[\u001b[38;5;28mself\u001b[39m\u001b[38;5;241m.\u001b[39mmapping[(s[\u001b[38;5;241m0\u001b[39m][\u001b[38;5;241m0\u001b[39m],s[\u001b[38;5;241m0\u001b[39m][\u001b[38;5;241m1\u001b[39m])]] \u001b[38;5;241m+\u001b[39m \u001b[38;5;241m1e-20\u001b[39m)) \u001b[38;5;241m/\u001b[39m \u001b[38;5;28mself\u001b[39m\u001b[38;5;241m.\u001b[39mbeta) \u001b[38;5;28;01mfor\u001b[39;00m s \u001b[38;5;129;01min\u001b[39;00m successor_states\n\u001b[1;32m    108\u001b[0m                 )\n",
      "File \u001b[0;32m~/Research/LinearRL-TD/gym-env/gym_env/envs/maze_env.py:135\u001b[0m, in \u001b[0;36mMazeEnv.get_successor_states\u001b[0;34m(self, state)\u001b[0m\n\u001b[1;32m    133\u001b[0m new_loc \u001b[38;5;241m+\u001b[39m\u001b[38;5;241m=\u001b[39m direction\n\u001b[1;32m    134\u001b[0m \u001b[38;5;28;01mif\u001b[39;00m \u001b[38;5;28mself\u001b[39m\u001b[38;5;241m.\u001b[39m_is_valid_position(new_loc):\n\u001b[0;32m--> 135\u001b[0m     terminated \u001b[38;5;241m=\u001b[39m \u001b[38;5;28;43mself\u001b[39;49m\u001b[38;5;241;43m.\u001b[39;49m\u001b[43m_is_at_target\u001b[49m\u001b[43m(\u001b[49m\u001b[43mnew_loc\u001b[49m\u001b[43m)\u001b[49m\n\u001b[1;32m    136\u001b[0m     \u001b[38;5;66;03m# terminated = np.array_equal(new_loc, self.target_loc)\u001b[39;00m\n\u001b[1;32m    137\u001b[0m     next_states\u001b[38;5;241m.\u001b[39mappend((new_loc, terminated))\n",
      "File \u001b[0;32m~/Research/LinearRL-TD/gym-env/gym_env/envs/maze_env.py:159\u001b[0m, in \u001b[0;36mMazeEnv._is_at_target\u001b[0;34m(self, current_loc)\u001b[0m\n\u001b[1;32m    155\u001b[0m \u001b[38;5;28;01mdef\u001b[39;00m \u001b[38;5;21m_is_at_target\u001b[39m(\u001b[38;5;28mself\u001b[39m, current_loc):\n\u001b[1;32m    156\u001b[0m \u001b[38;5;250m    \u001b[39m\u001b[38;5;124;03m\"\"\"\u001b[39;00m\n\u001b[1;32m    157\u001b[0m \u001b[38;5;124;03m    Check to see if current_loc is at one of the target_locs\u001b[39;00m\n\u001b[1;32m    158\u001b[0m \u001b[38;5;124;03m    \"\"\"\u001b[39;00m\n\u001b[0;32m--> 159\u001b[0m     \u001b[38;5;28;01mreturn\u001b[39;00m \u001b[43mnp\u001b[49m\u001b[38;5;241;43m.\u001b[39;49m\u001b[43many\u001b[49m\u001b[43m(\u001b[49m\u001b[43mnp\u001b[49m\u001b[38;5;241;43m.\u001b[39;49m\u001b[43mall\u001b[49m\u001b[43m(\u001b[49m\u001b[38;5;28;43mself\u001b[39;49m\u001b[38;5;241;43m.\u001b[39;49m\u001b[43mtarget_locs\u001b[49m\u001b[43m \u001b[49m\u001b[38;5;241;43m==\u001b[39;49m\u001b[43m \u001b[49m\u001b[43mcurrent_loc\u001b[49m\u001b[43m,\u001b[49m\u001b[43m \u001b[49m\u001b[43maxis\u001b[49m\u001b[38;5;241;43m=\u001b[39;49m\u001b[38;5;241;43m1\u001b[39;49m\u001b[43m)\u001b[49m\u001b[43m)\u001b[49m\n",
      "File \u001b[0;32m~/anaconda3/envs/gym/lib/python3.10/site-packages/numpy/core/fromnumeric.py:2322\u001b[0m, in \u001b[0;36many\u001b[0;34m(a, axis, out, keepdims, where)\u001b[0m\n\u001b[1;32m   2317\u001b[0m \u001b[38;5;28;01mdef\u001b[39;00m \u001b[38;5;21m_any_dispatcher\u001b[39m(a, axis\u001b[38;5;241m=\u001b[39m\u001b[38;5;28;01mNone\u001b[39;00m, out\u001b[38;5;241m=\u001b[39m\u001b[38;5;28;01mNone\u001b[39;00m, keepdims\u001b[38;5;241m=\u001b[39m\u001b[38;5;28;01mNone\u001b[39;00m, \u001b[38;5;241m*\u001b[39m,\n\u001b[1;32m   2318\u001b[0m                     where\u001b[38;5;241m=\u001b[39mnp\u001b[38;5;241m.\u001b[39m_NoValue):\n\u001b[1;32m   2319\u001b[0m     \u001b[38;5;28;01mreturn\u001b[39;00m (a, where, out)\n\u001b[0;32m-> 2322\u001b[0m \u001b[38;5;129m@array_function_dispatch\u001b[39m(_any_dispatcher)\n\u001b[1;32m   2323\u001b[0m \u001b[38;5;28;01mdef\u001b[39;00m \u001b[38;5;21many\u001b[39m(a, axis\u001b[38;5;241m=\u001b[39m\u001b[38;5;28;01mNone\u001b[39;00m, out\u001b[38;5;241m=\u001b[39m\u001b[38;5;28;01mNone\u001b[39;00m, keepdims\u001b[38;5;241m=\u001b[39mnp\u001b[38;5;241m.\u001b[39m_NoValue, \u001b[38;5;241m*\u001b[39m, where\u001b[38;5;241m=\u001b[39mnp\u001b[38;5;241m.\u001b[39m_NoValue):\n\u001b[1;32m   2324\u001b[0m \u001b[38;5;250m    \u001b[39m\u001b[38;5;124;03m\"\"\"\u001b[39;00m\n\u001b[1;32m   2325\u001b[0m \u001b[38;5;124;03m    Test whether any array element along a given axis evaluates to True.\u001b[39;00m\n\u001b[1;32m   2326\u001b[0m \n\u001b[0;32m   (...)\u001b[0m\n\u001b[1;32m   2410\u001b[0m \n\u001b[1;32m   2411\u001b[0m \u001b[38;5;124;03m    \"\"\"\u001b[39;00m\n\u001b[1;32m   2412\u001b[0m     \u001b[38;5;28;01mreturn\u001b[39;00m _wrapreduction(a, np\u001b[38;5;241m.\u001b[39mlogical_or, \u001b[38;5;124m'\u001b[39m\u001b[38;5;124many\u001b[39m\u001b[38;5;124m'\u001b[39m, axis, \u001b[38;5;28;01mNone\u001b[39;00m, out,\n\u001b[1;32m   2413\u001b[0m                           keepdims\u001b[38;5;241m=\u001b[39mkeepdims, where\u001b[38;5;241m=\u001b[39mwhere)\n",
      "\u001b[0;31mKeyboardInterrupt\u001b[0m: "
     ]
    }
   ],
   "source": [
    "num_iterations = 100\n",
    "\n",
    "DR_avg_with_imp = np.zeros((40, 40))\n",
    "DR_avg_no_imp = np.zeros((40,40))\n",
    "# Construct a T for SR that prefers going to the right\n",
    "\n",
    "for i in range(num_iterations):\n",
    "    # Define agents\n",
    "    agent_with_imp = LinearRL(env_name=\"simple-7x7-2\", _lambda=1, alpha=0.01, beta=1, num_steps=400000, policy=\"softmax\", imp_samp=True)\n",
    "    update_terminal_reward(agent_with_imp, loc=0, r=4)\n",
    "    agent_no_imp = LinearRL(env_name=\"simple-7x7-2\", _lambda=1, alpha=0.01, beta=1, num_steps=400000, policy=\"softmax\", imp_samp=False)\n",
    "    update_terminal_reward(agent_no_imp, loc=0, r=4)\n",
    "\n",
    "    # Have the agents learn the environment\n",
    "    agent_no_imp.learn()\n",
    "    agent_with_imp.learn()\n",
    "\n",
    "    # Add\n",
    "    DR_avg_with_imp += agent_with_imp.DR\n",
    "    DR_avg_no_imp += agent_no_imp.DR\n",
    "\n",
    "# Take average\n",
    "DR_avg_with_imp /= num_iterations\n",
    "DR_avg_no_imp /= num_iterations"
   ]
  },
  {
   "cell_type": "code",
   "execution_count": null,
   "metadata": {},
   "outputs": [],
   "source": []
  }
 ],
 "metadata": {
  "kernelspec": {
   "display_name": "gym",
   "language": "python",
   "name": "python3"
  },
  "language_info": {
   "codemirror_mode": {
    "name": "ipython",
    "version": 3
   },
   "file_extension": ".py",
   "mimetype": "text/x-python",
   "name": "python",
   "nbconvert_exporter": "python",
   "pygments_lexer": "ipython3",
   "version": "3.10.0"
  }
 },
 "nbformat": 4,
 "nbformat_minor": 2
}
