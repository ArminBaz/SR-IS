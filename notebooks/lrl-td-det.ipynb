{
 "cells": [
  {
   "cell_type": "code",
   "execution_count": 1,
   "metadata": {},
   "outputs": [],
   "source": [
    "import os\n",
    "\n",
    "import numpy as np\n",
    "import importlib\n",
    "import gymnasium as gym\n",
    "import matplotlib.pyplot as plt\n",
    "from matplotlib import patches\n",
    "import matplotlib.animation as manimation\n",
    "from sklearn.decomposition import PCA\n",
    "\n",
    "\n",
    "import gym_env\n",
    "import utils\n",
    "from utils import create_mapping, get_transition_matrix, make_plots, record_trajectory, test_agent"
   ]
  },
  {
   "cell_type": "markdown",
   "metadata": {},
   "source": [
    "## Linear RL Model"
   ]
  },
  {
   "cell_type": "code",
   "execution_count": 2,
   "metadata": {},
   "outputs": [],
   "source": [
    "class LinearRL:\n",
    "    def __init__(self, env_name, alpha=0.1, gamma=0.904, _lambda=1.0, epsilon=0.4, num_steps=25000, policy=\"random\"):\n",
    "        self.env = gym.make(env_name)\n",
    "        self.start_loc = self.env.unwrapped.start_loc\n",
    "        self.target_loc = self.env.unwrapped.target_loc\n",
    "        self.maze = self.env.unwrapped.maze\n",
    "        self.size = self.maze.size\n",
    "        self.height, self.width = self.maze.shape\n",
    "        self.target_locs = [self.target_loc]\n",
    "        self.mapping = create_mapping(self.maze)\n",
    "        self.T, self.barriers = get_transition_matrix(self.env, self.size, self.mapping)\n",
    "        \n",
    "\n",
    "        # Get terminal states\n",
    "        self.terminals = np.diag(self.T) == 1\n",
    "        # Calculate P = T_{NT}\n",
    "        self.P = self.T[~self.terminals][:,self.terminals]\n",
    "        # self.P = self.T[:, self.terminals]\n",
    "        # Calculate reward\n",
    "        self.r = np.full(len(self.T), -0.1)     # our reward at each non-terminal state to be -1\n",
    "        self.r[self.terminals] = 1           # reward at terminal state is 0\n",
    "        self.expr_t = np.exp(self.r[self.terminals] / _lambda)      # exp(r) = exp(-c) at terminal state\n",
    "        self.expr_nt = np.exp(-0.1/_lambda)     # exp(r) = exp(-c) at non-terminal states\n",
    "\n",
    "        # Params\n",
    "        self.alpha = alpha\n",
    "        self.gamma = self.expr_nt\n",
    "        self._lambda = _lambda\n",
    "        self.epsilon = epsilon\n",
    "        self.num_steps = num_steps\n",
    "        self.policy = policy\n",
    "\n",
    "        # Model\n",
    "        self.DR = self.get_DR()\n",
    "        self.Z = np.full(self.size, 0.01)\n",
    "\n",
    "        self.V = np.zeros(self.size)\n",
    "        self.one_hot = np.eye(self.size)\n",
    "\n",
    "    def get_states(self):\n",
    "        \"\"\"\n",
    "        Returns all non-blocked states as well as a mapping of each state (i,j) -> to an index (k)\n",
    "        \"\"\"\n",
    "        states = []\n",
    "        index_mapping = {}\n",
    "        index = 0\n",
    "        for i in range(len(self.maze)):\n",
    "            for j in range(len(self.maze[i])):\n",
    "                if self.maze[i][j] in ['0', 'S', 'G']:\n",
    "                    states.append((i, j))\n",
    "                    index_mapping[(i, j)] = index\n",
    "                    index += 1\n",
    "\n",
    "        return states, index_mapping\n",
    "\n",
    "    def get_DR(self):\n",
    "        if self.policy == \"random\":\n",
    "            DR = np.eye(self.size)\n",
    "        \n",
    "        elif self.policy == \"softmax\":\n",
    "            DR = np.full((self.size, self.size), 0.01)\n",
    "            DR[:, self.barriers] = 0\n",
    "            DR[self.barriers, :] = 0\n",
    "            np.fill_diagonal(DR, 1)\n",
    "\n",
    "        return DR\n",
    "\n",
    "    def update_V(self):\n",
    "        self.Z[~self.terminals] = self.DR[~self.terminals][:,~self.terminals] @ self.P @ self.expr_t\n",
    "        self.Z[self.terminals] = np.exp(self.r[self.terminals] / self._lambda)\n",
    "        self.V = np.round(np.log(self.Z), 2)\n",
    "    \n",
    "    def importance_sampling(self, state, s_prob):\n",
    "        successor_states = self.env.unwrapped.get_successor_states(state)\n",
    "        p = 1/len(successor_states)\n",
    "        w = p/s_prob\n",
    "                \n",
    "        return w\n",
    "\n",
    "    def select_action(self, state, beta=1, target_loc=None):\n",
    "        if self.policy == \"random\":\n",
    "            return self.env.unwrapped.random_action()\n",
    "        \n",
    "        elif self.policy == \"softmax\":\n",
    "            successor_states = self.env.unwrapped.get_successor_states(state)      # succesor_states = [(state, terminated), ...]\n",
    "            action_probs = np.full(self.env.action_space.n, 0.0)\n",
    "\n",
    "            v_sum = sum(\n",
    "                        np.exp((np.log(self.Z[self.mapping[(s[0][0],s[0][1])]] + 1e-20)) / beta) for s in successor_states\n",
    "                        )\n",
    "\n",
    "            # if we don't have enough info, random action\n",
    "            if v_sum == 0:\n",
    "                return self.env.unwrapped.random_action() \n",
    "\n",
    "            for action in self.env.unwrapped.get_available_actions(state):\n",
    "                direction = self.env.unwrapped._action_to_direction[action]\n",
    "                new_state = state + direction\n",
    "                \n",
    "                action_probs[action] = np.exp((np.log(self.Z[self.mapping[(new_state[0], new_state[1])]] + 1e-20)) / beta ) / v_sum\n",
    "\n",
    "            action = np.random.choice(self.env.action_space.n, p=action_probs)\n",
    "            s_prob = action_probs[action]\n",
    "\n",
    "            return action, s_prob\n",
    "    \n",
    "        elif self.policy == \"egreedy\":\n",
    "            if np.random.uniform(low=0, high=1) < self.epsilon:\n",
    "                return self.env.unwrapped.random_action()\n",
    "            else:\n",
    "                action_values = np.full(self.env.action_space.n, -np.inf)\n",
    "                for action in self.env.unwrapped.get_available_actions(state):\n",
    "                    direction = self.env.unwrapped._action_to_direction[action]\n",
    "                    new_state = state + direction\n",
    "\n",
    "                    if self.maze[new_state[0], new_state[1]] == \"1\":\n",
    "                        continue\n",
    "\n",
    "                    action_values[action] = round(np.log(self.Z[self.mapping[(new_state[0],new_state[1])]]), 2)\n",
    "\n",
    "                return np.argmax(action_values)\n",
    "            \n",
    "        elif self.policy == \"test\":\n",
    "            action_values = np.full(self.env.action_space.n, -np.inf)\n",
    "            for action in self.env.unwrapped.get_available_actions(state):\n",
    "                direction = self.env.unwrapped._action_to_direction[action]\n",
    "                new_state = state + direction\n",
    "\n",
    "                # Need this to make it work for now\n",
    "                if np.array_equal(new_state, target_loc):\n",
    "                    return action\n",
    "\n",
    "                if self.maze[new_state[0], new_state[1]] == \"1\":\n",
    "                    continue\n",
    "                action_values[action] = round(np.log(self.Z[self.mapping[(new_state[0],new_state[1])]]), 2)\n",
    "\n",
    "            return np.nanargmax(action_values)\n",
    "\n",
    "    def get_D_inv(self):\n",
    "        # New way of doing it\n",
    "        I = np.eye(self.size)\n",
    "        D_inv = np.linalg.inv(I-self.gamma*self.T)\n",
    "\n",
    "        return D_inv\n",
    "\n",
    "    def learn(self):\n",
    "        \"\"\"\n",
    "        Agent randomly explores the maze and and updates its DR as it goes\n",
    "        \"\"\"\n",
    "        print(f\"Decision Policy: {self.policy}\")\n",
    "        self.env.reset()\n",
    "\n",
    "        # Iterate through number of steps\n",
    "        for i in range(self.num_steps):\n",
    "            # Current state\n",
    "            state = self.env.unwrapped.agent_loc\n",
    "            state_idx = self.mapping[(state[0], state[1])]\n",
    "\n",
    "            # Choose action\n",
    "            if self.policy == \"softmax\":\n",
    "                action, s_prob = self.select_action(state, self.policy)\n",
    "            else:\n",
    "                action = self.select_action(state, self.policy)\n",
    "\n",
    "            # Take action\n",
    "            obs, _, done, _, _ = self.env.step(action)\n",
    "\n",
    "            # Unpack observation to get new state\n",
    "            next_state = obs[\"agent\"]\n",
    "            next_state_idx = self.mapping[(next_state[0], next_state[1])]\n",
    "\n",
    "            # Importance sampling\n",
    "            if self.policy == \"softmax\":\n",
    "                w = self.importance_sampling(state, s_prob)\n",
    "                w = 1 if np.isnan(w) or w == 0 else w\n",
    "            else:\n",
    "                w = 1\n",
    "            \n",
    "            ## Update default representation\n",
    "            TDE =  self.one_hot[state_idx] + self.gamma * self.DR[next_state_idx]\n",
    "            self.DR[state_idx] = (1 - self.alpha) * self.DR[state_idx] + self.alpha * TDE * w\n",
    "\n",
    "            ## Update Z-Values\n",
    "            self.Z = self.DR[:,~self.terminals] @ self.P @ self.expr_t\n",
    "\n",
    "            # Update state\n",
    "            if done:\n",
    "                self.env.reset()\n",
    "                continue\n",
    "            state = next_state\n",
    "            \n",
    "        \n",
    "        self.Z[self.terminals] = np.exp(self.r[self.terminals] / self._lambda)\n",
    "        self.V = np.round(np.log(self.Z), 2)"
   ]
  },
  {
   "cell_type": "markdown",
   "metadata": {},
   "source": [
    "## Learn DR-TD"
   ]
  },
  {
   "cell_type": "code",
   "execution_count": 3,
   "metadata": {},
   "outputs": [],
   "source": [
    "agent = LinearRL(env_name=\"tolman-9x9-nb\", _lambda=1.0, alpha=0.01, num_steps=400000, policy=\"random\")"
   ]
  },
  {
   "cell_type": "code",
   "execution_count": 4,
   "metadata": {},
   "outputs": [
    {
     "data": {
      "text/plain": [
       "array([['1', '1', '1', 'S', '1', '1', '1', '1', '1'],\n",
       "       ['1', '1', '1', '0', '1', '1', '1', '1', '1'],\n",
       "       ['0', '0', '0', '0', '0', '0', '0', '0', '0'],\n",
       "       ['0', '1', '1', '0', '1', '1', '1', '1', '0'],\n",
       "       ['0', '1', '1', '0', '1', '1', '1', '1', '0'],\n",
       "       ['0', '1', '1', '0', '1', '1', '1', '1', '0'],\n",
       "       ['0', '0', '0', '0', '0', '0', '0', '0', '0'],\n",
       "       ['1', '1', '1', '0', '1', '1', '1', '1', '1'],\n",
       "       ['1', '1', '1', 'G', '1', '1', '1', '1', '1']], dtype='<U21')"
      ]
     },
     "execution_count": 4,
     "metadata": {},
     "output_type": "execute_result"
    }
   ],
   "source": [
    "agent.maze"
   ]
  },
  {
   "cell_type": "code",
   "execution_count": 5,
   "metadata": {},
   "outputs": [],
   "source": [
    "states, mapping = agent.get_states()"
   ]
  },
  {
   "cell_type": "code",
   "execution_count": 6,
   "metadata": {},
   "outputs": [
    {
     "data": {
      "text/plain": [
       "31"
      ]
     },
     "execution_count": 6,
     "metadata": {},
     "output_type": "execute_result"
    }
   ],
   "source": [
    "len(states)"
   ]
  },
  {
   "cell_type": "code",
   "execution_count": 7,
   "metadata": {},
   "outputs": [
    {
     "name": "stdout",
     "output_type": "stream",
     "text": [
      "Decision Policy: random\n"
     ]
    },
    {
     "name": "stderr",
     "output_type": "stream",
     "text": [
      "/Users/abizzle/anaconda3/envs/gym/lib/python3.10/site-packages/gymnasium/utils/passive_env_checker.py:181: DeprecationWarning: \u001b[33mWARN: Current gymnasium version requires that `Env.reset` can be passed `options` to allow the environment initialisation to be passed additional information.\u001b[0m\n",
      "  logger.deprecation(\n",
      "/var/folders/sf/4_xlxj4j2r1_sx5v07843wbw0000gn/T/ipykernel_52774/442765447.py:194: RuntimeWarning: divide by zero encountered in log\n",
      "  self.V = np.round(np.log(self.Z), 2)\n"
     ]
    }
   ],
   "source": [
    "# Run learning on non-blocked detour environment\n",
    "agent.learn()"
   ]
  },
  {
   "cell_type": "code",
   "execution_count": 8,
   "metadata": {},
   "outputs": [
    {
     "data": {
      "image/png": "[encoded data removed]",
      "text/plain": [
       "<Figure size 921.6x691.2 with 3 Axes>"
      ]
     },
     "metadata": {},
     "output_type": "display_data"
    }
   ],
   "source": [
    "make_plots(agent)"
   ]
  },
  {
   "cell_type": "code",
   "execution_count": 9,
   "metadata": {},
   "outputs": [
    {
     "data": {
      "text/plain": [
       "array([[ -inf,  -inf,  -inf, -3.08,  -inf,  -inf,  -inf,  -inf,  -inf],\n",
       "       [ -inf,  -inf,  -inf, -3.01,  -inf,  -inf,  -inf,  -inf,  -inf],\n",
       "       [-3.14, -3.18, -3.04, -2.76, -3.17, -3.53, -3.86, -4.05, -4.03],\n",
       "       [-2.93,  -inf,  -inf, -1.84,  -inf,  -inf,  -inf,  -inf, -3.84],\n",
       "       [-2.61,  -inf,  -inf, -1.33,  -inf,  -inf,  -inf,  -inf, -3.49],\n",
       "       [-2.22,  -inf,  -inf, -0.89,  -inf,  -inf,  -inf,  -inf, -3.06],\n",
       "       [-1.7 , -1.33, -0.81, -0.4 , -0.91, -1.35, -1.78, -2.25, -2.71],\n",
       "       [ -inf,  -inf,  -inf,  0.54,  -inf,  -inf,  -inf,  -inf,  -inf],\n",
       "       [ -inf,  -inf,  -inf,  1.  ,  -inf,  -inf,  -inf,  -inf,  -inf]])"
      ]
     },
     "execution_count": 9,
     "metadata": {},
     "output_type": "execute_result"
    }
   ],
   "source": [
    "agent.V.reshape((agent.height, agent.width))"
   ]
  },
  {
   "cell_type": "code",
   "execution_count": 14,
   "metadata": {},
   "outputs": [
    {
     "name": "stderr",
     "output_type": "stream",
     "text": [
      "/var/folders/dx/6bb4vg5j0r9cwkqygrg_kqkm0000gn/T/ipykernel_68241/442765447.py:71: RuntimeWarning: divide by zero encountered in log\n",
      "  self.V = np.round(np.log(self.Z), 2)\n"
     ]
    },
    {
     "data": {
      "text/plain": [
       "array([[ -inf,  -inf,  -inf, -3.15,  -inf,  -inf,  -inf,  -inf,  -inf],\n",
       "       [ -inf,  -inf,  -inf, -3.05,  -inf,  -inf,  -inf,  -inf,  -inf],\n",
       "       [-3.19, -3.23, -3.08, -2.78, -3.21, -3.6 , -3.91, -4.08, -4.06],\n",
       "       [-2.96,  -inf,  -inf, -1.96,  -inf,  -inf,  -inf,  -inf, -3.85],\n",
       "       [-2.62,  -inf,  -inf, -1.39,  -inf,  -inf,  -inf,  -inf, -3.52],\n",
       "       [-2.21,  -inf,  -inf, -0.89,  -inf,  -inf,  -inf,  -inf, -3.11],\n",
       "       [-1.77, -1.33, -0.88, -0.42, -0.88, -1.33, -1.78, -2.24, -2.68],\n",
       "       [ -inf,  -inf,  -inf,  0.5 ,  -inf,  -inf,  -inf,  -inf,  -inf],\n",
       "       [ -inf,  -inf,  -inf,  1.  ,  -inf,  -inf,  -inf,  -inf,  -inf]])"
      ]
     },
     "execution_count": 14,
     "metadata": {},
     "output_type": "execute_result"
    }
   ],
   "source": [
    "##  DONT RUN, ONLY FOR REFERENCE OF VALUES WITH D_INV  ##\n",
    "D_inv = agent.get_D_inv()\n",
    "# agent.DR = D_inv\n",
    "# agent.update_V()\n",
    "# agent.V.reshape((agent.height, agent.width))"
   ]
  },
  {
   "cell_type": "code",
   "execution_count": 10,
   "metadata": {},
   "outputs": [
    {
     "name": "stdout",
     "output_type": "stream",
     "text": [
      "Start location: [0 3], Target location: [8 3]\n",
      "Starting in state: [0 3]\n",
      "Took action: 0 and arrived in state: [1 3]\n",
      "Took action: 0 and arrived in state: [2 3]\n",
      "Took action: 0 and arrived in state: [3 3]\n",
      "Took action: 0 and arrived in state: [4 3]\n",
      "Took action: 0 and arrived in state: [5 3]\n",
      "Took action: 0 and arrived in state: [6 3]\n",
      "Took action: 0 and arrived in state: [7 3]\n",
      "Took action: 0 and arrived in state: [8 3]\n",
      "Took 8 steps\n"
     ]
    }
   ],
   "source": [
    "print(f\"Start location: {agent.start_loc}, Target location: {agent.target_loc}\")\n",
    "traj_not_blocked = test_agent(agent)"
   ]
  },
  {
   "cell_type": "code",
   "execution_count": 11,
   "metadata": {},
   "outputs": [
    {
     "data": {
      "image/png": "[encoded data removed]",
      "text/plain": [
       "<Figure size 640x480 with 1 Axes>"
      ]
     },
     "metadata": {},
     "output_type": "display_data"
    }
   ],
   "source": [
    "record_trajectory(agent, traj_not_blocked)"
   ]
  },
  {
   "cell_type": "markdown",
   "metadata": {},
   "source": [
    "## Get state -> state DR and T (excludes blocked squares)"
   ]
  },
  {
   "cell_type": "code",
   "execution_count": 12,
   "metadata": {},
   "outputs": [],
   "source": [
    "DR = agent.DR\n",
    "T = agent.T\n",
    "barriers = agent.barriers\n",
    "\n",
    "# print(DR.shape)\n",
    "# print(len(barriers))\n",
    "# print(barriers, \"\\n\")\n",
    "# idx = barriers[10]\n",
    "# print(DR[:,idx])\n",
    "# print(DR[idx,:])"
   ]
  },
  {
   "cell_type": "code",
   "execution_count": 13,
   "metadata": {},
   "outputs": [],
   "source": [
    "# Drop rows and columns associated with barriers\n",
    "# Convert barriers list to a NumPy array\n",
    "indices = np.array(barriers)\n",
    "\n",
    "# Create a boolean mask to identify rows and columns to keep\n",
    "mask = np.ones(DR.shape[0], dtype=bool)\n",
    "mask[indices] = False\n",
    "\n",
    "# Use boolean indexing to select rows and columns to keep\n",
    "DR_new = DR[mask][:, mask]\n",
    "T_new = T[mask][:,mask]"
   ]
  },
  {
   "cell_type": "code",
   "execution_count": 14,
   "metadata": {},
   "outputs": [
    {
     "name": "stdout",
     "output_type": "stream",
     "text": [
      "Number of blocked squares: 50\n",
      "Old DR shape: (81, 81), New DR shape: (31, 31)\n",
      "Old T shape: (81, 81), New T shape: (31, 31)\n"
     ]
    }
   ],
   "source": [
    "print(f\"Number of blocked squares: {len(barriers)}\")\n",
    "print(f\"Old DR shape: {DR.shape}, New DR shape: {DR_new.shape}\")\n",
    "print(f\"Old T shape: {T.shape}, New T shape: {T_new.shape}\")"
   ]
  },
  {
   "cell_type": "markdown",
   "metadata": {},
   "source": [
    "## Detour"
   ]
  },
  {
   "cell_type": "code",
   "execution_count": 15,
   "metadata": {},
   "outputs": [],
   "source": [
    "# Get new maze and initialize a new agent\n",
    "env_blocked = gym.make(\"tolman-9x9-b\")\n",
    "maze_blocked = env_blocked.unwrapped.maze\n",
    "new_agent = LinearRL(env_name=\"tolman-9x9-b\", _lambda=1.0, alpha=0.01)"
   ]
  },
  {
   "cell_type": "code",
   "execution_count": 16,
   "metadata": {},
   "outputs": [],
   "source": [
    "# Find states whose transition has been changed\n",
    "delta_T = agent.T - new_agent.T"
   ]
  },
  {
   "cell_type": "code",
   "execution_count": 17,
   "metadata": {},
   "outputs": [],
   "source": [
    "## OLD\n",
    "# delta_locs = [30, 39, 48]\n",
    "\n",
    "## NEW\n",
    "delta_locs = [12, 15, 18]"
   ]
  },
  {
   "cell_type": "code",
   "execution_count": 18,
   "metadata": {},
   "outputs": [
    {
     "data": {
      "text/plain": [
       "array([['1', '1', '1', 'S', '1', '1', '1', '1', '1'],\n",
       "       ['1', '1', '1', '0', '1', '1', '1', '1', '1'],\n",
       "       ['0', '0', '0', '0', '0', '0', '0', '0', '0'],\n",
       "       ['0', '1', '1', '0', '1', '1', '1', '1', '0'],\n",
       "       ['0', '1', '1', '1', '1', '1', '1', '1', '0'],\n",
       "       ['0', '1', '1', '0', '1', '1', '1', '1', '0'],\n",
       "       ['0', '0', '0', '0', '0', '0', '0', '0', '0'],\n",
       "       ['1', '1', '1', '0', '1', '1', '1', '1', '1'],\n",
       "       ['1', '1', '1', 'G', '1', '1', '1', '1', '1']], dtype='<U21')"
      ]
     },
     "execution_count": 18,
     "metadata": {},
     "output_type": "execute_result"
    }
   ],
   "source": [
    "maze_blocked"
   ]
  },
  {
   "cell_type": "code",
   "execution_count": 19,
   "metadata": {},
   "outputs": [],
   "source": [
    "T = T_new\n",
    "T_new = new_agent.T[mask][:,mask]\n",
    "DR = DR_new\n",
    "r = agent.r[mask]"
   ]
  },
  {
   "cell_type": "code",
   "execution_count": 20,
   "metadata": {},
   "outputs": [],
   "source": [
    "## OLD\n",
    "# L0 = np.diag(np.exp(-agent.r)) - T_new\n",
    "# L = np.diag(np.exp(-agent.r)) - new_agent.T\n",
    "\n",
    "## New\n",
    "L0 = np.diag(np.exp(-r)) - T\n",
    "L = np.diag(np.exp(-r)) - T_new"
   ]
  },
  {
   "cell_type": "code",
   "execution_count": 21,
   "metadata": {},
   "outputs": [
    {
     "data": {
      "text/plain": [
       "(3, 31)"
      ]
     },
     "execution_count": 21,
     "metadata": {},
     "output_type": "execute_result"
    }
   ],
   "source": [
    "delta = L[delta_locs] - L0[delta_locs]\n",
    "delta.shape"
   ]
  },
  {
   "cell_type": "code",
   "execution_count": 22,
   "metadata": {},
   "outputs": [
    {
     "data": {
      "text/plain": [
       "(31, 3)"
      ]
     },
     "execution_count": 22,
     "metadata": {},
     "output_type": "execute_result"
    }
   ],
   "source": [
    "## OLD\n",
    "# D0 = agent.DR\n",
    "# D0 = agent.get_D_inv()\n",
    "# D0_j = D0[:,delta_locs]\n",
    "# D0_j.shape\n",
    "\n",
    "## NEW\n",
    "# D0 = DR\n",
    "D0 = agent.get_D_inv()[mask][:,mask]\n",
    "\n",
    "D0_j = D0[:,delta_locs]\n",
    "D0_j.shape"
   ]
  },
  {
   "cell_type": "code",
   "execution_count": 23,
   "metadata": {},
   "outputs": [
    {
     "data": {
      "text/plain": [
       "(3, 3)"
      ]
     },
     "execution_count": 23,
     "metadata": {},
     "output_type": "execute_result"
    }
   ],
   "source": [
    "I = np.eye(len(delta_locs))\n",
    "I.shape"
   ]
  },
  {
   "cell_type": "code",
   "execution_count": 24,
   "metadata": {},
   "outputs": [
    {
     "data": {
      "text/plain": [
       "(3, 3)"
      ]
     },
     "execution_count": 24,
     "metadata": {},
     "output_type": "execute_result"
    }
   ],
   "source": [
    "inv = np.linalg.inv(I + np.dot(delta, D0_j))\n",
    "inv.shape"
   ]
  },
  {
   "cell_type": "code",
   "execution_count": 25,
   "metadata": {},
   "outputs": [
    {
     "data": {
      "text/plain": [
       "(31, 31)"
      ]
     },
     "execution_count": 25,
     "metadata": {},
     "output_type": "execute_result"
    }
   ],
   "source": [
    "B = np.dot( np.dot(D0_j, inv), np.dot(delta, D0) )\n",
    "B.shape"
   ]
  },
  {
   "cell_type": "code",
   "execution_count": 26,
   "metadata": {},
   "outputs": [
    {
     "data": {
      "text/plain": [
       "(31, 31)"
      ]
     },
     "execution_count": 26,
     "metadata": {},
     "output_type": "execute_result"
    }
   ],
   "source": [
    "D = D0 - B\n",
    "D.shape"
   ]
  },
  {
   "cell_type": "markdown",
   "metadata": {},
   "source": [
    "#### We want to recover the DR now"
   ]
  },
  {
   "cell_type": "code",
   "execution_count": 27,
   "metadata": {},
   "outputs": [
    {
     "data": {
      "text/plain": [
       "(81,)"
      ]
     },
     "execution_count": 27,
     "metadata": {},
     "output_type": "execute_result"
    }
   ],
   "source": [
    "mask.shape"
   ]
  },
  {
   "cell_type": "code",
   "execution_count": 34,
   "metadata": {},
   "outputs": [
    {
     "data": {
      "text/plain": [
       "array([False, False, False,  True, False, False, False, False, False,\n",
       "       False, False, False,  True, False, False, False, False, False,\n",
       "        True,  True,  True,  True,  True,  True,  True,  True,  True,\n",
       "        True, False, False,  True, False, False, False, False,  True,\n",
       "        True, False, False,  True, False, False, False, False,  True,\n",
       "        True, False, False,  True, False, False, False, False,  True,\n",
       "        True,  True,  True,  True,  True,  True,  True,  True,  True,\n",
       "       False, False, False,  True, False, False, False, False, False,\n",
       "       False, False, False,  True, False, False, False, False, False])"
      ]
     },
     "execution_count": 34,
     "metadata": {},
     "output_type": "execute_result"
    }
   ],
   "source": [
    "mask"
   ]
  },
  {
   "cell_type": "code",
   "execution_count": 28,
   "metadata": {},
   "outputs": [],
   "source": [
    "# Recover the original DR matrix with operations reflected\n",
    "DR_det = np.copy(agent.DR)   # Copy the old DR\n",
    "DR_det[np.ix_(mask, mask)] = D   # Replace the locations of the mask with the new DR"
   ]
  },
  {
   "cell_type": "code",
   "execution_count": 43,
   "metadata": {},
   "outputs": [
    {
     "data": {
      "text/plain": [
       "array([0.        , 0.        , 0.        , 1.98450617, 0.        ,\n",
       "       0.        , 0.        , 0.        , 0.        , 0.        ,\n",
       "       0.        , 0.        , 2.20230365, 0.        , 0.        ,\n",
       "       0.        , 0.        , 0.        , 0.22176871, 0.34261103,\n",
       "       0.52865703, 1.743579  , 0.56809103, 0.35442364, 0.22391752,\n",
       "       0.14439056, 0.09131076, 0.13906537, 0.        , 0.        ,\n",
       "       0.52978438, 0.        , 0.        , 0.        , 0.        ,\n",
       "       0.05838403, 0.09359251, 0.        , 0.        , 0.32653151,\n",
       "       0.        , 0.        , 0.        , 0.        , 0.03874651,\n",
       "       0.06839427, 0.        , 0.        , 0.18369439, 0.        ,\n",
       "       0.        , 0.        , 0.        , 0.02696508, 0.05419669,\n",
       "       0.04701428, 0.05336449, 0.14399223, 0.0465684 , 0.03098572,\n",
       "       0.02319223, 0.02030077, 0.02135628, 0.        , 0.        ,\n",
       "       0.        , 0.03375621, 0.        , 0.        , 0.        ,\n",
       "       0.        , 0.        , 0.        , 0.        , 0.        ,\n",
       "       0.0154981 , 0.        , 0.        , 0.        , 0.        ,\n",
       "       0.        ])"
      ]
     },
     "execution_count": 43,
     "metadata": {},
     "output_type": "execute_result"
    }
   ],
   "source": [
    "agent.DR[3]"
   ]
  },
  {
   "cell_type": "code",
   "execution_count": 48,
   "metadata": {},
   "outputs": [
    {
     "data": {
      "text/plain": [
       "array([False, False, False,  True, False, False, False, False, False,\n",
       "       False, False, False,  True, False, False, False, False, False,\n",
       "        True,  True,  True,  True,  True,  True,  True,  True,  True,\n",
       "        True, False, False,  True, False, False, False, False,  True,\n",
       "        True, False, False,  True, False, False, False, False,  True,\n",
       "        True, False, False,  True, False, False, False, False,  True,\n",
       "        True,  True,  True,  True,  True,  True,  True,  True,  True,\n",
       "       False, False, False,  True, False, False, False, False, False,\n",
       "       False, False, False,  True, False, False, False, False, False])"
      ]
     },
     "execution_count": 48,
     "metadata": {},
     "output_type": "execute_result"
    }
   ],
   "source": [
    "mask"
   ]
  },
  {
   "cell_type": "code",
   "execution_count": 46,
   "metadata": {},
   "outputs": [
    {
     "data": {
      "text/plain": [
       "array([ 2.0641362 ,  2.35210477,  0.27356293,  0.4311679 ,  0.67946552,\n",
       "        2.14136634,  0.67950517,  0.43125553,  0.27371697,  0.17375255,\n",
       "        0.11033555,  0.17349969,  0.48550744,  0.07012674,  0.10993069,\n",
       "       -0.02333569,  0.04466852,  0.06948472,  0.00493084,  0.02860595,\n",
       "        0.04365429,  0.02700618,  0.0160386 ,  0.01688921,  0.00709157,\n",
       "        0.00723019,  0.00888962,  0.01241891,  0.01856041,  0.0038205 ,\n",
       "        0.01816327])"
      ]
     },
     "execution_count": 46,
     "metadata": {},
     "output_type": "execute_result"
    }
   ],
   "source": [
    "D[0]"
   ]
  },
  {
   "cell_type": "code",
   "execution_count": 38,
   "metadata": {},
   "outputs": [
    {
     "data": {
      "text/plain": [
       "array([ 0.        ,  0.        ,  0.        ,  2.0641362 ,  0.        ,\n",
       "        0.        ,  0.        ,  0.        ,  0.        ,  0.        ,\n",
       "        0.        ,  0.        ,  2.35210477,  0.        ,  0.        ,\n",
       "        0.        ,  0.        ,  0.        ,  0.27356293,  0.4311679 ,\n",
       "        0.67946552,  2.14136634,  0.67950517,  0.43125553,  0.27371697,\n",
       "        0.17375255,  0.11033555,  0.17349969,  0.        ,  0.        ,\n",
       "        0.48550744,  0.        ,  0.        ,  0.        ,  0.        ,\n",
       "        0.07012674,  0.10993069,  0.        ,  0.        , -0.02333569,\n",
       "        0.        ,  0.        ,  0.        ,  0.        ,  0.04466852,\n",
       "        0.06948472,  0.        ,  0.        ,  0.00493084,  0.        ,\n",
       "        0.        ,  0.        ,  0.        ,  0.02860595,  0.04365429,\n",
       "        0.02700618,  0.0160386 ,  0.01688921,  0.00709157,  0.00723019,\n",
       "        0.00888962,  0.01241891,  0.01856041,  0.        ,  0.        ,\n",
       "        0.        ,  0.0038205 ,  0.        ,  0.        ,  0.        ,\n",
       "        0.        ,  0.        ,  0.        ,  0.        ,  0.        ,\n",
       "        0.01816327,  0.        ,  0.        ,  0.        ,  0.        ,\n",
       "        0.        ])"
      ]
     },
     "execution_count": 38,
     "metadata": {},
     "output_type": "execute_result"
    }
   ],
   "source": [
    "DR_det[3]"
   ]
  },
  {
   "cell_type": "code",
   "execution_count": 29,
   "metadata": {},
   "outputs": [
    {
     "name": "stderr",
     "output_type": "stream",
     "text": [
      "/var/folders/sf/4_xlxj4j2r1_sx5v07843wbw0000gn/T/ipykernel_52774/442765447.py:71: RuntimeWarning: divide by zero encountered in log\n",
      "  self.V = np.round(np.log(self.Z), 2)\n",
      "/var/folders/sf/4_xlxj4j2r1_sx5v07843wbw0000gn/T/ipykernel_52774/442765447.py:71: RuntimeWarning: invalid value encountered in log\n",
      "  self.V = np.round(np.log(self.Z), 2)\n"
     ]
    },
    {
     "data": {
      "text/plain": [
       "array([[ -inf,  -inf,  -inf, -5.26,  -inf,  -inf,  -inf,  -inf,  -inf],\n",
       "       [ -inf,  -inf,  -inf, -5.16,  -inf,  -inf,  -inf,  -inf,  -inf],\n",
       "       [-3.44, -3.9 , -4.38, -4.89, -5.11, -5.15, -4.99, -4.68, -4.29],\n",
       "       [-2.98,  -inf,  -inf, -4.73,  -inf,  -inf,  -inf,  -inf, -3.87],\n",
       "       [-2.52,  -inf,  -inf,   nan,  -inf,  -inf,  -inf,  -inf, -3.42],\n",
       "       [-2.07,  -inf,  -inf, -0.3 ,  -inf,  -inf,  -inf,  -inf, -2.97],\n",
       "       [-1.61, -1.16, -0.7 , -0.25, -0.7 , -1.16, -1.61, -2.07, -2.52],\n",
       "       [ -inf,  -inf,  -inf,  0.54,  -inf,  -inf,  -inf,  -inf,  -inf],\n",
       "       [ -inf,  -inf,  -inf,  1.  ,  -inf,  -inf,  -inf,  -inf,  -inf]])"
      ]
     },
     "execution_count": 29,
     "metadata": {},
     "output_type": "execute_result"
    }
   ],
   "source": [
    "new_agent.DR = DR_det\n",
    "new_agent.update_V()\n",
    "new_agent.V.reshape((agent.height, agent.width))"
   ]
  },
  {
   "cell_type": "code",
   "execution_count": 30,
   "metadata": {},
   "outputs": [
    {
     "name": "stdout",
     "output_type": "stream",
     "text": [
      "Testing new agent with blocked environment\n",
      "Start location: [0 3], Target location: [8 3]\n",
      "Starting in state: [0 3]\n",
      "Took action: 0 and arrived in state: [1 3]\n",
      "Took action: 0 and arrived in state: [2 3]\n",
      "Took action: 3 and arrived in state: [2 2]\n",
      "Took action: 3 and arrived in state: [2 1]\n",
      "Took action: 3 and arrived in state: [2 0]\n",
      "Took action: 0 and arrived in state: [3 0]\n",
      "Took action: 0 and arrived in state: [4 0]\n",
      "Took action: 0 and arrived in state: [5 0]\n",
      "Took action: 0 and arrived in state: [6 0]\n",
      "Took action: 1 and arrived in state: [6 1]\n",
      "Took action: 1 and arrived in state: [6 2]\n",
      "Took action: 1 and arrived in state: [6 3]\n",
      "Took action: 0 and arrived in state: [7 3]\n",
      "Took action: 0 and arrived in state: [8 3]\n",
      "Took 14 steps\n"
     ]
    }
   ],
   "source": [
    "print(\"Testing new agent with blocked environment\")\n",
    "print(f\"Start location: {new_agent.start_loc}, Target location: {new_agent.target_loc}\")\n",
    "traj_blocked = test_agent(new_agent)"
   ]
  },
  {
   "cell_type": "code",
   "execution_count": 31,
   "metadata": {},
   "outputs": [
    {
     "data": {
      "image/png": "[encoded data removed]",
      "text/plain": [
       "<Figure size 640x480 with 1 Axes>"
      ]
     },
     "metadata": {},
     "output_type": "display_data"
    }
   ],
   "source": [
    "record_trajectory(new_agent, traj_blocked)"
   ]
  },
  {
   "cell_type": "code",
   "execution_count": 32,
   "metadata": {},
   "outputs": [
    {
     "name": "stdout",
     "output_type": "stream",
     "text": [
      "(31, 31)\n",
      "(31, 31)\n",
      "0.24774259963065148\n"
     ]
    }
   ],
   "source": [
    "print(D.shape)\n",
    "I = np.eye(31)\n",
    "D_inv = np.linalg.inv(I-new_agent.gamma*T_new)\n",
    "print(D_inv.shape)\n",
    "print(np.max(np.abs(D - D_inv)))"
   ]
  },
  {
   "cell_type": "code",
   "execution_count": 33,
   "metadata": {},
   "outputs": [
    {
     "data": {
      "text/plain": [
       "0.24774259963065148"
      ]
     },
     "execution_count": 33,
     "metadata": {},
     "output_type": "execute_result"
    }
   ],
   "source": [
    "np.max(np.abs(new_agent.get_D_inv() - DR_det))"
   ]
  },
  {
   "cell_type": "code",
   "execution_count": 98,
   "metadata": {},
   "outputs": [
    {
     "name": "stdout",
     "output_type": "stream",
     "text": [
      "[False  True  True False]\n",
      "(array([[1],\n",
      "       [2]]), array([[1, 2]]))\n",
      "Original Matrix:\n",
      "[[ 1  2  3  4]\n",
      " [ 5  6  7  8]\n",
      " [ 9 10 11 12]\n",
      " [13 14 15 16]]\n",
      "\n",
      "Result Matrix:\n",
      "[[ 6  7]\n",
      " [10 11]]\n",
      "\n",
      "Result Matrix after operations:\n",
      "[[ 7  8]\n",
      " [11 12]]\n",
      "\n",
      "Recovered NxN Matrix:\n",
      "[[ 1  2  3  4]\n",
      " [ 5  7  8  8]\n",
      " [ 9 11 12 12]\n",
      " [13 14 15 16]]\n"
     ]
    }
   ],
   "source": [
    "matrix = np.array([[1, 2, 3, 4],\n",
    "                   [5, 6, 7, 8],\n",
    "                   [9, 10, 11, 12],\n",
    "                   [13, 14, 15, 16]])\n",
    "\n",
    "indices_to_drop = [0, 3]\n",
    "\n",
    "# Convert barriers list to a NumPy array\n",
    "indices = np.array(indices_to_drop)\n",
    "\n",
    "# Create a boolean mask to identify rows and columns to keep\n",
    "mask = np.ones(matrix.shape[0], dtype=bool)\n",
    "mask[indices] = False\n",
    "\n",
    "# Use boolean indexing to select rows and columns to keep\n",
    "matrix_new = matrix[mask][:, mask]\n",
    "matrix_new_old = np.copy(matrix_new)\n",
    "matrix_new += 1\n",
    "\n",
    "# Recover the original NxN matrix with operations reflected\n",
    "recovered_matrix = np.copy(matrix)\n",
    "recovered_matrix[np.ix_(mask, mask)] = matrix_new\n",
    "print(mask)\n",
    "print(np.ix_(mask, mask))\n",
    "\n",
    "print(\"Original Matrix:\")\n",
    "print(matrix)\n",
    "print(\"\\nResult Matrix:\")\n",
    "print(matrix_new_old)\n",
    "print(\"\\nResult Matrix after operations:\")\n",
    "print(matrix_new)\n",
    "print(\"\\nRecovered NxN Matrix:\")\n",
    "print(recovered_matrix)"
   ]
  },
  {
   "cell_type": "markdown",
   "metadata": {},
   "source": [
    "### Grid Cells"
   ]
  },
  {
   "cell_type": "code",
   "execution_count": 67,
   "metadata": {},
   "outputs": [],
   "source": [
    "D_old = agent.DR\n",
    "D_new = new_agent.DR"
   ]
  },
  {
   "cell_type": "code",
   "execution_count": 68,
   "metadata": {},
   "outputs": [
    {
     "name": "stdout",
     "output_type": "stream",
     "text": [
      "(81, 81) (81, 81)\n"
     ]
    }
   ],
   "source": [
    "print(D_old.shape, D_new.shape)"
   ]
  },
  {
   "cell_type": "code",
   "execution_count": 69,
   "metadata": {},
   "outputs": [],
   "source": [
    "eigvals, eigvecs = np.linalg.eig(D_old)"
   ]
  },
  {
   "cell_type": "code",
   "execution_count": 70,
   "metadata": {},
   "outputs": [
    {
     "data": {
      "text/plain": [
       "<matplotlib.image.AxesImage at 0x28d5a1f60>"
      ]
     },
     "execution_count": 70,
     "metadata": {},
     "output_type": "execute_result"
    },
    {
     "data": {
      "image/png": "[encoded data removed]",
      "text/plain": [
       "<Figure size 640x480 with 1 Axes>"
      ]
     },
     "metadata": {},
     "output_type": "display_data"
    }
   ],
   "source": [
    "plt.imshow(eigvecs)"
   ]
  },
  {
   "cell_type": "code",
   "execution_count": 71,
   "metadata": {},
   "outputs": [
    {
     "name": "stdout",
     "output_type": "stream",
     "text": [
      "[9.99476904 8.03147296 6.73273777 5.4635957  4.53766063 3.41225399\n",
      " 3.13803238 2.51086475 2.30503909 1.88842708 1.75248647 1.3639534\n",
      " 1.29797636 1.18192104 1.00718674 1.00546662 0.87750209 0.81906631\n",
      " 0.79554225 0.70222329 0.68062545 0.64248885 0.62465288 0.52666104\n",
      " 0.53248207 0.59433924 0.54232979 0.54980706 0.56554555 0.58703846\n",
      " 1.         1.         1.         1.         1.         1.\n",
      " 1.         1.         1.         1.         1.         1.\n",
      " 1.         1.         1.         1.         1.         1.\n",
      " 1.         1.         1.         1.         1.         1.\n",
      " 1.         1.         1.         1.         1.         1.\n",
      " 1.         1.         1.         1.         1.         1.\n",
      " 1.         1.         1.         1.         1.         1.\n",
      " 1.         1.         1.         1.         1.         1.\n",
      " 1.         1.         1.        ]\n"
     ]
    }
   ],
   "source": [
    "print(eigvals)"
   ]
  },
  {
   "cell_type": "code",
   "execution_count": 72,
   "metadata": {},
   "outputs": [
    {
     "data": {
      "image/png": "[encoded data removed]",
      "text/plain": [
       "<Figure size 1200x900 with 10 Axes>"
      ]
     },
     "metadata": {},
     "output_type": "display_data"
    }
   ],
   "source": [
    "# Assuming eigvals and eigvecs are your eigenvalues and eigenvectors\n",
    "# Replace these with your actual data\n",
    "eigvals = np.random.rand(81)\n",
    "eigvecs = np.random.rand(81, 81)\n",
    "\n",
    "# Select the first 10 eigenvalues and eigenvectors\n",
    "num_eigenpairs = 10\n",
    "selected_eigvals = eigvals[:num_eigenpairs]\n",
    "selected_eigvecs = eigvecs[:, :num_eigenpairs]\n",
    "\n",
    "# Create a 3x4 subplot grid (adjust the layout accordingly)\n",
    "fig, axs = plt.subplots(2, 5, figsize=(12, 9))\n",
    "fig.suptitle('Visualization of First 10 Eigenvectors')\n",
    "\n",
    "# Loop through the selected eigenvectors\n",
    "for i in range(num_eigenpairs):\n",
    "    row, col = divmod(i, 5)\n",
    "    \n",
    "    # Reshape eigenvector to 9x9\n",
    "    eigvec_reshaped = selected_eigvecs[:, i].reshape((9, 9))\n",
    "    \n",
    "    # Plot eigenvector\n",
    "    axs[row, col].imshow(eigvec_reshaped, cmap='viridis_r')\n",
    "    axs[row, col].set_title(f'Eigenvector {i + 1}')\n",
    "    axs[row, col].axis(\"off\")\n",
    "\n",
    "# Adjust layout to prevent overlap\n",
    "plt.tight_layout(rect=[0, 0, 1, 0.96])\n",
    "plt.show()\n"
   ]
  },
  {
   "cell_type": "code",
   "execution_count": null,
   "metadata": {},
   "outputs": [],
   "source": []
  }
 ],
 "metadata": {
  "kernelspec": {
   "display_name": "gym",
   "language": "python",
   "name": "python3"
  },
  "language_info": {
   "codemirror_mode": {
    "name": "ipython",
    "version": 3
   },
   "file_extension": ".py",
   "mimetype": "text/x-python",
   "name": "python",
   "nbconvert_exporter": "python",
   "pygments_lexer": "ipython3",
   "version": "3.10.0"
  }
 },
 "nbformat": 4,
 "nbformat_minor": 2
}
