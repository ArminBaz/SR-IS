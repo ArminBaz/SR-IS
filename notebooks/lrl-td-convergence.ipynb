{
 "cells": [
  {
   "cell_type": "code",
   "execution_count": 1,
   "metadata": {},
   "outputs": [],
   "source": [
    "import os\n",
    "\n",
    "import numpy as np\n",
    "import importlib\n",
    "import gymnasium as gym\n",
    "import matplotlib.pyplot as plt\n",
    "from matplotlib import patches\n",
    "import matplotlib.animation as manimation\n",
    "from matplotlib.colors import to_rgba\n",
    "\n",
    "from sklearn.preprocessing import PolynomialFeatures\n",
    "from sklearn.linear_model import LinearRegression\n",
    "\n",
    "import gym_env\n",
    "import utils\n",
    "from utils import make_plots, record_trajectory, create_transition_matrix_mapping, get_transition_matrix\n",
    "# from LinearRL import LinearRL"
   ]
  },
  {
   "cell_type": "code",
   "execution_count": 2,
   "metadata": {},
   "outputs": [],
   "source": [
    "class LinearRL:\n",
    "    def __init__(self, env_name, alpha=0.01, gamma=0.92, _lambda=1.0, epsilon=0.4, num_steps=25000):\n",
    "        self.env = gym.make(env_name)\n",
    "        self.start_loc = self.env.unwrapped.start_loc\n",
    "        self.target_loc = self.env.unwrapped.target_loc\n",
    "        self.maze = self.env.unwrapped.maze\n",
    "        self.size = self.maze.size\n",
    "        self.height, self.width = self.maze.shape\n",
    "        self.target_locs = [self.target_loc]\n",
    "        # self.mapping = self.create_transition_matrix_mapping()\n",
    "        # self.T = self.get_transition_matrix(size=self.size, mapping=self.mapping)\n",
    "        self.mapping = create_transition_matrix_mapping(self.maze)\n",
    "        self.T = get_transition_matrix(self.env, self.size, self.mapping)\n",
    "        \n",
    "\n",
    "        # Get terminal states\n",
    "        self.terminals = np.diag(self.T) == 1\n",
    "        # Calculate P = T_{NT}\n",
    "        self.P = self.T[~self.terminals][:,self.terminals]\n",
    "        # self.P = self.T[:, self.terminals]\n",
    "        # Calculate reward\n",
    "        self.r = np.full(len(self.T), -0.1)     # our reward at each non-terminal state to be -1\n",
    "        self.r[self.terminals] = 1           # reward at terminal state is 0\n",
    "        self.expr_t = np.exp(self.r[self.terminals] / _lambda)      # exp(r) = exp(-c) at terminal state\n",
    "        self.expr_nt = np.exp(-0.1/_lambda)     # exp(r) = exp(-c) at non-terminal states\n",
    "\n",
    "        # Params\n",
    "        self.alpha = alpha\n",
    "        self.gamma = self.expr_nt\n",
    "        self._lambda = _lambda\n",
    "        self.epsilon = epsilon\n",
    "        self.num_steps = num_steps\n",
    "\n",
    "        # Model\n",
    "        self.DR = np.eye(self.size)\n",
    "        # self.DR = np.zeros((self.size, self.size))\n",
    "        self.Z = np.zeros(self.size)\n",
    "        self.V = np.zeros(self.size)\n",
    "        self.one_hot = np.eye(self.size)\n",
    "    \n",
    "    def create_transition_matrix_mapping(self):\n",
    "        \"\"\"\n",
    "        Creates a mapping from maze state indices to transition matrix indices\n",
    "        \"\"\"\n",
    "        n = len(self.maze)  # Size of the maze (N)\n",
    "\n",
    "        mapping = {}\n",
    "        matrix_idx = 0\n",
    "\n",
    "        for i in range(n):\n",
    "            for j in range(n):\n",
    "                mapping[(i,j)] = matrix_idx\n",
    "                matrix_idx += 1\n",
    "\n",
    "        return mapping\n",
    "    \n",
    "    def get_transition_matrix(self, size, mapping):\n",
    "        T = np.zeros(shape=(size, size))\n",
    "        # loop through the maze\n",
    "        for row in range(self.maze.shape[0]):\n",
    "            for col in range(self.maze.shape[1]):            \n",
    "                # if we hit a barrier\n",
    "                if self.maze[row,col] == '1':\n",
    "                    continue\n",
    "\n",
    "                idx_cur = mapping[row, col]\n",
    "\n",
    "                # check if current state is terminal\n",
    "                if self.maze[row,col] == 'G':\n",
    "                    T[idx_cur, idx_cur] = 1\n",
    "                    continue\n",
    "\n",
    "                state = (row,col)\n",
    "                successor_states = self.env.unwrapped.get_successor_states(state)\n",
    "                for successor_state in successor_states:\n",
    "                    idx_new = mapping[successor_state[0][0], successor_state[0][1]]\n",
    "                    T[idx_cur, idx_new] = 1/len(successor_states)\n",
    "        \n",
    "        return T\n",
    "    \n",
    "    def update_V(self):\n",
    "        self.Z[~self.terminals] = self.DR[~self.terminals][:,~self.terminals] @ self.P @ self.expr_t\n",
    "        self.Z[self.terminals] = np.exp(self.r[self.terminals] / self._lambda)\n",
    "        self.V = np.round(np.log(self.Z), 2)\n",
    "    \n",
    "    def importance_sampling(self, state, s_new_idx):\n",
    "        successor_states = self.env.unwrapped.get_successor_states(state)\n",
    "        p = 1/len(successor_states)\n",
    "        w = (p * self.Z[s_new_idx]) / sum(p * self.Z[self.mapping[(s[0][0],s[0][1])]] for s in successor_states)\n",
    "        \n",
    "        return w\n",
    "    \n",
    "    def select_action(self, state, policy=\"random\", target_loc=None):\n",
    "        if policy == \"random\":\n",
    "            return self.env.unwrapped.random_action()\n",
    "    \n",
    "        elif policy == \"e-greedy\":\n",
    "            if np.random.uniform(low=0,high=1) < self.epsilon:\n",
    "                return self.env.unwrapped.random_action()\n",
    "            else:\n",
    "                action_values = np.full(self.env.action_space.n, -np.inf)\n",
    "                for action in self.env.unwrapped.get_available_actions(state):\n",
    "                    direction = self.env.unwrapped._action_to_direction[action]\n",
    "                    new_state = state + direction\n",
    "                    if self.maze[new_state[0], new_state[1]] == \"1\":\n",
    "                        continue\n",
    "                    action_values[action] = round(np.log(self.Z[self.mapping[(new_state[0],new_state[1])]]), 2)\n",
    "\n",
    "                return np.argmax(action_values)\n",
    "            \n",
    "        elif policy == \"test\":\n",
    "            action_values = np.full(self.env.action_space.n, -np.inf)\n",
    "            for action in self.env.unwrapped.get_available_actions(state):\n",
    "                direction = self.env.unwrapped._action_to_direction[action]\n",
    "                new_state = state + direction\n",
    "\n",
    "                # Need this to make it work for now\n",
    "                if np.array_equal(new_state, target_loc):\n",
    "                    return action\n",
    "\n",
    "                if self.maze[new_state[0], new_state[1]] == \"1\":\n",
    "                    continue\n",
    "                action_values[action] = round(np.log(self.Z[self.mapping[(new_state[0],new_state[1])]]), 2)\n",
    "\n",
    "            return np.nanargmax(action_values)\n",
    "\n",
    "    def get_D_inv(self):\n",
    "        L = np.diag(np.exp(-self.r)) - self.T\n",
    "        D_inv = np.linalg.inv(L)\n",
    "\n",
    "        return D_inv\n",
    "\n",
    "    def learn(self, policy=\"random\"):\n",
    "        \"\"\"\n",
    "        Agent randomly explores the maze and and updates its DR as it goes\n",
    "        \"\"\"\n",
    "\n",
    "        self.env.reset()\n",
    "\n",
    "        # TODO : Convergence\n",
    "        differences = [list() for i in range(self.size)]\n",
    "        D_inv = self.get_D_inv()\n",
    "\n",
    "        # Iterate through number of steps\n",
    "        for i in range(self.num_steps):\n",
    "            # Current state\n",
    "            state = self.env.unwrapped.agent_loc\n",
    "            state_idx = self.mapping[(state[0], state[1])]\n",
    "\n",
    "            # Choose action (random for now)\n",
    "            # action = self.env.unwrapped.random_action()\n",
    "            action = self.select_action(state, policy)\n",
    "\n",
    "            # Take action\n",
    "            obs, _, done, _, _ = self.env.step(action)\n",
    "\n",
    "            if done:\n",
    "                self.env.reset()\n",
    "                continue\n",
    "\n",
    "            # Unpack observation to get new state\n",
    "            next_state = obs[\"agent\"]\n",
    "            next_state_idx = self.mapping[(next_state[0], next_state[1])]\n",
    "\n",
    "            # Importance sampling\n",
    "            if policy == \"egreedy\":\n",
    "                w = self.importance_sampling(state, next_state_idx)\n",
    "                w = 1 if np.isnan(w) or w == 0 else w\n",
    "            else:\n",
    "                w = 1\n",
    "            \n",
    "            # Update default representation\n",
    "            # TDE = self.one_hot[state_idx][~self.terminals] + self.gamma * self.DR[next_state_idx][~self.terminals]\n",
    "            TDE =  self.one_hot[state_idx] + self.gamma * self.DR[next_state_idx]\n",
    "\n",
    "            # self.DR[state_idx][~self.terminals] = (1 - self.alpha) * self.DR[state_idx][~self.terminals] + self.alpha * TDE * w\n",
    "            self.DR[state_idx] = (1 - self.alpha) * self.DR[state_idx] + self.alpha * TDE * w\n",
    "\n",
    "            # TODO : Convergence\n",
    "            differences[state_idx].append(np.mean(np.abs(self.DR[state_idx] - D_inv[state_idx])))\n",
    "            # differences[state_idx].append(np.mean(np.abs(self.DR[state_idx][~self.terminals] - D_inv[state_idx][~self.terminals])))\n",
    "\n",
    "\n",
    "            # Update Z-Values\n",
    "            self.Z[state_idx] = self.DR[state_idx][~self.terminals] @ self.P @ self.expr_t\n",
    "            # self.Z[state_idx] = self.DR[state_idx] @ self.P @ self.expr\n",
    "\n",
    "            # Update state\n",
    "            state = next_state\n",
    "        \n",
    "        self.Z[self.terminals] = np.exp(self.r[self.terminals] / self._lambda)\n",
    "        self.V = np.round(np.log(self.Z), 2)\n",
    "\n",
    "        return differences"
   ]
  },
  {
   "cell_type": "code",
   "execution_count": 3,
   "metadata": {},
   "outputs": [],
   "source": [
    "def test_agent(agent, state=None):\n",
    "    \"\"\"\n",
    "    Function to test the agent\n",
    "    \"\"\"\n",
    "    traj = []\n",
    "\n",
    "    agent.env.reset()\n",
    "    if state is None:\n",
    "        state = agent.start_loc\n",
    "\n",
    "    # Set start and agent location\n",
    "    agent.env.unwrapped.start_loc, agent.env.unwrapped.agent_loc = state, state\n",
    "    print(f\"Starting in state: {state}\")\n",
    "    steps = 0\n",
    "    done = False\n",
    "    while not done:\n",
    "        action = agent.select_action(state, policy=\"test\", target_loc=agent.target_loc)\n",
    "        obs, _, done, _, _ = agent.env.step(action)\n",
    "        next_state = obs[\"agent\"]\n",
    "        traj.append(next_state)\n",
    "        print(f\"Took action: {action} and arrived in state: {next_state}\")\n",
    "\n",
    "        steps += 1\n",
    "        state = next_state\n",
    "    print(f\"Took {steps} steps\")\n",
    "\n",
    "    return traj"
   ]
  },
  {
   "cell_type": "code",
   "execution_count": 9,
   "metadata": {},
   "outputs": [],
   "source": [
    "# Baseline agent\n",
    "agent = LinearRL(env_name=\"simple-5x5\", _lambda=1.0, alpha=0.01, gamma=0.95, num_steps=800000)\n",
    "\n",
    "# Detour agent\n",
    "# agent = LinearRL(env_name=\"tolman-9x9-nb\", _lambda=1.0, alpha=0.01, gamma=0.95, num_steps=800000)\n"
   ]
  },
  {
   "cell_type": "code",
   "execution_count": 10,
   "metadata": {},
   "outputs": [
    {
     "data": {
      "text/plain": [
       "(25, 25)"
      ]
     },
     "execution_count": 10,
     "metadata": {},
     "output_type": "execute_result"
    }
   ],
   "source": [
    "agent.DR.shape"
   ]
  },
  {
   "cell_type": "code",
   "execution_count": 11,
   "metadata": {},
   "outputs": [
    {
     "name": "stderr",
     "output_type": "stream",
     "text": [
      "/var/folders/sf/4_xlxj4j2r1_sx5v07843wbw0000gn/T/ipykernel_1885/1687830760.py:192: RuntimeWarning: divide by zero encountered in log\n",
      "  self.V = np.round(np.log(self.Z), 2)\n"
     ]
    }
   ],
   "source": [
    "diffs = agent.learn()"
   ]
  },
  {
   "cell_type": "code",
   "execution_count": 12,
   "metadata": {},
   "outputs": [
    {
     "data": {
      "text/plain": [
       "array([[-1.65, -1.56, -1.26, -0.92, -0.71],\n",
       "       [-1.54,  -inf,  -inf, -0.56, -0.34],\n",
       "       [-1.28,  -inf,  -inf, -0.2 ,  0.22],\n",
       "       [-0.92, -0.54, -0.22,  -inf,  0.89],\n",
       "       [-0.68, -0.4 ,  0.2 ,  0.9 ,  1.  ]])"
      ]
     },
     "execution_count": 12,
     "metadata": {},
     "output_type": "execute_result"
    }
   ],
   "source": [
    "agent.V.reshape((agent.height, agent.width))"
   ]
  },
  {
   "cell_type": "code",
   "execution_count": 8,
   "metadata": {},
   "outputs": [
    {
     "name": "stderr",
     "output_type": "stream",
     "text": [
      "/var/folders/sf/4_xlxj4j2r1_sx5v07843wbw0000gn/T/ipykernel_1885/1687830760.py:84: RuntimeWarning: divide by zero encountered in log\n",
      "  self.V = np.round(np.log(self.Z), 2)\n"
     ]
    },
    {
     "data": {
      "text/plain": [
       "array([[-2.1 , -2.  , -1.74, -1.37, -1.17],\n",
       "       [-2.  ,  -inf,  -inf, -1.03, -0.85],\n",
       "       [-1.74,  -inf,  -inf, -0.69, -0.28],\n",
       "       [-1.37, -1.03, -0.69,  -inf,  0.45],\n",
       "       [-1.17, -0.85, -0.28,  0.45,  1.  ]])"
      ]
     },
     "execution_count": 8,
     "metadata": {},
     "output_type": "execute_result"
    }
   ],
   "source": [
    "D_inv = agent.get_D_inv()\n",
    "agent.DR = D_inv\n",
    "agent.update_V()\n",
    "agent.V.reshape((agent.height, agent.width))"
   ]
  },
  {
   "cell_type": "markdown",
   "metadata": {},
   "source": [
    "## Convergences"
   ]
  },
  {
   "cell_type": "code",
   "execution_count": 31,
   "metadata": {},
   "outputs": [],
   "source": [
    "reverse_mapping = {value: key for key, value in agent.mapping.items()}"
   ]
  },
  {
   "cell_type": "code",
   "execution_count": 33,
   "metadata": {},
   "outputs": [
    {
     "data": {
      "image/png": "[encoded data removed]",
      "text/plain": [
       "<Figure size 1000x600 with 1 Axes>"
      ]
     },
     "metadata": {},
     "output_type": "display_data"
    }
   ],
   "source": [
    "# Get the default color cycle\n",
    "colors = plt.rcParams['axes.prop_cycle'].by_key()['color']\n",
    "\n",
    "# Plot convergence curves with best-fitting lines\n",
    "fig, ax = plt.subplots(figsize=(10, 6))\n",
    "ax.set_title('Convergence Curves per State with Best-Fitting Lines')\n",
    "ax.set_xlabel('Update Iteration')\n",
    "ax.set_ylabel('Absolute Difference')\n",
    "\n",
    "# Set the degree of the polynomial (you can adjust this)\n",
    "degree = 2\n",
    "\n",
    "for state, diff in enumerate(diffs):\n",
    "    if len(diff) > 0:\n",
    "        # Determine the color dynamically\n",
    "        color = colors[state % len(colors)]\n",
    "\n",
    "        X = np.arange(len(diff)).reshape(-1, 1)\n",
    "\n",
    "        ## Polynomial Regression\n",
    "        diff_reshaped = np.array(diff).reshape(-1, 1)\n",
    "\n",
    "        # Create polynomial features\n",
    "        poly_features = PolynomialFeatures(degree=degree)\n",
    "        X_poly = poly_features.fit_transform(np.arange(len(diff)).reshape(-1, 1))\n",
    "\n",
    "        # Create a polynomial regression model\n",
    "        poly_model = LinearRegression()\n",
    "        poly_model.fit(X_poly, diff_reshaped)\n",
    "\n",
    "        # Predicted values from the polynomial regression model\n",
    "        y_pred = poly_model.predict(X_poly)\n",
    "        \n",
    "        ## Linear Regression\n",
    "        # Create a linear regression model\n",
    "        # model = LinearRegression()\n",
    "        # X = np.arange(len(diff)).reshape(-1, 1)\n",
    "        # model.fit(X, diff)\n",
    "        \n",
    "        # # Predicted values from the best-fitting line\n",
    "        # y_pred = model.predict(X)\n",
    "        \n",
    "        # Plot the best-fitting line with the same color as the data\n",
    "        ax.plot(X, y_pred, label=f'State {reverse_mapping[state]}', color=color)\n",
    "        \n",
    "        # Plot the actual data with the same color\n",
    "        # ax.plot(X, diff, label=f'Actual State {state + 1}', color=color, alpha=0.3)\n",
    "\n",
    "ax.legend()\n",
    "plt.show()"
   ]
  },
  {
   "cell_type": "code",
   "execution_count": 19,
   "metadata": {},
   "outputs": [
    {
     "name": "stdout",
     "output_type": "stream",
     "text": [
      "[[-1.57 -1.49 -1.25 -0.9  -0.65]\n",
      " [-1.43  -inf  -inf -0.53 -0.24]\n",
      " [-1.18  -inf  -inf -0.23  0.32]\n",
      " [-0.84 -0.56 -0.23  -inf  0.94]\n",
      " [-0.66 -0.37  0.13  0.95  1.  ]]\n"
     ]
    }
   ],
   "source": [
    "print(agent.V.reshape(agent.height,agent.width))"
   ]
  },
  {
   "cell_type": "code",
   "execution_count": 20,
   "metadata": {},
   "outputs": [
    {
     "data": {
      "image/png": "[encoded data removed]",
      "text/plain": [
       "<Figure size 921.6x691.2 with 3 Axes>"
      ]
     },
     "metadata": {},
     "output_type": "display_data"
    }
   ],
   "source": [
    "make_plots(agent)"
   ]
  },
  {
   "cell_type": "code",
   "execution_count": 14,
   "metadata": {},
   "outputs": [
    {
     "name": "stdout",
     "output_type": "stream",
     "text": [
      "Start location: [0 0], Target location: [4 4]\n",
      "Starting in state: [0 0]\n",
      "Took action: 1 and arrived in state: [0 1]\n",
      "Took action: 1 and arrived in state: [0 2]\n",
      "Took action: 1 and arrived in state: [0 3]\n",
      "Took action: 0 and arrived in state: [1 3]\n",
      "Took action: 0 and arrived in state: [2 3]\n",
      "Took action: 1 and arrived in state: [2 4]\n",
      "Took action: 0 and arrived in state: [3 4]\n",
      "Took action: 0 and arrived in state: [4 4]\n",
      "Took 8 steps\n"
     ]
    }
   ],
   "source": [
    "print(f\"Start location: {agent.start_loc}, Target location: {agent.target_loc}\")\n",
    "traj_not_blocked = test_agent(agent)"
   ]
  },
  {
   "cell_type": "code",
   "execution_count": 15,
   "metadata": {},
   "outputs": [
    {
     "data": {
      "image/png": "[encoded data removed]",
      "text/plain": [
       "<Figure size 640x480 with 1 Axes>"
      ]
     },
     "metadata": {},
     "output_type": "display_data"
    }
   ],
   "source": [
    "record_trajectory(agent, traj_not_blocked)"
   ]
  },
  {
   "cell_type": "markdown",
   "metadata": {},
   "source": [
    "## DETOUR"
   ]
  },
  {
   "cell_type": "code",
   "execution_count": 32,
   "metadata": {},
   "outputs": [],
   "source": [
    "# Get new maze and initialize a new agent\n",
    "env_blocked = gym.make(\"tolman-9x9-b\")\n",
    "maze_blocked = env_blocked.unwrapped.maze\n",
    "new_agent = LinearRL(env_name=\"tolman-9x9-b\")"
   ]
  },
  {
   "cell_type": "code",
   "execution_count": 33,
   "metadata": {},
   "outputs": [],
   "source": [
    "loc = (4,3)\n",
    "idx = agent.mapping[loc]"
   ]
  },
  {
   "cell_type": "code",
   "execution_count": 34,
   "metadata": {},
   "outputs": [],
   "source": [
    "D0 = agent.DR\n",
    "L0 = np.diag(np.exp(-agent.r)) - agent.T\n",
    "L = np.diag(np.exp(-agent.r)) - new_agent.T"
   ]
  },
  {
   "cell_type": "code",
   "execution_count": 35,
   "metadata": {},
   "outputs": [
    {
     "name": "stdout",
     "output_type": "stream",
     "text": [
      "d shape: (1, 81), m0 shape: (81, 1)\n",
      "numerator shape: (81, 81)\n",
      "denominator shape: (1, 1)\n",
      "alpha shape: (81, 81)\n"
     ]
    }
   ],
   "source": [
    "changes = []\n",
    "\n",
    "d = L[idx, :] - L0[idx, :]\n",
    "m0 = D0[:,idx]\n",
    "\n",
    "# Convert d to a row vector of size (1, m)\n",
    "d = d.reshape(1, -1)\n",
    "\n",
    "# Convert m0 to a column vector of size (m, 1)\n",
    "m0 = m0.reshape(-1, 1)\n",
    "\n",
    "print(f\"d shape: {d.shape}, m0 shape: {m0.shape}\")\n",
    "print(f\"numerator shape: {(np.dot(m0,d)).shape}\")\n",
    "print(f\"denominator shape: {(np.dot(d, m0)).shape}\")\n",
    "alpha = (np.dot(m0,d)) / (1 + (np.dot(d,m0)))\n",
    "print(f\"alpha shape: {alpha.shape}\")\n",
    "change = np.dot(alpha,D0)\n",
    "changes.append(change)\n",
    "\n",
    "D = np.copy(D0)\n",
    "for change in changes:\n",
    "    D -= change"
   ]
  },
  {
   "cell_type": "code",
   "execution_count": 36,
   "metadata": {},
   "outputs": [
    {
     "name": "stderr",
     "output_type": "stream",
     "text": [
      "/var/folders/sf/4_xlxj4j2r1_sx5v07843wbw0000gn/T/ipykernel_97399/2437139880.py:83: RuntimeWarning: divide by zero encountered in log\n",
      "  self.V = np.round(np.log(self.Z), 2)\n",
      "/var/folders/sf/4_xlxj4j2r1_sx5v07843wbw0000gn/T/ipykernel_97399/2437139880.py:83: RuntimeWarning: invalid value encountered in log\n",
      "  self.V = np.round(np.log(self.Z), 2)\n"
     ]
    }
   ],
   "source": [
    "new_agent.DR = D\n",
    "new_agent.update_V()"
   ]
  },
  {
   "cell_type": "code",
   "execution_count": 37,
   "metadata": {},
   "outputs": [
    {
     "name": "stdout",
     "output_type": "stream",
     "text": [
      "[[ -inf  -inf  -inf -5.38  -inf  -inf  -inf  -inf  -inf]\n",
      " [ -inf  -inf  -inf -5.31  -inf  -inf  -inf  -inf  -inf]\n",
      " [-3.43 -3.84 -4.32 -5.19 -4.99 -4.8  -4.52 -4.18 -3.89]\n",
      " [-3.1   -inf  -inf   nan  -inf  -inf  -inf  -inf -3.56]\n",
      " [-2.71  -inf  -inf   nan  -inf  -inf  -inf  -inf -3.26]\n",
      " [-2.39  -inf  -inf -1.8   -inf  -inf  -inf  -inf -2.98]\n",
      " [-2.03 -1.69 -1.37 -1.   -1.33 -1.66 -2.02 -2.32 -2.65]\n",
      " [ -inf  -inf  -inf -0.18  -inf  -inf  -inf  -inf  -inf]\n",
      " [ -inf  -inf  -inf  0.    -inf  -inf  -inf  -inf  -inf]]\n"
     ]
    }
   ],
   "source": [
    "print(new_agent.V.reshape(9,9))"
   ]
  },
  {
   "cell_type": "code",
   "execution_count": 38,
   "metadata": {},
   "outputs": [
    {
     "name": "stdout",
     "output_type": "stream",
     "text": [
      "Testing new agent with blocked environment\n",
      "Start location: [0 3], Target location: [8 3]\n",
      "Starting in state: [0 3]\n",
      "Took action: 0 and arrived in state: [1 3]\n",
      "Took action: 0 and arrived in state: [2 3]\n",
      "Took action: 3 and arrived in state: [2 2]\n",
      "Took action: 3 and arrived in state: [2 1]\n",
      "Took action: 3 and arrived in state: [2 0]\n",
      "Took action: 0 and arrived in state: [3 0]\n",
      "Took action: 0 and arrived in state: [4 0]\n",
      "Took action: 0 and arrived in state: [5 0]\n",
      "Took action: 0 and arrived in state: [6 0]\n",
      "Took action: 1 and arrived in state: [6 1]\n",
      "Took action: 1 and arrived in state: [6 2]\n",
      "Took action: 1 and arrived in state: [6 3]\n",
      "Took action: 0 and arrived in state: [7 3]\n",
      "Took action: 0 and arrived in state: [8 3]\n",
      "Took 14 steps\n"
     ]
    },
    {
     "name": "stderr",
     "output_type": "stream",
     "text": [
      "/Users/abizzle/anaconda3/envs/gym/lib/python3.10/site-packages/gymnasium/utils/passive_env_checker.py:181: DeprecationWarning: \u001b[33mWARN: Current gymnasium version requires that `Env.reset` can be passed `options` to allow the environment initialisation to be passed additional information.\u001b[0m\n",
      "  logger.deprecation(\n",
      "/var/folders/sf/4_xlxj4j2r1_sx5v07843wbw0000gn/T/ipykernel_97399/2437139880.py:122: RuntimeWarning: invalid value encountered in log\n",
      "  action_values[action] = round(np.log(self.Z[self.mapping[(new_state[0],new_state[1])]]), 2)\n"
     ]
    }
   ],
   "source": [
    "print(\"Testing new agent with blocked environment\")\n",
    "print(f\"Start location: {new_agent.start_loc}, Target location: {new_agent.target_loc}\")\n",
    "traj_blocked = test_agent(new_agent)"
   ]
  },
  {
   "cell_type": "code",
   "execution_count": 39,
   "metadata": {},
   "outputs": [
    {
     "data": {
      "image/png": "[encoded data removed]",
      "text/plain": [
       "<Figure size 640x480 with 1 Axes>"
      ]
     },
     "metadata": {},
     "output_type": "display_data"
    }
   ],
   "source": [
    "record_trajectory(new_agent, traj_blocked)"
   ]
  },
  {
   "cell_type": "markdown",
   "metadata": {},
   "source": [
    "## DETOUR DELTA"
   ]
  },
  {
   "cell_type": "code",
   "execution_count": 450,
   "metadata": {},
   "outputs": [],
   "source": [
    "# Find states whose transition has changed (will show up as -1)\n",
    "T_diff = new_agent.T - agent.T\n",
    "J = np.unique(np.where(T_diff < 0)[0])\n",
    "J = [30,48]\n",
    "\n",
    "# D0 = agent.DR\n",
    "L0 = np.diag(np.exp(-agent.r)) - agent.T\n",
    "D0 = np.linalg.inv(L0)\n",
    "L = np.diag(np.exp(-agent.r)) - new_agent.T\n",
    "\n",
    "delta = L[J] - L0[J]"
   ]
  },
  {
   "cell_type": "code",
   "execution_count": 451,
   "metadata": {},
   "outputs": [
    {
     "name": "stdout",
     "output_type": "stream",
     "text": [
      "[30, 48]\n"
     ]
    }
   ],
   "source": [
    "print(J)"
   ]
  },
  {
   "cell_type": "code",
   "execution_count": 452,
   "metadata": {},
   "outputs": [],
   "source": [
    "D0J = D0[:, J]"
   ]
  },
  {
   "cell_type": "code",
   "execution_count": 453,
   "metadata": {},
   "outputs": [
    {
     "name": "stdout",
     "output_type": "stream",
     "text": [
      "shape of delta_d0: (2, 81)\n",
      "shape of delta_d0: (2, 2)\n",
      "shape of inv: (2, 2)\n"
     ]
    }
   ],
   "source": [
    "delta_d0 = np.dot(delta, D0)\n",
    "print(f\"shape of delta_d0: {delta_d0.shape}\")\n",
    "\n",
    "delta_d0J = np.dot(delta, D0J)\n",
    "print(f\"shape of delta_d0: {delta_d0J.shape}\")\n",
    "\n",
    "inv = np.linalg.inv(np.eye(len(delta_d0J)) - delta_d0J)\n",
    "print(f\"shape of inv: {inv.shape}\")"
   ]
  },
  {
   "cell_type": "code",
   "execution_count": 454,
   "metadata": {},
   "outputs": [
    {
     "name": "stdout",
     "output_type": "stream",
     "text": [
      "shape of B: (81, 81)\n"
     ]
    }
   ],
   "source": [
    "B = D0J @ inv @ delta_d0\n",
    "print(f\"shape of B: {B.shape}\")"
   ]
  },
  {
   "cell_type": "code",
   "execution_count": 455,
   "metadata": {},
   "outputs": [],
   "source": [
    "D = D0 - B"
   ]
  },
  {
   "cell_type": "code",
   "execution_count": 456,
   "metadata": {},
   "outputs": [
    {
     "name": "stderr",
     "output_type": "stream",
     "text": [
      "/var/folders/sf/4_xlxj4j2r1_sx5v07843wbw0000gn/T/ipykernel_90782/681268101.py:81: RuntimeWarning: divide by zero encountered in log\n",
      "  self.V = np.round(np.log(self.Z), 2)\n"
     ]
    }
   ],
   "source": [
    "new_agent.DR = D\n",
    "new_agent.update_V()"
   ]
  },
  {
   "cell_type": "code",
   "execution_count": 457,
   "metadata": {},
   "outputs": [
    {
     "data": {
      "text/plain": [
       "array([ -inf,  -inf,  -inf, -3.26,  -inf,  -inf,  -inf,  -inf,  -inf,\n",
       "        -inf,  -inf,  -inf, -2.26,  -inf,  -inf,  -inf,  -inf,  -inf,\n",
       "       -4.91, -3.92, -2.29, -0.64, -2.29, -3.95, -5.61, -7.23, -8.22,\n",
       "       -3.9 ,  -inf,  -inf,  1.7 ,  -inf,  -inf,  -inf,  -inf, -7.21,\n",
       "       -2.28,  -inf,  -inf,  3.37,  -inf,  -inf,  -inf,  -inf, -5.59,\n",
       "       -0.62,  -inf,  -inf,  5.03,  -inf,  -inf,  -inf,  -inf, -3.93,\n",
       "        1.04,  2.7 ,  4.35,  6.01,  4.35,  2.7 ,  1.04, -0.62, -2.28,\n",
       "        -inf,  -inf,  -inf,  8.33,  -inf,  -inf,  -inf,  -inf,  -inf,\n",
       "        -inf,  -inf,  -inf, 10.  ,  -inf,  -inf,  -inf,  -inf,  -inf])"
      ]
     },
     "execution_count": 457,
     "metadata": {},
     "output_type": "execute_result"
    }
   ],
   "source": [
    "new_agent.V"
   ]
  },
  {
   "cell_type": "code",
   "execution_count": null,
   "metadata": {},
   "outputs": [],
   "source": []
  },
  {
   "cell_type": "markdown",
   "metadata": {},
   "source": [
    "## Grid Cells"
   ]
  },
  {
   "cell_type": "code",
   "execution_count": 49,
   "metadata": {},
   "outputs": [],
   "source": [
    "eigvals, eigvecs = np.linalg.eig(new_agent.DR)\n",
    "# eigvals, eigvecs = np.linalg.eig(agent.DR)"
   ]
  },
  {
   "cell_type": "code",
   "execution_count": 52,
   "metadata": {},
   "outputs": [
    {
     "data": {
      "text/plain": [
       "(81, 81)"
      ]
     },
     "execution_count": 52,
     "metadata": {},
     "output_type": "execute_result"
    }
   ],
   "source": [
    "new_agent.DR.shape"
   ]
  },
  {
   "cell_type": "code",
   "execution_count": 51,
   "metadata": {},
   "outputs": [
    {
     "name": "stdout",
     "output_type": "stream",
     "text": [
      "[16.23616125+0.j         11.8917943 +0.j         10.23979788+0.j\n",
      "  6.0748564 +0.j          5.7106067 +0.j          3.77504111+0.j\n",
      "  3.29455594+0.j          2.56048956+0.j          2.11518719+0.j\n",
      "  1.8450178 +0.j          1.51817255+0.j          1.3479308 +0.j\n",
      "  1.18433767+0.j          1.00729773+0.j          0.99768851+0.0297424j\n",
      "  0.99768851-0.0297424j   0.9237686 +0.03762579j  0.9237686 -0.03762579j\n",
      "  0.80971597+0.j          0.7520578 +0.j          0.69655915+0.j\n",
      "  0.6588947 +0.j          0.62385476+0.j          0.57782592+0.j\n",
      "  0.51688994+0.j          0.59034762+0.j          0.54433882+0.j\n",
      "  0.52546969+0.j          0.55072276+0.j          0.52409762+0.j\n",
      "  1.        +0.j          1.        +0.j          1.        +0.j\n",
      "  1.        +0.j          1.        +0.j          1.        +0.j\n",
      "  1.        +0.j          1.        +0.j          1.        +0.j\n",
      "  1.        +0.j          1.        +0.j          1.        +0.j\n",
      "  1.        +0.j          1.        +0.j          1.        +0.j\n",
      "  1.        +0.j          1.        +0.j          1.        +0.j\n",
      "  1.        +0.j          1.        +0.j          1.        +0.j\n",
      "  1.        +0.j          1.        +0.j          1.        +0.j\n",
      "  1.        +0.j          1.        +0.j          1.        +0.j\n",
      "  1.        +0.j          1.        +0.j          1.        +0.j\n",
      "  1.        +0.j          1.        +0.j          1.        +0.j\n",
      "  1.        +0.j          1.        +0.j          1.        +0.j\n",
      "  1.        +0.j          1.        +0.j          1.        +0.j\n",
      "  1.        +0.j          1.        +0.j          1.        +0.j\n",
      "  1.        +0.j          1.        +0.j          1.        +0.j\n",
      "  1.        +0.j          1.        +0.j          1.        +0.j\n",
      "  1.        +0.j          1.        +0.j          1.        +0.j        ]\n"
     ]
    }
   ],
   "source": [
    "print(eigvals)"
   ]
  },
  {
   "cell_type": "code",
   "execution_count": 53,
   "metadata": {},
   "outputs": [
    {
     "data": {
      "image/png": "[encoded data removed]",
      "text/plain": [
       "<Figure size 1200x900 with 10 Axes>"
      ]
     },
     "metadata": {},
     "output_type": "display_data"
    }
   ],
   "source": [
    "# Select the first 10 eigenvalues and eigenvectors\n",
    "num_eigenpairs = 10\n",
    "selected_eigvals = eigvals[:num_eigenpairs]\n",
    "selected_eigvecs = eigvecs[:, :num_eigenpairs]\n",
    "\n",
    "# Create a 3x4 subplot grid (adjust the layout accordingly)\n",
    "fig, axs = plt.subplots(2, 5, figsize=(12, 9))\n",
    "fig.suptitle('Visualization of First 10 Eigenvectors')\n",
    "\n",
    "# Loop through the selected eigenvectors\n",
    "for i in range(num_eigenpairs):\n",
    "    row, col = divmod(i, 5)\n",
    "    # Extract the real part, eliminating small imaginary parts\n",
    "    eigvec_real = np.real_if_close(selected_eigvecs[:, i])\n",
    "    \n",
    "    # Plot the real part of eigenvector\n",
    "    axs[row, col].imshow(eigvec_real.reshape((9, 9)), cmap='viridis')\n",
    "    axs[row, col].set_title(f'Eigenvector {i + 1}')\n",
    "    axs[row, col].axis(\"off\")\n",
    "\n",
    "    # # Reshape eigenvector to 9x9\n",
    "    # eigvec_reshaped = selected_eigvecs[:, i].reshape((9, 9))\n",
    "    \n",
    "    # # Plot eigenvector\n",
    "    # axs[row, col].imshow(eigvec_reshaped, cmap='viridis_r')\n",
    "    # axs[row, col].set_title(f'Eigenvector {i + 1}')\n",
    "    # axs[row, col].axis(\"off\")\n",
    "\n",
    "# Adjust layout to prevent overlap\n",
    "plt.tight_layout(rect=[0, 0, 1, 0.96])\n",
    "plt.show()"
   ]
  },
  {
   "cell_type": "code",
   "execution_count": null,
   "metadata": {},
   "outputs": [],
   "source": []
  }
 ],
 "metadata": {
  "kernelspec": {
   "display_name": "gym",
   "language": "python",
   "name": "python3"
  },
  "language_info": {
   "codemirror_mode": {
    "name": "ipython",
    "version": 3
   },
   "file_extension": ".py",
   "mimetype": "text/x-python",
   "name": "python",
   "nbconvert_exporter": "python",
   "pygments_lexer": "ipython3",
   "version": "3.10.0"
  }
 },
 "nbformat": 4,
 "nbformat_minor": 2
}
