{
 "cells": [
  {
   "cell_type": "code",
   "execution_count": 22,
   "metadata": {},
   "outputs": [],
   "source": [
    "import os\n",
    "\n",
    "import numpy as np\n",
    "import gymnasium as gym\n",
    "import matplotlib.pyplot as plt\n",
    "from matplotlib import patches\n",
    "import matplotlib.animation as manimation\n",
    "\n",
    "import gym_env\n",
    "# from LinearRL import LinearRL\n",
    "from utils import create_transition_matrix_mapping, get_transition_matrix, make_plots, record_trajectory, test_agent"
   ]
  },
  {
   "cell_type": "code",
   "execution_count": 2,
   "metadata": {},
   "outputs": [],
   "source": [
    "class LinearRL:\n",
    "    def __init__(self, env_name, alpha=0.1, gamma=0.904, _lambda=1.0, epsilon=0.4, num_steps=25000, policy=\"random\"):\n",
    "        self.env = gym.make(env_name)\n",
    "        self.start_loc = self.env.unwrapped.start_loc\n",
    "        self.target_loc = self.env.unwrapped.target_loc\n",
    "        self.maze = self.env.unwrapped.maze\n",
    "        self.size = self.maze.size\n",
    "        self.height, self.width = self.maze.shape\n",
    "        self.target_locs = [self.target_loc]\n",
    "        self.mapping = create_transition_matrix_mapping(self.maze)\n",
    "        self.T, self.barriers = get_transition_matrix(self.env, self.size, self.mapping)\n",
    "        \n",
    "\n",
    "        # Get terminal states\n",
    "        self.terminals = np.diag(self.T) == 1\n",
    "        # Calculate P = T_{NT}\n",
    "        self.P = self.T[~self.terminals][:,self.terminals]\n",
    "        # self.P = self.T[:, self.terminals]\n",
    "        # Calculate reward\n",
    "        self.r = np.full(len(self.T), -0.1)     # our reward at each non-terminal state to be -1\n",
    "        self.r[self.terminals] = 1           # reward at terminal state is 0\n",
    "        self.expr_t = np.exp(self.r[self.terminals] / _lambda)      # exp(r) = exp(-c) at terminal state\n",
    "        self.expr_nt = np.exp(-0.1/_lambda)     # exp(r) = exp(-c) at non-terminal states\n",
    "\n",
    "        # Params\n",
    "        self.alpha = alpha\n",
    "        self.gamma = self.expr_nt\n",
    "        self._lambda = _lambda\n",
    "        self.epsilon = epsilon\n",
    "        self.num_steps = num_steps\n",
    "        self.policy = policy\n",
    "\n",
    "        # Model\n",
    "        self.DR = self.get_DR()\n",
    "        self.Z = np.full(self.size, 0.01)\n",
    "\n",
    "        self.V = np.zeros(self.size)\n",
    "        self.one_hot = np.eye(self.size)\n",
    "\n",
    "    def get_DR(self):\n",
    "        if self.policy == \"random\":\n",
    "            DR = np.eye(self.size)\n",
    "        \n",
    "        elif self.policy == \"softmax\":\n",
    "            DR = np.full((self.size, self.size), 0.01)\n",
    "            DR[:, self.barriers] = 0\n",
    "            DR[self.barriers, :] = 0\n",
    "            np.fill_diagonal(DR, 1)\n",
    "\n",
    "        return DR\n",
    "\n",
    "    def update_V(self):\n",
    "        self.Z[~self.terminals] = self.DR[~self.terminals][:,~self.terminals] @ self.P @ self.expr_t\n",
    "        self.Z[self.terminals] = np.exp(self.r[self.terminals] / self._lambda)\n",
    "        self.V = np.round(np.log(self.Z), 2)\n",
    "    \n",
    "    def importance_sampling(self, state, s_prob):\n",
    "        successor_states = self.env.unwrapped.get_successor_states(state)\n",
    "        p = 1/len(successor_states)\n",
    "        w = p/s_prob\n",
    "                \n",
    "        return w\n",
    "\n",
    "    def select_action(self, state, beta=5, target_loc=None):\n",
    "        if self.policy == \"random\":\n",
    "            return self.env.unwrapped.random_action()\n",
    "        \n",
    "        elif self.policy == \"softmax\":\n",
    "            successor_states = self.env.unwrapped.get_successor_states(state)      # succesor_states = [(state, terminated), ...]\n",
    "            action_probs = np.full(self.env.action_space.n, 0.0)\n",
    "\n",
    "            v_sum = sum(\n",
    "                        np.exp((np.log(self.Z[self.mapping[(s[0][0],s[0][1])]] + 1e-20)) / beta) for s in successor_states\n",
    "                        )\n",
    "\n",
    "            # if we don't have enough info, random action\n",
    "            if v_sum == 0:\n",
    "                return self.env.unwrapped.random_action() \n",
    "\n",
    "            for action in self.env.unwrapped.get_available_actions(state):\n",
    "                direction = self.env.unwrapped._action_to_direction[action]\n",
    "                new_state = state + direction\n",
    "                \n",
    "                action_probs[action] = np.exp((np.log(self.Z[self.mapping[(new_state[0], new_state[1])]] + 1e-20)) / beta ) / v_sum\n",
    "\n",
    "            action = np.random.choice(self.env.action_space.n, p=action_probs)\n",
    "            s_prob = action_probs[action]\n",
    "\n",
    "            return action, s_prob\n",
    "    \n",
    "        elif self.policy == \"egreedy\":\n",
    "            if np.random.uniform(low=0, high=1) < self.epsilon:\n",
    "                return self.env.unwrapped.random_action()\n",
    "            else:\n",
    "                action_values = np.full(self.env.action_space.n, -np.inf)\n",
    "                for action in self.env.unwrapped.get_available_actions(state):\n",
    "                    direction = self.env.unwrapped._action_to_direction[action]\n",
    "                    new_state = state + direction\n",
    "\n",
    "                    if self.maze[new_state[0], new_state[1]] == \"1\":\n",
    "                        continue\n",
    "\n",
    "                    action_values[action] = round(np.log(self.Z[self.mapping[(new_state[0],new_state[1])]]), 2)\n",
    "\n",
    "                return np.argmax(action_values)\n",
    "            \n",
    "        elif self.policy == \"test\":\n",
    "            action_values = np.full(self.env.action_space.n, -np.inf)\n",
    "            for action in self.env.unwrapped.get_available_actions(state):\n",
    "                direction = self.env.unwrapped._action_to_direction[action]\n",
    "                new_state = state + direction\n",
    "\n",
    "                # Need this to make it work for now\n",
    "                if np.array_equal(new_state, target_loc):\n",
    "                    return action\n",
    "\n",
    "                if self.maze[new_state[0], new_state[1]] == \"1\":\n",
    "                    continue\n",
    "                action_values[action] = round(np.log(self.Z[self.mapping[(new_state[0],new_state[1])]]), 2)\n",
    "\n",
    "            return np.nanargmax(action_values)\n",
    "\n",
    "    def get_D_inv(self):\n",
    "        # New way of doing it\n",
    "        I = np.eye(self.size)\n",
    "        D_inv = np.linalg.inv(I-self.gamma*self.T)\n",
    "\n",
    "        return D_inv\n",
    "\n",
    "    def learn(self):\n",
    "        \"\"\"\n",
    "        Agent randomly explores the maze and and updates its DR as it goes\n",
    "        \"\"\"\n",
    "        print(f\"Decision Policy: {self.policy}\")\n",
    "        self.env.reset()\n",
    "\n",
    "        # Iterate through number of steps\n",
    "        for i in range(self.num_steps):\n",
    "            # Current state\n",
    "            state = self.env.unwrapped.agent_loc\n",
    "            state_idx = self.mapping[(state[0], state[1])]\n",
    "\n",
    "            # Choose action\n",
    "            if self.policy == \"softmax\":\n",
    "                action, s_prob = self.select_action(state, self.policy)\n",
    "            else:\n",
    "                action = self.select_action(state, self.policy)\n",
    "\n",
    "            # Take action\n",
    "            obs, _, done, _, _ = self.env.step(action)\n",
    "\n",
    "            # Unpack observation to get new state\n",
    "            next_state = obs[\"agent\"]\n",
    "            next_state_idx = self.mapping[(next_state[0], next_state[1])]\n",
    "\n",
    "            # Importance sampling\n",
    "            if self.policy == \"softmax\":\n",
    "                w = self.importance_sampling(state, s_prob)\n",
    "                w = 1 if np.isnan(w) or w == 0 else w\n",
    "            else:\n",
    "                w = 1\n",
    "            \n",
    "            ## Update default representation\n",
    "            TDE =  self.one_hot[state_idx] + self.gamma * self.DR[next_state_idx]\n",
    "            self.DR[state_idx] = (1 - self.alpha) * self.DR[state_idx] + self.alpha * TDE * w\n",
    "\n",
    "            ## Update Z-Values\n",
    "            self.Z = self.DR[:,~self.terminals] @ self.P @ self.expr_t\n",
    "\n",
    "            # Update state\n",
    "            if done:\n",
    "                self.env.reset()\n",
    "                continue\n",
    "            state = next_state\n",
    "            \n",
    "        \n",
    "        self.Z[self.terminals] = np.exp(self.r[self.terminals] / self._lambda)\n",
    "        self.V = np.round(np.log(self.Z), 2)"
   ]
  },
  {
   "cell_type": "code",
   "execution_count": 3,
   "metadata": {},
   "outputs": [],
   "source": [
    "agent = LinearRL(env_name=\"tolman-10x10-latent\", _lambda=1.0, alpha=0.01, num_steps=400000, policy=\"random\")"
   ]
  },
  {
   "cell_type": "code",
   "execution_count": 4,
   "metadata": {},
   "outputs": [
    {
     "data": {
      "text/plain": [
       "array([['1', '0', '1', '1', '0', '1', '1', '0', '0', '0'],\n",
       "       ['0', '0', '0', '0', '0', '0', '1', '0', '0', 'G'],\n",
       "       ['0', '0', '0', '0', '0', '0', '1', '0', '1', '1'],\n",
       "       ['1', '0', '1', '1', '0', '1', '1', '0', '1', '1'],\n",
       "       ['1', '0', '1', '1', '0', '0', '0', '0', '1', '1'],\n",
       "       ['1', '0', '1', '0', '0', '0', '0', '0', '1', '1'],\n",
       "       ['1', '0', '1', '0', '0', '1', '1', '0', '1', '1'],\n",
       "       ['S', '0', '1', '0', '0', '1', '0', '0', '1', '1'],\n",
       "       ['0', '0', '1', '1', '0', '1', '0', '0', '0', '0'],\n",
       "       ['1', '0', '1', '1', '0', '1', '1', '0', '0', '0']], dtype='<U21')"
      ]
     },
     "execution_count": 4,
     "metadata": {},
     "output_type": "execute_result"
    }
   ],
   "source": [
    "agent.maze"
   ]
  },
  {
   "cell_type": "code",
   "execution_count": 5,
   "metadata": {},
   "outputs": [
    {
     "name": "stdout",
     "output_type": "stream",
     "text": [
      "Decision Policy: random\n"
     ]
    },
    {
     "name": "stderr",
     "output_type": "stream",
     "text": [
      "/Users/abizzle/anaconda3/envs/gym/lib/python3.10/site-packages/gymnasium/utils/passive_env_checker.py:181: DeprecationWarning: \u001b[33mWARN: Current gymnasium version requires that `Env.reset` can be passed `options` to allow the environment initialisation to be passed additional information.\u001b[0m\n",
      "  logger.deprecation(\n",
      "/var/folders/sf/4_xlxj4j2r1_sx5v07843wbw0000gn/T/ipykernel_9413/2454964959.py:178: RuntimeWarning: divide by zero encountered in log\n",
      "  self.V = np.round(np.log(self.Z), 2)\n"
     ]
    }
   ],
   "source": [
    "# Run learning on non-blocked detour environment\n",
    "agent.learn()"
   ]
  },
  {
   "cell_type": "code",
   "execution_count": 6,
   "metadata": {},
   "outputs": [
    {
     "data": {
      "text/plain": [
       "array([[  -inf,  -8.23,   -inf,   -inf,  -6.76,   -inf,   -inf,  -0.09,\n",
       "          0.17,   0.59],\n",
       "       [ -8.3 ,  -8.06,  -7.49,  -6.99,  -6.65,  -6.58,   -inf,  -0.14,\n",
       "          0.4 ,   1.  ],\n",
       "       [ -8.33,  -8.01,  -7.33,  -6.72,  -5.98,  -6.35,   -inf,  -0.62,\n",
       "          -inf,   -inf],\n",
       "       [  -inf,  -8.66,   -inf,   -inf,  -5.03,   -inf,   -inf,  -1.23,\n",
       "          -inf,   -inf],\n",
       "       [  -inf,  -9.16,   -inf,   -inf,  -4.42,  -3.66,  -2.89,  -2.15,\n",
       "          -inf,   -inf],\n",
       "       [  -inf,  -9.64,   -inf,  -4.96,  -4.56,  -3.8 ,  -3.27,  -2.9 ,\n",
       "          -inf,   -inf],\n",
       "       [  -inf, -10.21,   -inf,  -5.34,  -5.15,   -inf,   -inf,  -3.39,\n",
       "          -inf,   -inf],\n",
       "       [-11.17, -10.78,   -inf,  -5.58,  -5.61,   -inf,  -4.65,  -4.19,\n",
       "          -inf,   -inf],\n",
       "       [-11.34, -11.26,   -inf,   -inf,  -5.99,   -inf,  -5.01,  -5.06,\n",
       "         -5.65,  -6.08],\n",
       "       [  -inf, -11.41,   -inf,   -inf,  -6.18,   -inf,   -inf,  -5.56,\n",
       "         -5.91,  -6.13]])"
      ]
     },
     "execution_count": 6,
     "metadata": {},
     "output_type": "execute_result"
    }
   ],
   "source": [
    "agent.V.reshape((agent.height, agent.width))"
   ]
  },
  {
   "cell_type": "code",
   "execution_count": 7,
   "metadata": {},
   "outputs": [],
   "source": [
    "# D_inv = agent.get_D_inv()\n",
    "# agent.DR = D_inv\n",
    "# agent.update_V()\n",
    "# agent.V.reshape((agent.height, agent.width))"
   ]
  },
  {
   "cell_type": "code",
   "execution_count": 8,
   "metadata": {},
   "outputs": [
    {
     "data": {
      "image/png": "[encoded data removed]",
      "text/plain": [
       "<Figure size 921.6x691.2 with 3 Axes>"
      ]
     },
     "metadata": {},
     "output_type": "display_data"
    }
   ],
   "source": [
    "make_plots(agent)"
   ]
  },
  {
   "cell_type": "code",
   "execution_count": 9,
   "metadata": {},
   "outputs": [
    {
     "name": "stdout",
     "output_type": "stream",
     "text": [
      "Start location: [7 0], Target location: [1 9]\n",
      "Starting in state: [7 0]\n",
      "Took action: 1 and arrived in state: [7 1]\n",
      "Took action: 2 and arrived in state: [6 1]\n",
      "Took action: 2 and arrived in state: [5 1]\n",
      "Took action: 2 and arrived in state: [4 1]\n",
      "Took action: 2 and arrived in state: [3 1]\n",
      "Took action: 2 and arrived in state: [2 1]\n",
      "Took action: 1 and arrived in state: [2 2]\n",
      "Took action: 1 and arrived in state: [2 3]\n",
      "Took action: 1 and arrived in state: [2 4]\n",
      "Took action: 0 and arrived in state: [3 4]\n",
      "Took action: 0 and arrived in state: [4 4]\n",
      "Took action: 1 and arrived in state: [4 5]\n",
      "Took action: 1 and arrived in state: [4 6]\n",
      "Took action: 1 and arrived in state: [4 7]\n",
      "Took action: 2 and arrived in state: [3 7]\n",
      "Took action: 2 and arrived in state: [2 7]\n",
      "Took action: 2 and arrived in state: [1 7]\n",
      "Took action: 1 and arrived in state: [1 8]\n",
      "Took action: 1 and arrived in state: [1 9]\n",
      "Took 19 steps\n"
     ]
    }
   ],
   "source": [
    "print(f\"Start location: {agent.start_loc}, Target location: {agent.target_loc}\")\n",
    "traj_old_goal = test_agent(agent)"
   ]
  },
  {
   "cell_type": "code",
   "execution_count": 10,
   "metadata": {},
   "outputs": [
    {
     "data": {
      "image/png": "[encoded data removed]",
      "text/plain": [
       "<Figure size 640x480 with 1 Axes>"
      ]
     },
     "metadata": {},
     "output_type": "display_data"
    }
   ],
   "source": [
    "record_trajectory(agent, traj_old_goal)"
   ]
  },
  {
   "cell_type": "markdown",
   "metadata": {},
   "source": [
    "## New Goal"
   ]
  },
  {
   "cell_type": "code",
   "execution_count": 11,
   "metadata": {},
   "outputs": [],
   "source": [
    "# Get new maze and initialize a new agent\n",
    "new_agent = LinearRL(env_name=\"tolman-10x10-latent-new-goal\", _lambda=1.0, alpha=0.01)"
   ]
  },
  {
   "cell_type": "code",
   "execution_count": 12,
   "metadata": {},
   "outputs": [],
   "source": [
    "# D_inv = new_agent.get_D_inv()\n",
    "# new_agent.DR = D_inv\n",
    "# new_agent.update_V()\n",
    "# new_agent.V.reshape((new_agent.height, new_agent.width))"
   ]
  },
  {
   "cell_type": "code",
   "execution_count": 13,
   "metadata": {},
   "outputs": [
    {
     "data": {
      "text/plain": [
       "array([9, 9])"
      ]
     },
     "execution_count": 13,
     "metadata": {},
     "output_type": "execute_result"
    }
   ],
   "source": [
    "new_agent.target_loc"
   ]
  },
  {
   "cell_type": "code",
   "execution_count": 14,
   "metadata": {},
   "outputs": [],
   "source": [
    "# New goal location\n",
    "loc = new_agent.target_loc\n",
    "idx = agent.mapping[(loc[0], loc[1])]"
   ]
  },
  {
   "cell_type": "code",
   "execution_count": 15,
   "metadata": {},
   "outputs": [
    {
     "data": {
      "text/plain": [
       "99"
      ]
     },
     "execution_count": 15,
     "metadata": {},
     "output_type": "execute_result"
    }
   ],
   "source": [
    "idx"
   ]
  },
  {
   "cell_type": "code",
   "execution_count": 16,
   "metadata": {},
   "outputs": [],
   "source": [
    "# D0 = agent.DR\n",
    "# #D_inv = agent.get_D_inv()\n",
    "# L0 = np.diag(np.exp(-agent.r)) - agent.T\n",
    "# # D0 = np.linalg.inv(L0)\n",
    "# L = np.diag(np.exp(-agent.r)) - new_agent.T"
   ]
  },
  {
   "cell_type": "code",
   "execution_count": 17,
   "metadata": {},
   "outputs": [],
   "source": [
    "# changes = []\n",
    "\n",
    "# d = L[idx, :] - L0[idx, :]\n",
    "# m0 = D0[:,idx]\n",
    "\n",
    "# # Convert d to a row vector of size (1, m)\n",
    "# d = d.reshape(1, -1)\n",
    "\n",
    "# # Convert m0 to a column vector of size (m, 1)\n",
    "# m0 = m0.reshape(-1, 1)\n",
    "\n",
    "# print(f\"d shape: {d.shape}, m0 shape: {m0.shape}\")\n",
    "# print(f\"numerator shape: {(np.dot(m0,d)).shape}\")\n",
    "# print(f\"denominator shape: {(np.dot(d, m0)).shape}\")\n",
    "# alpha = (np.dot(m0,d)) / (1 + (np.dot(d,m0)))\n",
    "# print(f\"alpha shape: {alpha.shape}\")\n",
    "# change = np.dot(alpha,D0)\n",
    "# changes.append(change)\n",
    "\n",
    "# D = np.copy(D0)\n",
    "# for change in changes:\n",
    "#     D -= change"
   ]
  },
  {
   "cell_type": "code",
   "execution_count": 18,
   "metadata": {},
   "outputs": [],
   "source": [
    "L0 = np.diag(np.exp(-agent.r)) - agent.T\n",
    "L = np.diag(np.exp(-agent.r)) - new_agent.T\n",
    "\n",
    "# I = np.eye(agent.size)\n",
    "# D0 = np.linalg.inv(I-agent.gamma*agent.T)\n",
    "D0 = agent.DR\n",
    "\n",
    "idx = agent.mapping[(loc[0], loc[1])]\n",
    "\n",
    "d = L[idx, :] - L0[idx, :]\n",
    "m0 = D0[:,idx]\n",
    "\n",
    "# Convert d to a row vector of size (1, m)\n",
    "d = d.reshape(1, -1)\n",
    "\n",
    "# Convert m0 to a column vector of size (m, 1)\n",
    "m0 = m0.reshape(-1, 1)\n",
    "\n",
    "# Get the amount of change to the DR\n",
    "alpha = (np.dot(m0,d)) / (1 + (np.dot(d,m0)))\n",
    "change = np.dot(alpha,D0)\n",
    "\n",
    "# Apply change to DR\n",
    "D = np.copy(D0)\n",
    "D -= change"
   ]
  },
  {
   "cell_type": "code",
   "execution_count": 19,
   "metadata": {},
   "outputs": [
    {
     "name": "stderr",
     "output_type": "stream",
     "text": [
      "/var/folders/sf/4_xlxj4j2r1_sx5v07843wbw0000gn/T/ipykernel_9413/2454964959.py:55: RuntimeWarning: divide by zero encountered in log\n",
      "  self.V = np.round(np.log(self.Z), 2)\n"
     ]
    },
    {
     "data": {
      "text/plain": [
       "array([[  -inf,  -9.42,   -inf,   -inf,  -8.01,   -inf,   -inf,  -7.18,\n",
       "         -7.88,  -9.52],\n",
       "       [ -9.5 ,  -9.28,  -8.75,  -8.26,  -7.93,  -7.86,   -inf,  -6.3 ,\n",
       "         -7.47,   -inf],\n",
       "       [ -9.53,  -9.25,  -8.6 ,  -8.02,  -7.3 ,  -7.65,   -inf,  -5.43,\n",
       "          -inf,   -inf],\n",
       "       [  -inf,  -9.85,   -inf,   -inf,  -6.39,   -inf,   -inf,  -4.77,\n",
       "          -inf,   -inf],\n",
       "       [  -inf, -10.34,   -inf,   -inf,  -5.79,  -5.12,  -4.55,  -4.17,\n",
       "          -inf,   -inf],\n",
       "       [  -inf, -10.8 ,   -inf,  -6.16,  -5.82,  -5.04,  -4.33,  -3.59,\n",
       "          -inf,   -inf],\n",
       "       [  -inf, -11.35,   -inf,  -6.5 ,  -6.34,   -inf,   -inf,  -2.85,\n",
       "          -inf,   -inf],\n",
       "       [-12.25, -11.89,   -inf,  -6.7 ,  -6.74,   -inf,  -2.18,  -2.24,\n",
       "          -inf,   -inf],\n",
       "       [-12.41, -12.34,   -inf,   -inf,  -7.05,   -inf,  -1.96,  -1.69,\n",
       "         -1.29,  -1.2 ],\n",
       "       [  -inf, -12.46,   -inf,   -inf,  -7.18,   -inf,   -inf,  -1.32,\n",
       "         -0.94,   1.  ]])"
      ]
     },
     "execution_count": 19,
     "metadata": {},
     "output_type": "execute_result"
    }
   ],
   "source": [
    "# D_inv = new_agent.get_D_inv()\n",
    "# new_agent.DR = D_inv\n",
    "new_agent.DR = D\n",
    "new_agent.update_V()\n",
    "new_agent.V.reshape((agent.height, agent.width))"
   ]
  },
  {
   "cell_type": "code",
   "execution_count": 20,
   "metadata": {},
   "outputs": [
    {
     "name": "stdout",
     "output_type": "stream",
     "text": [
      "Starting in state: [7 0]\n",
      "Took action: 1 and arrived in state: [7 1]\n",
      "Took action: 2 and arrived in state: [6 1]\n",
      "Took action: 2 and arrived in state: [5 1]\n",
      "Took action: 2 and arrived in state: [4 1]\n",
      "Took action: 2 and arrived in state: [3 1]\n",
      "Took action: 2 and arrived in state: [2 1]\n",
      "Took action: 1 and arrived in state: [2 2]\n",
      "Took action: 1 and arrived in state: [2 3]\n",
      "Took action: 1 and arrived in state: [2 4]\n",
      "Took action: 0 and arrived in state: [3 4]\n",
      "Took action: 0 and arrived in state: [4 4]\n",
      "Took action: 1 and arrived in state: [4 5]\n",
      "Took action: 1 and arrived in state: [4 6]\n",
      "Took action: 1 and arrived in state: [4 7]\n",
      "Took action: 0 and arrived in state: [5 7]\n",
      "Took action: 0 and arrived in state: [6 7]\n",
      "Took action: 0 and arrived in state: [7 7]\n",
      "Took action: 0 and arrived in state: [8 7]\n",
      "Took action: 1 and arrived in state: [8 8]\n",
      "Took action: 0 and arrived in state: [9 8]\n",
      "Took action: 1 and arrived in state: [9 9]\n",
      "Took 21 steps\n"
     ]
    }
   ],
   "source": [
    "new_agent_traj = test_agent(new_agent)"
   ]
  },
  {
   "cell_type": "code",
   "execution_count": 21,
   "metadata": {},
   "outputs": [
    {
     "data": {
      "image/png": "[encoded data removed]",
      "text/plain": [
       "<Figure size 640x480 with 1 Axes>"
      ]
     },
     "metadata": {},
     "output_type": "display_data"
    }
   ],
   "source": [
    "record_trajectory(new_agent, new_agent_traj)"
   ]
  },
  {
   "cell_type": "code",
   "execution_count": null,
   "metadata": {},
   "outputs": [],
   "source": []
  }
 ],
 "metadata": {
  "kernelspec": {
   "display_name": "gym",
   "language": "python",
   "name": "python3"
  },
  "language_info": {
   "codemirror_mode": {
    "name": "ipython",
    "version": 3
   },
   "file_extension": ".py",
   "mimetype": "text/x-python",
   "name": "python",
   "nbconvert_exporter": "python",
   "pygments_lexer": "ipython3",
   "version": "3.10.0"
  }
 },
 "nbformat": 4,
 "nbformat_minor": 2
}
