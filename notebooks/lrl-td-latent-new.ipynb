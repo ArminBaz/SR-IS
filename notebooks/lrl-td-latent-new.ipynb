{
 "cells": [
  {
   "cell_type": "code",
   "execution_count": 1,
   "metadata": {},
   "outputs": [],
   "source": [
    "import os\n",
    "\n",
    "import numpy as np\n",
    "import gymnasium as gym\n",
    "import matplotlib.pyplot as plt\n",
    "from matplotlib import patches\n",
    "import matplotlib.animation as manimation\n",
    "\n",
    "import gym_env\n",
    "from LinearRL import LinearRL\n",
    "from utils import render_maze, render_DR, render_V, make_plots, record_trials, get_map, record_trajectory, test_agent"
   ]
  },
  {
   "cell_type": "code",
   "execution_count": 2,
   "metadata": {},
   "outputs": [],
   "source": [
    "agent = LinearRL(env_name=\"tolman-10x10-latent\", alpha=0.01, gamma=1.0, num_steps=1000000)"
   ]
  },
  {
   "cell_type": "code",
   "execution_count": 3,
   "metadata": {},
   "outputs": [
    {
     "data": {
      "text/plain": [
       "array([['1', '0', '1', '1', '0', '1', '1', '0', '0', '0'],\n",
       "       ['0', '0', '0', '0', '0', '0', '1', '0', '0', 'G'],\n",
       "       ['0', '0', '0', '0', '0', '0', '1', '0', '1', '1'],\n",
       "       ['1', '0', '1', '1', '0', '1', '1', '0', '1', '1'],\n",
       "       ['1', '0', '1', '1', '0', '0', '0', '0', '1', '1'],\n",
       "       ['1', '0', '1', '0', '0', '0', '0', '0', '1', '1'],\n",
       "       ['1', '0', '1', '0', '0', '1', '1', '0', '1', '1'],\n",
       "       ['S', '0', '1', '0', '0', '1', '0', '0', '1', '1'],\n",
       "       ['0', '0', '1', '1', '0', '1', '0', '0', '0', '0'],\n",
       "       ['1', '0', '1', '1', '0', '1', '1', '0', '0', '0']], dtype='<U21')"
      ]
     },
     "execution_count": 3,
     "metadata": {},
     "output_type": "execute_result"
    }
   ],
   "source": [
    "agent.maze"
   ]
  },
  {
   "cell_type": "code",
   "execution_count": 4,
   "metadata": {},
   "outputs": [
    {
     "name": "stderr",
     "output_type": "stream",
     "text": [
      "/Users/abizzle/anaconda3/envs/gym/lib/python3.10/site-packages/gymnasium/utils/passive_env_checker.py:181: DeprecationWarning: \u001b[33mWARN: Current gymnasium version requires that `Env.reset` can be passed `options` to allow the environment initialisation to be passed additional information.\u001b[0m\n",
      "  logger.deprecation(\n",
      "/Users/abizzle/Research/LinearRL-TD/notebooks/LinearRL.py:185: RuntimeWarning: divide by zero encountered in log\n",
      "  self.V = np.round(np.log(self.Z), 2)\n"
     ]
    }
   ],
   "source": [
    "# Run learning on non-blocked detour environment\n",
    "agent.learn()"
   ]
  },
  {
   "cell_type": "code",
   "execution_count": 5,
   "metadata": {},
   "outputs": [
    {
     "data": {
      "image/png": "[encoded data removed]",
      "text/plain": [
       "<Figure size 921.6x691.2 with 3 Axes>"
      ]
     },
     "metadata": {},
     "output_type": "display_data"
    }
   ],
   "source": [
    "make_plots(agent)"
   ]
  },
  {
   "cell_type": "code",
   "execution_count": 6,
   "metadata": {},
   "outputs": [
    {
     "name": "stdout",
     "output_type": "stream",
     "text": [
      "Start location: [7 0], Target location: [1 9]\n",
      "Starting in state: [7 0]\n",
      "Took action: 1 and arrived in state: [7 1]\n",
      "Took action: 2 and arrived in state: [6 1]\n",
      "Took action: 2 and arrived in state: [5 1]\n",
      "Took action: 2 and arrived in state: [4 1]\n",
      "Took action: 2 and arrived in state: [3 1]\n",
      "Took action: 2 and arrived in state: [2 1]\n",
      "Took action: 1 and arrived in state: [2 2]\n",
      "Took action: 1 and arrived in state: [2 3]\n",
      "Took action: 1 and arrived in state: [2 4]\n",
      "Took action: 0 and arrived in state: [3 4]\n",
      "Took action: 0 and arrived in state: [4 4]\n",
      "Took action: 1 and arrived in state: [4 5]\n",
      "Took action: 1 and arrived in state: [4 6]\n",
      "Took action: 1 and arrived in state: [4 7]\n",
      "Took action: 2 and arrived in state: [3 7]\n",
      "Took action: 2 and arrived in state: [2 7]\n",
      "Took action: 2 and arrived in state: [1 7]\n",
      "Took action: 1 and arrived in state: [1 8]\n",
      "Took action: 1 and arrived in state: [1 9]\n",
      "Took 19 steps\n"
     ]
    }
   ],
   "source": [
    "print(f\"Start location: {agent.start_loc}, Target location: {agent.target_loc}\")\n",
    "traj_old_goal = test_agent(agent)"
   ]
  },
  {
   "cell_type": "code",
   "execution_count": 7,
   "metadata": {},
   "outputs": [
    {
     "data": {
      "image/png": "[encoded data removed]",
      "text/plain": [
       "<Figure size 640x480 with 1 Axes>"
      ]
     },
     "metadata": {},
     "output_type": "display_data"
    }
   ],
   "source": [
    "record_trajectory(agent, traj_old_goal)"
   ]
  },
  {
   "cell_type": "markdown",
   "metadata": {},
   "source": [
    "## New Goal"
   ]
  },
  {
   "cell_type": "code",
   "execution_count": 8,
   "metadata": {},
   "outputs": [],
   "source": [
    "# Get new maze and initialize a new agent\n",
    "new_agent = LinearRL(env_name=\"tolman-10x10-latent-new-goal\", alpha=0.1, gamma=0.8)"
   ]
  },
  {
   "cell_type": "code",
   "execution_count": 9,
   "metadata": {},
   "outputs": [
    {
     "data": {
      "text/plain": [
       "array([9, 9])"
      ]
     },
     "execution_count": 9,
     "metadata": {},
     "output_type": "execute_result"
    }
   ],
   "source": [
    "new_agent.target_loc"
   ]
  },
  {
   "cell_type": "code",
   "execution_count": 10,
   "metadata": {},
   "outputs": [],
   "source": [
    "# New goal location\n",
    "loc = new_agent.target_loc\n",
    "idx = agent.mapping[(loc[0], loc[1])]"
   ]
  },
  {
   "cell_type": "code",
   "execution_count": 17,
   "metadata": {},
   "outputs": [
    {
     "data": {
      "text/plain": [
       "99"
      ]
     },
     "execution_count": 17,
     "metadata": {},
     "output_type": "execute_result"
    }
   ],
   "source": [
    "idx"
   ]
  },
  {
   "cell_type": "code",
   "execution_count": 11,
   "metadata": {},
   "outputs": [],
   "source": [
    "D0 = agent.DR\n",
    "L0 = np.diag(np.exp(-agent.r)) - agent.T\n",
    "# D0 = np.linalg.inv(L0)\n",
    "L = np.diag(np.exp(-agent.r)) - new_agent.T"
   ]
  },
  {
   "cell_type": "code",
   "execution_count": 12,
   "metadata": {},
   "outputs": [
    {
     "name": "stdout",
     "output_type": "stream",
     "text": [
      "d shape: (1, 100), m0 shape: (100, 1)\n",
      "numerator shape: (100, 100)\n",
      "denominator shape: (1, 1)\n",
      "alpha shape: (100, 100)\n"
     ]
    }
   ],
   "source": [
    "changes = []\n",
    "\n",
    "d = L[idx, :] - L0[idx, :]\n",
    "m0 = D0[:,idx]\n",
    "\n",
    "# Convert d to a row vector of size (1, m)\n",
    "d = d.reshape(1, -1)\n",
    "\n",
    "# Convert m0 to a column vector of size (m, 1)\n",
    "m0 = m0.reshape(-1, 1)\n",
    "\n",
    "print(f\"d shape: {d.shape}, m0 shape: {m0.shape}\")\n",
    "print(f\"numerator shape: {(np.dot(m0,d)).shape}\")\n",
    "print(f\"denominator shape: {(np.dot(d, m0)).shape}\")\n",
    "alpha = (np.dot(m0,d)) / (1 + (np.dot(d,m0)))\n",
    "print(f\"alpha shape: {alpha.shape}\")\n",
    "change = np.dot(alpha,D0)\n",
    "changes.append(change)\n",
    "\n",
    "D = np.copy(D0)\n",
    "for change in changes:\n",
    "    D -= change"
   ]
  },
  {
   "cell_type": "code",
   "execution_count": 13,
   "metadata": {},
   "outputs": [
    {
     "name": "stderr",
     "output_type": "stream",
     "text": [
      "/Users/abizzle/Research/LinearRL-TD/notebooks/LinearRL.py:91: RuntimeWarning: divide by zero encountered in log\n",
      "  self.V = np.round(np.log(self.Z), 2)\n"
     ]
    }
   ],
   "source": [
    "new_agent.DR = D\n",
    "new_agent.update_V()"
   ]
  },
  {
   "cell_type": "code",
   "execution_count": 14,
   "metadata": {},
   "outputs": [
    {
     "data": {
      "text/plain": [
       "array([[ -inf, -2.23,  -inf,  -inf, -1.94,  -inf,  -inf, -2.75, -3.08,\n",
       "        -3.71],\n",
       "       [-2.23, -2.21, -2.11, -2.  , -1.91, -1.9 ,  -inf, -2.23, -2.74,\n",
       "         -inf],\n",
       "       [-2.24, -2.23, -2.11, -1.95, -1.79, -1.86,  -inf, -1.61,  -inf,\n",
       "         -inf],\n",
       "       [ -inf, -2.35,  -inf,  -inf, -1.49,  -inf,  -inf, -1.26,  -inf,\n",
       "         -inf],\n",
       "       [ -inf, -2.47,  -inf,  -inf, -1.26, -1.07, -0.95, -0.91,  -inf,\n",
       "         -inf],\n",
       "       [ -inf, -2.6 ,  -inf, -1.32, -1.24, -1.06, -0.86, -0.58,  -inf,\n",
       "         -inf],\n",
       "       [ -inf, -2.68,  -inf, -1.37, -1.35,  -inf,  -inf, -0.12,  -inf,\n",
       "         -inf],\n",
       "       [-2.81, -2.77,  -inf, -1.41, -1.43,  -inf,  0.25,  0.2 ,  -inf,\n",
       "         -inf],\n",
       "       [-2.83, -2.83,  -inf,  -inf, -1.47,  -inf,  0.3 ,  0.37,  0.51,\n",
       "         0.59],\n",
       "       [ -inf, -2.85,  -inf,  -inf, -1.5 ,  -inf,  -inf,  0.48,  0.57,\n",
       "         0.  ]])"
      ]
     },
     "execution_count": 14,
     "metadata": {},
     "output_type": "execute_result"
    }
   ],
   "source": [
    "new_agent.V.reshape(10,10)"
   ]
  },
  {
   "cell_type": "code",
   "execution_count": 15,
   "metadata": {},
   "outputs": [
    {
     "name": "stdout",
     "output_type": "stream",
     "text": [
      "Starting in state: [7 0]\n",
      "Took action: 1 and arrived in state: [7 1]\n",
      "Took action: 2 and arrived in state: [6 1]\n",
      "Took action: 2 and arrived in state: [5 1]\n",
      "Took action: 2 and arrived in state: [4 1]\n",
      "Took action: 2 and arrived in state: [3 1]\n",
      "Took action: 2 and arrived in state: [2 1]\n",
      "Took action: 1 and arrived in state: [2 2]\n",
      "Took action: 1 and arrived in state: [2 3]\n",
      "Took action: 1 and arrived in state: [2 4]\n",
      "Took action: 0 and arrived in state: [3 4]\n",
      "Took action: 0 and arrived in state: [4 4]\n",
      "Took action: 1 and arrived in state: [4 5]\n",
      "Took action: 1 and arrived in state: [4 6]\n",
      "Took action: 0 and arrived in state: [5 6]\n",
      "Took action: 1 and arrived in state: [5 7]\n",
      "Took action: 0 and arrived in state: [6 7]\n",
      "Took action: 0 and arrived in state: [7 7]\n",
      "Took action: 0 and arrived in state: [8 7]\n",
      "Took action: 1 and arrived in state: [8 8]\n",
      "Took action: 1 and arrived in state: [8 9]\n",
      "Took action: 0 and arrived in state: [9 9]\n",
      "Took 21 steps\n"
     ]
    }
   ],
   "source": [
    "new_agent_traj = test_agent(new_agent)"
   ]
  },
  {
   "cell_type": "code",
   "execution_count": 16,
   "metadata": {},
   "outputs": [
    {
     "data": {
      "image/png": "[encoded data removed]",
      "text/plain": [
       "<Figure size 640x480 with 1 Axes>"
      ]
     },
     "metadata": {},
     "output_type": "display_data"
    }
   ],
   "source": [
    "record_trajectory(new_agent, new_agent_traj)"
   ]
  },
  {
   "cell_type": "code",
   "execution_count": null,
   "metadata": {},
   "outputs": [],
   "source": []
  }
 ],
 "metadata": {
  "kernelspec": {
   "display_name": "gym",
   "language": "python",
   "name": "python3"
  },
  "language_info": {
   "codemirror_mode": {
    "name": "ipython",
    "version": 3
   },
   "file_extension": ".py",
   "mimetype": "text/x-python",
   "name": "python",
   "nbconvert_exporter": "python",
   "pygments_lexer": "ipython3",
   "version": "3.10.0"
  }
 },
 "nbformat": 4,
 "nbformat_minor": 2
}
