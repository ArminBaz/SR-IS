{
 "cells": [
  {
   "cell_type": "code",
   "execution_count": 1,
   "metadata": {},
   "outputs": [],
   "source": [
    "import os\n",
    "\n",
    "import numpy as np\n",
    "import importlib\n",
    "import gymnasium as gym\n",
    "import matplotlib.pyplot as plt\n",
    "from matplotlib import patches\n",
    "import matplotlib.animation as manimation\n",
    "\n",
    "import gym_env\n",
    "import utils\n",
    "from SR import SR\n",
    "from utils import make_plots, record_trials, record_trajectory, test_agent\n",
    "# from LinearRL import LinearRL"
   ]
  },
  {
   "cell_type": "code",
   "execution_count": 2,
   "metadata": {},
   "outputs": [],
   "source": [
    "agent = SR(env_name=\"tolman-9x9-nb\", alpha=0.01, gamma=1.0, num_steps=500000)"
   ]
  },
  {
   "cell_type": "code",
   "execution_count": 3,
   "metadata": {},
   "outputs": [
    {
     "name": "stderr",
     "output_type": "stream",
     "text": [
      "/Users/abizzle/anaconda3/envs/gym/lib/python3.10/site-packages/gymnasium/utils/passive_env_checker.py:181: DeprecationWarning: \u001b[33mWARN: Current gymnasium version requires that `Env.reset` can be passed `options` to allow the environment initialisation to be passed additional information.\u001b[0m\n",
      "  logger.deprecation(\n"
     ]
    }
   ],
   "source": [
    "agent.learn()"
   ]
  },
  {
   "cell_type": "code",
   "execution_count": 4,
   "metadata": {},
   "outputs": [
    {
     "name": "stdout",
     "output_type": "stream",
     "text": [
      "Start location: [0 3], Target location: [8 3]\n",
      "Starting in state: [0 3]\n",
      "Took action: 0 and arrived in state: [1 3]\n",
      "Took action: 0 and arrived in state: [2 3]\n",
      "Took action: 0 and arrived in state: [3 3]\n",
      "Took action: 0 and arrived in state: [4 3]\n",
      "Took action: 0 and arrived in state: [5 3]\n",
      "Took action: 0 and arrived in state: [6 3]\n",
      "Took action: 0 and arrived in state: [7 3]\n",
      "Took action: 0 and arrived in state: [8 3]\n",
      "Took 8 steps\n"
     ]
    }
   ],
   "source": [
    "print(f\"Start location: {agent.start_loc}, Target location: {agent.target_loc}\")\n",
    "traj_not_blocked = test_agent(agent)"
   ]
  },
  {
   "cell_type": "code",
   "execution_count": null,
   "metadata": {},
   "outputs": [],
   "source": []
  }
 ],
 "metadata": {
  "kernelspec": {
   "display_name": "gym",
   "language": "python",
   "name": "python3"
  },
  "language_info": {
   "codemirror_mode": {
    "name": "ipython",
    "version": 3
   },
   "file_extension": ".py",
   "mimetype": "text/x-python",
   "name": "python",
   "nbconvert_exporter": "python",
   "pygments_lexer": "ipython3",
   "version": "3.10.0"
  }
 },
 "nbformat": 4,
 "nbformat_minor": 2
}
